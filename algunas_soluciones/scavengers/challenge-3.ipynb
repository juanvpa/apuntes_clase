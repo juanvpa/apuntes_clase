{
 "cells": [
  {
   "cell_type": "markdown",
   "id": "defensive-clock",
   "metadata": {},
   "source": [
    "# Challenge 3: Hidden Cold Joke\n",
    "\n",
    "Using Python, call Github API to find out the cold joke contained in the 24 secret files in the following repo:\n",
    "\n",
    "https://github.com/ironhack-datalabs/scavenger\n",
    "\n",
    "The filenames of the secret files contain .scavengerhunt and they are scattered in different directories of this repo. The secret files are named from .0001.scavengerhunt to .0024.scavengerhunt. They are scattered randomly throughout this repo. You need to search for these files by calling the Github API, not searching the local files on your computer.\n",
    "\n",
    "\n",
    "After you find out the secrete files:\n",
    "\n",
    "Sort the filenames ascendingly.\n",
    "\n",
    "Read the content of each secret files into an array of strings.\n",
    "\n",
    "Concatenate the strings in the array separating each two with a whitespace.\n",
    "\n",
    "Print out the joke."
   ]
  },
  {
   "cell_type": "markdown",
   "id": "universal-length",
   "metadata": {},
   "source": [
    "⚠️ **Remember to limit your output before submission**."
   ]
  },
  {
   "cell_type": "code",
   "execution_count": 1,
   "id": "dc7e6331",
   "metadata": {},
   "outputs": [],
   "source": [
    "import json\n",
    "import requests\n",
    "import os\n",
    "from dotenv import load_dotenv"
   ]
  },
  {
   "cell_type": "code",
   "execution_count": 2,
   "id": "48001f4b",
   "metadata": {},
   "outputs": [
    {
     "data": {
      "text/plain": [
       "True"
      ]
     },
     "execution_count": 2,
     "metadata": {},
     "output_type": "execute_result"
    }
   ],
   "source": [
    "load_dotenv()"
   ]
  },
  {
   "cell_type": "code",
   "execution_count": 6,
   "id": "toxic-trading",
   "metadata": {},
   "outputs": [],
   "source": [
    "def requestGithub(url):\n",
    "    api_key = os.getenv(\"github\")\n",
    "    if not api_key:\n",
    "        raise ValueError (\"Necesitas un TOKEEEEN \")\n",
    "    print (f\"Estoy haciendo request a {url}\")\n",
    "    parametros = {\"Authorization\": f\"{api_key}\"}\n",
    "    response = requests.get(url = url, headers = parametros).json()\n",
    "    print(\"tamos redii\")\n",
    "    return response"
   ]
  },
  {
   "cell_type": "code",
   "execution_count": 7,
   "id": "3f61da69",
   "metadata": {},
   "outputs": [],
   "source": [
    "url = \"https://api.github.com/repos/ironhack-datalabs/scavenger/contents/\""
   ]
  },
  {
   "cell_type": "code",
   "execution_count": 8,
   "id": "static-stopping",
   "metadata": {},
   "outputs": [
    {
     "name": "stdout",
     "output_type": "stream",
     "text": [
      "Estoy haciendo request a https://api.github.com/repos/ironhack-datalabs/scavenger/contents/\n",
      "tamos redii\n"
     ]
    }
   ],
   "source": [
    "response = requestGithub(url)"
   ]
  },
  {
   "cell_type": "code",
   "execution_count": 11,
   "id": "f3b223d2",
   "metadata": {},
   "outputs": [
    {
     "data": {
      "text/plain": [
       "{'name': '15024',\n",
       " 'path': '15024',\n",
       " 'sha': '2945e51c87ad5da893c954afcf092f06343bbb7d',\n",
       " 'size': 0,\n",
       " 'url': 'https://api.github.com/repos/ironhack-datalabs/scavenger/contents/15024?ref=master',\n",
       " 'html_url': 'https://github.com/ironhack-datalabs/scavenger/tree/master/15024',\n",
       " 'git_url': 'https://api.github.com/repos/ironhack-datalabs/scavenger/git/trees/2945e51c87ad5da893c954afcf092f06343bbb7d',\n",
       " 'download_url': None,\n",
       " 'type': 'dir',\n",
       " '_links': {'self': 'https://api.github.com/repos/ironhack-datalabs/scavenger/contents/15024?ref=master',\n",
       "  'git': 'https://api.github.com/repos/ironhack-datalabs/scavenger/git/trees/2945e51c87ad5da893c954afcf092f06343bbb7d',\n",
       "  'html': 'https://github.com/ironhack-datalabs/scavenger/tree/master/15024'}}"
      ]
     },
     "execution_count": 11,
     "metadata": {},
     "output_type": "execute_result"
    }
   ],
   "source": [
    "response[1]"
   ]
  },
  {
   "cell_type": "code",
   "execution_count": 14,
   "id": "0aa9a3fe",
   "metadata": {},
   "outputs": [],
   "source": [
    "rutas = [elemento[\"path\"] for elemento in response[1:]]"
   ]
  },
  {
   "cell_type": "code",
   "execution_count": 16,
   "id": "24ac333b",
   "metadata": {},
   "outputs": [
    {
     "name": "stdout",
     "output_type": "stream",
     "text": [
      "Estoy haciendo request a https://api.github.com/repos/ironhack-datalabs/scavenger/contents/15024\n",
      "tamos redii\n",
      "Estoy haciendo request a https://api.github.com/repos/ironhack-datalabs/scavenger/contents/15534\n",
      "tamos redii\n",
      "Estoy haciendo request a https://api.github.com/repos/ironhack-datalabs/scavenger/contents/17020\n",
      "tamos redii\n",
      "Estoy haciendo request a https://api.github.com/repos/ironhack-datalabs/scavenger/contents/30351\n",
      "tamos redii\n",
      "Estoy haciendo request a https://api.github.com/repos/ironhack-datalabs/scavenger/contents/40303\n",
      "tamos redii\n",
      "Estoy haciendo request a https://api.github.com/repos/ironhack-datalabs/scavenger/contents/44639\n",
      "tamos redii\n",
      "Estoy haciendo request a https://api.github.com/repos/ironhack-datalabs/scavenger/contents/45525\n",
      "tamos redii\n",
      "Estoy haciendo request a https://api.github.com/repos/ironhack-datalabs/scavenger/contents/47222\n",
      "tamos redii\n",
      "Estoy haciendo request a https://api.github.com/repos/ironhack-datalabs/scavenger/contents/47830\n",
      "tamos redii\n",
      "Estoy haciendo request a https://api.github.com/repos/ironhack-datalabs/scavenger/contents/49418\n",
      "tamos redii\n",
      "Estoy haciendo request a https://api.github.com/repos/ironhack-datalabs/scavenger/contents/50896\n",
      "tamos redii\n",
      "Estoy haciendo request a https://api.github.com/repos/ironhack-datalabs/scavenger/contents/55417\n",
      "tamos redii\n",
      "Estoy haciendo request a https://api.github.com/repos/ironhack-datalabs/scavenger/contents/55685\n",
      "tamos redii\n",
      "Estoy haciendo request a https://api.github.com/repos/ironhack-datalabs/scavenger/contents/60224\n",
      "tamos redii\n",
      "Estoy haciendo request a https://api.github.com/repos/ironhack-datalabs/scavenger/contents/64880\n",
      "tamos redii\n",
      "Estoy haciendo request a https://api.github.com/repos/ironhack-datalabs/scavenger/contents/66032\n",
      "tamos redii\n",
      "Estoy haciendo request a https://api.github.com/repos/ironhack-datalabs/scavenger/contents/68848\n",
      "tamos redii\n",
      "Estoy haciendo request a https://api.github.com/repos/ironhack-datalabs/scavenger/contents/70751\n",
      "tamos redii\n",
      "Estoy haciendo request a https://api.github.com/repos/ironhack-datalabs/scavenger/contents/70985\n",
      "tamos redii\n",
      "Estoy haciendo request a https://api.github.com/repos/ironhack-datalabs/scavenger/contents/88596\n",
      "tamos redii\n",
      "Estoy haciendo request a https://api.github.com/repos/ironhack-datalabs/scavenger/contents/89046\n",
      "tamos redii\n",
      "Estoy haciendo request a https://api.github.com/repos/ironhack-datalabs/scavenger/contents/89338\n",
      "tamos redii\n",
      "Estoy haciendo request a https://api.github.com/repos/ironhack-datalabs/scavenger/contents/91701\n",
      "tamos redii\n",
      "Estoy haciendo request a https://api.github.com/repos/ironhack-datalabs/scavenger/contents/97881\n",
      "tamos redii\n",
      "Estoy haciendo request a https://api.github.com/repos/ironhack-datalabs/scavenger/contents/98750\n",
      "tamos redii\n"
     ]
    }
   ],
   "source": [
    "lalista = []\n",
    "for ruta in rutas:\n",
    "    response = requestGithub(url+f\"{ruta}\")\n",
    "    lalista.append(response)"
   ]
  },
  {
   "cell_type": "code",
   "execution_count": 29,
   "id": "d1a2b6fe",
   "metadata": {},
   "outputs": [],
   "source": [
    "flat = [item for lista in lalista for item in lista]\n",
    "#flat"
   ]
  },
  {
   "cell_type": "code",
   "execution_count": 21,
   "id": "8da8ae4b",
   "metadata": {},
   "outputs": [],
   "source": [
    "path_completo = [elemento[\"path\"] for elemento in flat if \".scavengerhunt\" in elemento[\"path\"]]"
   ]
  },
  {
   "cell_type": "code",
   "execution_count": 23,
   "id": "fe241a35",
   "metadata": {},
   "outputs": [
    {
     "data": {
      "text/plain": [
       "'15024/.0006.scavengerhunt'"
      ]
     },
     "execution_count": 23,
     "metadata": {},
     "output_type": "execute_result"
    }
   ],
   "source": [
    "path_completo[0]"
   ]
  },
  {
   "cell_type": "code",
   "execution_count": 25,
   "id": "a29f7962",
   "metadata": {},
   "outputs": [
    {
     "data": {
      "text/plain": [
       "['15024', '.0006.scavengerhunt']"
      ]
     },
     "execution_count": 25,
     "metadata": {},
     "output_type": "execute_result"
    }
   ],
   "source": [
    "path_completo[0].split(\"/\")"
   ]
  },
  {
   "cell_type": "code",
   "execution_count": 26,
   "id": "2b322bb0",
   "metadata": {},
   "outputs": [],
   "source": [
    "path_completo.sort(key=lambda x: x.split(\"/.\")[1]) # LO ORDENAMOS"
   ]
  },
  {
   "cell_type": "code",
   "execution_count": 28,
   "id": "96d05080",
   "metadata": {},
   "outputs": [
    {
     "data": {
      "text/plain": [
       "['98750/.0001.scavengerhunt',\n",
       " '88596/.0002.scavengerhunt',\n",
       " '60224/.0003.scavengerhunt']"
      ]
     },
     "execution_count": 28,
     "metadata": {},
     "output_type": "execute_result"
    }
   ],
   "source": [
    "path_completo[0:3]"
   ]
  },
  {
   "cell_type": "code",
   "execution_count": 30,
   "id": "f6143ec9",
   "metadata": {},
   "outputs": [
    {
     "name": "stdout",
     "output_type": "stream",
     "text": [
      "Estoy haciendo request a https://api.github.com/repos/ironhack-datalabs/scavenger/contents/98750/.0001.scavengerhunt\n",
      "tamos redii\n",
      "Estoy haciendo request a https://api.github.com/repos/ironhack-datalabs/scavenger/contents/88596/.0002.scavengerhunt\n",
      "tamos redii\n",
      "Estoy haciendo request a https://api.github.com/repos/ironhack-datalabs/scavenger/contents/60224/.0003.scavengerhunt\n",
      "tamos redii\n",
      "Estoy haciendo request a https://api.github.com/repos/ironhack-datalabs/scavenger/contents/68848/.0004.scavengerhunt\n",
      "tamos redii\n",
      "Estoy haciendo request a https://api.github.com/repos/ironhack-datalabs/scavenger/contents/44639/.0005.scavengerhunt\n",
      "tamos redii\n",
      "Estoy haciendo request a https://api.github.com/repos/ironhack-datalabs/scavenger/contents/15024/.0006.scavengerhunt\n",
      "tamos redii\n",
      "Estoy haciendo request a https://api.github.com/repos/ironhack-datalabs/scavenger/contents/17020/.0007.scavengerhunt\n",
      "tamos redii\n",
      "Estoy haciendo request a https://api.github.com/repos/ironhack-datalabs/scavenger/contents/15534/.0008.scavengerhunt\n",
      "tamos redii\n",
      "Estoy haciendo request a https://api.github.com/repos/ironhack-datalabs/scavenger/contents/97881/.0009.scavengerhunt\n",
      "tamos redii\n",
      "Estoy haciendo request a https://api.github.com/repos/ironhack-datalabs/scavenger/contents/47830/.0010.scavengerhunt\n",
      "tamos redii\n",
      "Estoy haciendo request a https://api.github.com/repos/ironhack-datalabs/scavenger/contents/50896/.0011.scavengerhunt\n",
      "tamos redii\n",
      "Estoy haciendo request a https://api.github.com/repos/ironhack-datalabs/scavenger/contents/15534/.0012.scavengerhunt\n",
      "tamos redii\n",
      "Estoy haciendo request a https://api.github.com/repos/ironhack-datalabs/scavenger/contents/89338/.0013.scavengerhunt\n",
      "tamos redii\n",
      "Estoy haciendo request a https://api.github.com/repos/ironhack-datalabs/scavenger/contents/49418/.0014.scavengerhunt\n",
      "tamos redii\n",
      "Estoy haciendo request a https://api.github.com/repos/ironhack-datalabs/scavenger/contents/91701/.0015.scavengerhunt\n",
      "tamos redii\n",
      "Estoy haciendo request a https://api.github.com/repos/ironhack-datalabs/scavenger/contents/47222/.0016.scavengerhunt\n",
      "tamos redii\n",
      "Estoy haciendo request a https://api.github.com/repos/ironhack-datalabs/scavenger/contents/70985/.0017.scavengerhunt\n",
      "tamos redii\n",
      "Estoy haciendo request a https://api.github.com/repos/ironhack-datalabs/scavenger/contents/45525/.0018.scavengerhunt\n",
      "tamos redii\n",
      "Estoy haciendo request a https://api.github.com/repos/ironhack-datalabs/scavenger/contents/70751/.0019.scavengerhunt\n",
      "tamos redii\n",
      "Estoy haciendo request a https://api.github.com/repos/ironhack-datalabs/scavenger/contents/55685/.0020.scavengerhunt\n",
      "tamos redii\n",
      "Estoy haciendo request a https://api.github.com/repos/ironhack-datalabs/scavenger/contents/30351/.0021.scavengerhunt\n",
      "tamos redii\n",
      "Estoy haciendo request a https://api.github.com/repos/ironhack-datalabs/scavenger/contents/40303/.0022.scavengerhunt\n",
      "tamos redii\n",
      "Estoy haciendo request a https://api.github.com/repos/ironhack-datalabs/scavenger/contents/55417/.0023.scavengerhunt\n",
      "tamos redii\n",
      "Estoy haciendo request a https://api.github.com/repos/ironhack-datalabs/scavenger/contents/47222/.0024.scavengerhunt\n",
      "tamos redii\n"
     ]
    }
   ],
   "source": [
    "archivos = []\n",
    "for elemento in path_completo:\n",
    "    response = requestGithub(url+f\"{elemento}\")\n",
    "    archivos.append(response)"
   ]
  },
  {
   "cell_type": "code",
   "execution_count": 32,
   "id": "4cc0005b",
   "metadata": {},
   "outputs": [
    {
     "data": {
      "text/plain": [
       "{'name': '.0001.scavengerhunt',\n",
       " 'path': '98750/.0001.scavengerhunt',\n",
       " 'sha': '2add7632f1323136324efbf38ec66db1838b6173',\n",
       " 'size': 3,\n",
       " 'url': 'https://api.github.com/repos/ironhack-datalabs/scavenger/contents/98750/.0001.scavengerhunt?ref=master',\n",
       " 'html_url': 'https://github.com/ironhack-datalabs/scavenger/blob/master/98750/.0001.scavengerhunt',\n",
       " 'git_url': 'https://api.github.com/repos/ironhack-datalabs/scavenger/git/blobs/2add7632f1323136324efbf38ec66db1838b6173',\n",
       " 'download_url': 'https://raw.githubusercontent.com/ironhack-datalabs/scavenger/master/98750/.0001.scavengerhunt',\n",
       " 'type': 'file',\n",
       " 'content': 'SW4K\\n',\n",
       " 'encoding': 'base64',\n",
       " '_links': {'self': 'https://api.github.com/repos/ironhack-datalabs/scavenger/contents/98750/.0001.scavengerhunt?ref=master',\n",
       "  'git': 'https://api.github.com/repos/ironhack-datalabs/scavenger/git/blobs/2add7632f1323136324efbf38ec66db1838b6173',\n",
       "  'html': 'https://github.com/ironhack-datalabs/scavenger/blob/master/98750/.0001.scavengerhunt'}}"
      ]
     },
     "execution_count": 32,
     "metadata": {},
     "output_type": "execute_result"
    }
   ],
   "source": [
    "archivos[0]"
   ]
  },
  {
   "cell_type": "code",
   "execution_count": 33,
   "id": "39e47b02",
   "metadata": {},
   "outputs": [],
   "source": [
    "contenido = [elemento[\"content\"] for elemento in archivos]"
   ]
  },
  {
   "cell_type": "code",
   "execution_count": 34,
   "id": "48627af7",
   "metadata": {},
   "outputs": [
    {
     "data": {
      "text/plain": [
       "['SW4K\\n',\n",
       " 'ZGF0YQo=\\n',\n",
       " 'c2NpZW5jZSwK\\n',\n",
       " 'ODAK\\n',\n",
       " 'cGVyY2VudAo=\\n',\n",
       " 'b2YK\\n',\n",
       " 'dGltZQo=\\n',\n",
       " 'c3BlbnQK\\n',\n",
       " 'aXMK\\n',\n",
       " 'cHJlcGFyaW5nCg==\\n',\n",
       " 'ZGF0YSwK\\n',\n",
       " 'MjAK\\n',\n",
       " 'cGVyY2VudAo=\\n',\n",
       " 'b2YK\\n',\n",
       " 'dGltZQo=\\n',\n",
       " 'aXMK\\n',\n",
       " 'c3BlbnQK\\n',\n",
       " 'Y29tcGxhaW5pbmcK\\n',\n",
       " 'YWJvdXQK\\n',\n",
       " 'dGhlCg==\\n',\n",
       " 'bmVlZAo=\\n',\n",
       " 'dG8K\\n',\n",
       " 'cHJlcGFyZQo=\\n',\n",
       " 'ZGF0YS4K\\n']"
      ]
     },
     "execution_count": 34,
     "metadata": {},
     "output_type": "execute_result"
    }
   ],
   "source": [
    "contenido"
   ]
  },
  {
   "cell_type": "code",
   "execution_count": 35,
   "id": "015daba0",
   "metadata": {},
   "outputs": [],
   "source": [
    "import base64"
   ]
  },
  {
   "cell_type": "code",
   "execution_count": 49,
   "id": "3eb01b14",
   "metadata": {},
   "outputs": [
    {
     "data": {
      "text/plain": [
       "[b'In\\n',\n",
       " b'data\\n',\n",
       " b'science,\\n',\n",
       " b'80\\n',\n",
       " b'percent\\n',\n",
       " b'of\\n',\n",
       " b'time\\n',\n",
       " b'spent\\n',\n",
       " b'is\\n',\n",
       " b'preparing\\n',\n",
       " b'data,\\n',\n",
       " b'20\\n',\n",
       " b'percent\\n',\n",
       " b'of\\n',\n",
       " b'time\\n',\n",
       " b'is\\n',\n",
       " b'spent\\n',\n",
       " b'complaining\\n',\n",
       " b'about\\n',\n",
       " b'the\\n',\n",
       " b'need\\n',\n",
       " b'to\\n',\n",
       " b'prepare\\n',\n",
       " b'data.\\n']"
      ]
     },
     "execution_count": 49,
     "metadata": {},
     "output_type": "execute_result"
    }
   ],
   "source": [
    "decode = list(map(base64.b64decode,contenido))\n",
    "decode"
   ]
  },
  {
   "cell_type": "code",
   "execution_count": 50,
   "id": "d49c962b",
   "metadata": {},
   "outputs": [
    {
     "data": {
      "text/plain": [
       "'In data science, 80 percent of time spent is preparing data, 20 percent of time is spent complaining about the need to prepare data.'"
      ]
     },
     "execution_count": 50,
     "metadata": {},
     "output_type": "execute_result"
    }
   ],
   "source": [
    "frase = \" \".join([str(a.strip())[2:-1] for a in decode])\n",
    "frase"
   ]
  }
 ],
 "metadata": {
  "kernelspec": {
   "display_name": "ironhack",
   "language": "python",
   "name": "ironhack"
  },
  "language_info": {
   "codemirror_mode": {
    "name": "ipython",
    "version": 3
   },
   "file_extension": ".py",
   "mimetype": "text/x-python",
   "name": "python",
   "nbconvert_exporter": "python",
   "pygments_lexer": "ipython3",
   "version": "3.8.5"
  },
  "toc": {
   "base_numbering": 1,
   "nav_menu": {},
   "number_sections": true,
   "sideBar": true,
   "skip_h1_title": true,
   "title_cell": "Table of Contents",
   "title_sidebar": "Contents",
   "toc_cell": false,
   "toc_position": {},
   "toc_section_display": true,
   "toc_window_display": false
  }
 },
 "nbformat": 4,
 "nbformat_minor": 5
}
