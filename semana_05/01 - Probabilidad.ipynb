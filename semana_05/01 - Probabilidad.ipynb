{
 "cells": [
  {
   "cell_type": "markdown",
   "metadata": {},
   "source": [
    "# Básicos de la probabilidad"
   ]
  },
  {
   "cell_type": "markdown",
   "metadata": {},
   "source": [
    "![elgif](https://media.giphy.com/media/AUk28PN6A8syGmcHOQ/giphy.gif)"
   ]
  },
  {
   "cell_type": "markdown",
   "metadata": {
    "toc": true
   },
   "source": [
    "<h1>Table of Contents<span class=\"tocSkip\"></span></h1>\n",
    "<div class=\"toc\"><ul class=\"toc-item\"><li><span><a href=\"#Recordamos-algunos-conceptos-matemáticos-motivacionales-🙃\" data-toc-modified-id=\"Recordamos-algunos-conceptos-matemáticos-motivacionales-🙃-1\"><span class=\"toc-item-num\">1&nbsp;&nbsp;</span>Recordamos algunos conceptos matemáticos motivacionales 🙃</a></span></li><li><span><a href=\"#Hazlo-con-python\" data-toc-modified-id=\"Hazlo-con-python-2\"><span class=\"toc-item-num\">2&nbsp;&nbsp;</span>Hazlo con python</a></span><ul class=\"toc-item\"><li><span><a href=\"#Factorial\" data-toc-modified-id=\"Factorial-2.1\"><span class=\"toc-item-num\">2.1&nbsp;&nbsp;</span>Factorial</a></span></li><li><span><a href=\"#Variaciones\" data-toc-modified-id=\"Variaciones-2.2\"><span class=\"toc-item-num\">2.2&nbsp;&nbsp;</span>Variaciones</a></span></li><li><span><a href=\"#Permutaciones\" data-toc-modified-id=\"Permutaciones-2.3\"><span class=\"toc-item-num\">2.3&nbsp;&nbsp;</span>Permutaciones</a></span></li><li><span><a href=\"#Combinaciones\" data-toc-modified-id=\"Combinaciones-2.4\"><span class=\"toc-item-num\">2.4&nbsp;&nbsp;</span>Combinaciones</a></span></li></ul></li><li><span><a href=\"#Introducción\" data-toc-modified-id=\"Introducción-3\"><span class=\"toc-item-num\">3&nbsp;&nbsp;</span>Introducción</a></span></li><li><span><a href=\"#Regla-de-Laplace\" data-toc-modified-id=\"Regla-de-Laplace-4\"><span class=\"toc-item-num\">4&nbsp;&nbsp;</span>Regla de Laplace</a></span></li><li><span><a href=\"#Eventos-compuestos\" data-toc-modified-id=\"Eventos-compuestos-5\"><span class=\"toc-item-num\">5&nbsp;&nbsp;</span>Eventos compuestos</a></span><ul class=\"toc-item\"><li><span><a href=\"#Unión-e-Intersección\" data-toc-modified-id=\"Unión-e-Intersección-5.1\"><span class=\"toc-item-num\">5.1&nbsp;&nbsp;</span>Unión e Intersección</a></span></li><li><span><a href=\"#Contrario\" data-toc-modified-id=\"Contrario-5.2\"><span class=\"toc-item-num\">5.2&nbsp;&nbsp;</span>Contrario</a></span></li></ul></li><li><span><a href=\"#Probabilidad-condicionada\" data-toc-modified-id=\"Probabilidad-condicionada-6\"><span class=\"toc-item-num\">6&nbsp;&nbsp;</span>Probabilidad condicionada</a></span><ul class=\"toc-item\"><li><span><a href=\"#THE-intuición\" data-toc-modified-id=\"THE-intuición-6.1\"><span class=\"toc-item-num\">6.1&nbsp;&nbsp;</span>THE intuición</a></span></li><li><span><a href=\"#Definición-formal\" data-toc-modified-id=\"Definición-formal-6.2\"><span class=\"toc-item-num\">6.2&nbsp;&nbsp;</span>Definición formal</a></span></li><li><span><a href=\"#Ejemplos-engañosos-de-la-vida-real\" data-toc-modified-id=\"Ejemplos-engañosos-de-la-vida-real-6.3\"><span class=\"toc-item-num\">6.3&nbsp;&nbsp;</span>Ejemplos engañosos de la vida real</a></span></li></ul></li><li><span><a href=\"#Eventos-compuestos\" data-toc-modified-id=\"Eventos-compuestos-7\"><span class=\"toc-item-num\">7&nbsp;&nbsp;</span>Eventos compuestos</a></span><ul class=\"toc-item\"><li><span><a href=\"#Eventos-independientes\" data-toc-modified-id=\"Eventos-independientes-7.1\"><span class=\"toc-item-num\">7.1&nbsp;&nbsp;</span>Eventos independientes</a></span></li><li><span><a href=\"#Eventos-dependientes\" data-toc-modified-id=\"Eventos-dependientes-7.2\"><span class=\"toc-item-num\">7.2&nbsp;&nbsp;</span>Eventos dependientes</a></span></li></ul></li><li><span><a href=\"#Árbol-de-probabilidades\" data-toc-modified-id=\"Árbol-de-probabilidades-8\"><span class=\"toc-item-num\">8&nbsp;&nbsp;</span>Árbol de probabilidades</a></span></li><li><span><a href=\"#Teorema-de-Bayes\" data-toc-modified-id=\"Teorema-de-Bayes-9\"><span class=\"toc-item-num\">9&nbsp;&nbsp;</span>Teorema de Bayes</a></span><ul class=\"toc-item\"><li><span><a href=\"#Regla-de-Bayes\" data-toc-modified-id=\"Regla-de-Bayes-9.1\"><span class=\"toc-item-num\">9.1&nbsp;&nbsp;</span>Regla de Bayes</a></span><ul class=\"toc-item\"><li><span><a href=\"#Otro-ejemplo-resuelto\" data-toc-modified-id=\"Otro-ejemplo-resuelto-9.1.1\"><span class=\"toc-item-num\">9.1.1&nbsp;&nbsp;</span>Otro ejemplo resuelto</a></span></li></ul></li></ul></li><li><span><a href=\"#Resumen\" data-toc-modified-id=\"Resumen-10\"><span class=\"toc-item-num\">10&nbsp;&nbsp;</span>Resumen</a></span></li><li><span><a href=\"#Challenges\" data-toc-modified-id=\"Challenges-11\"><span class=\"toc-item-num\">11&nbsp;&nbsp;</span>Challenges</a></span></li><li><span><a href=\"#Materiales\" data-toc-modified-id=\"Materiales-12\"><span class=\"toc-item-num\">12&nbsp;&nbsp;</span>Materiales</a></span></li></ul></div>"
   ]
  },
  {
   "cell_type": "markdown",
   "metadata": {},
   "source": [
    "## Recordamos algunos conceptos matemáticos motivacionales 🙃"
   ]
  },
  {
   "cell_type": "markdown",
   "metadata": {},
   "source": [
    "## Hazlo con python \n",
    "https://www.geeksforgeeks.org/permutation-and-combination-in-python/"
   ]
  },
  {
   "cell_type": "markdown",
   "metadata": {},
   "source": [
    "### Factorial\n",
    "El factorial de un entero positivo n, el factorial de n o n factorial se define en principio como el producto de todos los números enteros positivos desde 1 hasta n, por tanto, también podemos entenderlo como el producto de todos los números enteros positivos de n a 1... y lo vemos representado por la siguiente fórmula.\n",
    "\n",
    "$$N!=N*(N-1)*(N-2)*...*3*2*1$$"
   ]
  },
  {
   "cell_type": "markdown",
   "metadata": {},
   "source": [
    "Ejemplos\n",
    "$$3!=3*2*1 = 6$$\n",
    "$$5!=5*4*3*2*1 = 120$$"
   ]
  },
  {
   "cell_type": "markdown",
   "metadata": {},
   "source": [
    "Entonces, si nos fijamos.... esto es lo mismo que \n",
    "$$5!=5 *4! = 120$$"
   ]
  },
  {
   "cell_type": "code",
   "execution_count": 3,
   "metadata": {},
   "outputs": [],
   "source": [
    "def factorial(n):\n",
    "    if n == 0:\n",
    "        return 1\n",
    "    else:\n",
    "        return n * factorial(n-1)"
   ]
  },
  {
   "cell_type": "code",
   "execution_count": 4,
   "metadata": {},
   "outputs": [
    {
     "data": {
      "text/plain": [
       "6"
      ]
     },
     "execution_count": 4,
     "metadata": {},
     "output_type": "execute_result"
    }
   ],
   "source": [
    "factorial(3)"
   ]
  },
  {
   "cell_type": "code",
   "execution_count": 5,
   "metadata": {},
   "outputs": [
    {
     "data": {
      "text/plain": [
       "120"
      ]
     },
     "execution_count": 5,
     "metadata": {},
     "output_type": "execute_result"
    }
   ],
   "source": [
    "factorial(5)"
   ]
  },
  {
   "cell_type": "code",
   "execution_count": 6,
   "metadata": {},
   "outputs": [
    {
     "data": {
      "text/plain": [
       "93326215443944152681699238856266700490715968264381621468592963895217599993229915608941463976156518286253697920827223758251185210916864000000000000000000000000"
      ]
     },
     "execution_count": 6,
     "metadata": {},
     "output_type": "execute_result"
    }
   ],
   "source": [
    "factorial(100)"
   ]
  },
  {
   "cell_type": "markdown",
   "metadata": {},
   "source": [
    "### Variaciones\n",
    "Se denomina variación a cada una de las posibles agrupaciones que se pueden formar con los elementos de un determinado conjunto, por ejemplo, de números u objetos.\n",
    "El orden importa....       \n",
    "**Ejemplo**        \n",
    "Este curso hay 21 alumnas nuevos en Gryffyndor de los cuales necesitamos elegir 1 para el cargo de prefecto y una jugadora de quidditch"
   ]
  },
  {
   "cell_type": "markdown",
   "metadata": {},
   "source": [
    "![ungif](https://media.giphy.com/media/rjiRFTZ0NIdi/giphy.gif)"
   ]
  },
  {
   "cell_type": "markdown",
   "metadata": {},
   "source": [
    "Antes de pensar en cualquier tipo de fórmula matemática que nos vaya a explicar las variaciones... ¿Cómo lo pensarías tú?\n",
    "¿Cuántas son las difentes posibilidades de combinación de las personas?"
   ]
  },
  {
   "cell_type": "markdown",
   "metadata": {},
   "source": [
    "$$V_k^N = \\frac{N!}{(N-k)!}$$"
   ]
  },
  {
   "cell_type": "markdown",
   "metadata": {},
   "source": [
    "Arriba está la fórmula que lo explica, y abajo la vamos a desarrollar, pero realmente, si hay 21 alumnas y cojo una para el cargo de prefecta, tengo otras 19 posibilidades para el cargo de jugadora de quidditch... y si cada una puede ser prefecta y cada una puede ser jugadora ... solo hay que multiplicar ¿no?"
   ]
  },
  {
   "cell_type": "markdown",
   "metadata": {},
   "source": [
    "$$V_2^{21} = \\frac{19!}{(21 - 2)!} = \\frac{21 * 20 * 19!}{19!} = 21 * 20$$"
   ]
  },
  {
   "cell_type": "markdown",
   "metadata": {},
   "source": [
    "¿Cuántas variaciones de podium puede haber en un grupo de 10 personas?"
   ]
  },
  {
   "cell_type": "markdown",
   "metadata": {},
   "source": [
    "![ungif](https://media.giphy.com/media/l2JejHcRDHq2NZxHG/giphy.gif)"
   ]
  },
  {
   "cell_type": "markdown",
   "metadata": {},
   "source": [
    "La intuición, si lo calculamos sin fórmulas, nos dice que si escogemos una persona que sea el oro, nos quedan 9 personas sin podio, en ese caso, cogemos 1 para la plata y nos quedan 8 personas.... por tanto las posibilidades serían el resultado de multiplicar 10 * 9 * 8"
   ]
  },
  {
   "cell_type": "markdown",
   "metadata": {},
   "source": [
    "Lo desarrollamos matemáticamente\n",
    "$$V_3^{10} = \\frac{10!}{(10 - 3)!} = \\frac{10 * 9 * 8 * 7!}{7!} = 10 * 9 *8$$"
   ]
  },
  {
   "cell_type": "markdown",
   "metadata": {},
   "source": [
    "### Permutaciones\n",
    "**El orden importa**, y **todos** los elementos se utilizan sin repetición. Es un caso particular de las variaciones.\n",
    "Tenemos las letras A, B, C. ¿Cuántas palabras de 3 letras podemos construir con ellas, sin repetirlas?"
   ]
  },
  {
   "cell_type": "markdown",
   "metadata": {},
   "source": [
    "![sheldon](https://media.giphy.com/media/l2R01AMRh4g9XEKZO/giphy.gif)"
   ]
  },
  {
   "cell_type": "markdown",
   "metadata": {},
   "source": [
    "¿Lo pensamos y lo escribimos?"
   ]
  },
  {
   "cell_type": "markdown",
   "metadata": {},
   "source": [
    "ABC    \n",
    "ACB     \n",
    "BAC     \n",
    "BCA      \n",
    "CAB     \n",
    "CBA      "
   ]
  },
  {
   "cell_type": "markdown",
   "metadata": {},
   "source": [
    "Realmente la forma de calcular el número posibilidades es el factorial. "
   ]
  },
  {
   "cell_type": "markdown",
   "metadata": {},
   "source": [
    "$$N!$$"
   ]
  },
  {
   "cell_type": "markdown",
   "metadata": {},
   "source": [
    "### Combinaciones\n",
    "Se llama combinaciones de m elementos tomados de n en n (m ≥ n) a todas las agrupaciones posibles que pueden hacerse con los m elementos de forma que:\n",
    "\n",
    "* No entran todos los elementos.\n",
    "* No importa el orden.\n",
    "* No se repiten los elementos.    \n",
    "\n",
    "\n",
    "Veámoslo claro con un ejemplo:\n",
    "      "
   ]
  },
  {
   "cell_type": "markdown",
   "metadata": {},
   "source": [
    "![alf](https://media.giphy.com/media/XRKWmpN7NrJhm/giphy.gif)"
   ]
  },
  {
   "cell_type": "markdown",
   "metadata": {},
   "source": [
    "**Ejercicio** \n",
    "¿Cuántos sándwiches diferentes podemos hacer con dos ingredientes diferentes?\n",
    "\n",
    "Tenemos:\n",
    " * lechuga\n",
    " * tomate\n",
    " * jamón\n",
    " * queso\n",
    " * aguacate"
   ]
  },
  {
   "cell_type": "markdown",
   "metadata": {},
   "source": [
    "$${N\\choose k} \\equiv \\frac{N!}{k!(N-k)!}$$"
   ]
  },
  {
   "cell_type": "markdown",
   "metadata": {},
   "source": [
    "$${5\\choose 2} \\equiv \\frac{5!}{2!3!} = \\frac{5 * 4 * 3!}{2! * 3!} = \\frac{5*4}{2} = 10$$"
   ]
  },
  {
   "cell_type": "markdown",
   "metadata": {},
   "source": [
    "¿Lo hacemos a mano en la pizarra?"
   ]
  },
  {
   "cell_type": "code",
   "execution_count": 10,
   "metadata": {},
   "outputs": [],
   "source": [
    "import random"
   ]
  },
  {
   "cell_type": "markdown",
   "metadata": {},
   "source": [
    "## Introducción"
   ]
  },
  {
   "cell_type": "markdown",
   "metadata": {},
   "source": [
    "* **La probabilidad** es la rama de las matemáticas que se ocupa de los experimentos de cuyos resultados **no estamos seguros**.    \n",
    "* La probabilidad de un **suceso/evento** expresa la posibilidad de que ocurra. Es un **número entre 0 y 1**\n",
    "* La probabilidad de un suceso $𝐴$ se escribe como $𝑃(𝐴)$ \n",
    "* $𝑃(𝐴)=0$ significa que el suceso es imposible\n",
    "* $𝑃(𝐴)=1$ significa que el suceso es seguro\n",
    "* El espacio muestral $Ω$ de un experimento es el **conjunto** de resultados posibles\n",
    "* Un suceso es un subconjunto del espacio muestral\n",
    "* **Se pueden hacer simulaciones** para \"adivinar\" los valores de la probabilidad: la frecuencia relativa tiende a la probabilidad teórica"
   ]
  },
  {
   "cell_type": "markdown",
   "metadata": {},
   "source": [
    "Esta última característica es **La Ley de los Grandes Números**      \n",
    "Se considera el primer teorema fundamental de la teoría de la probabilidad.\n",
    "Básicamente el teorema establece que la frecuencia relativa de los resultados de un cierto experimento aleatorio, tienden a estabilizarse en cierto número, que es precísamente la probabilidad , cuando el experimento se realiza muchas veces."
   ]
  },
  {
   "cell_type": "markdown",
   "metadata": {},
   "source": [
    "**Ejemplo de experimento**: lanzar una moneda al aire"
   ]
  },
  {
   "cell_type": "markdown",
   "metadata": {},
   "source": [
    "<img src=\"https://www.neurochispas.com/wp-content/uploads/2020/07/Intuicion-probabilistica-1.svg\" width=300>"
   ]
  },
  {
   "cell_type": "markdown",
   "metadata": {},
   "source": [
    "El espacio muestral es $\\Omega = \\{H, T\\}$, cara y cruz"
   ]
  },
  {
   "cell_type": "markdown",
   "metadata": {},
   "source": [
    "$P(H) = \\frac{1}{2} (=0.5 = 50\\%)$"
   ]
  },
  {
   "cell_type": "markdown",
   "metadata": {},
   "source": [
    "$P(T) = \\frac{1}{2} (=0.5 = 50\\%)$"
   ]
  },
  {
   "cell_type": "markdown",
   "metadata": {},
   "source": [
    "👆🏻Probabilidad teórica....      \n",
    "¡Vamos a simularlo!"
   ]
  },
  {
   "cell_type": "code",
   "execution_count": 11,
   "metadata": {},
   "outputs": [],
   "source": [
    "espacio_muestral = [\"H\", \"T\"]"
   ]
  },
  {
   "cell_type": "code",
   "execution_count": 31,
   "metadata": {},
   "outputs": [],
   "source": [
    "# Hacemos el experimento 10 veces\n",
    "lanzo = random.choices(espacio_muestral, k=10)"
   ]
  },
  {
   "cell_type": "code",
   "execution_count": 32,
   "metadata": {},
   "outputs": [
    {
     "data": {
      "text/plain": [
       "['T', 'H', 'H', 'H', 'H', 'H', 'T', 'H', 'T', 'H']"
      ]
     },
     "execution_count": 32,
     "metadata": {},
     "output_type": "execute_result"
    }
   ],
   "source": [
    "lanzo"
   ]
  },
  {
   "cell_type": "code",
   "execution_count": 33,
   "metadata": {},
   "outputs": [
    {
     "data": {
      "text/plain": [
       "0.7"
      ]
     },
     "execution_count": 33,
     "metadata": {},
     "output_type": "execute_result"
    }
   ],
   "source": [
    "caras = lanzo.count(\"H\") / len(lanzo)\n",
    "caras"
   ]
  },
  {
   "cell_type": "code",
   "execution_count": 35,
   "metadata": {},
   "outputs": [],
   "source": [
    "# Hacemos el experimento 1000 veces\n",
    "lanzo = random.choices(espacio_muestral, k=1000)"
   ]
  },
  {
   "cell_type": "code",
   "execution_count": 36,
   "metadata": {},
   "outputs": [
    {
     "data": {
      "text/plain": [
       "0.501"
      ]
     },
     "execution_count": 36,
     "metadata": {},
     "output_type": "execute_result"
    }
   ],
   "source": [
    "caras = lanzo.count(\"H\") / len(lanzo)\n",
    "caras"
   ]
  },
  {
   "cell_type": "code",
   "execution_count": 38,
   "metadata": {},
   "outputs": [
    {
     "data": {
      "text/plain": [
       "0.50124"
      ]
     },
     "execution_count": 38,
     "metadata": {},
     "output_type": "execute_result"
    }
   ],
   "source": [
    "# Hacemos el experimento 100000 veces\n",
    "lanzo = random.choices(espacio_muestral, k=100000)\n",
    "caras = lanzo.count(\"H\") / len(lanzo)\n",
    "caras"
   ]
  },
  {
   "cell_type": "markdown",
   "metadata": {},
   "source": [
    "**Ejemplo de experimento**: lanzar dos monedas"
   ]
  },
  {
   "cell_type": "markdown",
   "metadata": {},
   "source": [
    "<img src=\"https://qph.fs.quoracdn.net/main-qimg-7de41d4aee9953bdb442e36b187ffc6f\" width=150>\n",
    "<img src=\"https://qph.fs.quoracdn.net/main-qimg-7de41d4aee9953bdb442e36b187ffc6f\" width=150>"
   ]
  },
  {
   "cell_type": "markdown",
   "metadata": {},
   "source": [
    "El espacio muestral es $\\Omega = \\{HH, HT, TH, TT\\}$"
   ]
  },
  {
   "cell_type": "markdown",
   "metadata": {},
   "source": [
    "$P(\\text{two heads}) = \\frac{1}{4}$"
   ]
  },
  {
   "cell_type": "markdown",
   "metadata": {},
   "source": [
    "$P(\\text{two tails}) = \\frac{1}{4}$"
   ]
  },
  {
   "cell_type": "markdown",
   "metadata": {},
   "source": [
    "**Ejemplo de experimento**: tirando un dado"
   ]
  },
  {
   "cell_type": "markdown",
   "metadata": {},
   "source": [
    "<img src=\"data:image/jpeg;base64,/9j/4AAQSkZJRgABAQAAAQABAAD/2wCEAAkGBxEHEhUSExIWFRUTFhYVGBIXFxYWFhMTFRUYIhUaGBMYHiggGRolHhUVITEtJSkrLjAuGB8zODMvQygtMCsBCgoKBQUFDgUFDisZExkrKysrKysrKysrKysrKysrKysrKysrKysrKysrKysrKysrKysrKysrKysrKysrKysrK//AABEIAMEBBQMBIgACEQEDEQH/xAAbAAEAAwEBAQEAAAAAAAAAAAAAAwQFBgIBB//EADkQAAICAQMCBAQEBAUEAwAAAAABAgMRBAUhEjEGE0FRMmFxgSJCkbEUUmKhIzPR4fBygpLBB1Oy/8QAFAEBAAAAAAAAAAAAAAAAAAAAAP/EABQRAQAAAAAAAAAAAAAAAAAAAAD/2gAMAwEAAhEDEQA/AOxAAAAAAAAAAAAAAAAAAAAAAAAAAAAAAAAAAAAAAAAAAAAAAAAAAAAAAAAAAAAu6LbZ6nn4Y+79fogKQNx7NBdpSz9v2wZms0UtK+eV6S/19gKwAAAAAD1CDsaSWW/Q+b5bV4dp8/UzcY9UYpQg7JOUuywvoB8BY01MdwqjdRNWQlnElxlJtPHo1lPt9iu1gAAAAAAAAAAAAAAAAAAAAAAAAAAAAAA0Nn0i1Mm5LMY+nu/QqaSO7rXz8zyf4Jv8OMdUYKL6UkvxObk1ly4xF478XdtscIvDxz/6Rq0atT79/cDA0L3Za6zzVR/BYfQ1/mLj8Pz6st5zx7HnR27lPVXQ1FVP8Jz5dkZfi6V8KcctuT9c4x6HR36iNSy2cn4q3y6NM/4eHVPGIxbSTbaWW/Zd/sB7ynnHo8A4vcd31WzV6dynGVrUvNWF0za6fbDWM4yjb2HxFVvC6fgsXet+vzi/Vf3A2R3BJp+JR+q/cCfe6tbtem6tFTXbqHKOVY8JQfxY/FHLXHqu79sGrpa5a6mK1NMOqSzOp4sgnnhZaxJ4x98nqnV9PD5M3xZsdm+xr8rWWaZ1zU8wy1P+mUVKOV68vHugHijXanZ6oPR6Tz31KMoRaj5deHyo8Z5wscIi1zcownKHlzml1V5T6XjOG1w2uxet162+EYubskkk5vGZNLlvCSy3zwjjJbxqdfq5wdXTRXHi1952PHwL+VJsDaBx20eNVJ9GoilzjzY5x/3Q9Pqv0OwjJTSaaaaymuU17pgfQAAAAAAAAAAAAAAAAAAAAAAAAABY0dvlvHoyPaNsltdl7VrnXbZ5kK5cuqUs+YlLPMW3nHpyRk1WpdXzXt/uB53jUvtnCXJgLWQuj1xknH0kmnFr36lwU/HG6V21zqshdBTWG4xxlZ5XW/w4fZ8nB3bm74RprxCqKwq08tr+p+oF7f8Ac1uVmY/BD8Mfn7v78foZ9HWpR8vPXldOO/VnjHzyaW1+G9TuGMVuEX+eeYr9Hy/sjuti8O1bR+L47P8A7H6f9K9P3A1623FdXfCz9ccnpAAfd2qv1tcJaezotrsjPD+C2Kypwn8mnn6pGtfe6otmVXNweUfNy3WGng3P8K9ZYbj+q7fcDjtz0Ordl90L82WYrqjJvopryuqXTynPvzgzNbvGp2+coSa8uFahGckuu+5xWZ8dorMvRcr5lXXbrXRqLNRCyV05LogsONdUOOF/M8xzwYlltu42ZfVOcuySbePZRXoB87ncf/Hd9ko2wbbrj0uOe0ZPOUvqucf6lHZPBlmoxK//AA4/yfnl9f5f3O50mlhooKFcVGK7Jfv82BMAAAAAAAAAAAAAAAAAAAAAAAAAAABPpdJPVP8ACuPV9kvuBB3Piio9kl9jUls00vii/lz+5QuplQ8SWH+4EYAAAAAAS2UeRW7bJRqrjy52S6Ul9X9UBnW7Vp7nmVFTfu64N/rgn0+nhpliEIwXtGKj/ZFv+GcoqcXGcGk1KDysNcMhAAAAAAAAAAAAAAAAAAAAAAAAAAAAAALm2aP+Llz8K5b/AGRFt+76566zTy0PRpY58vUJ8NJPDbzh9Twkksrlsi1ur1Who8zSwVk42xcq33nVx1qPPxYeV9Dp6NSrV7MCRs4/bfEVm96m/S26K2lVOXRdJPpkovCbk0knLhpJy4z7HXW2KC5ZibjvC5jD9QM98Z+TwDnd88QS2eVb6FOM+vqWcSWOnlPt+Z9zW2vc6t1h11SzjvF8Si/Zx/4gLgB9j3Asayb2bTS1XkTvlFJxpgsyeWlnGH2zl8PjPBX3Xda902133aG6yMlFvSOL8xyU1h4X4kk11J4Txzgt6LxDYtZZpLKnGKhGyq1Z6bIcKS7YUk/TPYu+JKdTqtPJaO2FVrxiyayor1xw/wAX1TAx9HutOw7dG+nRXRhjK0yg/M6pyeXJS5Szltv05JI6iO4Uw1Ea51eZ3rsXTKLy1zH7fo0ae33W6GiK1VkZ2rPVKCxFtt4ST57YXzOU37xVG2+miEXN2tvMeYwhHvKUu3dYA0wYGh8V03WSqs/w5RnKCbeYScZNL8X5c49TfAAAAAAAAAAAAAAAAAAAAAAAAAAAC1obuh4fZ/uR7LTqdHO6N1isg7HOmX51XLlwksflfC78YISpvOjluSqlG2VVlFishYk2mu04yiu6aA1N41b+E4+vVam7VTTgoaeuOE3jqtseH1L2iuUau9b5p023dWsenXFvPthcnC7x4mlqcxpzGP8AO+JP6L0+vcD74t161dqhHlVppv8AqfxL7YRl7dr7NtsVlbxJenpJesWvVM+bboLdwfTXCU37rsvrJ8L7s7rYPCUNC1Zdidi5UV8EH9/ifz7fuB0sZdSTxjKzj2PqAAk3i7UT08pabpd0cSjCXafS05R9syiml82jR0mqlOtSlFwbim4PvFtcp/NdjOptdbKVFlmkuvlO9SptUXXXJ4lVZjEox9HB4T7/AO4ZO836jc7ra5Yr03luPmJ4sc5JZcX+VRTfL9TDhude2QphpYRlp4xk5XZ/Coxb4T/NOU8kniDWKNtnnXRdEq3BaeDzOxy+JyxyvVLk5LXbg9UowjFV1Q4jUuyS7N+7/wBQI7rHdKUn3k3J/VvL/c7PwDu1l0np5PqjGHVFvlxSaTjn25WPY5raNlv3d/4cPw+tkuIL7+r+SP0XYdiq2WOI/inL4rH3fyS9F/xgaoAAAAAAAAAAAAAAAAAAAAAAAAAAAHqEHY8JZfsgKWt2yjXc2VQm16tc/wDkuStX4d0dfaiH3zL/APTZvPb7Us9D/VftkrNYA8VwVaxFJJeiWF+i4PQAAAADxbVG5OMoqUXw4ySaf1TPZLVpp3fDFv544/UDm7vB2iteVU4fKEpRX6ZwiXSeFdHpXlUqTXrNyn/aTx/Y3raJU/FFr6kYHxLp4XZcY9F9j6AAAAAAAAAAAAAAAAAAAAAAAAAAAAFjQ6V6uXSu3dv2R0FGmjpViK+r9X9zO2mzyYt+7/ska8Jq1cfoBz20eMdJu+pt0lUpO2mU4yTi0m62lNp+ybSy0vlk09w0S1Cz2l7/APplmNMKm5KKTl3aSTePd+pieJfEtOy1TsnLCj3ffl9kl6tsCi1gGJb4jp0vlOxTir11xljPTnHEo918XzNim2N8VKMlKL5Uk8pr5MD2Aeqo9Ukvdpf3AsydG1UvU6qahXHHfPOXxwuW2+El3IbNXq93uVdVVUtvurkv4qu5xsxKLT6OnlNSyuF6dy7pN10viCV+lsqT8iahOu2KlFrGYSSeU4v0+hH4h1er2ZUx0WhjfDLjKMZwq8uCx09KeFzz9MAQQ02j8BaKfU7XTFuTc3K2TcsLjjhcL2X6kNV1etqrvq6vLuXVHqTjJJ+jTLe1eH4bPddqXqL5u/MnXZNSrg28vpWM8dlzwuDN3fxFTdfHTRl/iYc+lJvEV6t9ogTAz9t3mjc+K5/iWcwfEljvw+6+aNAAAAAAAAAAAAAAAAAAAAAAAAAAAAItdu0tpr6/Lc4KcfM6fihXLiU0vXp4bXtkqQ3TcVYmqeKtQ67YL4btNZjy7q5S9Y8ZWTRi+kv0atSXPD/56gZXjTd9Tp6nHTQ67JNRWfhjn80v6Ucbr98jHzVqaeqrTqHVY458294wq4S7rLfPyOi8Zam6uuT08VKxtJOTSjHPeTz3wuTjd235QrjVmN1kVHqnhOCmu8kuzeeQK/ifcVuEq8RccQy4vvF2YfS/mkl+pFsO+WbNPKzKtv8AFXnh/Ne0jJhJ2v1cpP6tt/uzrdg8HTvanqE4Q7+V+eX/AFfyr+/0A7uuasipLtJJr6NcHuLw0eUscei9D6B723cqtbqb4KvouqjXmTSzZTJZhJSXLin1LnsyfZdy1Ld8NRX0uqxquxJqNtMuYSWW+UuH8yPTXeU+3yz6pfUr7fqNRLz43qOIzfk2xwlZVLlZjniUezz9QMLfvE91VtspVtaemGevnqtsljpjWs4xykZVO96ei15rcL7KldYsZcIxS6Yzn6Ptwvl8ibcN0tp1ElOMYaauP+ZLvZY8NdPPZc+nochu+6LXTl0R6VJrqePxWOK4cn7LHC+gFZWOMupNp5ymnhp/Jn6F4P3+W6p12c2QWer+eOcZaXZ5x9cnBaDR2bhLoqg5S9l6L3b9F9T9F8MeH1sycpS6rJpJtdor2Xvz6/JAbgAAAAAAAAAAAAAAAAAAAAAAAAAABrIAGJunhbT7j364P+iT6X/2SzH9EZ1XgLTQfNlrXtmC/aJ1gAobbs2n2z/KqjF/zfFL/wApZZfAAAAAQarSx1Kw3KP9UJOEl913++ScAcjrPA61Uup6qx+3Wutr75X7Emj8C6ap5nOdnyyox/tz/c6oAQ6XS16OPTXCMI+0Vhf7/cmAAAAAAAAAAAAAAAAAAAAAAAAAAAAAAAAAAAAAAAAAAAAAAAAAAAAAAAAAAAAAAAAAAAAAAAAAAAAAAAAAAAAAAAAAAAAAAAAAAAAAAAAAA//Z\" width=300>"
   ]
  },
  {
   "cell_type": "markdown",
   "metadata": {},
   "source": [
    "El espacio muestral es $\\Omega = \\{1, 2, 3, 4, 5, 6\\}$"
   ]
  },
  {
   "cell_type": "markdown",
   "metadata": {},
   "source": [
    "$P(1) = \\frac{1}{6}$"
   ]
  },
  {
   "cell_type": "markdown",
   "metadata": {},
   "source": [
    "$P(4) = \\frac{1}{6} \\sim 0.16$"
   ]
  },
  {
   "cell_type": "markdown",
   "metadata": {},
   "source": [
    "$P(7) = 0$"
   ]
  },
  {
   "cell_type": "code",
   "execution_count": 39,
   "metadata": {},
   "outputs": [],
   "source": [
    "espacio_dado = [1,2,3,4,5,6]"
   ]
  },
  {
   "cell_type": "code",
   "execution_count": 40,
   "metadata": {},
   "outputs": [
    {
     "data": {
      "text/plain": [
       "[6, 1, 3, 6, 6, 5, 3, 1, 2, 2]"
      ]
     },
     "execution_count": 40,
     "metadata": {},
     "output_type": "execute_result"
    }
   ],
   "source": [
    "# Hacemos el experimento 10 veces\n",
    "tiradas = random.choices(espacio_dado,k=10)\n",
    "tiradas"
   ]
  },
  {
   "cell_type": "code",
   "execution_count": 41,
   "metadata": {},
   "outputs": [
    {
     "data": {
      "text/plain": [
       "0.0"
      ]
     },
     "execution_count": 41,
     "metadata": {},
     "output_type": "execute_result"
    }
   ],
   "source": [
    "cuatros = tiradas.count(4) / len(tiradas)\n",
    "cuatros"
   ]
  },
  {
   "cell_type": "code",
   "execution_count": 43,
   "metadata": {},
   "outputs": [
    {
     "data": {
      "text/plain": [
       "0.158"
      ]
     },
     "execution_count": 43,
     "metadata": {},
     "output_type": "execute_result"
    }
   ],
   "source": [
    "# Hacemos el experimento 1000 veces\n",
    "tiradas = random.choices(espacio_dado,k=1000)\n",
    "cuatros = tiradas.count(4) / len(tiradas)\n",
    "cuatros"
   ]
  },
  {
   "cell_type": "markdown",
   "metadata": {},
   "source": [
    "## Regla de Laplace"
   ]
  },
  {
   "cell_type": "markdown",
   "metadata": {},
   "source": [
    "![party](https://media.giphy.com/media/SQSMZI0fYbebPLF2RQ/giphy.gif)"
   ]
  },
  {
   "cell_type": "markdown",
   "metadata": {},
   "source": [
    "Si cada resultado en $\\Omega$ ocurre con la misma probabilidad, entonces la probabilidad de cualquier evento es simplemente: \n",
    "\n",
    "$P(evento)=\\frac {\\text{número de resultados en el evento}}{\\text{número de resultados en el espacio muestral}}$\n",
    "\n",
    "Es lo que veníamos haciendo intuitivamente, dividir casos favorables entre casos posibles y esto es la regla de Laplace"
   ]
  },
  {
   "cell_type": "markdown",
   "metadata": {},
   "source": [
    "**Ejemplo de experimento**: lanzar dos monedas"
   ]
  },
  {
   "cell_type": "markdown",
   "metadata": {},
   "source": [
    "<img src=\"https://qph.fs.quoracdn.net/main-qimg-7de41d4aee9953bdb442e36b187ffc6f\" width=150>\n",
    "<img src=\"https://qph.fs.quoracdn.net/main-qimg-7de41d4aee9953bdb442e36b187ffc6f\" width=150>"
   ]
  },
  {
   "cell_type": "markdown",
   "metadata": {},
   "source": [
    "El espacio muestral/sample space es $\\Omega = \\{HH, HT, TH, TT\\}$"
   ]
  },
  {
   "cell_type": "markdown",
   "metadata": {},
   "source": [
    "Escribo el espacio muestral y después ya que me pregunten lo que sea... ¿cuál es la probabilidad de que al menos haya una cara?"
   ]
  },
  {
   "cell_type": "markdown",
   "metadata": {},
   "source": [
    "$P(\\text{una de cada}) = \\frac{2}{4}$"
   ]
  },
  {
   "cell_type": "markdown",
   "metadata": {},
   "source": [
    "$P(\\text{dos iguales}) = \\frac{2}{4}$"
   ]
  },
  {
   "cell_type": "markdown",
   "metadata": {},
   "source": [
    "**Ejemplo de experimento**: lanzar un dado"
   ]
  },
  {
   "cell_type": "markdown",
   "metadata": {},
   "source": [
    "<img src=\"data:image/jpeg;base64,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\" width=300>"
   ]
  },
  {
   "cell_type": "markdown",
   "metadata": {},
   "source": [
    "Espacio muestral $\\Omega = \\{1, 2, 3, 4, 5, 6\\}$"
   ]
  },
  {
   "cell_type": "markdown",
   "metadata": {},
   "source": [
    "$P(\\text{pares}) = \\frac{3}{6}$"
   ]
  },
  {
   "cell_type": "markdown",
   "metadata": {},
   "source": [
    "$P(\\text{mayor que 4}) = \\frac{2}{6}$"
   ]
  },
  {
   "cell_type": "markdown",
   "metadata": {},
   "source": [
    "**Ejemplo de experimento**: sacamos una bola de un bote"
   ]
  },
  {
   "cell_type": "markdown",
   "metadata": {},
   "source": [
    "<img src=\"data:image/jpeg;base64,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\" width=100>"
   ]
  },
  {
   "cell_type": "markdown",
   "metadata": {},
   "source": [
    "$\\Omega = \\{A, A, A, R, R, R, R, R, R, R, V, V, V, V, V, V, V, V, V, V\\}$"
   ]
  },
  {
   "cell_type": "markdown",
   "metadata": {},
   "source": [
    "3 azules, 7 rojas y 10 verdes"
   ]
  },
  {
   "cell_type": "markdown",
   "metadata": {},
   "source": [
    "$P(roja)=\\frac{7}{20}$"
   ]
  },
  {
   "cell_type": "markdown",
   "metadata": {},
   "source": [
    "$P(azul)=\\frac{3}{20}$"
   ]
  },
  {
   "cell_type": "markdown",
   "metadata": {},
   "source": [
    "**Ejemplo de experimento**: Palabras de 3 letras con las letras A, B, C, una vez cada una"
   ]
  },
  {
   "cell_type": "markdown",
   "metadata": {},
   "source": [
    "$\\Omega = \\{ABC, ACB, BAC, BCA, CAB, CBA\\}$"
   ]
  },
  {
   "cell_type": "markdown",
   "metadata": {},
   "source": [
    "$P(\\text{empieza con A})=\\frac{2}{6}$"
   ]
  },
  {
   "cell_type": "markdown",
   "metadata": {},
   "source": [
    "$P(\\text{contiene una A})=\\frac{6}{6}=1=100\\%$"
   ]
  },
  {
   "cell_type": "markdown",
   "metadata": {},
   "source": [
    "**Ejemplo de experimento**: cuál es la probabilidad de ganar la lotería. Números 00000 a 99999"
   ]
  },
  {
   "cell_type": "markdown",
   "metadata": {},
   "source": [
    "## Eventos compuestos"
   ]
  },
  {
   "cell_type": "markdown",
   "metadata": {},
   "source": [
    "![blowing](https://media.giphy.com/media/SACoDGYTvVNhZYNb5a/giphy.gif)"
   ]
  },
  {
   "cell_type": "markdown",
   "metadata": {},
   "source": [
    "### Unión e Intersección"
   ]
  },
  {
   "cell_type": "markdown",
   "metadata": {},
   "source": [
    "$A$ y $B$ son eventos  \n",
    "\n",
    "$A \\cap B$ (A intersección B) es otro suceso, que ocurre si **ambas** $A$ y $B$ ocurren\n",
    "\n",
    "$A \\cup B$ (A unión B) es otro suceso, que ocurre si **cualquiera** de $A$, $B$ ocurre"
   ]
  },
  {
   "cell_type": "markdown",
   "metadata": {},
   "source": [
    "<img src=\"https://encrypted-tbn0.gstatic.com/images?q=tbn:ANd9GcR-vUFnw2J54Zsb3G_zuJb9EFblFaW6obYu0A&usqp=CAU\" width=500>"
   ]
  },
  {
   "cell_type": "markdown",
   "metadata": {},
   "source": [
    "Ejemplo de intersección:        \n",
    "En el espacio muestral anterior, la probabilidad de que una palabra empiece por A y acabe por C      \n",
    "    $\\Omega = \\{ABC, ACB, BAC, BCA, CAB, CBA\\}$"
   ]
  },
  {
   "cell_type": "markdown",
   "metadata": {},
   "source": [
    "**Ejemplo de experimento**: robar una carta del mazo"
   ]
  },
  {
   "cell_type": "markdown",
   "metadata": {},
   "source": [
    "<img src=\"https://www.casino.es/imagenes/juegos/mus/baraja-espanola.jpg\" width=600>"
   ]
  },
  {
   "cell_type": "markdown",
   "metadata": {},
   "source": [
    "$P(rey)=\\frac{4}{40}$"
   ]
  },
  {
   "cell_type": "markdown",
   "metadata": {},
   "source": [
    "$P(oro)=\\frac{10}{40}$"
   ]
  },
  {
   "cell_type": "markdown",
   "metadata": {},
   "source": [
    "$P(rey \\cap oro)=\\frac{1}{40}$"
   ]
  },
  {
   "cell_type": "markdown",
   "metadata": {},
   "source": [
    "$P(rey \\cup oro)=\\frac{13}{40}$"
   ]
  },
  {
   "cell_type": "markdown",
   "metadata": {},
   "source": [
    "En este caso tenemos el espacio muestral delante y podemos ver y contar las cartas y entendemos la teoría con ejemplos sencillos. No nos equivocamos y la intuición no nos falla diciendo que la probabilidad de que sea oro y sea rey es la suma de ambas porque nos damos cuenta de que estamos contando al rey de oros dos veces, pero los problemas a los que nos enfrentemos no siempre van a ser así de sencillos. Para ello tenemos la fórmula: "
   ]
  },
  {
   "cell_type": "markdown",
   "metadata": {},
   "source": [
    "$$P(A \\cup B)=P(A)+P(B)-P(A \\cap B)$$"
   ]
  },
  {
   "cell_type": "markdown",
   "metadata": {},
   "source": [
    "La probabilidad A unión B es la probabilidad de a + la de b restando la intersección de a y b (el rey de oros)"
   ]
  },
  {
   "cell_type": "markdown",
   "metadata": {},
   "source": [
    "### Contrario"
   ]
  },
  {
   "cell_type": "markdown",
   "metadata": {},
   "source": [
    "$A$ es un evento\n",
    "\n",
    "$\\overline{A}$ es el evento contrario"
   ]
  },
  {
   "cell_type": "markdown",
   "metadata": {},
   "source": [
    "$P(\\text{no oro})=\\frac{30}{40}$"
   ]
  },
  {
   "cell_type": "markdown",
   "metadata": {},
   "source": [
    "$P(\\text{oro})=\\frac{10}{40}$"
   ]
  },
  {
   "cell_type": "markdown",
   "metadata": {},
   "source": [
    "$$P(\\overline{A}) = 1-P(A)$$"
   ]
  },
  {
   "cell_type": "markdown",
   "metadata": {},
   "source": [
    "**Experimento**: tiramos 3 tiros libres. Probabilidad 1/2 de marcar cada uno. ¿Cual es la probabilidad de marcar al menos uno?\n",
    "$\\Omega=\\{111,110,101,100,010,011,001,000 \\}$"
   ]
  },
  {
   "cell_type": "markdown",
   "metadata": {},
   "source": [
    "$C$: fallar todos  \n",
    "$P(C)=\\frac{1}{8}$  "
   ]
  },
  {
   "cell_type": "markdown",
   "metadata": {},
   "source": [
    "$\\overline{C}$: meter al menos 1        \n",
    "P($\\overline{C}) = 1 - \\frac{1}{8}=\\frac{7}{8}$"
   ]
  },
  {
   "cell_type": "markdown",
   "metadata": {},
   "source": [
    "## Probabilidad condicionada\n",
    "### THE intuición"
   ]
  },
  {
   "cell_type": "markdown",
   "metadata": {},
   "source": [
    "![ungifdelaintuición](https://media.giphy.com/media/P6Sb3j2wCBveXepxNu/giphy.gif)"
   ]
  },
  {
   "cell_type": "markdown",
   "metadata": {},
   "source": [
    "$P(A|B)$ La probabilidad de A condicionada de B es la probabilidad de que $A$ ocurra, sabiendo que $B$ ocurrió"
   ]
  },
  {
   "cell_type": "markdown",
   "metadata": {},
   "source": [
    "<img src=\"../images/gatos.jpg\" width=500>"
   ]
  },
  {
   "cell_type": "markdown",
   "metadata": {},
   "source": [
    "Da respuestas aproximadas:\n",
    " * ¿Cuál es la probabilidad de que un gato sea una hembra?\n",
    " * ¿Cuál es la probabilidad de que un gato sea hembra y de 3 colores?\n",
    " * Dado que un gato es hembra, ¿cuál es la probabilidad de que sea de 3 colores?\n",
    " * Dado que un gato es de 3 colores, ¿cuál es la probabilidad de que sea hembra?"
   ]
  },
  {
   "cell_type": "markdown",
   "metadata": {},
   "source": [
    "![gatetes](https://media.giphy.com/media/3o72EX5QZ9N9d51dqo/giphy.gif)"
   ]
  },
  {
   "cell_type": "markdown",
   "metadata": {},
   "source": [
    "$P(\\text{hembra}) \\sim \\frac{1}{2}$"
   ]
  },
  {
   "cell_type": "markdown",
   "metadata": {},
   "source": [
    "$P(\\text{3colores} \\cap \\text{hembra}) \\sim \\frac{1}{8}$"
   ]
  },
  {
   "cell_type": "markdown",
   "metadata": {},
   "source": [
    "$P(\\text{3colores} | \\text{hembra}) \\sim \\frac{1}{4}$"
   ]
  },
  {
   "cell_type": "markdown",
   "metadata": {},
   "source": [
    "$P(\\text{hembra} | \\text{3colores}) \\sim 0.9$"
   ]
  },
  {
   "cell_type": "markdown",
   "metadata": {},
   "source": [
    "¿Por qué estas preguntas? Para no equivocarnos cuando en problemas de data estemos hablando de estos casos. \n",
    "Yo puedo afirmar que más o menos el 95% de los gatos de tres colores son hembras pero no puedo afirmar que el 95% de las hembras sean de 3 colores.    \n",
    "La probabilidad condicionada no es simétrica y puede llevarnos a error, como data scientist tenemos que pensar, por ejemplo, si tenemos datos sobre el titanic, y decimos que cuál es la probabilidad de que sobreviviera una persona en el Titanic si era mujer. Sabemos que el 60% de las mujeres sobrevivieron. Ahora, ¿cuál es la probabilidad de una superviviente de que sea mujer? De las personas que sobrevivieron, el 90% eran mujeres. \n"
   ]
  },
  {
   "cell_type": "markdown",
   "metadata": {},
   "source": [
    "### Definición formal"
   ]
  },
  {
   "cell_type": "markdown",
   "metadata": {},
   "source": [
    "$$P(A|B)=\\frac{P(A \\cap B)}{P(B)}$$"
   ]
  },
  {
   "cell_type": "markdown",
   "metadata": {},
   "source": [
    "$P(\\text{3colores} | \\text{hembra})=\\frac{P(\\text{3colores} \\cap \\text{hembra})}{P(\\text{hembra})}$"
   ]
  },
  {
   "cell_type": "markdown",
   "metadata": {},
   "source": [
    "### Ejemplos engañosos de la vida real"
   ]
  },
  {
   "cell_type": "markdown",
   "metadata": {},
   "source": [
    "Pfizer anunció una eficacia del 90% de la vacuna COVID-19        \n",
    "Esto debería significar $P(\n",
    "\\text{infección} |\\text{vacuna}) = 0,10$"
   ]
  },
  {
   "cell_type": "markdown",
   "metadata": {},
   "source": [
    "[Artículo sobre la vacuna de Pfizer](https://www.xataka.com/medicina-y-salud/pfizer-dice-que-su-vacuna-covid-19-tiene-eficacia-90-primeros-datos-estudio-fase-iii-que-esta-marcha) 💉"
   ]
  },
  {
   "cell_type": "markdown",
   "metadata": {},
   "source": [
    "Después de leer el artículo, vemos que lo que realmente ocurrió es:  \n",
    "$P(\\text{vacuna}|\\text{infección})=0.10$"
   ]
  },
  {
   "cell_type": "markdown",
   "metadata": {},
   "source": [
    "\"El 99% de los gatos de tres colores son hembras\"  \n",
    "**no es lo mismo que**  \n",
    "\"El 99% de las gatas son de tres colores\""
   ]
  },
  {
   "cell_type": "markdown",
   "metadata": {},
   "source": [
    "## Eventos compuestos"
   ]
  },
  {
   "cell_type": "markdown",
   "metadata": {},
   "source": [
    "### Eventos independientes"
   ]
  },
  {
   "cell_type": "markdown",
   "metadata": {},
   "source": [
    "Si varios sucesos son independientes, la probabilidad de que ocurran **todos** es el producto de sus probabilidades"
   ]
  },
  {
   "cell_type": "markdown",
   "metadata": {},
   "source": [
    "$A$, $B$ independientes $\\Rightarrow$ $P(A \\cap B)=P(A) * P(B)$"
   ]
  },
  {
   "cell_type": "markdown",
   "metadata": {},
   "source": [
    "**Ejercicio**: ¿Cuál es la probabilidad de lanzar tres dados y obtener tres cincos?"
   ]
  },
  {
   "cell_type": "markdown",
   "metadata": {},
   "source": [
    "$P(\\text{tres cincos})=\\frac{1}{6}*\\frac{1}{6}*\\frac{1}{6}=\\frac{1}{216}$"
   ]
  },
  {
   "cell_type": "markdown",
   "metadata": {},
   "source": [
    "**Ejercicio**: Robamos una carta del mazo y la volvemos a poner. Volvemos a sacar una carta. ¿Cuál es la probabilidad de haber sacado dos ases?"
   ]
  },
  {
   "cell_type": "markdown",
   "metadata": {},
   "source": [
    "$P(\\text{dos ases})=\\frac{1}{10}*\\frac{1}{10}=\\frac{1}{100}$"
   ]
  },
  {
   "cell_type": "markdown",
   "metadata": {},
   "source": [
    "⚠️ Cuidado, en general, si no sabemos si dos eventos son independientes o dependientes no debemos utilizar esta fórmula, de hecho, lo normal es ncontrarnos eventos dependientes 🦄"
   ]
  },
  {
   "cell_type": "markdown",
   "metadata": {},
   "source": [
    "### Eventos dependientes"
   ]
  },
  {
   "cell_type": "markdown",
   "metadata": {},
   "source": [
    "Si varios sucesos son dependientes, la probabilidad de que ocurran todos es **no** el producto de sus probabilidades"
   ]
  },
  {
   "cell_type": "markdown",
   "metadata": {},
   "source": [
    "$A$, $B$ dependiente $\\Rightarrow$ $P(A \\cap B)=P(A) * P(B|A)$"
   ]
  },
  {
   "cell_type": "markdown",
   "metadata": {},
   "source": [
    "**Ejercicio**: Sacamos dos cartas de la baraja Y LAS MIRAMOS ¿Cuál es la probabilidad de haber sacado dos ases?"
   ]
  },
  {
   "cell_type": "markdown",
   "metadata": {},
   "source": [
    "$P(\\text{dos ases})=\\frac{4}{40}*\\frac{3}{39}= \\frac{1}{130}$"
   ]
  },
  {
   "cell_type": "markdown",
   "metadata": {},
   "source": [
    "**Ejercicio** ¿Cuál es la probabilidad de sacar 4 reyes?"
   ]
  },
  {
   "cell_type": "code",
   "execution_count": 47,
   "metadata": {},
   "outputs": [],
   "source": [
    "p = 4 / 40 * 3 / 39 * 2 / 38 * 1/37"
   ]
  },
  {
   "cell_type": "code",
   "execution_count": 48,
   "metadata": {},
   "outputs": [
    {
     "data": {
      "text/plain": [
       "1.0942116205274103e-05"
      ]
     },
     "execution_count": 48,
     "metadata": {},
     "output_type": "execute_result"
    }
   ],
   "source": [
    "p"
   ]
  },
  {
   "cell_type": "markdown",
   "metadata": {},
   "source": [
    "Vale, pero... ¿una de cuántas veces?, la inversa de la probabilidad, es 1 de cuántas veces. "
   ]
  },
  {
   "cell_type": "code",
   "execution_count": 49,
   "metadata": {},
   "outputs": [
    {
     "data": {
      "text/plain": [
       "91390"
      ]
     },
     "execution_count": 49,
     "metadata": {},
     "output_type": "execute_result"
    }
   ],
   "source": [
    "round(1/p)"
   ]
  },
  {
   "cell_type": "markdown",
   "metadata": {},
   "source": [
    "**Ejercicio** \n",
    "La probabilidad de romper un vaso tirando una piedra desde una distancia determinada es de 1/3 (es mi puntería).      \n",
    "Tiro 3 piedras      \n",
    "¿Cuál es la probabilidad de romper el vaso?   "
   ]
  },
  {
   "cell_type": "code",
   "execution_count": null,
   "metadata": {},
   "outputs": [],
   "source": [
    "# Dar a la primera\n",
    "1/3\n",
    "\n",
    "# Fallar el primero y dar a la segunda\n",
    "2/3 * 1/3\n",
    "\n",
    "# Fallar las dos prieras y darle a la tercera\n",
    "2 / 3 * 2 / 3 * 1 / 3"
   ]
  },
  {
   "cell_type": "markdown",
   "metadata": {},
   "source": [
    "$9 / 27 + 6 / 27 + 4 / 27 = 19/27$"
   ]
  },
  {
   "cell_type": "markdown",
   "metadata": {},
   "source": [
    "Otra aproximación es... ¿qué pasa si no lo rompo? ¿qué es lo contrario de no romperlo?"
   ]
  },
  {
   "cell_type": "markdown",
   "metadata": {},
   "source": [
    "$P(no romper) = \\frac{2}{3} * \\frac{2}{3} * \\frac{2}{3} = \\frac{8}{27}$"
   ]
  },
  {
   "cell_type": "markdown",
   "metadata": {},
   "source": [
    "$P(romper) = 1 - P(noromper) = \\frac{19}{27}$"
   ]
  },
  {
   "cell_type": "markdown",
   "metadata": {},
   "source": [
    "## Árbol de probabilidades\n",
    "Si algo puede ocurrir por **más de una razón**, hay que tener en cuenta todas las probabilidades.     \n",
    "Eres uno de los porteros de tu equipo de fútbol. Tienes 2 entrenadores.  \n",
    "\n",
    "Con el entrenador Sam la probabilidad de que juegues es de 0,5.  \n",
    "Con el entrenador Alex la probabilidad de que juegues es de 0,3.  \n",
    "\n",
    "Sam es el entrenador más a menudo: unos 6 de cada 10 partidos (una probabilidad de 0,6).    \n",
    "**Ejercicio**: ¿cuál es la probabilidad de que juegues hoy?"
   ]
  },
  {
   "cell_type": "markdown",
   "metadata": {},
   "source": [
    "<img src=\"https://www.mathsisfun.com/data/images/tree-diagram-ex1-3.svg\" width=200>"
   ]
  },
  {
   "cell_type": "markdown",
   "metadata": {},
   "source": [
    "$P(jugar) = P(sam) * P(jugar | sam) + P(alex) * P(jugar | alex)$"
   ]
  },
  {
   "cell_type": "code",
   "execution_count": 51,
   "metadata": {},
   "outputs": [
    {
     "data": {
      "text/plain": [
       "0.42"
      ]
     },
     "execution_count": 51,
     "metadata": {},
     "output_type": "execute_result"
    }
   ],
   "source": [
    "p = 0.6 * 0.5 + 0.4 * 0.3 \n",
    "p"
   ]
  },
  {
   "cell_type": "markdown",
   "metadata": {},
   "source": [
    "$P(B)=\\sum P(A_i) * P(B | A_i)$ --> La probabilidad de que ocurra un evento que tiene varios posibles caminos es la suma de las probabilidades de cada camino "
   ]
  },
  {
   "cell_type": "markdown",
   "metadata": {},
   "source": [
    "**Ejercicio:**\n",
    "\n",
    "* La probabilidad de obtener un aumento de sueldo en 2021 es del 20%.\n",
    "* Si me suben el sueldo, la probabilidad de comprar una casa es del 70%.\n",
    "* Si no me suben el sueldo, la probabilidad de comprar una casa es del 20%.\n",
    "* ¿Cuál es la probabilidad de que tenga una casa en 2022?"
   ]
  },
  {
   "cell_type": "markdown",
   "metadata": {},
   "source": [
    "<img src=\"../images/raise_house.png\" width=500>"
   ]
  },
  {
   "cell_type": "markdown",
   "metadata": {},
   "source": [
    "$P(house) = P(raise) * P(house | raise) + P(noraise) * P(house | noraise)$"
   ]
  },
  {
   "cell_type": "markdown",
   "metadata": {},
   "source": [
    "$P(casa) = 0,14 + 0,16 = 0,3$        \n",
    "$P(\\overline{casa}) = 1 - P(casa) = 0.7$"
   ]
  },
  {
   "cell_type": "markdown",
   "metadata": {},
   "source": [
    "## Teorema de Bayes\n",
    "El teorema de Bayes es utilizado para calcular la probabilidad de un suceso, teniendo información de antemano sobre ese suceso.\n",
    "Podemos calcular la probabilidad de un suceso A, sabiendo además que ese A cumple cierta característica que condiciona su probabilidad. El teorema de Bayes entiende la probabilidad de forma inversa al teorema de la probabilidad total. El teorema de la probabilidad total hace inferencia sobre un suceso B, a partir de los resultados de los sucesos A. Por su parte, Bayes calcula la probabilidad de A condicionado a B."
   ]
  },
  {
   "cell_type": "markdown",
   "metadata": {},
   "source": [
    "En términos más generales y menos matemáticos, el teorema de Bayes es de enorme relevancia puesto que vincula la probabilidad de A dado B con la probabilidad de B dado A. Es decir, por ejemplo, que sabiendo la probabilidad de tener un dolor de cabeza dado que se tiene gripe, se podría saber (si se tiene algún dato más), la probabilidad de tener gripe si se tiene un dolor de cabeza. Muestra este sencillo ejemplo la alta relevancia del teorema en cuestión para la ciencia en todas sus ramas, puesto que tiene vinculación íntima con la comprensión de la probabilidad de aspectos causales dados los efectos observados."
   ]
  },
  {
   "cell_type": "markdown",
   "metadata": {},
   "source": [
    "**Teorema de Bayes:** "
   ]
  },
  {
   "cell_type": "markdown",
   "metadata": {},
   "source": [
    "https://en.wikipedia.org/wiki/Thomas_Bayes\n",
    "\n",
    "\n",
    "\n",
    "\n",
    "$$A \\cap B = B \\cap A$$\n",
    "\n",
    "\n",
    "$$P(A \\cap B) = P(B \\cap A)$$\n",
    "\n",
    "\n",
    "$$P(A|B) = \\frac{P(A \\cap B)}{P(B)}$$\n",
    "\n",
    "### Regla de Bayes\n",
    "\n",
    "$$P(A|B) = \\frac{P(B|A)P(A)}{P(B)}$$"
   ]
  },
  {
   "cell_type": "markdown",
   "metadata": {},
   "source": [
    "<img src=\"../images/raise_house.png\" width=500>"
   ]
  },
  {
   "cell_type": "markdown",
   "metadata": {},
   "source": [
    "Si compré una casa, ¿cuál es la probabilidad de que me subieran el sueldo?"
   ]
  },
  {
   "cell_type": "markdown",
   "metadata": {},
   "source": [
    "Recordamos la definición de probabilidad condicionada"
   ]
  },
  {
   "cell_type": "markdown",
   "metadata": {},
   "source": [
    "$$P(A|B)=\\frac{P(A \\cap B)}{P(B)}$$"
   ]
  },
  {
   "cell_type": "markdown",
   "metadata": {},
   "source": [
    "$P(raise | house) = \\frac{P(raise \\cap house)}{P(house)} = \\frac{P(house \\cap raise)}{P(house)}= \\frac{P(house|raise) * P(raise)}{P(house)} = \\frac{0.7 * 0.2}{0.3} = 0.46 = \\frac{7}{15}$ "
   ]
  },
  {
   "cell_type": "markdown",
   "metadata": {},
   "source": [
    "¿Cuándo es útil el teorema de Bayes?:\n",
    " * Cuado conocemos $P(B | A)$\n",
    " * Y queremos saber $P(A | B)$"
   ]
  },
  {
   "cell_type": "markdown",
   "metadata": {},
   "source": [
    "#### Otro ejemplo resuelto"
   ]
  },
  {
   "cell_type": "markdown",
   "metadata": {},
   "source": [
    "**Seguro de coche segun color**\n",
    "\n",
    "**Eventos**\n",
    "\n",
    "+ $A: =$ Accidente de coche\n",
    "+ $B: =$ Color del coche (rojo, por ejemplo)\n",
    "\n",
    "\n",
    "**¿Que es cada cosa?**\n",
    "\n",
    "+ $P(A|B) :=$ ¿Prob de tener un accidente si mi coche es rojo? (lo que buscamos)\n",
    "+ $P(A) :=$ Prob de accidente (proporcion de coches accidentados en todo el parque movil)\n",
    "+ $P(B|A) :=$ Si ya he tenido un accidente, ¿cual es la prob de que mi coche sea rojo? (proporcion de coches rojos entre los accidentados)\n",
    "+ $P(B) :=$ Prob de coche rojo (proporcion de coches rojos en todo el parque movil)\n",
    "\n",
    "\n",
    "\n",
    "\n",
    "**Supongamos...**\n",
    " \n",
    "+ $P(A) = 0.1$ \n",
    "+ $P(B|A) = 0.3$ \n",
    "+ $P(B) = 0.2$\n",
    "\n",
    "\n",
    "**Entonces..**"
   ]
  },
  {
   "cell_type": "code",
   "execution_count": 2,
   "metadata": {},
   "outputs": [
    {
     "name": "stdout",
     "output_type": "stream",
     "text": [
      "P(A|B) = 0.15\n"
     ]
    }
   ],
   "source": [
    "print(f'P(A|B) = {0.3 * 0.1 / 0.2}')"
   ]
  },
  {
   "cell_type": "markdown",
   "metadata": {},
   "source": [
    "## Resumen\n",
    "Es tu turno ¿Qué hemos aprendido hoy?"
   ]
  },
  {
   "cell_type": "markdown",
   "metadata": {},
   "source": [
    " * La probabilidad nos permite modelar experimentos inciertos\n",
    " * La regla de Laplace nos permite calcular la probabilidad cuando conocemos el espacio muestral y todos los eventos son igualmente posibles\n",
    " * La probabilidad de los sucesos compuestos puede calcularse a partir de una serie de multiplicaciones, teniendo en cuenta la dependencia de los sucesos\n",
    " * Factorial\n",
    " * Variaciones / Combinaciones / Permutaciones\n",
    " * Laplace\n",
    " * Probabilidad condicionada\n",
    " * Eventos compuestos (unión-intersección)"
   ]
  },
  {
   "cell_type": "markdown",
   "metadata": {},
   "source": [
    "Las principales técnicas utilizadas para resolver problemas de probabilidad son:\n",
    " * Laplace: favorable / total\n",
    " * Union: $P(A \\cup B)=P(A)+P(B)-P(A \\cap B)$\n",
    " * Intersección/multiplicación: $P(A \\cap B)=P(A) * P(B|A)$"
   ]
  },
  {
   "cell_type": "markdown",
   "metadata": {},
   "source": [
    "## Challenges"
   ]
  },
  {
   "cell_type": "markdown",
   "metadata": {},
   "source": [
    " * Se lanzan 3 monedas: ¿cuál es la probabilidad de que salgan 3 caras? (Multiplicación)\n",
    " * Se lanzan 3 monedas: ¿cuál es la probabilidad de que salgan 2 caras? (Laplace)\n",
    " * Tienes 6 canicas azules, 3 rojas y 5 amarillas en una bolsa. ¿Cuál es la probabilidad de elegir una canica azul en el primer sorteo? (Laplace)\n",
    " * Tienes 6 canicas azules, 3 rojas y 5 amarillas en una bolsa. ¿Cuál es la probabilidad de seleccionar una canica azul o una canica roja en el primer sorteo? (Laplace, Unión)\n",
    " * Tienes 6 canicas azules, 3 canicas rojas y 5 canicas amarillas en una bolsa. Se extraen 2 bolas con reemplazo. ¿Cuál es la probabilidad de que salgan 2 azules? (Multiplicación)\n",
    " * Tienes 6 canicas azules, 3 canicas rojas y 5 canicas amarillas en una bolsa. Sacas 2 bolas sin reemplazo. ¿Cuál es la probabilidad de 2 azules? (Multiplicación)\n",
    " * Tiras 2 dados. ¿Cuál es la probabilidad de que la suma de los números sea 7? ¿Y 8? ¿Y 9? Luego simula 10000 veces y dibuja un histograma."
   ]
  },
  {
   "cell_type": "markdown",
   "metadata": {},
   "source": [
    "## Materiales\n",
    "**Enlaces para profundizar en Bayes y entenderlo mejor**\n",
    "- https://bradanovic.blogspot.com/2013/04/bayesiano-para-dummies-por-dr-chuck.html\n",
    "- https://www.lifeder.com/teorema-de-bayes-explicacion-aplicaciones-para-que-sirve-ejercicios-resueltos/\n",
    "- [Bayes con python](https://programmerclick.com/article/80981456441/)\n",
    "- https://www.salamarkesa.com/teorema-de-bayes/ "
   ]
  }
 ],
 "metadata": {
  "kernelspec": {
   "display_name": "Python 3 (ipykernel)",
   "language": "python",
   "name": "python3"
  },
  "language_info": {
   "codemirror_mode": {
    "name": "ipython",
    "version": 3
   },
   "file_extension": ".py",
   "mimetype": "text/x-python",
   "name": "python",
   "nbconvert_exporter": "python",
   "pygments_lexer": "ipython3",
   "version": "3.9.5"
  },
  "toc": {
   "base_numbering": 1,
   "nav_menu": {},
   "number_sections": true,
   "sideBar": true,
   "skip_h1_title": true,
   "title_cell": "Table of Contents",
   "title_sidebar": "Contents",
   "toc_cell": true,
   "toc_position": {},
   "toc_section_display": true,
   "toc_window_display": false
  },
  "varInspector": {
   "cols": {
    "lenName": 16,
    "lenType": 16,
    "lenVar": 40
   },
   "kernels_config": {
    "python": {
     "delete_cmd_postfix": "",
     "delete_cmd_prefix": "del ",
     "library": "var_list.py",
     "varRefreshCmd": "print(var_dic_list())"
    },
    "r": {
     "delete_cmd_postfix": ") ",
     "delete_cmd_prefix": "rm(",
     "library": "var_list.r",
     "varRefreshCmd": "cat(var_dic_list()) "
    }
   },
   "types_to_exclude": [
    "module",
    "function",
    "builtin_function_or_method",
    "instance",
    "_Feature"
   ],
   "window_display": false
  }
 },
 "nbformat": 4,
 "nbformat_minor": 4
}
