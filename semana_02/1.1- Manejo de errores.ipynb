{
 "cells": [
  {
   "cell_type": "markdown",
   "id": "decent-profit",
   "metadata": {},
   "source": [
    "# Manejo de errores / Error handling"
   ]
  },
  {
   "cell_type": "markdown",
   "id": "passive-electricity",
   "metadata": {},
   "source": [
    "![elgif](https://media.giphy.com/media/WhFfFPCEDXpBe/giphy.gif)"
   ]
  },
  {
   "cell_type": "markdown",
   "id": "positive-length",
   "metadata": {
    "toc": true
   },
   "source": [
    "<h1>Table of Contents<span class=\"tocSkip\"></span></h1>\n",
    "<div class=\"toc\"><ul class=\"toc-item\"><li><span><a href=\"#Introducción\" data-toc-modified-id=\"Introducción-1\"><span class=\"toc-item-num\">1&nbsp;&nbsp;</span>Introducción</a></span></li><li><span><a href=\"#Errores-de-Sintaxis\" data-toc-modified-id=\"Errores-de-Sintaxis-2\"><span class=\"toc-item-num\">2&nbsp;&nbsp;</span>Errores de Sintaxis</a></span></li><li><span><a href=\"#Excepciones\" data-toc-modified-id=\"Excepciones-3\"><span class=\"toc-item-num\">3&nbsp;&nbsp;</span>Excepciones</a></span><ul class=\"toc-item\"><li><span><a href=\"#Lookup-Error\" data-toc-modified-id=\"Lookup-Error-3.1\"><span class=\"toc-item-num\">3.1&nbsp;&nbsp;</span>Lookup Error</a></span></li><li><span><a href=\"#KeyError\" data-toc-modified-id=\"KeyError-3.2\"><span class=\"toc-item-num\">3.2&nbsp;&nbsp;</span>KeyError</a></span></li><li><span><a href=\"#IndexError\" data-toc-modified-id=\"IndexError-3.3\"><span class=\"toc-item-num\">3.3&nbsp;&nbsp;</span>IndexError</a></span></li><li><span><a href=\"#ImportError\" data-toc-modified-id=\"ImportError-3.4\"><span class=\"toc-item-num\">3.4&nbsp;&nbsp;</span>ImportError</a></span></li><li><span><a href=\"#AttributeError\" data-toc-modified-id=\"AttributeError-3.5\"><span class=\"toc-item-num\">3.5&nbsp;&nbsp;</span>AttributeError</a></span></li><li><span><a href=\"#ValueError\" data-toc-modified-id=\"ValueError-3.6\"><span class=\"toc-item-num\">3.6&nbsp;&nbsp;</span>ValueError</a></span></li><li><span><a href=\"#TypeError\" data-toc-modified-id=\"TypeError-3.7\"><span class=\"toc-item-num\">3.7&nbsp;&nbsp;</span>TypeError</a></span></li><li><span><a href=\"#OSError\" data-toc-modified-id=\"OSError-3.8\"><span class=\"toc-item-num\">3.8&nbsp;&nbsp;</span>OSError</a></span></li><li><span><a href=\"#FileNotFoundError\" data-toc-modified-id=\"FileNotFoundError-3.9\"><span class=\"toc-item-num\">3.9&nbsp;&nbsp;</span>FileNotFoundError</a></span></li><li><span><a href=\"#TimeOutError\" data-toc-modified-id=\"TimeOutError-3.10\"><span class=\"toc-item-num\">3.10&nbsp;&nbsp;</span>TimeOutError</a></span></li></ul></li><li><span><a href=\"#Gestión-de-excepciones\" data-toc-modified-id=\"Gestión-de-excepciones-4\"><span class=\"toc-item-num\">4&nbsp;&nbsp;</span>Gestión de excepciones</a></span><ul class=\"toc-item\"><li><span><a href=\"#Lo-que-no-debo-hacer-al-manejar-excepciones\" data-toc-modified-id=\"Lo-que-no-debo-hacer-al-manejar-excepciones-4.1\"><span class=\"toc-item-num\">4.1&nbsp;&nbsp;</span>Lo que no debo hacer al manejar excepciones</a></span></li></ul></li><li><span><a href=\"#Validación-de-datos-con-assert\" data-toc-modified-id=\"Validación-de-datos-con-assert-5\"><span class=\"toc-item-num\">5&nbsp;&nbsp;</span>Validación de datos con <code>assert</code></a></span></li><li><span><a href=\"#Lanzar-errores\" data-toc-modified-id=\"Lanzar-errores-6\"><span class=\"toc-item-num\">6&nbsp;&nbsp;</span>Lanzar errores</a></span></li><li><span><a href=\"#Resumen\" data-toc-modified-id=\"Resumen-7\"><span class=\"toc-item-num\">7&nbsp;&nbsp;</span>Resumen</a></span></li></ul></div>"
   ]
  },
  {
   "cell_type": "markdown",
   "id": "split-timeline",
   "metadata": {},
   "source": [
    "## Introducción"
   ]
  },
  {
   "cell_type": "code",
   "execution_count": 1,
   "id": "communist-mercury",
   "metadata": {},
   "outputs": [
    {
     "ename": "SyntaxError",
     "evalue": "invalid syntax (<ipython-input-1-cfbc6697770e>, line 1)",
     "output_type": "error",
     "traceback": [
      "\u001b[0;36m  File \u001b[0;32m\"<ipython-input-1-cfbc6697770e>\"\u001b[0;36m, line \u001b[0;32m1\u001b[0m\n\u001b[0;31m    while True print (\"Probando errores\")\u001b[0m\n\u001b[0m               ^\u001b[0m\n\u001b[0;31mSyntaxError\u001b[0m\u001b[0;31m:\u001b[0m invalid syntax\n"
     ]
    }
   ],
   "source": [
    "while True print (\"Probando errores\")"
   ]
  },
  {
   "cell_type": "code",
   "execution_count": 2,
   "id": "chinese-friendship",
   "metadata": {},
   "outputs": [
    {
     "ename": "ZeroDivisionError",
     "evalue": "division by zero",
     "output_type": "error",
     "traceback": [
      "\u001b[0;31m---------------------------------------------------------------------------\u001b[0m",
      "\u001b[0;31mZeroDivisionError\u001b[0m                         Traceback (most recent call last)",
      "\u001b[0;32m<ipython-input-2-c60b83d7665c>\u001b[0m in \u001b[0;36m<module>\u001b[0;34m\u001b[0m\n\u001b[0;32m----> 1\u001b[0;31m \u001b[0;36m15\u001b[0m \u001b[0;34m*\u001b[0m \u001b[0;34m(\u001b[0m\u001b[0;36m3\u001b[0m\u001b[0;34m/\u001b[0m\u001b[0;36m0\u001b[0m\u001b[0;34m)\u001b[0m\u001b[0;34m\u001b[0m\u001b[0;34m\u001b[0m\u001b[0m\n\u001b[0m",
      "\u001b[0;31mZeroDivisionError\u001b[0m: division by zero"
     ]
    }
   ],
   "source": [
    "15 * (3/0)"
   ]
  },
  {
   "cell_type": "markdown",
   "id": "therapeutic-pharmacology",
   "metadata": {},
   "source": [
    "Esto de aquí arriba 👆🏻son ejemplos de instrucciones inválidas que dan lugar a distintos tipos de errores en Python.   \n",
    "El primero de ellos es un error de sintaxis, faltan los dos puntos después de True; mitnras que el segundo es un error en tiempo de ejecución debido a una división por cero. Los errores de sintaxis y los errores en tiempo de ejecución se abordan de forma distinta en este lenguaje de programación y es fundamental prevenirlos y tratarlos al escribir cualquier programa.\n",
    "Desde los inicios de los lenguajes de programación, la gestión de errores ha sido uno de los asuntos más difíciles. Es tan complicado diseñar un buen esquema de gestión de errores que muchos lenguajes simplemente lo ignoran."
   ]
  },
  {
   "cell_type": "markdown",
   "id": "crazy-browse",
   "metadata": {},
   "source": [
    "## Errores de Sintaxis\n",
    "Este tipo de errores, conocidos también como errores sintácticos o del intérprete de Python, son comunes cuando nos iniciamos con un lenguaje de programación, y más aún si hemos programado previamente en otros lenguajes. Se deben al desconocimiento u olvido de las reglas léxicas que establece Python, y que el intérprete detectará antes de lanzar la ejecución del programa. Se trata, por lo tanto, de expresiones mal formadas. Los lenguajes compilados como C realizan un análisis del código para producir un archivo ejecutable, lo que permite detectareste tipo de errores antes de ejecutar el programa. En el caso de los lenguajes interpretados, como es el caso de Python, al no existir dicha fase previa, no tenemos la oportunidad de detectar esos errores. El intérprete acepta nuestro código con la incertidumbre de su corrección, aunque será consciente de ello nada más leer el programa, es decir, al lanzarlo y antes de ejecutar cada una de las instrucciones.      \n",
    "El intérprete de Python procesa línea a línea cada instrucción, y si detecta algún error de sintaxis parará su proceso, mostrando una pequeña flecha en el lugar donde el error haya sido detectado. Por ejemplo, en el ejemplo anterior:"
   ]
  },
  {
   "cell_type": "code",
   "execution_count": 3,
   "id": "moving-village",
   "metadata": {},
   "outputs": [
    {
     "ename": "SyntaxError",
     "evalue": "invalid syntax (<ipython-input-3-cfbc6697770e>, line 1)",
     "output_type": "error",
     "traceback": [
      "\u001b[0;36m  File \u001b[0;32m\"<ipython-input-3-cfbc6697770e>\"\u001b[0;36m, line \u001b[0;32m1\u001b[0m\n\u001b[0;31m    while True print (\"Probando errores\")\u001b[0m\n\u001b[0m               ^\u001b[0m\n\u001b[0;31mSyntaxError\u001b[0m\u001b[0;31m:\u001b[0m invalid syntax\n"
     ]
    }
   ],
   "source": [
    "while True print (\"Probando errores\")"
   ]
  },
  {
   "cell_type": "markdown",
   "id": "underlying-coverage",
   "metadata": {},
   "source": [
    "Es de gran ayuda que nos indique el lugar donde ha detectado el error y que, además, nos facilite información sobre el mismo. En este caso está indicando que la sintaxsis desde el print no es correcta, para que nos demos cuenta de que estamos cometiendo un error al no poner los dos puntos detrás del True.\n",
    "En un mensaje de error de sintaxis distinguimos dos partes: \n",
    "- La ruta del error: En el ejemplo anterior, todas las líneas menos la última.\n",
    "- La descripción del error: en el ejemplo anterior, la última línea.         \n",
    "\n",
    "Los errores de sintaxis normalmente son fáciles de corregir, pero en ocasiones un error que se desencadena en un punto puede venir de otro punto y esa ruta de error (o traceback) va en orden descendente desde el punto en el cual el error se desencadenó, pasando por varios puntos intermedios (Si los hay) hasta el punto donde el error ocurrió. En la práctica, esto quiere decir que si en la línea donde se indica el error no encontramos nada, tendremos que revisar las instrucciones anteriores hasta encontrarlo."
   ]
  },
  {
   "cell_type": "markdown",
   "id": "public-variance",
   "metadata": {},
   "source": [
    "## Excepciones\n",
    "Una excepción es un error lógico que se produce en tiempo de ejecución. En este caso, la sintaxsis de las instrucciones es correcta y, por este motivo, el intérprete de Python no parará ni mostrará error alguno al lanzar el programa, pero en el momento de ejecutarse se detendrá y mostrará un error, esto es lo que se denomina \"error en tiempo de ejecución\".    \n",
    "Las excepciones van asociadas a distintos tipos, y ese mismo tipo es el que se muestra en el mensaje de error. Además de esta información, también se muestran detalles que indican la causa del error. Todo esto te permitirá disponer de información suficiente para encontrar el fallo y solucionarlo o gestionarlo.    \n",
    "Algunos ejemplos de excepciones son los siguientes:\n",
    "- ZeroDivisionError: division by zero\n",
    "- NameError: name 'dflhjka' is not defined\n",
    "- TypeError: can only concatenate str (not \"int\") to str\n",
    "\n",
    "Python tiene una serie de excepciones predefinidas, divididas en excepciones base y exceptiones específicas. Las excepciones base son más genéricas y agrupan los distintos tipos más específicos, lo que te permitirá realizar un tratamiento más general en tus programas. Por el contrario, las excepciones específicas ofrecen mayor detalle del error producido.    \n",
    "\n",
    "🚨⚠️Documentación [A Q U Í](https://docs.python.org/3/library/exceptions.html)⚠️🚨       \n",
    "\n",
    "Veamos algunas:     "
   ]
  },
  {
   "cell_type": "markdown",
   "id": "floppy-wrestling",
   "metadata": {},
   "source": [
    "### Lookup Error\n",
    "Es la clase base para las excepciones que se plantean cuando una clave o índice utilizado en una asignación o secuencia no es válido: IndexError, KeyError.    \n",
    "### KeyError     \n",
    "Se lanza cuando una clave de mapeo (diccionario) no se encuentra en el conjunto de claves existentes."
   ]
  },
  {
   "cell_type": "code",
   "execution_count": 4,
   "id": "immune-panic",
   "metadata": {},
   "outputs": [],
   "source": [
    "diccio = {\"nombre\": \"Pepe\", \"edad\": 33}"
   ]
  },
  {
   "cell_type": "code",
   "execution_count": 5,
   "id": "found-superior",
   "metadata": {},
   "outputs": [
    {
     "data": {
      "text/plain": [
       "dict_keys(['nombre', 'edad'])"
      ]
     },
     "execution_count": 5,
     "metadata": {},
     "output_type": "execute_result"
    }
   ],
   "source": [
    "diccio.keys()"
   ]
  },
  {
   "cell_type": "code",
   "execution_count": 6,
   "id": "better-retirement",
   "metadata": {},
   "outputs": [
    {
     "data": {
      "text/plain": [
       "'Pepe'"
      ]
     },
     "execution_count": 6,
     "metadata": {},
     "output_type": "execute_result"
    }
   ],
   "source": [
    "diccio[\"nombre\"]"
   ]
  },
  {
   "cell_type": "code",
   "execution_count": 7,
   "id": "twelve-negotiation",
   "metadata": {},
   "outputs": [
    {
     "ename": "KeyError",
     "evalue": "'noexiste'",
     "output_type": "error",
     "traceback": [
      "\u001b[0;31m---------------------------------------------------------------------------\u001b[0m",
      "\u001b[0;31mKeyError\u001b[0m                                  Traceback (most recent call last)",
      "\u001b[0;32m<ipython-input-7-cdf06f46c266>\u001b[0m in \u001b[0;36m<module>\u001b[0;34m\u001b[0m\n\u001b[0;32m----> 1\u001b[0;31m \u001b[0mdiccio\u001b[0m\u001b[0;34m[\u001b[0m\u001b[0;34m\"noexiste\"\u001b[0m\u001b[0;34m]\u001b[0m\u001b[0;34m\u001b[0m\u001b[0;34m\u001b[0m\u001b[0m\n\u001b[0m",
      "\u001b[0;31mKeyError\u001b[0m: 'noexiste'"
     ]
    }
   ],
   "source": [
    "diccio[\"noexiste\"]"
   ]
  },
  {
   "cell_type": "markdown",
   "id": "specialized-humanity",
   "metadata": {},
   "source": [
    "### IndexError \n",
    "Se lanza cuando un subíndice de la secuencia está fuera del rango."
   ]
  },
  {
   "cell_type": "code",
   "execution_count": 8,
   "id": "scientific-strengthening",
   "metadata": {},
   "outputs": [],
   "source": [
    "nums = [1,2,3,4,5]"
   ]
  },
  {
   "cell_type": "code",
   "execution_count": 9,
   "id": "passive-maine",
   "metadata": {},
   "outputs": [
    {
     "ename": "IndexError",
     "evalue": "list index out of range",
     "output_type": "error",
     "traceback": [
      "\u001b[0;31m---------------------------------------------------------------------------\u001b[0m",
      "\u001b[0;31mIndexError\u001b[0m                                Traceback (most recent call last)",
      "\u001b[0;32m<ipython-input-9-3d78988ea864>\u001b[0m in \u001b[0;36m<module>\u001b[0;34m\u001b[0m\n\u001b[0;32m----> 1\u001b[0;31m \u001b[0mnums\u001b[0m\u001b[0;34m[\u001b[0m\u001b[0;36m10\u001b[0m\u001b[0;34m]\u001b[0m\u001b[0;34m\u001b[0m\u001b[0;34m\u001b[0m\u001b[0m\n\u001b[0m",
      "\u001b[0;31mIndexError\u001b[0m: list index out of range"
     ]
    }
   ],
   "source": [
    "nums[10]"
   ]
  },
  {
   "cell_type": "code",
   "execution_count": 14,
   "id": "persistent-maintenance",
   "metadata": {},
   "outputs": [
    {
     "name": "stdout",
     "output_type": "stream",
     "text": [
      "[3]\n",
      "[3, 6]\n",
      "[3, 6, 9]\n",
      "[3, 6, 9, 12]\n",
      "[3, 6, 9, 12, 15]\n"
     ]
    },
    {
     "ename": "IndexError",
     "evalue": "list index out of range",
     "output_type": "error",
     "traceback": [
      "\u001b[0;31m---------------------------------------------------------------------------\u001b[0m",
      "\u001b[0;31mIndexError\u001b[0m                                Traceback (most recent call last)",
      "\u001b[0;32m<ipython-input-14-f8aa05aedc44>\u001b[0m in \u001b[0;36m<module>\u001b[0;34m\u001b[0m\n\u001b[1;32m      1\u001b[0m \u001b[0mguardo_nueva\u001b[0m \u001b[0;34m=\u001b[0m \u001b[0;34m[\u001b[0m\u001b[0;34m]\u001b[0m\u001b[0;34m\u001b[0m\u001b[0;34m\u001b[0m\u001b[0m\n\u001b[1;32m      2\u001b[0m \u001b[0;32mfor\u001b[0m \u001b[0ma\u001b[0m \u001b[0;32min\u001b[0m \u001b[0mrange\u001b[0m\u001b[0;34m(\u001b[0m\u001b[0;36m8\u001b[0m\u001b[0;34m)\u001b[0m\u001b[0;34m:\u001b[0m\u001b[0;34m\u001b[0m\u001b[0;34m\u001b[0m\u001b[0m\n\u001b[0;32m----> 3\u001b[0;31m     \u001b[0mguardo_nueva\u001b[0m\u001b[0;34m.\u001b[0m\u001b[0mappend\u001b[0m\u001b[0;34m(\u001b[0m\u001b[0mnums\u001b[0m\u001b[0;34m[\u001b[0m\u001b[0ma\u001b[0m\u001b[0;34m]\u001b[0m \u001b[0;34m*\u001b[0m \u001b[0;36m3\u001b[0m\u001b[0;34m)\u001b[0m\u001b[0;34m\u001b[0m\u001b[0;34m\u001b[0m\u001b[0m\n\u001b[0m\u001b[1;32m      4\u001b[0m     \u001b[0mprint\u001b[0m\u001b[0;34m(\u001b[0m\u001b[0mguardo_nueva\u001b[0m\u001b[0;34m)\u001b[0m\u001b[0;34m\u001b[0m\u001b[0;34m\u001b[0m\u001b[0m\n\u001b[1;32m      5\u001b[0m \u001b[0mprint\u001b[0m\u001b[0;34m(\u001b[0m\u001b[0mguardo_nueva\u001b[0m\u001b[0;34m)\u001b[0m\u001b[0;34m\u001b[0m\u001b[0;34m\u001b[0m\u001b[0m\n",
      "\u001b[0;31mIndexError\u001b[0m: list index out of range"
     ]
    }
   ],
   "source": [
    "guardo_nueva = []\n",
    "for a in range(8):\n",
    "    guardo_nueva.append(nums[a] * 3)\n",
    "    print(guardo_nueva)\n",
    "print(guardo_nueva)"
   ]
  },
  {
   "cell_type": "code",
   "execution_count": 20,
   "id": "royal-north",
   "metadata": {},
   "outputs": [
    {
     "name": "stdout",
     "output_type": "stream",
     "text": [
      "1\n",
      "[3.3]\n",
      "2\n",
      "[3.3, 6.6]\n",
      "3\n",
      "[3.3, 6.6, 9.899999999999999]\n",
      "4\n",
      "[3.3, 6.6, 9.899999999999999, 13.2]\n"
     ]
    },
    {
     "ename": "TypeError",
     "evalue": "can't multiply sequence by non-int of type 'float'",
     "output_type": "error",
     "traceback": [
      "\u001b[0;31m---------------------------------------------------------------------------\u001b[0m",
      "\u001b[0;31mTypeError\u001b[0m                                 Traceback (most recent call last)",
      "\u001b[0;32m<ipython-input-20-91645c16c75c>\u001b[0m in \u001b[0;36m<module>\u001b[0;34m\u001b[0m\n\u001b[1;32m      2\u001b[0m \u001b[0motra\u001b[0m \u001b[0;34m=\u001b[0m \u001b[0;34m[\u001b[0m\u001b[0;34m]\u001b[0m\u001b[0;34m\u001b[0m\u001b[0;34m\u001b[0m\u001b[0m\n\u001b[1;32m      3\u001b[0m \u001b[0;32mfor\u001b[0m \u001b[0ma\u001b[0m \u001b[0;32min\u001b[0m \u001b[0mrange\u001b[0m\u001b[0;34m(\u001b[0m\u001b[0;36m8\u001b[0m\u001b[0;34m)\u001b[0m\u001b[0;34m:\u001b[0m\u001b[0;34m\u001b[0m\u001b[0;34m\u001b[0m\u001b[0m\n\u001b[0;32m----> 4\u001b[0;31m     \u001b[0motra\u001b[0m\u001b[0;34m.\u001b[0m\u001b[0mappend\u001b[0m\u001b[0;34m(\u001b[0m\u001b[0mnums_2\u001b[0m\u001b[0;34m[\u001b[0m\u001b[0ma\u001b[0m\u001b[0;34m]\u001b[0m \u001b[0;34m*\u001b[0m \u001b[0;36m3.3\u001b[0m\u001b[0;34m)\u001b[0m\u001b[0;34m\u001b[0m\u001b[0;34m\u001b[0m\u001b[0m\n\u001b[0m\u001b[1;32m      5\u001b[0m     \u001b[0mprint\u001b[0m\u001b[0;34m(\u001b[0m\u001b[0mnums_2\u001b[0m\u001b[0;34m[\u001b[0m\u001b[0ma\u001b[0m\u001b[0;34m]\u001b[0m\u001b[0;34m)\u001b[0m\u001b[0;34m\u001b[0m\u001b[0;34m\u001b[0m\u001b[0m\n\u001b[1;32m      6\u001b[0m     \u001b[0mprint\u001b[0m\u001b[0;34m(\u001b[0m\u001b[0motra\u001b[0m\u001b[0;34m)\u001b[0m\u001b[0;34m\u001b[0m\u001b[0;34m\u001b[0m\u001b[0m\n",
      "\u001b[0;31mTypeError\u001b[0m: can't multiply sequence by non-int of type 'float'"
     ]
    }
   ],
   "source": [
    "nums_2 = [1,2,3,4,\"hola\",5]\n",
    "otra = []\n",
    "for a in range(8):\n",
    "    otra.append(nums_2[a] * 3.3)\n",
    "    print(nums_2[a])\n",
    "    print(otra)\n",
    "print(otra)"
   ]
  },
  {
   "cell_type": "code",
   "execution_count": 12,
   "id": "happy-uruguay",
   "metadata": {},
   "outputs": [
    {
     "data": {
      "text/plain": [
       "[3, 6, 9, 12, 15]"
      ]
     },
     "execution_count": 12,
     "metadata": {},
     "output_type": "execute_result"
    }
   ],
   "source": [
    "guardo_nueva"
   ]
  },
  {
   "cell_type": "markdown",
   "id": "medieval-possibility",
   "metadata": {},
   "source": [
    "### ImportError\n",
    "Tiene lugar cuando hay problemas al cargar un módulo o cuando no se encuentra. es la clase base de la excepción ModuleNotFoundError"
   ]
  },
  {
   "cell_type": "code",
   "execution_count": 21,
   "id": "dominant-generation",
   "metadata": {},
   "outputs": [
    {
     "ename": "ModuleNotFoundError",
     "evalue": "No module named 'mat'",
     "output_type": "error",
     "traceback": [
      "\u001b[0;31m---------------------------------------------------------------------------\u001b[0m",
      "\u001b[0;31mModuleNotFoundError\u001b[0m                       Traceback (most recent call last)",
      "\u001b[0;32m<ipython-input-21-ec12953e5dcd>\u001b[0m in \u001b[0;36m<module>\u001b[0;34m\u001b[0m\n\u001b[0;32m----> 1\u001b[0;31m \u001b[0;32mimport\u001b[0m \u001b[0mmat\u001b[0m\u001b[0;34m\u001b[0m\u001b[0;34m\u001b[0m\u001b[0m\n\u001b[0m",
      "\u001b[0;31mModuleNotFoundError\u001b[0m: No module named 'mat'"
     ]
    }
   ],
   "source": [
    "import mat"
   ]
  },
  {
   "cell_type": "markdown",
   "id": "fitting-denver",
   "metadata": {},
   "source": [
    "### AttributeError     \n",
    "Se lanza cuando falla una referencia a un atributo o una asignación."
   ]
  },
  {
   "cell_type": "code",
   "execution_count": 22,
   "id": "angry-blackberry",
   "metadata": {},
   "outputs": [],
   "source": [
    "num = 4"
   ]
  },
  {
   "cell_type": "code",
   "execution_count": 23,
   "id": "little-salmon",
   "metadata": {},
   "outputs": [
    {
     "ename": "AttributeError",
     "evalue": "'int' object has no attribute 'upper'",
     "output_type": "error",
     "traceback": [
      "\u001b[0;31m---------------------------------------------------------------------------\u001b[0m",
      "\u001b[0;31mAttributeError\u001b[0m                            Traceback (most recent call last)",
      "\u001b[0;32m<ipython-input-23-406939afc4cd>\u001b[0m in \u001b[0;36m<module>\u001b[0;34m\u001b[0m\n\u001b[0;32m----> 1\u001b[0;31m \u001b[0mnum\u001b[0m\u001b[0;34m.\u001b[0m\u001b[0mupper\u001b[0m\u001b[0;34m(\u001b[0m\u001b[0;34m)\u001b[0m\u001b[0;34m\u001b[0m\u001b[0;34m\u001b[0m\u001b[0m\n\u001b[0m",
      "\u001b[0;31mAttributeError\u001b[0m: 'int' object has no attribute 'upper'"
     ]
    }
   ],
   "source": [
    "num.upper()"
   ]
  },
  {
   "cell_type": "markdown",
   "id": "entertaining-archive",
   "metadata": {},
   "source": [
    "### ValueError    \n",
    "Se lanza cuando una función recibe un argumento de un tipo correcto, pero con un valor incorrecto.    \n",
    "Pasar argumentos de un tipo incorrecto (por ejemplo, pasar una lista cuando se espera un int) debería resultar en un TypeError, pero pasar argumentos con un valor incorrecto (por ejemplo, un número fuera de los límites esperados) debería resultar en un ValueError."
   ]
  },
  {
   "cell_type": "code",
   "execution_count": 24,
   "id": "virtual-delta",
   "metadata": {},
   "outputs": [
    {
     "ename": "ValueError",
     "evalue": "list.remove(x): x not in list",
     "output_type": "error",
     "traceback": [
      "\u001b[0;31m---------------------------------------------------------------------------\u001b[0m",
      "\u001b[0;31mValueError\u001b[0m                                Traceback (most recent call last)",
      "\u001b[0;32m<ipython-input-24-739a93de5904>\u001b[0m in \u001b[0;36m<module>\u001b[0;34m\u001b[0m\n\u001b[1;32m      1\u001b[0m \u001b[0mvariable\u001b[0m \u001b[0;34m=\u001b[0m \u001b[0;36m6\u001b[0m\u001b[0;34m\u001b[0m\u001b[0;34m\u001b[0m\u001b[0m\n\u001b[1;32m      2\u001b[0m \u001b[0mlista\u001b[0m \u001b[0;34m=\u001b[0m \u001b[0;34m[\u001b[0m\u001b[0;36m1\u001b[0m\u001b[0;34m,\u001b[0m\u001b[0;36m3\u001b[0m\u001b[0;34m]\u001b[0m\u001b[0;34m\u001b[0m\u001b[0;34m\u001b[0m\u001b[0m\n\u001b[0;32m----> 3\u001b[0;31m \u001b[0mlista\u001b[0m\u001b[0;34m.\u001b[0m\u001b[0mremove\u001b[0m\u001b[0;34m(\u001b[0m\u001b[0mvariable\u001b[0m\u001b[0;34m)\u001b[0m\u001b[0;34m\u001b[0m\u001b[0;34m\u001b[0m\u001b[0m\n\u001b[0m",
      "\u001b[0;31mValueError\u001b[0m: list.remove(x): x not in list"
     ]
    }
   ],
   "source": [
    "variable = 6\n",
    "lista = [1,3]\n",
    "lista.remove(variable)"
   ]
  },
  {
   "cell_type": "code",
   "execution_count": 25,
   "id": "hybrid-romantic",
   "metadata": {},
   "outputs": [
    {
     "ename": "IndexError",
     "evalue": "pop index out of range",
     "output_type": "error",
     "traceback": [
      "\u001b[0;31m---------------------------------------------------------------------------\u001b[0m",
      "\u001b[0;31mIndexError\u001b[0m                                Traceback (most recent call last)",
      "\u001b[0;32m<ipython-input-25-f6eecb840717>\u001b[0m in \u001b[0;36m<module>\u001b[0;34m\u001b[0m\n\u001b[0;32m----> 1\u001b[0;31m \u001b[0mlista\u001b[0m\u001b[0;34m.\u001b[0m\u001b[0mpop\u001b[0m\u001b[0;34m(\u001b[0m\u001b[0;36m5\u001b[0m\u001b[0;34m)\u001b[0m\u001b[0;34m\u001b[0m\u001b[0;34m\u001b[0m\u001b[0m\n\u001b[0m",
      "\u001b[0;31mIndexError\u001b[0m: pop index out of range"
     ]
    }
   ],
   "source": [
    "lista.pop(5) # Pop me permite borrar el elemento por índice, por eso lanza IndexError"
   ]
  },
  {
   "cell_type": "code",
   "execution_count": 26,
   "id": "dependent-austria",
   "metadata": {},
   "outputs": [
    {
     "ename": "ValueError",
     "evalue": "invalid literal for int() with base 10: 'casa'",
     "output_type": "error",
     "traceback": [
      "\u001b[0;31m---------------------------------------------------------------------------\u001b[0m",
      "\u001b[0;31mValueError\u001b[0m                                Traceback (most recent call last)",
      "\u001b[0;32m<ipython-input-26-e12ce865b114>\u001b[0m in \u001b[0;36m<module>\u001b[0;34m\u001b[0m\n\u001b[0;32m----> 1\u001b[0;31m \u001b[0mprint\u001b[0m\u001b[0;34m(\u001b[0m\u001b[0mint\u001b[0m\u001b[0;34m(\u001b[0m\u001b[0;34m\"casa\"\u001b[0m\u001b[0;34m)\u001b[0m\u001b[0;34m)\u001b[0m\u001b[0;34m\u001b[0m\u001b[0;34m\u001b[0m\u001b[0m\n\u001b[0m",
      "\u001b[0;31mValueError\u001b[0m: invalid literal for int() with base 10: 'casa'"
     ]
    }
   ],
   "source": [
    "print(int(\"casa\"))"
   ]
  },
  {
   "cell_type": "markdown",
   "id": "indie-function",
   "metadata": {},
   "source": [
    "### TypeError\n",
    "Se produce cuando una operación o función se aplica a un objeto de tipo inapropiado. El valor asociado es una cadena que da detalles sobre el desajuste de tipo.\n"
   ]
  },
  {
   "cell_type": "code",
   "execution_count": 27,
   "id": "pleased-sword",
   "metadata": {},
   "outputs": [
    {
     "ename": "TypeError",
     "evalue": "can't multiply sequence by non-int of type 'float'",
     "output_type": "error",
     "traceback": [
      "\u001b[0;31m---------------------------------------------------------------------------\u001b[0m",
      "\u001b[0;31mTypeError\u001b[0m                                 Traceback (most recent call last)",
      "\u001b[0;32m<ipython-input-27-9450d75b5de3>\u001b[0m in \u001b[0;36m<module>\u001b[0;34m\u001b[0m\n\u001b[0;32m----> 1\u001b[0;31m \u001b[0;34m\"hola\"\u001b[0m \u001b[0;34m*\u001b[0m \u001b[0;36m6.4\u001b[0m\u001b[0;34m\u001b[0m\u001b[0;34m\u001b[0m\u001b[0m\n\u001b[0m",
      "\u001b[0;31mTypeError\u001b[0m: can't multiply sequence by non-int of type 'float'"
     ]
    }
   ],
   "source": [
    "\"hola\" * 6.4"
   ]
  },
  {
   "cell_type": "markdown",
   "id": "spectacular-advance",
   "metadata": {},
   "source": [
    "### OSError\n",
    "Ocurre cuando se produce un error relacionado con el sistema, como fallos en una operación de entrada/salida, archivos no encontrados, etc. Es la clase base y las excepciones que más veremos son:\n",
    "### FileNotFoundError\n",
    "Archivo o directorio no existente"
   ]
  },
  {
   "cell_type": "code",
   "execution_count": 28,
   "id": "backed-toddler",
   "metadata": {},
   "outputs": [
    {
     "ename": "FileNotFoundError",
     "evalue": "[Errno 2] No such file or directory: 'loquesea.txt'",
     "output_type": "error",
     "traceback": [
      "\u001b[0;31m---------------------------------------------------------------------------\u001b[0m",
      "\u001b[0;31mFileNotFoundError\u001b[0m                         Traceback (most recent call last)",
      "\u001b[0;32m<ipython-input-28-04e6dc36cebf>\u001b[0m in \u001b[0;36m<module>\u001b[0;34m\u001b[0m\n\u001b[0;32m----> 1\u001b[0;31m \u001b[0marchivo\u001b[0m \u001b[0;34m=\u001b[0m \u001b[0mopen\u001b[0m\u001b[0;34m(\u001b[0m\u001b[0;34m\"loquesea.txt\"\u001b[0m\u001b[0;34m)\u001b[0m\u001b[0;34m\u001b[0m\u001b[0;34m\u001b[0m\u001b[0m\n\u001b[0m",
      "\u001b[0;31mFileNotFoundError\u001b[0m: [Errno 2] No such file or directory: 'loquesea.txt'"
     ]
    }
   ],
   "source": [
    "archivo = open(\"loquesea.txt\")"
   ]
  },
  {
   "cell_type": "code",
   "execution_count": 52,
   "id": "drawn-virgin",
   "metadata": {},
   "outputs": [
    {
     "name": "stdout",
     "output_type": "stream",
     "text": [
      "<_io.TextIOWrapper name='../loqusea.txt' mode='r' encoding='UTF-8'>\n"
     ]
    }
   ],
   "source": [
    "archivo_bien = open(\"../loqusea.txt\")\n",
    "print(archivo_bien)"
   ]
  },
  {
   "cell_type": "code",
   "execution_count": 50,
   "id": "right-librarian",
   "metadata": {},
   "outputs": [
    {
     "name": "stdout",
     "output_type": "stream",
     "text": [
      "Hola \n"
     ]
    }
   ],
   "source": [
    "archivo_bien = open(\"../loqusea.txt\")\n",
    "mensaje = archivo_bien.read()\n",
    "print(mensaje)"
   ]
  },
  {
   "cell_type": "code",
   "execution_count": 51,
   "id": "removed-associate",
   "metadata": {},
   "outputs": [],
   "source": [
    "archivo_bien2 = open(\"../semana_02/otroarchivo.txt\", \"w\")\n",
    "archivo_bien2.write(\"hola\")\n",
    "archivo_bien2.close()"
   ]
  },
  {
   "cell_type": "code",
   "execution_count": 46,
   "id": "selected-parent",
   "metadata": {},
   "outputs": [
    {
     "data": {
      "text/plain": [
       "10"
      ]
     },
     "execution_count": 46,
     "metadata": {},
     "output_type": "execute_result"
    }
   ],
   "source": [
    "archivo_bien2.write(\"Hola MUNDO\")"
   ]
  },
  {
   "cell_type": "code",
   "execution_count": 47,
   "id": "professional-wichita",
   "metadata": {},
   "outputs": [],
   "source": [
    "archivo_bien.close()"
   ]
  },
  {
   "cell_type": "code",
   "execution_count": 41,
   "id": "robust-circus",
   "metadata": {},
   "outputs": [
    {
     "name": "stdout",
     "output_type": "stream",
     "text": [
      "<_io.TextIOWrapper name='../semana_02/otroarchivo.txt' mode='r' encoding='UTF-8'>\n"
     ]
    }
   ],
   "source": [
    "print(archivo_bien2)"
   ]
  },
  {
   "cell_type": "code",
   "execution_count": 33,
   "id": "polish-underground",
   "metadata": {},
   "outputs": [
    {
     "name": "stdout",
     "output_type": "stream",
     "text": [
      "\u001b[1m\u001b[36m.\u001b[m\u001b[m                              1.1- Manejo de errores.ipynb\r\n",
      "\u001b[1m\u001b[36m..\u001b[m\u001b[m                             1.2 -Map, Filter, Reduce.ipynb\r\n",
      "\u001b[1m\u001b[36m.ipynb_checkpoints\u001b[m\u001b[m             Mini_Repaso.ipynb\r\n"
     ]
    }
   ],
   "source": [
    "!ls -a"
   ]
  },
  {
   "cell_type": "code",
   "execution_count": 31,
   "id": "attached-cabinet",
   "metadata": {},
   "outputs": [
    {
     "name": "stdout",
     "output_type": "stream",
     "text": [
      "/Users/ras/Desktop/octubre2021/apuntes_clase/semana_02\r\n"
     ]
    }
   ],
   "source": [
    "!pwd"
   ]
  },
  {
   "cell_type": "code",
   "execution_count": 32,
   "id": "anticipated-translation",
   "metadata": {},
   "outputs": [
    {
     "name": "stdout",
     "output_type": "stream",
     "text": [
      "Requirement already satisfied: pandas in /usr/local/Caskroom/miniconda/base/lib/python3.8/site-packages (1.2.3)\r\n",
      "Requirement already satisfied: numpy>=1.16.5 in /usr/local/Caskroom/miniconda/base/lib/python3.8/site-packages (from pandas) (1.20.1)\r\n",
      "Requirement already satisfied: pytz>=2017.3 in /usr/local/Caskroom/miniconda/base/lib/python3.8/site-packages (from pandas) (2021.1)\r\n",
      "Requirement already satisfied: python-dateutil>=2.7.3 in /usr/local/Caskroom/miniconda/base/lib/python3.8/site-packages (from pandas) (2.8.1)\r\n",
      "Requirement already satisfied: six>=1.5 in /usr/local/Caskroom/miniconda/base/lib/python3.8/site-packages (from python-dateutil>=2.7.3->pandas) (1.15.0)\r\n"
     ]
    }
   ],
   "source": [
    "!pip install pandas"
   ]
  },
  {
   "cell_type": "markdown",
   "id": "acceptable-hierarchy",
   "metadata": {},
   "source": [
    "### TimeOutError\n",
    "Se produce cuando el tiempo de espera es excedido (lo veremos en Katas y en llamadas a APIs, no lo gestionaremos como tal)"
   ]
  },
  {
   "cell_type": "markdown",
   "id": "consecutive-division",
   "metadata": {},
   "source": [
    "## Gestión de excepciones\n",
    "La gestión o manejo de excepciones es una técnica de programación para controlar los errores producidos durante la ejecución de una aplicación. Se controlan de una forma parecida a una sentencia condicional. Si no se produce una excepción (General o específica), que sería el caso normal, la aplicación continua con las siguientes instrucciones y, si se produce una, se ejecutarán las instrucciones indicadas por el desarrollador para su tratamiento, lo que pueden continuar la aplicación o detenerla, dependiendo de casso. La gestión de excepciones en Python comienza con una estructura de palabras reservadas, de la siguiente forma:\n",
    "```python\n",
    "try:\n",
    "    instrucciones\n",
    "except:\n",
    "    instrucciones si ocurre esa excepción\n",
    "```"
   ]
  },
  {
   "cell_type": "markdown",
   "id": "civilian-trial",
   "metadata": {},
   "source": [
    "En esta gestión de excepciones el tipo de la excepción puede ser genérico o específico. Lo mejor para controlar y gestionar lo ocurrido es hacerlo de la manera más específica posible, escribiendo varias cláusulas except para el mismo try, de modo que cada una gestione un tipo distinto de excepción. Esto es recomendable porque así haremos una gestión más precisa de los casos de error detectados.\n",
    "```python\n",
    "try: \n",
    "    instruciones\n",
    "    except tipo de la excepción 1:\n",
    "        instrucciones si ocurre esa excepción 1\n",
    "    except tipo de la excepción 2:\n",
    "        instrucciones si ocurre esa excepción\n",
    "```"
   ]
  },
  {
   "cell_type": "code",
   "execution_count": 98,
   "id": "cross-border",
   "metadata": {},
   "outputs": [],
   "source": [
    "lista = [1,2,3,4, \"hola\", 5,6,7]"
   ]
  },
  {
   "cell_type": "code",
   "execution_count": 99,
   "id": "ahead-hobby",
   "metadata": {},
   "outputs": [
    {
     "data": {
      "text/plain": [
       "8"
      ]
     },
     "execution_count": 99,
     "metadata": {},
     "output_type": "execute_result"
    }
   ],
   "source": [
    "len(lista)"
   ]
  },
  {
   "cell_type": "code",
   "execution_count": 100,
   "id": "documentary-offset",
   "metadata": {},
   "outputs": [
    {
     "name": "stdout",
     "output_type": "stream",
     "text": [
      "6.3\n",
      "12.6\n",
      "18.9\n",
      "25.2\n"
     ]
    },
    {
     "ename": "TypeError",
     "evalue": "can't multiply sequence by non-int of type 'float'",
     "output_type": "error",
     "traceback": [
      "\u001b[0;31m---------------------------------------------------------------------------\u001b[0m",
      "\u001b[0;31mTypeError\u001b[0m                                 Traceback (most recent call last)",
      "\u001b[0;32m<ipython-input-100-c1f00e8cfc2f>\u001b[0m in \u001b[0;36m<module>\u001b[0;34m\u001b[0m\n\u001b[1;32m      1\u001b[0m \u001b[0;32mfor\u001b[0m \u001b[0mnum\u001b[0m \u001b[0;32min\u001b[0m \u001b[0mlista\u001b[0m\u001b[0;34m:\u001b[0m\u001b[0;34m\u001b[0m\u001b[0;34m\u001b[0m\u001b[0m\n\u001b[0;32m----> 2\u001b[0;31m     \u001b[0mprint\u001b[0m\u001b[0;34m(\u001b[0m\u001b[0mnum\u001b[0m \u001b[0;34m*\u001b[0m \u001b[0;36m6.3\u001b[0m\u001b[0;34m)\u001b[0m\u001b[0;34m\u001b[0m\u001b[0;34m\u001b[0m\u001b[0m\n\u001b[0m",
      "\u001b[0;31mTypeError\u001b[0m: can't multiply sequence by non-int of type 'float'"
     ]
    }
   ],
   "source": [
    "for num in lista:\n",
    "    print(num * 6.3)"
   ]
  },
  {
   "cell_type": "code",
   "execution_count": 64,
   "id": "tamil-phoenix",
   "metadata": {},
   "outputs": [
    {
     "name": "stdout",
     "output_type": "stream",
     "text": [
      "7.3\n",
      "14.6\n",
      "21.9\n",
      "29.2\n",
      "No puedo multiplicar hola\n",
      "36.5\n",
      "43.8\n",
      "51.1\n"
     ]
    },
    {
     "ename": "IndexError",
     "evalue": "list index out of range",
     "output_type": "error",
     "traceback": [
      "\u001b[0;31m---------------------------------------------------------------------------\u001b[0m",
      "\u001b[0;31mIndexError\u001b[0m                                Traceback (most recent call last)",
      "\u001b[0;32m<ipython-input-64-f710561575d3>\u001b[0m in \u001b[0;36m<module>\u001b[0;34m\u001b[0m\n\u001b[1;32m      3\u001b[0m     \u001b[0mtime\u001b[0m\u001b[0;34m.\u001b[0m\u001b[0msleep\u001b[0m\u001b[0;34m(\u001b[0m\u001b[0;36m1\u001b[0m\u001b[0;34m)\u001b[0m\u001b[0;34m\u001b[0m\u001b[0;34m\u001b[0m\u001b[0m\n\u001b[1;32m      4\u001b[0m     \u001b[0;32mtry\u001b[0m\u001b[0;34m:\u001b[0m\u001b[0;34m\u001b[0m\u001b[0;34m\u001b[0m\u001b[0m\n\u001b[0;32m----> 5\u001b[0;31m         \u001b[0mprint\u001b[0m\u001b[0;34m(\u001b[0m\u001b[0mlista\u001b[0m\u001b[0;34m[\u001b[0m\u001b[0mnum\u001b[0m\u001b[0;34m]\u001b[0m\u001b[0;34m*\u001b[0m\u001b[0;36m7.3\u001b[0m\u001b[0;34m)\u001b[0m\u001b[0;34m\u001b[0m\u001b[0;34m\u001b[0m\u001b[0m\n\u001b[0m\u001b[1;32m      6\u001b[0m     \u001b[0;32mexcept\u001b[0m \u001b[0mTypeError\u001b[0m\u001b[0;34m:\u001b[0m\u001b[0;34m\u001b[0m\u001b[0;34m\u001b[0m\u001b[0m\n\u001b[1;32m      7\u001b[0m         \u001b[0mprint\u001b[0m\u001b[0;34m(\u001b[0m\u001b[0;34mf\"No puedo multiplicar {lista[num]}\"\u001b[0m\u001b[0;34m)\u001b[0m\u001b[0;34m\u001b[0m\u001b[0;34m\u001b[0m\u001b[0m\n",
      "\u001b[0;31mIndexError\u001b[0m: list index out of range"
     ]
    }
   ],
   "source": [
    "import time\n",
    "for num in range(10):\n",
    "    time.sleep(1)\n",
    "    try:\n",
    "        print(lista[num]*7.3)\n",
    "    except TypeError:\n",
    "        print(f\"No puedo multiplicar {lista[num]}\")"
   ]
  },
  {
   "cell_type": "code",
   "execution_count": 72,
   "id": "exposed-harassment",
   "metadata": {},
   "outputs": [
    {
     "name": "stdout",
     "output_type": "stream",
     "text": [
      "7.3\n",
      "14.6\n",
      "21.9\n",
      "29.2\n",
      "No puedo multiplicar hola\n",
      "36.5\n",
      "43.8\n",
      "51.1\n",
      "Se acabó la lista\n"
     ]
    }
   ],
   "source": [
    "import time\n",
    "for num in range(13):\n",
    "    time.sleep(1)\n",
    "    try:\n",
    "        print(lista[num]*7.3)\n",
    "    except TypeError:\n",
    "        print(f\"No puedo multiplicar {lista[num]}\")\n",
    "    except IndexError:\n",
    "        print(f\"Se acabó la lista\")\n",
    "        break"
   ]
  },
  {
   "cell_type": "code",
   "execution_count": 73,
   "id": "incorporated-nebraska",
   "metadata": {},
   "outputs": [
    {
     "name": "stdout",
     "output_type": "stream",
     "text": [
      "7.3\n",
      "14.6\n",
      "21.9\n",
      "29.2\n",
      "No puedo multiplicar hola\n",
      "36.5\n",
      "43.8\n",
      "51.1\n"
     ]
    }
   ],
   "source": [
    "for n in lista:\n",
    "    time.sleep(1)\n",
    "    if type(n) != int:\n",
    "        print(f\"No puedo multiplicar {n}\")\n",
    "    else:\n",
    "        print(n*7.3)"
   ]
  },
  {
   "cell_type": "code",
   "execution_count": 68,
   "id": "eleven-symbol",
   "metadata": {},
   "outputs": [],
   "source": [
    "def multiplica(n):\n",
    "    try:\n",
    "        return n * 6.3\n",
    "    except:\n",
    "        return f\"No puedo multiplicar {n}\""
   ]
  },
  {
   "cell_type": "code",
   "execution_count": 69,
   "id": "tamil-luxembourg",
   "metadata": {},
   "outputs": [
    {
     "data": {
      "text/plain": [
       "18.9"
      ]
     },
     "execution_count": 69,
     "metadata": {},
     "output_type": "execute_result"
    }
   ],
   "source": [
    "multiplica(3)"
   ]
  },
  {
   "cell_type": "code",
   "execution_count": 70,
   "id": "following-validity",
   "metadata": {},
   "outputs": [
    {
     "data": {
      "text/plain": [
       "'No puedo multiplicar hola'"
      ]
     },
     "execution_count": 70,
     "metadata": {},
     "output_type": "execute_result"
    }
   ],
   "source": [
    "multiplica(\"hola\")"
   ]
  },
  {
   "cell_type": "code",
   "execution_count": 75,
   "id": "automatic-carry",
   "metadata": {},
   "outputs": [
    {
     "name": "stdout",
     "output_type": "stream",
     "text": [
      "60.0\n",
      "No puedo dividir hola\n",
      "15.0\n",
      "No puedo divividir 0\n",
      "1.0909090909090908\n",
      "7.5\n",
      "0.6666666666666666\n",
      "No puedo divividir 0\n"
     ]
    }
   ],
   "source": [
    "lista_2 = [1,\"hola\",4,0,55,8,90,0]\n",
    "for num in lista_2:\n",
    "    time.sleep(1)\n",
    "    try:\n",
    "        print(60/num)\n",
    "    except TypeError:\n",
    "        print(f\"No puedo dividir {num}\")\n",
    "    except ZeroDivisionError:\n",
    "        print(f\"No puedo divividir {num}\")"
   ]
  },
  {
   "cell_type": "markdown",
   "id": "naughty-company",
   "metadata": {},
   "source": [
    "### Lo que no debo hacer al manejar excepciones"
   ]
  },
  {
   "cell_type": "code",
   "execution_count": 77,
   "id": "passive-cursor",
   "metadata": {},
   "outputs": [
    {
     "name": "stdout",
     "output_type": "stream",
     "text": [
      "60.0\n",
      "Aquí hay un error\n",
      "15.0\n",
      "Aquí hay un error\n",
      "1.0909090909090908\n",
      "7.5\n",
      "0.6666666666666666\n",
      "Aquí hay un error\n"
     ]
    }
   ],
   "source": [
    "import time\n",
    "for num in lista_2:\n",
    "    time.sleep(1)\n",
    "    try:\n",
    "        print(60 / num)\n",
    "    except:\n",
    "        print(\"Aquí hay un error\")"
   ]
  },
  {
   "cell_type": "code",
   "execution_count": 78,
   "id": "adverse-globe",
   "metadata": {},
   "outputs": [
    {
     "data": {
      "text/plain": [
       "8"
      ]
     },
     "execution_count": 78,
     "metadata": {},
     "output_type": "execute_result"
    }
   ],
   "source": [
    "len(lista)"
   ]
  },
  {
   "cell_type": "code",
   "execution_count": 79,
   "id": "molecular-product",
   "metadata": {},
   "outputs": [
    {
     "data": {
      "text/plain": [
       "[1, 2, 3, 4, 'hola', 5, 6, 7]"
      ]
     },
     "execution_count": 79,
     "metadata": {},
     "output_type": "execute_result"
    }
   ],
   "source": [
    "lista"
   ]
  },
  {
   "cell_type": "code",
   "execution_count": 80,
   "id": "informal-homework",
   "metadata": {},
   "outputs": [
    {
     "name": "stdout",
     "output_type": "stream",
     "text": [
      "6.3\n",
      "12.6\n",
      "18.9\n",
      "25.2\n",
      "Aquí hay un error\n",
      "31.5\n",
      "37.8\n",
      "44.1\n",
      "Aquí hay un error\n"
     ]
    }
   ],
   "source": [
    "import time\n",
    "\"\"\"\n",
    "LO QUE NO HAY QUE HACER \n",
    "\"\"\"\n",
    "for num in range(9):\n",
    "    time.sleep(1)\n",
    "    try:\n",
    "        print(lista[num] * 6.3)\n",
    "    except Exception:\n",
    "        print(\"Aquí hay un error\")"
   ]
  },
  {
   "cell_type": "code",
   "execution_count": 85,
   "id": "minute-element",
   "metadata": {},
   "outputs": [
    {
     "name": "stdout",
     "output_type": "stream",
     "text": [
      "6.3\n",
      "12.6\n",
      "18.9\n",
      "25.2\n",
      "El index\n",
      "31.5\n",
      "37.8\n",
      "44.1\n",
      "El index\n"
     ]
    }
   ],
   "source": [
    "import time\n",
    "\"\"\"\n",
    "LO QUE NO HAY QUE HACER \n",
    "\"\"\"\n",
    "for num in range(9):\n",
    "    time.sleep(1)\n",
    "    try:\n",
    "        print(lista[num] * 6.3)\n",
    "    except Exception:\n",
    "        print(\"El index\")\n",
    "    except TypeError:\n",
    "        print(\"Aquí hay un TypeError\")"
   ]
  },
  {
   "cell_type": "markdown",
   "id": "partial-belly",
   "metadata": {},
   "source": [
    "- Capturamos las excepciones POR TIPO (es decir, siempre ponemos except TypeError, o ValueError\n",
    "- Si ponemos except solo --> Lo ponemos al final\n",
    "- Si ponemos Exception SE COME TODOS LOS ERRORES, por tanto no estamos siendo específicas con los errores, en la celda anterior NUNCA va a devolvernos TypeError porque Exception lo captura antes.\n",
    "- En este caso, si necesitamos poner Exception LO PONEMOS TAMBIÉN AL FINAL"
   ]
  },
  {
   "cell_type": "code",
   "execution_count": null,
   "id": "alpine-guide",
   "metadata": {},
   "outputs": [],
   "source": [
    "#### Otro ejemplo con IndexError"
   ]
  },
  {
   "cell_type": "code",
   "execution_count": 102,
   "id": "changed-hampton",
   "metadata": {},
   "outputs": [],
   "source": [
    "lista = [\"casa\", \"datos\", \"excepciones\"]"
   ]
  },
  {
   "cell_type": "code",
   "execution_count": 125,
   "id": "square-resource",
   "metadata": {},
   "outputs": [],
   "source": [
    "def funcion_mayus(lista):\n",
    "    vacia = []\n",
    "    for e in range(4):\n",
    "        try:\n",
    "            vacia.append(lista[e].upper())\n",
    "        except IndexError as variable:\n",
    "            vacia.append(variable)\n",
    "    return vacia"
   ]
  },
  {
   "cell_type": "code",
   "execution_count": 126,
   "id": "terminal-japan",
   "metadata": {},
   "outputs": [],
   "source": [
    "melaguardo = funcion_mayus(lista)"
   ]
  },
  {
   "cell_type": "code",
   "execution_count": 127,
   "id": "southeast-decline",
   "metadata": {},
   "outputs": [
    {
     "data": {
      "text/plain": [
       "['CASA', 'DATOS', 'EXCEPCIONES', IndexError('list index out of range')]"
      ]
     },
     "execution_count": 127,
     "metadata": {},
     "output_type": "execute_result"
    }
   ],
   "source": [
    "melaguardo"
   ]
  },
  {
   "cell_type": "code",
   "execution_count": 109,
   "id": "sorted-vancouver",
   "metadata": {},
   "outputs": [],
   "source": [
    "def funcion_mayus(lista):\n",
    "    vacia = []\n",
    "    for e in range(4):\n",
    "        vacia.append(lista[e].upper())\n",
    "    return vacia"
   ]
  },
  {
   "cell_type": "code",
   "execution_count": 110,
   "id": "juvenile-blank",
   "metadata": {},
   "outputs": [
    {
     "ename": "IndexError",
     "evalue": "list index out of range",
     "output_type": "error",
     "traceback": [
      "\u001b[0;31m---------------------------------------------------------------------------\u001b[0m",
      "\u001b[0;31mIndexError\u001b[0m                                Traceback (most recent call last)",
      "\u001b[0;32m<ipython-input-110-2469ea801e06>\u001b[0m in \u001b[0;36m<module>\u001b[0;34m\u001b[0m\n\u001b[0;32m----> 1\u001b[0;31m \u001b[0mfuncion_mayus\u001b[0m\u001b[0;34m(\u001b[0m\u001b[0mlista\u001b[0m\u001b[0;34m)\u001b[0m\u001b[0;34m\u001b[0m\u001b[0;34m\u001b[0m\u001b[0m\n\u001b[0m",
      "\u001b[0;32m<ipython-input-109-f5b8590d1fd1>\u001b[0m in \u001b[0;36mfuncion_mayus\u001b[0;34m(lista)\u001b[0m\n\u001b[1;32m      2\u001b[0m     \u001b[0mvacia\u001b[0m \u001b[0;34m=\u001b[0m \u001b[0;34m[\u001b[0m\u001b[0;34m]\u001b[0m\u001b[0;34m\u001b[0m\u001b[0;34m\u001b[0m\u001b[0m\n\u001b[1;32m      3\u001b[0m     \u001b[0;32mfor\u001b[0m \u001b[0me\u001b[0m \u001b[0;32min\u001b[0m \u001b[0mrange\u001b[0m\u001b[0;34m(\u001b[0m\u001b[0;36m4\u001b[0m\u001b[0;34m)\u001b[0m\u001b[0;34m:\u001b[0m\u001b[0;34m\u001b[0m\u001b[0;34m\u001b[0m\u001b[0m\n\u001b[0;32m----> 4\u001b[0;31m         \u001b[0mvacia\u001b[0m\u001b[0;34m.\u001b[0m\u001b[0mappend\u001b[0m\u001b[0;34m(\u001b[0m\u001b[0mlista\u001b[0m\u001b[0;34m[\u001b[0m\u001b[0me\u001b[0m\u001b[0;34m]\u001b[0m\u001b[0;34m.\u001b[0m\u001b[0mupper\u001b[0m\u001b[0;34m(\u001b[0m\u001b[0;34m)\u001b[0m\u001b[0;34m)\u001b[0m\u001b[0;34m\u001b[0m\u001b[0;34m\u001b[0m\u001b[0m\n\u001b[0m\u001b[1;32m      5\u001b[0m     \u001b[0;32mreturn\u001b[0m \u001b[0mvacia\u001b[0m\u001b[0;34m\u001b[0m\u001b[0;34m\u001b[0m\u001b[0m\n",
      "\u001b[0;31mIndexError\u001b[0m: list index out of range"
     ]
    }
   ],
   "source": [
    "funcion_mayus(lista)"
   ]
  },
  {
   "cell_type": "code",
   "execution_count": 133,
   "id": "extended-armenia",
   "metadata": {},
   "outputs": [],
   "source": [
    "# SÉ QUE VA A FALLAR PERO NO SÉ POR QUÉ, PONGO EXCEPTION Y CAPTURO EL ERROR\n",
    "def funcion_mayus_exception(lista):\n",
    "    vacia = []\n",
    "    for e in range(4):\n",
    "        try:\n",
    "            vacia.append(lista[e].upper())\n",
    "        except Exception as variable:\n",
    "            print(variable)\n",
    "            print(type(variable))\n",
    "            vacia.append(\"ERROR\")\n",
    "    return vacia"
   ]
  },
  {
   "cell_type": "code",
   "execution_count": 134,
   "id": "speaking-american",
   "metadata": {},
   "outputs": [
    {
     "name": "stdout",
     "output_type": "stream",
     "text": [
      "list index out of range\n",
      "<class 'IndexError'>\n"
     ]
    },
    {
     "data": {
      "text/plain": [
       "['CASA', 'DATOS', 'EXCEPCIONES', 'ERROR']"
      ]
     },
     "execution_count": 134,
     "metadata": {},
     "output_type": "execute_result"
    }
   ],
   "source": [
    "funcion_mayus_exception(lista)"
   ]
  },
  {
   "cell_type": "markdown",
   "id": "overall-daniel",
   "metadata": {},
   "source": [
    "## Validación de datos con `assert`"
   ]
  },
  {
   "cell_type": "markdown",
   "id": "basic-while",
   "metadata": {},
   "source": [
    "Python facilita una forma de establecer condiciones de obligado cunmplimiento, es decir, condiciones que debe cumplir un objeto o, de lo contrario, se producirá una excepción. Es como una especie de \"red de seguridad\" ante posibles fallos del programador. La instrucción `assert` añade controles para la depuración de un programa. Nos permite expresar una condición que ha de ser cierta siempre, y que, de no serlo interrumpirá el programa, generando una excepción que controlar llamada AssertionError. La forma de llamar a esta expresión es la siguiente:\n",
    "```python\n",
    "assert condición booleana\n",
    "```\n",
    "En caso de que la expresión booleana sea verdadera, assert no hace nada. En caso de que sea falsa, dispara una excepción. Veamos un ejemplo para entenderlo."
   ]
  },
  {
   "cell_type": "code",
   "execution_count": 135,
   "id": "latest-holmes",
   "metadata": {},
   "outputs": [],
   "source": [
    "assert 1 == 1, \"la condición es falsa\""
   ]
  },
  {
   "cell_type": "code",
   "execution_count": 136,
   "id": "valued-lending",
   "metadata": {},
   "outputs": [
    {
     "ename": "AssertionError",
     "evalue": "La condición es falsa",
     "output_type": "error",
     "traceback": [
      "\u001b[0;31m---------------------------------------------------------------------------\u001b[0m",
      "\u001b[0;31mAssertionError\u001b[0m                            Traceback (most recent call last)",
      "\u001b[0;32m<ipython-input-136-481ef0aedc23>\u001b[0m in \u001b[0;36m<module>\u001b[0;34m\u001b[0m\n\u001b[0;32m----> 1\u001b[0;31m \u001b[0;32massert\u001b[0m \u001b[0;36m1\u001b[0m \u001b[0;34m==\u001b[0m \u001b[0;36m2\u001b[0m\u001b[0;34m,\u001b[0m \u001b[0;34m\"La condición es falsa\"\u001b[0m\u001b[0;34m\u001b[0m\u001b[0;34m\u001b[0m\u001b[0m\n\u001b[0m",
      "\u001b[0;31mAssertionError\u001b[0m: La condición es falsa"
     ]
    }
   ],
   "source": [
    "assert 1 == 2, \"La condición es falsa\""
   ]
  },
  {
   "cell_type": "code",
   "execution_count": 157,
   "id": "historic-jacob",
   "metadata": {},
   "outputs": [
    {
     "name": "stdout",
     "output_type": "stream",
     "text": [
      "[1, 2, 3, 4, 5]\n",
      "[1, 2, 3, 4]\n",
      "12\n",
      "La condición es falsa\n",
      "[5, 4]\n"
     ]
    }
   ],
   "source": [
    "lista = [1,2,3,4,5]\n",
    "nueva = []\n",
    "try:\n",
    "    for n in lista:\n",
    "        assert len(lista) > 3#Condición que se tiene que cumplir, cuando sean 3 elementos se pondrá FALSE\n",
    "        print(lista) #VAMOS IMPRIMIENDO LA LISTA EN CADA ITERACIÓN \n",
    "        nueva.append(lista.pop())\n",
    "except AssertionError:\n",
    "    print(3*4)\n",
    "    print(\"La condición es falsa\")\n",
    "print(nueva) # PRINT FUERA DEL BUCLE, ESTÁ IMPRIMIENDO DESPUÉS DE EJECUTAR TODO EL CÓDIGO ANTERIOR"
   ]
  },
  {
   "cell_type": "code",
   "execution_count": 153,
   "id": "turkish-transmission",
   "metadata": {},
   "outputs": [
    {
     "name": "stdout",
     "output_type": "stream",
     "text": [
      "[1, 2, 3, 4, 5]\n",
      "[1, 2, 3, 4]\n",
      "<class 'AssertionError'>\n",
      "la condición es falsa\n",
      "[5, 4]\n"
     ]
    }
   ],
   "source": [
    "lista = [1,2,3,4,5]\n",
    "nueva = []\n",
    "#ASSERT TUNEANDO EL MENSAJE DE ERROR\n",
    "try:\n",
    "    for n in lista:\n",
    "        assert len(lista) > 3, \"la condición es falsa\" #Condición que se tiene que cumplir, cuando sean 3 elementos se pondrá FALSE\n",
    "        print(lista) #VAMOS IMPRIMIENDO LA LISTA EN CADA ITERACIÓN \n",
    "        nueva.append(lista.pop())\n",
    "except AssertionError as err:\n",
    "    print(type(err))\n",
    "    print(err)\n",
    "print(nueva) # PRINT FUERA DEL BUCLE, ESTÁ IMPRIMIENDO DESPUÉS DE EJECUTAR TODO EL CÓDIGO ANTERIOR"
   ]
  },
  {
   "cell_type": "code",
   "execution_count": 139,
   "id": "northern-cream",
   "metadata": {},
   "outputs": [],
   "source": [
    "otra_lista = [1,2,3,4,5,6]"
   ]
  },
  {
   "cell_type": "code",
   "execution_count": 143,
   "id": "downtown-approval",
   "metadata": {},
   "outputs": [
    {
     "data": {
      "text/plain": [
       "5"
      ]
     },
     "execution_count": 143,
     "metadata": {},
     "output_type": "execute_result"
    }
   ],
   "source": [
    "otra_lista.pop()"
   ]
  },
  {
   "cell_type": "code",
   "execution_count": 144,
   "id": "partial-composite",
   "metadata": {},
   "outputs": [
    {
     "data": {
      "text/plain": [
       "[1, 2, 3, 4]"
      ]
     },
     "execution_count": 144,
     "metadata": {},
     "output_type": "execute_result"
    }
   ],
   "source": [
    "otra_lista"
   ]
  },
  {
   "cell_type": "code",
   "execution_count": 165,
   "id": "closed-machinery",
   "metadata": {},
   "outputs": [
    {
     "name": "stdout",
     "output_type": "stream",
     "text": [
      "[1, 2, 3, 4, 'hola', 5, 3, 67, 7, 5]\n",
      "[1, 2, 3, 4, 'hola', 5, 3, 67, 7]\n",
      "[1, 2, 3, 4, 'hola', 5, 3, 67]\n",
      "[1, 2, 3, 4, 'hola', 5, 3]\n",
      "<class 'AssertionError'>\n",
      "No es un entero\n",
      "[5, 7, 67, 3]\n"
     ]
    }
   ],
   "source": [
    "lista = [1,2,3,4,\"hola\",5,3,67,7,5]\n",
    "nueva = []\n",
    "#ASSERT TUNEANDO EL MENSAJE DE ERROR\n",
    "try:\n",
    "    for n in lista:\n",
    "        assert len(lista) > 3, \"La lista menor que 3\" #Condición que se tiene que cumplir, cuando sean 3 elementos se pondrá FALSE\n",
    "        assert type(n) == int, \"No es un entero\"\n",
    "        print(lista) #VAMOS IMPRIMIENDO LA LISTA EN CADA ITERACIÓN \n",
    "        nueva.append(lista.pop())\n",
    "except AssertionError as err:\n",
    "    print(type(err))\n",
    "    print(err)\n",
    "print(nueva) # PRINT FUERA DEL BUCLE, ESTÁ IMPRIMIENDO DESPUÉS DE EJECUTAR TODO EL CÓDIGO ANTERIOR"
   ]
  },
  {
   "cell_type": "code",
   "execution_count": 187,
   "id": "alleged-dakota",
   "metadata": {},
   "outputs": [
    {
     "name": "stdout",
     "output_type": "stream",
     "text": [
      "No es un entero\n",
      "hola\n",
      "[5, 7, 67, 3]\n"
     ]
    }
   ],
   "source": [
    "lista = [1,2,3,4,\"hola\",5,3,67,7,5]\n",
    "nueva = []\n",
    "#ASSERT TUNEANDO EL MENSAJE DE ERROR\n",
    "\n",
    "for n in lista:\n",
    "    if type(n) != int:\n",
    "        print(\"No es un entero\")\n",
    "        print(n)\n",
    "        break\n",
    "    else:\n",
    "        nueva.append(lista.pop())\n",
    "print(nueva)"
   ]
  },
  {
   "cell_type": "code",
   "execution_count": 184,
   "id": "purple-antarctica",
   "metadata": {},
   "outputs": [
    {
     "data": {
      "text/plain": [
       "[5, 7, 67, 3]"
      ]
     },
     "execution_count": 184,
     "metadata": {},
     "output_type": "execute_result"
    }
   ],
   "source": [
    "nueva"
   ]
  },
  {
   "cell_type": "markdown",
   "id": "excited-cincinnati",
   "metadata": {},
   "source": [
    "## Lanzar errores\n",
    "Escribimos una función que multiplique un número por 2 siempre y cuando el argumento que entre sea un entero"
   ]
  },
  {
   "cell_type": "code",
   "execution_count": 166,
   "id": "current-smart",
   "metadata": {},
   "outputs": [],
   "source": [
    "def multiplica(n):\n",
    "    if type(n) == int:\n",
    "        return n * 2\n",
    "    else:\n",
    "        raise TypeError"
   ]
  },
  {
   "cell_type": "code",
   "execution_count": 167,
   "id": "objective-sodium",
   "metadata": {},
   "outputs": [
    {
     "data": {
      "text/plain": [
       "6"
      ]
     },
     "execution_count": 167,
     "metadata": {},
     "output_type": "execute_result"
    }
   ],
   "source": [
    "multiplica(3)"
   ]
  },
  {
   "cell_type": "code",
   "execution_count": 168,
   "id": "backed-namibia",
   "metadata": {},
   "outputs": [
    {
     "ename": "TypeError",
     "evalue": "",
     "output_type": "error",
     "traceback": [
      "\u001b[0;31m---------------------------------------------------------------------------\u001b[0m",
      "\u001b[0;31mTypeError\u001b[0m                                 Traceback (most recent call last)",
      "\u001b[0;32m<ipython-input-168-1802fed162e0>\u001b[0m in \u001b[0;36m<module>\u001b[0;34m\u001b[0m\n\u001b[0;32m----> 1\u001b[0;31m \u001b[0mmultiplica\u001b[0m\u001b[0;34m(\u001b[0m\u001b[0;34m\"hola\"\u001b[0m\u001b[0;34m)\u001b[0m\u001b[0;34m\u001b[0m\u001b[0;34m\u001b[0m\u001b[0m\n\u001b[0m",
      "\u001b[0;32m<ipython-input-166-67ca09a7eedc>\u001b[0m in \u001b[0;36mmultiplica\u001b[0;34m(n)\u001b[0m\n\u001b[1;32m      3\u001b[0m         \u001b[0;32mreturn\u001b[0m \u001b[0mn\u001b[0m \u001b[0;34m*\u001b[0m \u001b[0;36m2\u001b[0m\u001b[0;34m\u001b[0m\u001b[0;34m\u001b[0m\u001b[0m\n\u001b[1;32m      4\u001b[0m     \u001b[0;32melse\u001b[0m\u001b[0;34m:\u001b[0m\u001b[0;34m\u001b[0m\u001b[0;34m\u001b[0m\u001b[0m\n\u001b[0;32m----> 5\u001b[0;31m         \u001b[0;32mraise\u001b[0m \u001b[0mTypeError\u001b[0m\u001b[0;34m\u001b[0m\u001b[0;34m\u001b[0m\u001b[0m\n\u001b[0m",
      "\u001b[0;31mTypeError\u001b[0m: "
     ]
    }
   ],
   "source": [
    "multiplica(\"hola\")"
   ]
  },
  {
   "cell_type": "code",
   "execution_count": 175,
   "id": "determined-aurora",
   "metadata": {},
   "outputs": [],
   "source": [
    "def multiplica_tuneada(n):\n",
    "    if type(n) == int:\n",
    "        return n * 2\n",
    "    else:\n",
    "        raise TypeError (f\"Esta función espera un entero y tú le has pasado '{n}' que es un '{type(n)}'\")"
   ]
  },
  {
   "cell_type": "code",
   "execution_count": 174,
   "id": "progressive-biodiversity",
   "metadata": {},
   "outputs": [
    {
     "ename": "TypeError",
     "evalue": "Esta función espera un entero y tú le has pasado 'hola alegre' que es un <class 'str'>",
     "output_type": "error",
     "traceback": [
      "\u001b[0;31m---------------------------------------------------------------------------\u001b[0m",
      "\u001b[0;31mTypeError\u001b[0m                                 Traceback (most recent call last)",
      "\u001b[0;32m<ipython-input-174-34c329d7e2c8>\u001b[0m in \u001b[0;36m<module>\u001b[0;34m\u001b[0m\n\u001b[0;32m----> 1\u001b[0;31m \u001b[0mmultiplica_tuneada\u001b[0m\u001b[0;34m(\u001b[0m\u001b[0;34m\"hola alegre\"\u001b[0m\u001b[0;34m)\u001b[0m\u001b[0;34m\u001b[0m\u001b[0;34m\u001b[0m\u001b[0m\n\u001b[0m",
      "\u001b[0;32m<ipython-input-173-500c162eecae>\u001b[0m in \u001b[0;36mmultiplica_tuneada\u001b[0;34m(n)\u001b[0m\n\u001b[1;32m      3\u001b[0m         \u001b[0;32mreturn\u001b[0m \u001b[0mn\u001b[0m \u001b[0;34m*\u001b[0m \u001b[0;36m2\u001b[0m\u001b[0;34m\u001b[0m\u001b[0;34m\u001b[0m\u001b[0m\n\u001b[1;32m      4\u001b[0m     \u001b[0;32melse\u001b[0m\u001b[0;34m:\u001b[0m\u001b[0;34m\u001b[0m\u001b[0;34m\u001b[0m\u001b[0m\n\u001b[0;32m----> 5\u001b[0;31m         \u001b[0;32mraise\u001b[0m \u001b[0mTypeError\u001b[0m \u001b[0;34m(\u001b[0m\u001b[0;34mf\"Esta función espera un entero y tú le has pasado '{n}' que es un {type(n)}\"\u001b[0m\u001b[0;34m)\u001b[0m\u001b[0;34m\u001b[0m\u001b[0;34m\u001b[0m\u001b[0m\n\u001b[0m",
      "\u001b[0;31mTypeError\u001b[0m: Esta función espera un entero y tú le has pasado 'hola alegre' que es un <class 'str'>"
     ]
    }
   ],
   "source": [
    "multiplica_tuneada(\"hola alegre\")"
   ]
  },
  {
   "cell_type": "markdown",
   "id": "enabling-belfast",
   "metadata": {},
   "source": [
    "Solicitamos al usuario que introduzca el carácter c para continuar o el carácter f para finalizar. Sin embargo, no podemos asegurar que siempre vaya a introducir alguno de estos caracteres. Por ello, creamos nuestra propia excepción, a la cual llamamos MiExcepcion. De esta manera, si el usuario introduce un carácter distinto a c y f se lanzará la excepción creada y se mostrará un mensaje de error indicando que el carácter introducido no es válido."
   ]
  },
  {
   "cell_type": "code",
   "execution_count": 182,
   "id": "graduate-thickness",
   "metadata": {},
   "outputs": [],
   "source": [
    "class MiExcepcion(Exception):\n",
    "    def __init__(self, stringdescriptivo):\n",
    "        self.valor = stringdescriptivo\n",
    "    def __str__(self):\n",
    "        return f\"Error {self.valor}\""
   ]
  },
  {
   "cell_type": "code",
   "execution_count": 181,
   "id": "traditional-contribution",
   "metadata": {},
   "outputs": [
    {
     "name": "stdout",
     "output_type": "stream",
     "text": [
      "Introduzca c para comenzar o f para finalizar c\n",
      "Introduzca c para comenzar o f para finalizar c\n",
      "Introduzca c para comenzar o f para finalizar c\n",
      "Introduzca c para comenzar o f para finalizar c\n",
      "Introduzca c para comenzar o f para finalizar c\n",
      "Introduzca c para comenzar o f para finalizar c\n",
      "Introduzca c para comenzar o f para finalizar c\n",
      "Introduzca c para comenzar o f para finalizar c\n",
      "Introduzca c para comenzar o f para finalizar ADOFKJASDG\n",
      "Error ADOFKJASDG no es válido\n"
     ]
    }
   ],
   "source": [
    "try:\n",
    "    fin = False\n",
    "    while not fin:\n",
    "        entrada = input(\"Introduzca c para comenzar o f para finalizar \")\n",
    "        if entrada != \"f\" and entrada !=\"c\":\n",
    "            raise MiExcepcion (f\"{entrada} no es válido\")\n",
    "        elif entrada == \"f\":\n",
    "            fin = True\n",
    "        #EL PROGRAMA HARÍA COSAS\n",
    "except MiExcepcion as err:\n",
    "    print(err)"
   ]
  },
  {
   "cell_type": "markdown",
   "id": "ready-track",
   "metadata": {},
   "source": [
    "## Resumen\n",
    "Es tu turno ¿qué hemos aprendido hoy?\n",
    "- Tipos de errores (Excepciones)\n",
    "- Hay que leer los tipoes de errores\n",
    "- Es lo más importante, leer los tipos de errores y el TRACEBACK\n",
    "- Hemos visto que podemos escribir comandos de la terminal en jupyter\n",
    "- RUTAS RELATIVAS (indicamos el camino desde donde estamos)\n",
    "- Con OPEN abrimos archivos\n",
    "- RAISE --> para el programa y lanza el error\n",
    "- try / except : funciona como un if y un else (TENED CUIDADO PORFI)\n",
    "- ASSERT me permite establecer una condición booleana que si es TRUE el programa sigue\n",
    "- Puedo crear mis propias clases de error que heredan de la clase Exception"
   ]
  }
 ],
 "metadata": {
  "kernelspec": {
   "display_name": "ironhack",
   "language": "python",
   "name": "ironhack"
  },
  "language_info": {
   "codemirror_mode": {
    "name": "ipython",
    "version": 3
   },
   "file_extension": ".py",
   "mimetype": "text/x-python",
   "name": "python",
   "nbconvert_exporter": "python",
   "pygments_lexer": "ipython3",
   "version": "3.8.5"
  },
  "toc": {
   "base_numbering": 1,
   "nav_menu": {},
   "number_sections": true,
   "sideBar": true,
   "skip_h1_title": true,
   "title_cell": "Table of Contents",
   "title_sidebar": "Contents",
   "toc_cell": true,
   "toc_position": {},
   "toc_section_display": true,
   "toc_window_display": false
  }
 },
 "nbformat": 4,
 "nbformat_minor": 5
}
