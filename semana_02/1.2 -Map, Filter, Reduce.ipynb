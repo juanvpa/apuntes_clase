{
 "cells": [
  {
   "cell_type": "markdown",
   "id": "bottom-commerce",
   "metadata": {},
   "source": [
    "# Lambda & Map, Filter, Reduce"
   ]
  },
  {
   "cell_type": "markdown",
   "id": "twelve-decrease",
   "metadata": {},
   "source": [
    "![gif](https://media.giphy.com/media/11lBqvULyT9C36/giphy.gif)"
   ]
  },
  {
   "cell_type": "markdown",
   "id": "rising-buyer",
   "metadata": {
    "toc": true
   },
   "source": [
    "<h1>Table of Contents<span class=\"tocSkip\"></span></h1>\n",
    "<div class=\"toc\"><ul class=\"toc-item\"><li><ul class=\"toc-item\"><li><span><a href=\"#A-cada-estudiante-se-le-asigna-un-tema-al-azar\" data-toc-modified-id=\"A-cada-estudiante-se-le-asigna-un-tema-al-azar-0.1\"><span class=\"toc-item-num\">0.1&nbsp;&nbsp;</span>A cada estudiante se le asigna un tema al azar</a></span></li></ul></li><li><span><a href=\"#Empezamos\" data-toc-modified-id=\"Empezamos-1\"><span class=\"toc-item-num\">1&nbsp;&nbsp;</span>Empezamos</a></span></li><li><span><a href=\"#Crear-grupos-con-otras-personas-que-hayan-estudiado-la-misma-función\" data-toc-modified-id=\"Crear-grupos-con-otras-personas-que-hayan-estudiado-la-misma-función-2\"><span class=\"toc-item-num\">2&nbsp;&nbsp;</span>Crear grupos con otras personas que hayan estudiado la misma función</a></span></li><li><span><a href=\"#Crea-grupos-con-otras-personas-que-hayan-estudiado-otras-funciones\" data-toc-modified-id=\"Crea-grupos-con-otras-personas-que-hayan-estudiado-otras-funciones-3\"><span class=\"toc-item-num\">3&nbsp;&nbsp;</span>Crea grupos con otras personas que hayan estudiado otras funciones</a></span></li><li><span><a href=\"#Map,-Filter,-Reduce\" data-toc-modified-id=\"Map,-Filter,-Reduce-4\"><span class=\"toc-item-num\">4&nbsp;&nbsp;</span>Map, Filter, Reduce</a></span><ul class=\"toc-item\"><li><span><a href=\"#Map\" data-toc-modified-id=\"Map-4.1\"><span class=\"toc-item-num\">4.1&nbsp;&nbsp;</span>Map</a></span><ul class=\"toc-item\"><li><span><a href=\"#Primero-lo-hacemos-con-funciones\" data-toc-modified-id=\"Primero-lo-hacemos-con-funciones-4.1.1\"><span class=\"toc-item-num\">4.1.1&nbsp;&nbsp;</span>Primero lo hacemos con funciones</a></span></li><li><span><a href=\"#Extra:-¡Hazlo-con-lambda!\" data-toc-modified-id=\"Extra:-¡Hazlo-con-lambda!-4.1.2\"><span class=\"toc-item-num\">4.1.2&nbsp;&nbsp;</span>Extra: ¡Hazlo con lambda!</a></span></li></ul></li><li><span><a href=\"#Filter\" data-toc-modified-id=\"Filter-4.2\"><span class=\"toc-item-num\">4.2&nbsp;&nbsp;</span>Filter</a></span><ul class=\"toc-item\"><li><span><a href=\"#Primero-lo-hacemos-con-funciones\" data-toc-modified-id=\"Primero-lo-hacemos-con-funciones-4.2.1\"><span class=\"toc-item-num\">4.2.1&nbsp;&nbsp;</span>Primero lo hacemos con funciones</a></span></li><li><span><a href=\"#Extra:-¡Hazlo-con-lambda!\" data-toc-modified-id=\"Extra:-¡Hazlo-con-lambda!-4.2.2\"><span class=\"toc-item-num\">4.2.2&nbsp;&nbsp;</span>Extra: ¡Hazlo con lambda!</a></span></li></ul></li><li><span><a href=\"#Reduce\" data-toc-modified-id=\"Reduce-4.3\"><span class=\"toc-item-num\">4.3&nbsp;&nbsp;</span>Reduce</a></span><ul class=\"toc-item\"><li><span><a href=\"#¿Qué-ha-pasado?\" data-toc-modified-id=\"¿Qué-ha-pasado?-4.3.1\"><span class=\"toc-item-num\">4.3.1&nbsp;&nbsp;</span>¿Qué ha pasado?</a></span></li></ul></li><li><span><a href=\"#Primero-lo-hacemos-con-funciones\" data-toc-modified-id=\"Primero-lo-hacemos-con-funciones-4.4\"><span class=\"toc-item-num\">4.4&nbsp;&nbsp;</span>Primero lo hacemos con funciones</a></span></li><li><span><a href=\"#Extra:-¡Hazlo-con-lambda!\" data-toc-modified-id=\"Extra:-¡Hazlo-con-lambda!-4.5\"><span class=\"toc-item-num\">4.5&nbsp;&nbsp;</span>Extra: ¡Hazlo con lambda!</a></span></li></ul></li><li><span><a href=\"#Summary\" data-toc-modified-id=\"Summary-5\"><span class=\"toc-item-num\">5&nbsp;&nbsp;</span>Summary</a></span></li><li><span><a href=\"#Further-materials\" data-toc-modified-id=\"Further-materials-6\"><span class=\"toc-item-num\">6&nbsp;&nbsp;</span>Further materials</a></span></li></ul></div>"
   ]
  },
  {
   "cell_type": "markdown",
   "id": "stunning-kansas",
   "metadata": {},
   "source": [
    "Vamos a jugar a un pequeño juego en el que vais a ser los protagonistas de la clase\n",
    "![otrogif](https://media.giphy.com/media/dM2xuxnJCg4H6/giphy.gif)"
   ]
  },
  {
   "cell_type": "markdown",
   "id": "corrected-liberal",
   "metadata": {},
   "source": [
    "### A cada estudiante se le asigna un tema al azar"
   ]
  },
  {
   "cell_type": "code",
   "execution_count": 11,
   "id": "blessed-scale",
   "metadata": {},
   "outputs": [],
   "source": [
    "estudiantes = ['Silvia',\n",
    " 'Roberto',\n",
    " 'Pedro',\n",
    " 'Nicolás',\n",
    " 'María Pérez',\n",
    " 'María Delás',\n",
    " 'Lydia',\n",
    " 'Luis',\n",
    " 'Juan Vega',\n",
    " 'Juan Pérez',\n",
    " 'José',\n",
    " 'Guillermo',\n",
    " 'Fernando',\n",
    " 'Ester',\n",
    " 'Elliot',\n",
    " 'Eduardo',\n",
    " 'Daniela',\n",
    " 'Daniel',\n",
    " 'Carlos',\n",
    " 'Blanca',\n",
    " 'Beatriz',\n",
    " 'Andrés',\n",
    " 'Andres',\n",
    " 'Ana',\n",
    " 'Alvaro',\n",
    " 'Alfonso']"
   ]
  },
  {
   "cell_type": "code",
   "execution_count": 12,
   "id": "downtown-holder",
   "metadata": {},
   "outputs": [],
   "source": [
    "topics = [\"map\"] *8 + [\"filter\"] *9 + [\"reduce\"]*9"
   ]
  },
  {
   "cell_type": "code",
   "execution_count": 13,
   "id": "atomic-headset",
   "metadata": {},
   "outputs": [],
   "source": [
    "import random\n",
    "random.shuffle(estudiantes)\n",
    "random.shuffle(topics)"
   ]
  },
  {
   "cell_type": "code",
   "execution_count": 14,
   "id": "perfect-stations",
   "metadata": {},
   "outputs": [],
   "source": [
    "todojunto = list(zip(estudiantes,topics))"
   ]
  },
  {
   "cell_type": "code",
   "execution_count": 15,
   "id": "prime-outside",
   "metadata": {},
   "outputs": [
    {
     "data": {
      "text/plain": [
       "[('Alvaro', 'map'),\n",
       " ('Guillermo', 'map'),\n",
       " ('Eduardo', 'filter'),\n",
       " ('Carlos', 'reduce'),\n",
       " ('José', 'map'),\n",
       " ('Alfonso', 'reduce'),\n",
       " ('Daniel', 'filter'),\n",
       " ('Fernando', 'reduce'),\n",
       " ('Blanca', 'map'),\n",
       " ('Nicolás', 'filter'),\n",
       " ('Juan Vega', 'filter'),\n",
       " ('Beatriz', 'filter'),\n",
       " ('Juan Pérez', 'filter'),\n",
       " ('Pedro', 'filter'),\n",
       " ('Luis', 'map'),\n",
       " ('Silvia', 'reduce'),\n",
       " ('Andres', 'reduce'),\n",
       " ('Ester', 'map'),\n",
       " ('Roberto', 'reduce'),\n",
       " ('Elliot', 'reduce'),\n",
       " ('Andrés', 'filter'),\n",
       " ('Daniela', 'map'),\n",
       " ('Lydia', 'reduce'),\n",
       " ('María Pérez', 'map'),\n",
       " ('Ana', 'filter'),\n",
       " ('María Delás', 'reduce')]"
      ]
     },
     "execution_count": 15,
     "metadata": {},
     "output_type": "execute_result"
    }
   ],
   "source": [
    "todojunto"
   ]
  },
  {
   "cell_type": "markdown",
   "id": "continent-adobe",
   "metadata": {},
   "source": [
    "## Empezamos"
   ]
  },
  {
   "cell_type": "markdown",
   "id": "meaning-count",
   "metadata": {},
   "source": [
    "Tienes 10 minutos para explorar y comprender la función que te han asignado por tu cuenta. Puede que estos enlaces te resulten útiles:\n",
    "\n",
    "* [enlace 1](https://medium.com/swlh/higher-order-functions-in-python-map-filter-and-reduce-34299fee1b21)\n",
    "* [enlace 2](https://www.learnpython.org/en/Map,_Filter,_Reduce)\n",
    "* [enlace 3](https://stackabuse.com/map-filter-and-reduce-in-python-with-examples)"
   ]
  },
  {
   "cell_type": "markdown",
   "id": "unknown-tomorrow",
   "metadata": {},
   "source": [
    "## Crear grupos con otras personas que hayan estudiado la misma función\n",
    "\n",
    "Tienes otros 10 minutos para compartir pensamientos y dudas con otros estudiantes que hayan leído sobre el mismo tema."
   ]
  },
  {
   "cell_type": "markdown",
   "id": "closing-referral",
   "metadata": {},
   "source": [
    "![otrogif](https://media.giphy.com/media/UatRnEUNX8iCQ/giphy.gif)"
   ]
  },
  {
   "cell_type": "markdown",
   "id": "standing-missile",
   "metadata": {},
   "source": [
    "## Crea grupos con otras personas que hayan estudiado otras funciones\n",
    "\n",
    "En esta parte del juego se te asigna un grupo en el que eres el experto en tu función.      \n",
    "Cada miembro del grupo tiene 5 minutos para explicar su función a los demás miembros del equipo."
   ]
  },
  {
   "cell_type": "code",
   "execution_count": 18,
   "id": "editorial-gender",
   "metadata": {},
   "outputs": [],
   "source": [
    "map_expertos = list(filter(lambda x: x[1] == \"map\",todojunto))\n",
    "filter_expertos = list(filter(lambda x : x[1] == \"filter\", todojunto))\n",
    "reduce_expertos = list(filter(lambda x: x [1] == \"reduce\", todojunto))"
   ]
  },
  {
   "cell_type": "code",
   "execution_count": 19,
   "id": "therapeutic-hollow",
   "metadata": {},
   "outputs": [
    {
     "name": "stdout",
     "output_type": "stream",
     "text": [
      "8\n",
      "9\n",
      "9\n"
     ]
    }
   ],
   "source": [
    "print(len(map_expertos))\n",
    "print(len(filter_expertos))\n",
    "print(len(reduce_expertos))"
   ]
  },
  {
   "cell_type": "code",
   "execution_count": 20,
   "id": "otherwise-moment",
   "metadata": {},
   "outputs": [],
   "source": [
    "map_expertos.append(\"HOLA\")"
   ]
  },
  {
   "cell_type": "code",
   "execution_count": 21,
   "id": "convertible-banking",
   "metadata": {},
   "outputs": [
    {
     "name": "stdout",
     "output_type": "stream",
     "text": [
      "Grupo 1: [('Alvaro', 'map'), ('Eduardo', 'filter'), ('Carlos', 'reduce')]\n",
      "Grupo 2: [('Guillermo', 'map'), ('Daniel', 'filter'), ('Alfonso', 'reduce')]\n",
      "Grupo 3: [('José', 'map'), ('Nicolás', 'filter'), ('Fernando', 'reduce')]\n",
      "Grupo 4: [('Blanca', 'map'), ('Juan Vega', 'filter'), ('Silvia', 'reduce')]\n",
      "Grupo 5: [('Luis', 'map'), ('Beatriz', 'filter'), ('Andres', 'reduce')]\n",
      "Grupo 6: [('Ester', 'map'), ('Juan Pérez', 'filter'), ('Roberto', 'reduce')]\n",
      "Grupo 7: [('Daniela', 'map'), ('Pedro', 'filter'), ('Elliot', 'reduce')]\n",
      "Grupo 8: [('María Pérez', 'map'), ('Andrés', 'filter'), ('Lydia', 'reduce')]\n",
      "Grupo 9: ['HOLA', ('Ana', 'filter'), ('María Delás', 'reduce')]\n"
     ]
    }
   ],
   "source": [
    "i = 1\n",
    "for gente in zip(map_expertos, filter_expertos, reduce_expertos):\n",
    "    print(f\"Grupo {i}: {[[y][0]  for y in gente]}\")\n",
    "    i += 1"
   ]
  },
  {
   "cell_type": "markdown",
   "id": "collectible-charter",
   "metadata": {},
   "source": [
    "## Map, Filter, Reduce"
   ]
  },
  {
   "cell_type": "markdown",
   "id": "cardiac-sentence",
   "metadata": {},
   "source": [
    "Existen tres funciones que nos resultarán muy prácticas cuando trabajemos con contenedores e iteradores. Estas funciones facilitan ciertas operaciones básicas y habituales sobre colecciones iterables de datos, como eliminar elementos que no cumplan cierta condición, calcular un resultado a partir de los datos contenidos o aplicar una transformación a cada elemento. Vamos a verlas con ejemplos de uso:"
   ]
  },
  {
   "cell_type": "markdown",
   "id": "distinct-translator",
   "metadata": {},
   "source": [
    "### Map"
   ]
  },
  {
   "cell_type": "markdown",
   "id": "ceramic-blend",
   "metadata": {},
   "source": [
    "La función map() toma una función y una lista y aplica esa función a cada elemento de esa lista, produciendo una nueva lista.\n",
    "```python\n",
    "map(function_to_apply, list_of_inputs)\n",
    "```"
   ]
  },
  {
   "cell_type": "code",
   "execution_count": null,
   "id": "expensive-birthday",
   "metadata": {},
   "outputs": [],
   "source": [
    "# Manos a la obra"
   ]
  },
  {
   "cell_type": "markdown",
   "id": "capital-matrix",
   "metadata": {},
   "source": [
    "#### Primero lo hacemos con funciones"
   ]
  },
  {
   "cell_type": "code",
   "execution_count": 31,
   "id": "italic-contamination",
   "metadata": {},
   "outputs": [],
   "source": [
    "def cuadrados(x):\n",
    "    return x**2"
   ]
  },
  {
   "cell_type": "code",
   "execution_count": 32,
   "id": "occupied-defeat",
   "metadata": {},
   "outputs": [],
   "source": [
    "numeros = [1,2,3,4,5,6]"
   ]
  },
  {
   "cell_type": "code",
   "execution_count": 34,
   "id": "narrow-bradford",
   "metadata": {},
   "outputs": [
    {
     "data": {
      "text/plain": [
       "<map at 0x7fc292cb4850>"
      ]
     },
     "execution_count": 34,
     "metadata": {},
     "output_type": "execute_result"
    }
   ],
   "source": [
    "map(cuadrados, numeros)"
   ]
  },
  {
   "cell_type": "markdown",
   "id": "removable-southeast",
   "metadata": {},
   "source": [
    "La función map devuelve un iterador, así que tenemos que utilizar el constructor list()"
   ]
  },
  {
   "cell_type": "code",
   "execution_count": 35,
   "id": "competitive-citizen",
   "metadata": {},
   "outputs": [
    {
     "data": {
      "text/plain": [
       "[1, 4, 9, 16, 25, 36]"
      ]
     },
     "execution_count": 35,
     "metadata": {},
     "output_type": "execute_result"
    }
   ],
   "source": [
    "# CON MAP\n",
    "list(map(cuadrados,numeros))"
   ]
  },
  {
   "cell_type": "code",
   "execution_count": 38,
   "id": "renewable-incident",
   "metadata": {},
   "outputs": [
    {
     "data": {
      "text/plain": [
       "[1, 4, 9, 16, 25, 36]"
      ]
     },
     "execution_count": 38,
     "metadata": {},
     "output_type": "execute_result"
    }
   ],
   "source": [
    "# CON LIST \n",
    "lista_nueva = [cuadrados(numero) for numero in numeros]\n",
    "lista_nueva"
   ]
  },
  {
   "cell_type": "code",
   "execution_count": 39,
   "id": "british-flour",
   "metadata": {},
   "outputs": [],
   "source": [
    "nombres = [\"ras\", \"ana\", \"sonia\"]"
   ]
  },
  {
   "cell_type": "code",
   "execution_count": 40,
   "id": "unique-blind",
   "metadata": {},
   "outputs": [],
   "source": [
    "def saluda(x):\n",
    "    return (f\"Hola {x} 🔥\")"
   ]
  },
  {
   "cell_type": "code",
   "execution_count": 42,
   "id": "korean-snake",
   "metadata": {},
   "outputs": [
    {
     "data": {
      "text/plain": [
       "['Hola ras 🔥', 'Hola ana 🔥', 'Hola sonia 🔥']"
      ]
     },
     "execution_count": 42,
     "metadata": {},
     "output_type": "execute_result"
    }
   ],
   "source": [
    "list(map(saluda,nombres))"
   ]
  },
  {
   "cell_type": "markdown",
   "id": "trained-algeria",
   "metadata": {},
   "source": [
    "#### Extra: ¡Hazlo con lambda!"
   ]
  },
  {
   "cell_type": "code",
   "execution_count": 43,
   "id": "functioning-alpha",
   "metadata": {},
   "outputs": [
    {
     "data": {
      "text/plain": [
       "['Hola ras 🔥', 'Hola ana 🔥', 'Hola sonia 🔥']"
      ]
     },
     "execution_count": 43,
     "metadata": {},
     "output_type": "execute_result"
    }
   ],
   "source": [
    "list(map(lambda x: f\"Hola {x} 🔥\", nombres))"
   ]
  },
  {
   "cell_type": "code",
   "execution_count": 44,
   "id": "noticed-greek",
   "metadata": {},
   "outputs": [
    {
     "data": {
      "text/plain": [
       "[1, 4, 9, 16, 25, 36]"
      ]
     },
     "execution_count": 44,
     "metadata": {},
     "output_type": "execute_result"
    }
   ],
   "source": [
    "list(map(lambda x: x**2, numeros))"
   ]
  },
  {
   "cell_type": "markdown",
   "id": "connected-found",
   "metadata": {},
   "source": [
    "### Filter"
   ]
  },
  {
   "cell_type": "markdown",
   "id": "boring-aluminum",
   "metadata": {},
   "source": [
    "La función filter() filtra una lista de elementos para los que una función devuelve True.\n",
    "```python\n",
    "filter(una_funcion, una_lista)\n",
    "```"
   ]
  },
  {
   "cell_type": "markdown",
   "id": "alpine-shakespeare",
   "metadata": {},
   "source": [
    "Imagina que quieres filtrar una lista de números para obtener solo los valores pares."
   ]
  },
  {
   "cell_type": "code",
   "execution_count": 45,
   "id": "voluntary-clerk",
   "metadata": {},
   "outputs": [
    {
     "name": "stdout",
     "output_type": "stream",
     "text": [
      "[2, 4, 6, 8, 10]\n"
     ]
    }
   ],
   "source": [
    "valores = [1,2,3,4,5,6,7,8,9,10]\n",
    "pares = []\n",
    "for num in valores:\n",
    "    if num % 2 == 0:\n",
    "        pares.append(num)\n",
    "print(pares)"
   ]
  },
  {
   "cell_type": "code",
   "execution_count": null,
   "id": "fatal-brake",
   "metadata": {},
   "outputs": [],
   "source": [
    "# Mejor aplicamos el filter"
   ]
  },
  {
   "cell_type": "markdown",
   "id": "considered-database",
   "metadata": {},
   "source": [
    "#### Primero lo hacemos con funciones"
   ]
  },
  {
   "cell_type": "code",
   "execution_count": 46,
   "id": "proved-anniversary",
   "metadata": {},
   "outputs": [],
   "source": [
    "def pares(x):\n",
    "    return x %2 == 0"
   ]
  },
  {
   "cell_type": "code",
   "execution_count": 48,
   "id": "proper-colleague",
   "metadata": {},
   "outputs": [
    {
     "data": {
      "text/plain": [
       "True"
      ]
     },
     "execution_count": 48,
     "metadata": {},
     "output_type": "execute_result"
    }
   ],
   "source": [
    "pares(2)"
   ]
  },
  {
   "cell_type": "code",
   "execution_count": 49,
   "id": "approved-inquiry",
   "metadata": {},
   "outputs": [
    {
     "data": {
      "text/plain": [
       "[2, 4, 6, 8, 10]"
      ]
     },
     "execution_count": 49,
     "metadata": {},
     "output_type": "execute_result"
    }
   ],
   "source": [
    "list(filter(pares,valores))"
   ]
  },
  {
   "cell_type": "markdown",
   "id": "gothic-limit",
   "metadata": {},
   "source": [
    "Imagina que quieres filtrar una lista y quedarte solo con los grupos que empiezan con la letra R"
   ]
  },
  {
   "cell_type": "code",
   "execution_count": 50,
   "id": "usual-contest",
   "metadata": {},
   "outputs": [],
   "source": [
    "grupos = [\"Rufus T. Firefly\", \"Standstill\", \"La M.O.D.A\", \"The Low Flying Panic Attack\", \"Rusos Blancos\"]"
   ]
  },
  {
   "cell_type": "code",
   "execution_count": 51,
   "id": "attractive-universe",
   "metadata": {},
   "outputs": [],
   "source": [
    "def empiezaconr(x):\n",
    "    return x[0].lower() == \"r\""
   ]
  },
  {
   "cell_type": "code",
   "execution_count": 52,
   "id": "fatal-flexibility",
   "metadata": {},
   "outputs": [
    {
     "data": {
      "text/plain": [
       "False"
      ]
     },
     "execution_count": 52,
     "metadata": {},
     "output_type": "execute_result"
    }
   ],
   "source": [
    "empiezaconr(\"hola\")"
   ]
  },
  {
   "cell_type": "code",
   "execution_count": 53,
   "id": "reasonable-senior",
   "metadata": {},
   "outputs": [
    {
     "data": {
      "text/plain": [
       "['Rufus T. Firefly', 'Rusos Blancos']"
      ]
     },
     "execution_count": 53,
     "metadata": {},
     "output_type": "execute_result"
    }
   ],
   "source": [
    "list(filter(empiezaconr,grupos))"
   ]
  },
  {
   "cell_type": "code",
   "execution_count": 54,
   "id": "charitable-donna",
   "metadata": {},
   "outputs": [],
   "source": [
    "def empiezaconr_otra(x):\n",
    "    return x.lower().startswith(\"r\")"
   ]
  },
  {
   "cell_type": "code",
   "execution_count": 56,
   "id": "impressive-berlin",
   "metadata": {},
   "outputs": [
    {
     "data": {
      "text/plain": [
       "False"
      ]
     },
     "execution_count": 56,
     "metadata": {},
     "output_type": "execute_result"
    }
   ],
   "source": [
    "empiezaconr_otra(\"gi\")"
   ]
  },
  {
   "cell_type": "code",
   "execution_count": 57,
   "id": "literary-brunswick",
   "metadata": {},
   "outputs": [
    {
     "data": {
      "text/plain": [
       "['Rufus T. Firefly', 'Rusos Blancos']"
      ]
     },
     "execution_count": 57,
     "metadata": {},
     "output_type": "execute_result"
    }
   ],
   "source": [
    "list(filter(empiezaconr_otra, grupos))"
   ]
  },
  {
   "cell_type": "markdown",
   "id": "younger-influence",
   "metadata": {},
   "source": [
    "#### Extra: ¡Hazlo con lambda!"
   ]
  },
  {
   "cell_type": "code",
   "execution_count": 61,
   "id": "direct-costs",
   "metadata": {},
   "outputs": [
    {
     "data": {
      "text/plain": [
       "['Rufus T. Firefly', 'Rusos Blancos']"
      ]
     },
     "execution_count": 61,
     "metadata": {},
     "output_type": "execute_result"
    }
   ],
   "source": [
    "list(filter(lambda x: x[0].lower() == \"r\", grupos))"
   ]
  },
  {
   "cell_type": "code",
   "execution_count": 62,
   "id": "broadband-caribbean",
   "metadata": {},
   "outputs": [
    {
     "data": {
      "text/plain": [
       "[2, 4, 6]"
      ]
     },
     "execution_count": 62,
     "metadata": {},
     "output_type": "execute_result"
    }
   ],
   "source": [
    "list(filter(lambda x: x % 2 == 0, numeros))"
   ]
  },
  {
   "cell_type": "markdown",
   "id": "informal-climb",
   "metadata": {},
   "source": [
    "### Reduce"
   ]
  },
  {
   "cell_type": "markdown",
   "id": "challenging-valve",
   "metadata": {},
   "source": [
    "Esta función no es una función predefinida, lo cual implica importar antes la biblioteca functools para su uso. La función reduce() aplica de forma acumulativa la función f() sobre los elementos del iterable. El acumulador puede inicializarse con un tercer argumento opcional. El resultado es el valor final del acumulador.\n",
    "```python\n",
    "reduce(función, iterable[, inicial])\n",
    "```"
   ]
  },
  {
   "cell_type": "code",
   "execution_count": 63,
   "id": "brilliant-barrier",
   "metadata": {},
   "outputs": [],
   "source": [
    "from functools import reduce"
   ]
  },
  {
   "cell_type": "markdown",
   "id": "korean-partnership",
   "metadata": {},
   "source": [
    "⚠️ Reduce es un poco más complicado de entender que map() y filter() así que veamos paso a paso el siguiente ejemplo ⚠️"
   ]
  },
  {
   "cell_type": "code",
   "execution_count": 64,
   "id": "wicked-investigator",
   "metadata": {},
   "outputs": [
    {
     "name": "stdout",
     "output_type": "stream",
     "text": [
      "16\n"
     ]
    }
   ],
   "source": [
    "def suma(x,y):\n",
    "    return x +y\n",
    "lista = [2,4,7,3]\n",
    "print(reduce(suma,lista))"
   ]
  },
  {
   "cell_type": "markdown",
   "id": "exceptional-auditor",
   "metadata": {},
   "source": [
    "#### ¿Qué ha pasado?\n",
    "- Empezamos con una lista [2, 4, 7, 3] y pasamos la función suma (x, y) a reduce ( ) junto con esta lista, sin un valor inicial\n",
    "\n",
    "- reduce() llama a suma(2, 4), y suma() devuelve 6\n",
    "\n",
    "- reduce() llama a suma(6, 7) (resultado de la llamada anterior a suma() y el siguiente elemento de la lista como parámetros), y suma() devuelve 13\n",
    "\n",
    "- reduce() llama a suma(13, 3), y suma() devuelve 16\n",
    "\n",
    "Como no quedan más elementos en la secuencia, reduce() devuelve 16"
   ]
  },
  {
   "cell_type": "markdown",
   "id": "encouraging-modeling",
   "metadata": {},
   "source": [
    "Factorial:     \n",
    "Cantidad que resulta de la multiplicación de determinado número natural por todos los números naturales que le anteceden excluyendo el cero; se representa por n!"
   ]
  },
  {
   "cell_type": "code",
   "execution_count": 65,
   "id": "electrical-knitting",
   "metadata": {},
   "outputs": [],
   "source": [
    "def factorial(n):\n",
    "    \"\"\"Función que calcula el factorial de un número entero positivo.\n",
    "    Parámetros\n",
    "    n: Es un entero positivo.\n",
    "    Devuelve el factorial de n.\n",
    "    \"\"\"\n",
    "    temp = 1\n",
    "    for i in range(n):\n",
    "        temp *= i+1\n",
    "    return temp"
   ]
  },
  {
   "cell_type": "code",
   "execution_count": 66,
   "id": "lesbian-theory",
   "metadata": {},
   "outputs": [
    {
     "data": {
      "text/plain": [
       "5040"
      ]
     },
     "execution_count": 66,
     "metadata": {},
     "output_type": "execute_result"
    }
   ],
   "source": [
    "factorial(7)"
   ]
  },
  {
   "cell_type": "code",
   "execution_count": null,
   "id": "proof-hundred",
   "metadata": {},
   "outputs": [],
   "source": [
    "#Ahora Usemos Reduce"
   ]
  },
  {
   "cell_type": "markdown",
   "id": "northern-elephant",
   "metadata": {},
   "source": [
    "### Primero lo hacemos con funciones"
   ]
  },
  {
   "cell_type": "code",
   "execution_count": 69,
   "id": "metric-ranking",
   "metadata": {},
   "outputs": [
    {
     "data": {
      "text/plain": [
       "[1, 2, 3, 4, 5, 6, 7, 8]"
      ]
     },
     "execution_count": 69,
     "metadata": {},
     "output_type": "execute_result"
    }
   ],
   "source": [
    "nums = range(1,9)\n",
    "list(nums)"
   ]
  },
  {
   "cell_type": "code",
   "execution_count": 73,
   "id": "opponent-detector",
   "metadata": {},
   "outputs": [],
   "source": [
    "def multiplica(a,b):\n",
    "    print(a,b)\n",
    "    return a * b"
   ]
  },
  {
   "cell_type": "code",
   "execution_count": 74,
   "id": "sapphire-official",
   "metadata": {},
   "outputs": [
    {
     "name": "stdout",
     "output_type": "stream",
     "text": [
      "1 2\n",
      "2 3\n",
      "6 4\n",
      "24 5\n",
      "120 6\n",
      "720 7\n",
      "5040 8\n",
      "40320\n"
     ]
    }
   ],
   "source": [
    "print(reduce(multiplica,nums))"
   ]
  },
  {
   "cell_type": "markdown",
   "id": "premier-familiar",
   "metadata": {},
   "source": [
    "### Extra: ¡Hazlo con lambda!"
   ]
  },
  {
   "cell_type": "code",
   "execution_count": 76,
   "id": "random-spring",
   "metadata": {},
   "outputs": [
    {
     "data": {
      "text/plain": [
       "40320"
      ]
     },
     "execution_count": 76,
     "metadata": {},
     "output_type": "execute_result"
    }
   ],
   "source": [
    "n = 9\n",
    "reduce(lambda x,y: x*y, range(1,n))"
   ]
  },
  {
   "cell_type": "markdown",
   "id": "innocent-alberta",
   "metadata": {},
   "source": [
    "## Summary\n",
    "- Hemos aprendido que lambda tiene sentido\n",
    "- Entendemos para qué usar lambda (no tenemos que definir funciones y tardamos menos)\n",
    "- Map aplica una función (la que yo quiera) a los elementos de una lista y me devuelve un iterador\n",
    "- Filter aplica una función a los elementos de una lista y me devuelve también un iterador del que puedo sacar una lista filtrada con los elementos que al pasar por la función devuelvan TRUE\n",
    "- Reduce según Pedro es una puta movida. Devuelve un solo elemento fruto de aplicar una función a todos los elementos de la lista pero almacenando el resultado y acumulándolo. Siempre tiene que ser una función que reciba dos argumentos."
   ]
  },
  {
   "cell_type": "markdown",
   "id": "jewish-configuration",
   "metadata": {},
   "source": [
    "## Further materials\n",
    "http://web.mit.edu/6.005/www/sp16/classes/25-map-filter-reduce/    \n",
    "https://docs.hektorprofe.net/python/funcionalidades-avanzadas/funciones-lambda/"
   ]
  }
 ],
 "metadata": {
  "kernelspec": {
   "display_name": "Python 3 (ipykernel)",
   "language": "python",
   "name": "python3"
  },
  "language_info": {
   "codemirror_mode": {
    "name": "ipython",
    "version": 3
   },
   "file_extension": ".py",
   "mimetype": "text/x-python",
   "name": "python",
   "nbconvert_exporter": "python",
   "pygments_lexer": "ipython3",
   "version": "3.9.7"
  },
  "toc": {
   "base_numbering": 1,
   "nav_menu": {},
   "number_sections": true,
   "sideBar": true,
   "skip_h1_title": true,
   "title_cell": "Table of Contents",
   "title_sidebar": "Contents",
   "toc_cell": true,
   "toc_position": {
    "height": "calc(100% - 180px)",
    "left": "10px",
    "top": "150px",
    "width": "211px"
   },
   "toc_section_display": true,
   "toc_window_display": false
  }
 },
 "nbformat": 4,
 "nbformat_minor": 5
}
