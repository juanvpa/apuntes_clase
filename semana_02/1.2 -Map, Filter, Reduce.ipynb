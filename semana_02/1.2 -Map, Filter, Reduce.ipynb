{
 "cells": [
  {
   "cell_type": "markdown",
   "id": "bottom-commerce",
   "metadata": {},
   "source": [
    "# Lambda & Map, Filter, Reduce"
   ]
  },
  {
   "cell_type": "markdown",
   "id": "twelve-decrease",
   "metadata": {},
   "source": [
    "![gif](https://media.giphy.com/media/11lBqvULyT9C36/giphy.gif)"
   ]
  },
  {
   "cell_type": "markdown",
   "id": "rising-buyer",
   "metadata": {
    "toc": true
   },
   "source": [
    "<h1>Table of Contents<span class=\"tocSkip\"></span></h1>\n",
    "<div class=\"toc\"><ul class=\"toc-item\"><li><ul class=\"toc-item\"><li><span><a href=\"#A-cada-estudiante-se-le-asigna-un-tema-al-azar\" data-toc-modified-id=\"A-cada-estudiante-se-le-asigna-un-tema-al-azar-0.1\"><span class=\"toc-item-num\">0.1&nbsp;&nbsp;</span>A cada estudiante se le asigna un tema al azar</a></span></li></ul></li><li><span><a href=\"#Empezamos\" data-toc-modified-id=\"Empezamos-1\"><span class=\"toc-item-num\">1&nbsp;&nbsp;</span>Empezamos</a></span></li><li><span><a href=\"#Crear-grupos-con-otras-personas-que-hayan-estudiado-la-misma-función\" data-toc-modified-id=\"Crear-grupos-con-otras-personas-que-hayan-estudiado-la-misma-función-2\"><span class=\"toc-item-num\">2&nbsp;&nbsp;</span>Crear grupos con otras personas que hayan estudiado la misma función</a></span></li><li><span><a href=\"#Crea-grupos-con-otras-personas-que-hayan-estudiado-otras-funciones\" data-toc-modified-id=\"Crea-grupos-con-otras-personas-que-hayan-estudiado-otras-funciones-3\"><span class=\"toc-item-num\">3&nbsp;&nbsp;</span>Crea grupos con otras personas que hayan estudiado otras funciones</a></span></li><li><span><a href=\"#Map,-Filter,-Reduce\" data-toc-modified-id=\"Map,-Filter,-Reduce-4\"><span class=\"toc-item-num\">4&nbsp;&nbsp;</span>Map, Filter, Reduce</a></span><ul class=\"toc-item\"><li><span><a href=\"#Map\" data-toc-modified-id=\"Map-4.1\"><span class=\"toc-item-num\">4.1&nbsp;&nbsp;</span>Map</a></span><ul class=\"toc-item\"><li><span><a href=\"#Primero-lo-hacemos-con-funciones\" data-toc-modified-id=\"Primero-lo-hacemos-con-funciones-4.1.1\"><span class=\"toc-item-num\">4.1.1&nbsp;&nbsp;</span>Primero lo hacemos con funciones</a></span></li><li><span><a href=\"#Extra:-¡Hazlo-con-lambda!\" data-toc-modified-id=\"Extra:-¡Hazlo-con-lambda!-4.1.2\"><span class=\"toc-item-num\">4.1.2&nbsp;&nbsp;</span>Extra: ¡Hazlo con lambda!</a></span></li></ul></li><li><span><a href=\"#Filter\" data-toc-modified-id=\"Filter-4.2\"><span class=\"toc-item-num\">4.2&nbsp;&nbsp;</span>Filter</a></span><ul class=\"toc-item\"><li><span><a href=\"#Primero-lo-hacemos-con-funciones\" data-toc-modified-id=\"Primero-lo-hacemos-con-funciones-4.2.1\"><span class=\"toc-item-num\">4.2.1&nbsp;&nbsp;</span>Primero lo hacemos con funciones</a></span></li><li><span><a href=\"#Extra:-¡Hazlo-con-lambda!\" data-toc-modified-id=\"Extra:-¡Hazlo-con-lambda!-4.2.2\"><span class=\"toc-item-num\">4.2.2&nbsp;&nbsp;</span>Extra: ¡Hazlo con lambda!</a></span></li></ul></li><li><span><a href=\"#Reduce\" data-toc-modified-id=\"Reduce-4.3\"><span class=\"toc-item-num\">4.3&nbsp;&nbsp;</span>Reduce</a></span><ul class=\"toc-item\"><li><span><a href=\"#¿Qué-ha-pasado?\" data-toc-modified-id=\"¿Qué-ha-pasado?-4.3.1\"><span class=\"toc-item-num\">4.3.1&nbsp;&nbsp;</span>¿Qué ha pasado?</a></span></li></ul></li><li><span><a href=\"#Primero-lo-hacemos-con-funciones\" data-toc-modified-id=\"Primero-lo-hacemos-con-funciones-4.4\"><span class=\"toc-item-num\">4.4&nbsp;&nbsp;</span>Primero lo hacemos con funciones</a></span></li><li><span><a href=\"#Extra:-¡Hazlo-con-lambda!\" data-toc-modified-id=\"Extra:-¡Hazlo-con-lambda!-4.5\"><span class=\"toc-item-num\">4.5&nbsp;&nbsp;</span>Extra: ¡Hazlo con lambda!</a></span></li></ul></li><li><span><a href=\"#Summary\" data-toc-modified-id=\"Summary-5\"><span class=\"toc-item-num\">5&nbsp;&nbsp;</span>Summary</a></span></li><li><span><a href=\"#Further-materials\" data-toc-modified-id=\"Further-materials-6\"><span class=\"toc-item-num\">6&nbsp;&nbsp;</span>Further materials</a></span></li></ul></div>"
   ]
  },
  {
   "cell_type": "markdown",
   "id": "stunning-kansas",
   "metadata": {},
   "source": [
    "Vamos a jugar a un pequeño juego en el que vais a ser los protagonistas de la clase\n",
    "![otrogif](https://media.giphy.com/media/dM2xuxnJCg4H6/giphy.gif)"
   ]
  },
  {
   "cell_type": "markdown",
   "id": "corrected-liberal",
   "metadata": {},
   "source": [
    "### A cada estudiante se le asigna un tema al azar"
   ]
  },
  {
   "cell_type": "code",
   "execution_count": null,
   "id": "blessed-scale",
   "metadata": {},
   "outputs": [],
   "source": [
    "estudiantes = ['Silvia',\n",
    " 'Roberto',\n",
    " 'Pedro',\n",
    " 'Nicolás',\n",
    " 'María Pérez',\n",
    " 'María Delás',\n",
    " 'Lydia',\n",
    " 'Luis',\n",
    " 'Juan Vega',\n",
    " 'Juan Pérez',\n",
    " 'José',\n",
    " 'Guillermo',\n",
    " 'Fernando',\n",
    " 'Ester',\n",
    " 'Elliot',\n",
    " 'Eduardo',\n",
    " 'Daniela',\n",
    " 'Daniel',\n",
    " 'Carlos',\n",
    " 'Blanca',\n",
    " 'Beatriz',\n",
    " 'Andrés',\n",
    " 'Andres',\n",
    " 'Ana',\n",
    " 'Alvaro',\n",
    " 'Alfonso']"
   ]
  },
  {
   "cell_type": "code",
   "execution_count": null,
   "id": "downtown-holder",
   "metadata": {},
   "outputs": [],
   "source": []
  },
  {
   "cell_type": "code",
   "execution_count": null,
   "id": "atomic-headset",
   "metadata": {},
   "outputs": [],
   "source": []
  },
  {
   "cell_type": "code",
   "execution_count": null,
   "id": "perfect-stations",
   "metadata": {},
   "outputs": [],
   "source": []
  },
  {
   "cell_type": "code",
   "execution_count": null,
   "id": "prime-outside",
   "metadata": {},
   "outputs": [],
   "source": []
  },
  {
   "cell_type": "code",
   "execution_count": null,
   "id": "noticed-planner",
   "metadata": {
    "scrolled": true
   },
   "outputs": [],
   "source": []
  },
  {
   "cell_type": "markdown",
   "id": "continent-adobe",
   "metadata": {},
   "source": [
    "## Empezamos"
   ]
  },
  {
   "cell_type": "markdown",
   "id": "meaning-count",
   "metadata": {},
   "source": [
    "Tienes 10 minutos para explorar y comprender la función que te han asignado por tu cuenta. Puede que estos enlaces te resulten útiles:\n",
    "\n",
    "* [enlace 1](https://medium.com/swlh/higher-order-functions-in-python-map-filter-and-reduce-34299fee1b21)\n",
    "* [enlace 2](https://www.learnpython.org/en/Map,_Filter,_Reduce)\n",
    "* [enlace 3](https://stackabuse.com/map-filter-and-reduce-in-python-with-examples)"
   ]
  },
  {
   "cell_type": "markdown",
   "id": "unknown-tomorrow",
   "metadata": {},
   "source": [
    "## Crear grupos con otras personas que hayan estudiado la misma función\n",
    "\n",
    "Tienes otros 10 minutos para compartir pensamientos y dudas con otros estudiantes que hayan leído sobre el mismo tema."
   ]
  },
  {
   "cell_type": "markdown",
   "id": "standing-missile",
   "metadata": {},
   "source": [
    "## Crea grupos con otras personas que hayan estudiado otras funciones\n",
    "\n",
    "En esta parte del juego se te asigna un grupo en el que eres el experto en tu función.      \n",
    "Cada miembro del grupo tiene 5 minutos para explicar su función a los demás miembros del equipo."
   ]
  },
  {
   "cell_type": "code",
   "execution_count": null,
   "id": "editorial-gender",
   "metadata": {},
   "outputs": [],
   "source": [
    "map_expertos = list(filter(lambda x: x[1] == \"map\",todojunto))\n",
    "filter_expertos = list(filter(lambda x : x[1] == \"filter\", todojunto))\n",
    "reduce_expertos = list(filter(lambda x: x [1] == \"reduce\", todojunto))"
   ]
  },
  {
   "cell_type": "code",
   "execution_count": null,
   "id": "therapeutic-hollow",
   "metadata": {},
   "outputs": [],
   "source": [
    "print(len(map_expertos))\n",
    "print(len(filter_expertos))\n",
    "print(len(reduce_expertos))"
   ]
  },
  {
   "cell_type": "code",
   "execution_count": null,
   "id": "otherwise-moment",
   "metadata": {},
   "outputs": [],
   "source": [
    "map_expertos.append(\"HOLA\")"
   ]
  },
  {
   "cell_type": "code",
   "execution_count": null,
   "id": "convertible-banking",
   "metadata": {},
   "outputs": [],
   "source": [
    "i = 1\n",
    "for gente in zip(map_expertos, filter_expertos, reduce_expertos):\n",
    "    print(f\"Grupo {i}: {[[y][0]  for y in gente]}\")\n",
    "    i += 1"
   ]
  },
  {
   "cell_type": "markdown",
   "id": "collectible-charter",
   "metadata": {},
   "source": [
    "## Map, Filter, Reduce"
   ]
  },
  {
   "cell_type": "markdown",
   "id": "cardiac-sentence",
   "metadata": {},
   "source": [
    "Existen tres funciones que nos resultarán muy prácticas cuando trabajemos con contenedores e iteradores. Estas funciones facilitan ciertas operaciones básicas y habituales sobre colecciones iterables de datos, como eliminar elementos que no cumplan cierta condición, calcular un resultado a partir de los datos contenidos o aplicar una transformación a cada elemento. Vamos a verlas con ejemplos de uso:"
   ]
  },
  {
   "cell_type": "markdown",
   "id": "distinct-translator",
   "metadata": {},
   "source": [
    "### Map"
   ]
  },
  {
   "cell_type": "markdown",
   "id": "ceramic-blend",
   "metadata": {},
   "source": [
    "La función map() toma una función y una lista y aplica esa función a cada elemento de esa lista, produciendo una nueva lista.\n",
    "```python\n",
    "map(function_to_apply, list_of_inputs)\n",
    "```"
   ]
  },
  {
   "cell_type": "code",
   "execution_count": null,
   "id": "expensive-birthday",
   "metadata": {},
   "outputs": [],
   "source": [
    "# Manos a la obra"
   ]
  },
  {
   "cell_type": "markdown",
   "id": "capital-matrix",
   "metadata": {},
   "source": [
    "#### Primero lo hacemos con funciones"
   ]
  },
  {
   "cell_type": "code",
   "execution_count": null,
   "id": "italic-contamination",
   "metadata": {},
   "outputs": [],
   "source": []
  },
  {
   "cell_type": "code",
   "execution_count": null,
   "id": "occupied-defeat",
   "metadata": {},
   "outputs": [],
   "source": []
  },
  {
   "cell_type": "code",
   "execution_count": null,
   "id": "narrow-bradford",
   "metadata": {},
   "outputs": [],
   "source": []
  },
  {
   "cell_type": "markdown",
   "id": "removable-southeast",
   "metadata": {},
   "source": [
    "La función map devuelve un iterador, así que tenemos que utilizar el constructor list()"
   ]
  },
  {
   "cell_type": "code",
   "execution_count": null,
   "id": "competitive-citizen",
   "metadata": {},
   "outputs": [],
   "source": []
  },
  {
   "cell_type": "code",
   "execution_count": null,
   "id": "renewable-incident",
   "metadata": {},
   "outputs": [],
   "source": []
  },
  {
   "cell_type": "code",
   "execution_count": null,
   "id": "british-flour",
   "metadata": {},
   "outputs": [],
   "source": []
  },
  {
   "cell_type": "code",
   "execution_count": null,
   "id": "unique-blind",
   "metadata": {},
   "outputs": [],
   "source": []
  },
  {
   "cell_type": "code",
   "execution_count": null,
   "id": "korean-snake",
   "metadata": {},
   "outputs": [],
   "source": []
  },
  {
   "cell_type": "markdown",
   "id": "trained-algeria",
   "metadata": {},
   "source": [
    "#### Extra: ¡Hazlo con lambda!"
   ]
  },
  {
   "cell_type": "code",
   "execution_count": null,
   "id": "functioning-alpha",
   "metadata": {},
   "outputs": [],
   "source": []
  },
  {
   "cell_type": "code",
   "execution_count": null,
   "id": "noticed-greek",
   "metadata": {},
   "outputs": [],
   "source": []
  },
  {
   "cell_type": "markdown",
   "id": "connected-found",
   "metadata": {},
   "source": [
    "### Filter"
   ]
  },
  {
   "cell_type": "markdown",
   "id": "boring-aluminum",
   "metadata": {},
   "source": [
    "La función filter() filtra una lista de elementos para los que una función devuelve True.\n",
    "```python\n",
    "filter(una_funcion, una_lista)\n",
    "```"
   ]
  },
  {
   "cell_type": "markdown",
   "id": "alpine-shakespeare",
   "metadata": {},
   "source": [
    "Imagina que quieres filtrar una lista de números para obtener solo los valores pares."
   ]
  },
  {
   "cell_type": "code",
   "execution_count": null,
   "id": "voluntary-clerk",
   "metadata": {},
   "outputs": [],
   "source": []
  },
  {
   "cell_type": "code",
   "execution_count": null,
   "id": "fatal-brake",
   "metadata": {},
   "outputs": [],
   "source": [
    "# Mejor aplicamos el filter"
   ]
  },
  {
   "cell_type": "markdown",
   "id": "considered-database",
   "metadata": {},
   "source": [
    "#### Primero lo hacemos con funciones"
   ]
  },
  {
   "cell_type": "code",
   "execution_count": null,
   "id": "proved-anniversary",
   "metadata": {},
   "outputs": [],
   "source": []
  },
  {
   "cell_type": "code",
   "execution_count": null,
   "id": "proper-colleague",
   "metadata": {},
   "outputs": [],
   "source": []
  },
  {
   "cell_type": "code",
   "execution_count": null,
   "id": "approved-inquiry",
   "metadata": {},
   "outputs": [],
   "source": []
  },
  {
   "cell_type": "markdown",
   "id": "gothic-limit",
   "metadata": {},
   "source": [
    "Imagina que quieres filtrar una lista y quedarte solo con los grupos que empiezan con la letra R"
   ]
  },
  {
   "cell_type": "code",
   "execution_count": null,
   "id": "usual-contest",
   "metadata": {},
   "outputs": [],
   "source": [
    "grupos = [\"Rufus T. Firefly\", \"Standstill\", \"La M.O.D.A\", \"The Low Flying Panic Attack\", \"Rusos Blancos\"]"
   ]
  },
  {
   "cell_type": "code",
   "execution_count": null,
   "id": "attractive-universe",
   "metadata": {},
   "outputs": [],
   "source": []
  },
  {
   "cell_type": "code",
   "execution_count": null,
   "id": "fatal-flexibility",
   "metadata": {},
   "outputs": [],
   "source": []
  },
  {
   "cell_type": "code",
   "execution_count": null,
   "id": "reasonable-senior",
   "metadata": {},
   "outputs": [],
   "source": []
  },
  {
   "cell_type": "code",
   "execution_count": null,
   "id": "charitable-donna",
   "metadata": {},
   "outputs": [],
   "source": []
  },
  {
   "cell_type": "markdown",
   "id": "younger-influence",
   "metadata": {},
   "source": [
    "#### Extra: ¡Hazlo con lambda!"
   ]
  },
  {
   "cell_type": "code",
   "execution_count": null,
   "id": "direct-costs",
   "metadata": {},
   "outputs": [],
   "source": []
  },
  {
   "cell_type": "code",
   "execution_count": null,
   "id": "broadband-caribbean",
   "metadata": {},
   "outputs": [],
   "source": []
  },
  {
   "cell_type": "markdown",
   "id": "informal-climb",
   "metadata": {},
   "source": [
    "### Reduce"
   ]
  },
  {
   "cell_type": "markdown",
   "id": "challenging-valve",
   "metadata": {},
   "source": [
    "Esta función no es una función predefinida, lo cual implica importar antes la biblioteca functools para su uso. La función reduce() aplica de forma acumulativa la función f() sobre los elementos del iterable. El acumulador puede inicializarse con un tercer argumento opcional. El resultado es el valor final del acumulador.\n",
    "```python\n",
    "reduce(función, iterable[, inicial])\n",
    "```"
   ]
  },
  {
   "cell_type": "code",
   "execution_count": null,
   "id": "brilliant-barrier",
   "metadata": {},
   "outputs": [],
   "source": [
    "from functools import reduce"
   ]
  },
  {
   "cell_type": "markdown",
   "id": "korean-partnership",
   "metadata": {},
   "source": [
    "⚠️ Reduce es un poco más complicado de entender que map() y filter() así que veamos paso a paso el siguiente ejemplo ⚠️"
   ]
  },
  {
   "cell_type": "code",
   "execution_count": null,
   "id": "wicked-investigator",
   "metadata": {},
   "outputs": [],
   "source": [
    "def suma(x,y):\n",
    "    return x +y\n",
    "lista = [2,4,7,3]\n",
    "print(reduce(suma,lista))"
   ]
  },
  {
   "cell_type": "markdown",
   "id": "exceptional-auditor",
   "metadata": {},
   "source": [
    "#### ¿Qué ha pasado?\n",
    "- Empezamos con una lista [2, 4, 7, 3] y pasamos la función suma (x, y) a reduce ( ) junto con esta lista, sin un valor inicial\n",
    "\n",
    "- reduce() llama a suma(2, 4), y suma() devuelve 6\n",
    "\n",
    "- reduce() llama a suma(6, 7) (resultado de la llamada anterior a suma() y el siguiente elemento de la lista como parámetros), y suma() devuelve 13\n",
    "\n",
    "- reduce() llama a suma(13, 3), y suma() devuelve 16\n",
    "\n",
    "Como no quedan más elementos en la secuencia, reduce() devuelve 16"
   ]
  },
  {
   "cell_type": "markdown",
   "id": "encouraging-modeling",
   "metadata": {},
   "source": [
    "Factorial:     \n",
    "Cantidad que resulta de la multiplicación de determinado número natural por todos los números naturales que le anteceden excluyendo el cero; se representa por n!"
   ]
  },
  {
   "cell_type": "code",
   "execution_count": null,
   "id": "electrical-knitting",
   "metadata": {},
   "outputs": [],
   "source": []
  },
  {
   "cell_type": "code",
   "execution_count": null,
   "id": "lesbian-theory",
   "metadata": {},
   "outputs": [],
   "source": []
  },
  {
   "cell_type": "code",
   "execution_count": null,
   "id": "proof-hundred",
   "metadata": {},
   "outputs": [],
   "source": [
    "#Ahora Usemos Reduce"
   ]
  },
  {
   "cell_type": "markdown",
   "id": "northern-elephant",
   "metadata": {},
   "source": [
    "### Primero lo hacemos con funciones"
   ]
  },
  {
   "cell_type": "code",
   "execution_count": null,
   "id": "metric-ranking",
   "metadata": {},
   "outputs": [],
   "source": []
  },
  {
   "cell_type": "code",
   "execution_count": null,
   "id": "opponent-detector",
   "metadata": {},
   "outputs": [],
   "source": []
  },
  {
   "cell_type": "code",
   "execution_count": null,
   "id": "sapphire-official",
   "metadata": {},
   "outputs": [],
   "source": []
  },
  {
   "cell_type": "markdown",
   "id": "premier-familiar",
   "metadata": {},
   "source": [
    "### Extra: ¡Hazlo con lambda!"
   ]
  },
  {
   "cell_type": "code",
   "execution_count": null,
   "id": "random-spring",
   "metadata": {},
   "outputs": [],
   "source": []
  },
  {
   "cell_type": "markdown",
   "id": "innocent-alberta",
   "metadata": {},
   "source": [
    "## Summary\n"
   ]
  },
  {
   "cell_type": "markdown",
   "id": "jewish-configuration",
   "metadata": {},
   "source": [
    "## Further materials\n",
    "http://web.mit.edu/6.005/www/sp16/classes/25-map-filter-reduce/    \n",
    "https://docs.hektorprofe.net/python/funcionalidades-avanzadas/funciones-lambda/"
   ]
  }
 ],
 "metadata": {
  "kernelspec": {
   "display_name": "Python 3 (ipykernel)",
   "language": "python",
   "name": "python3"
  },
  "language_info": {
   "codemirror_mode": {
    "name": "ipython",
    "version": 3
   },
   "file_extension": ".py",
   "mimetype": "text/x-python",
   "name": "python",
   "nbconvert_exporter": "python",
   "pygments_lexer": "ipython3",
   "version": "3.9.7"
  },
  "toc": {
   "base_numbering": 1,
   "nav_menu": {},
   "number_sections": true,
   "sideBar": true,
   "skip_h1_title": true,
   "title_cell": "Table of Contents",
   "title_sidebar": "Contents",
   "toc_cell": true,
   "toc_position": {
    "height": "calc(100% - 180px)",
    "left": "10px",
    "top": "150px",
    "width": "211px"
   },
   "toc_section_display": true,
   "toc_window_display": false
  }
 },
 "nbformat": 4,
 "nbformat_minor": 5
}
