{
 "cells": [
  {
   "cell_type": "code",
   "execution_count": null,
   "id": "7c2a278e",
   "metadata": {},
   "outputs": [],
   "source": [
    "- FUNCIÓN FILTER()\n",
    "    \n",
    "    A PARTIR DE UNA LISTA \"numeros\" Y UNA FUNCIÓN CONDICIONAL \"multiplos\"\n",
    "    ES CAPAZ DE DEVOLVER UNA LISTA CON LOS ELEMENTOS QUE CUMPLAN ESA CONDICIÓN"
   ]
  },
  {
   "cell_type": "code",
   "execution_count": 7,
   "id": "924ffa81",
   "metadata": {},
   "outputs": [],
   "source": [
    "numeros = [1,2,4,5,10,15,21]"
   ]
  },
  {
   "cell_type": "code",
   "execution_count": 34,
   "id": "7d465cff",
   "metadata": {},
   "outputs": [],
   "source": [
    "def multiplos(num):\n",
    "    if num % 5 ==0:\n",
    "        return True\n",
    "lista_new = list(filter(multiplos, numeros))"
   ]
  },
  {
   "cell_type": "code",
   "execution_count": 35,
   "id": "43a32e7e",
   "metadata": {},
   "outputs": [
    {
     "data": {
      "text/plain": [
       "<filter at 0x10ff9c9d0>"
      ]
     },
     "execution_count": 35,
     "metadata": {},
     "output_type": "execute_result"
    }
   ],
   "source": [
    "filter(multiplos,numeros)"
   ]
  },
  {
   "cell_type": "code",
   "execution_count": 28,
   "id": "1ef81fcb",
   "metadata": {},
   "outputs": [
    {
     "name": "stdout",
     "output_type": "stream",
     "text": [
      "[5, 10, 15]\n"
     ]
    }
   ],
   "source": [
    "print(lista_new)"
   ]
  },
  {
   "cell_type": "code",
   "execution_count": 24,
   "id": "859dddc9",
   "metadata": {},
   "outputs": [
    {
     "data": {
      "text/plain": [
       "type"
      ]
     },
     "execution_count": 24,
     "metadata": {},
     "output_type": "execute_result"
    }
   ],
   "source": [
    "type(filter)"
   ]
  },
  {
   "cell_type": "code",
   "execution_count": 39,
   "id": "217b77f3",
   "metadata": {},
   "outputs": [],
   "source": [
    "nueva_lambda = list(filter(lambda num:num % 5 ==0,numeros))"
   ]
  },
  {
   "cell_type": "code",
   "execution_count": 40,
   "id": "38b255e6",
   "metadata": {},
   "outputs": [
    {
     "name": "stdout",
     "output_type": "stream",
     "text": [
      "[5, 10, 15]\n"
     ]
    }
   ],
   "source": [
    "print(nueva_lambda)"
   ]
  },
  {
   "cell_type": "code",
   "execution_count": null,
   "id": "8c4509b0",
   "metadata": {},
   "outputs": [],
   "source": []
  }
 ],
 "metadata": {
  "kernelspec": {
   "display_name": "Python 3 (ipykernel)",
   "language": "python",
   "name": "python3"
  },
  "language_info": {
   "codemirror_mode": {
    "name": "ipython",
    "version": 3
   },
   "file_extension": ".py",
   "mimetype": "text/x-python",
   "name": "python",
   "nbconvert_exporter": "python",
   "pygments_lexer": "ipython3",
   "version": "3.9.7"
  }
 },
 "nbformat": 4,
 "nbformat_minor": 5
}
