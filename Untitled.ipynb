{
 "cells": [
  {
   "cell_type": "code",
   "execution_count": 2,
   "id": "3edd97d4",
   "metadata": {},
   "outputs": [
    {
     "name": "stdout",
     "output_type": "stream",
     "text": [
      "Collecting requests\n",
      "  Downloading requests-2.26.0-py2.py3-none-any.whl (62 kB)\n",
      "\u001b[K     |████████████████████████████████| 62 kB 833 kB/s eta 0:00:01\n",
      "\u001b[?25hRequirement already satisfied: certifi>=2017.4.17 in /usr/local/Caskroom/miniconda/base/envs/ironhack/lib/python3.8/site-packages (from requests) (2021.10.8)\n",
      "Collecting idna<4,>=2.5\n",
      "  Downloading idna-3.3-py3-none-any.whl (61 kB)\n",
      "\u001b[K     |████████████████████████████████| 61 kB 1.8 MB/s eta 0:00:01\n",
      "\u001b[?25hCollecting urllib3<1.27,>=1.21.1\n",
      "  Downloading urllib3-1.26.7-py2.py3-none-any.whl (138 kB)\n",
      "\u001b[K     |████████████████████████████████| 138 kB 2.7 MB/s eta 0:00:01\n",
      "\u001b[?25hCollecting charset-normalizer~=2.0.0\n",
      "  Downloading charset_normalizer-2.0.7-py3-none-any.whl (38 kB)\n",
      "Installing collected packages: urllib3, idna, charset-normalizer, requests\n",
      "Successfully installed charset-normalizer-2.0.7 idna-3.3 requests-2.26.0 urllib3-1.26.7\n"
     ]
    }
   ],
   "source": [
    "!pip3 install requests"
   ]
  },
  {
   "cell_type": "code",
   "execution_count": 4,
   "id": "3fc768b4",
   "metadata": {},
   "outputs": [],
   "source": [
    "import requests"
   ]
  },
  {
   "cell_type": "code",
   "execution_count": 5,
   "id": "ff172e3a",
   "metadata": {},
   "outputs": [],
   "source": [
    "request_currency = requests.get(\"https://cdn.jsdelivr.net\")"
   ]
  },
  {
   "cell_type": "code",
   "execution_count": 6,
   "id": "636e8a08",
   "metadata": {},
   "outputs": [
    {
     "data": {
      "text/plain": [
       "<Response [200]>"
      ]
     },
     "execution_count": 6,
     "metadata": {},
     "output_type": "execute_result"
    }
   ],
   "source": [
    "request_currency"
   ]
  },
  {
   "cell_type": "code",
   "execution_count": 7,
   "id": "ad6eac41",
   "metadata": {},
   "outputs": [
    {
     "data": {
      "text/plain": [
       "{'Date': 'Thu, 04 Nov 2021 10:05:52 GMT', 'Content-Type': 'text/html; charset=utf-8', 'Transfer-Encoding': 'chunked', 'Connection': 'keep-alive', 'Vary': 'Accept-Encoding', 'Server': 'BunnyCDN-CZ1-562', 'CDN-PullZone': '499836', 'CDN-Uid': 'b1941f61-b576-4f40-80de-5677acb38f74', 'CDN-RequestCountryCode': 'ES', 'Alt-Svc': 'h3=\":443\", h3-29=\":443\", h3-28=\":443\", h3-27=\":443\"', 'Cache-Control': 'public, max-age=600, stale-while-revalidate=600, stale-if-error=86400', 'CDN-CachedAt': '11/04/2021 11:00:13', 'X-Response-Time': '9ms', 'CF-Cache-Status': 'DYNAMIC', 'Expect-CT': 'max-age=604800, report-uri=\"https://report-uri.cloudflare.com/cdn-cgi/beacon/expect-ct\"', 'CF-RAY': '6a8ad68eee9e61d4-ORD', 'CDN-ProxyVer': '1.0', 'CDN-RequestPullCode': '200', 'CDN-RequestPullSuccess': 'True', 'CDN-EdgeStorageId': '562', 'CDN-Status': '200', 'CDN-RequestId': '7c0a97d4a290412e1c0d428ac0d505d1', 'CDN-Cache': 'HIT', 'Content-Encoding': 'gzip'}"
      ]
     },
     "execution_count": 7,
     "metadata": {},
     "output_type": "execute_result"
    }
   ],
   "source": [
    "request_currency.headers"
   ]
  },
  {
   "cell_type": "code",
   "execution_count": 10,
   "id": "1ce6ef40",
   "metadata": {},
   "outputs": [],
   "source": [
    "currencies = requests.get(\"https://cdn.jsdelivr.net/gh/fawazahmed0/currency-api@1/latest/currencies.min.json\")"
   ]
  },
  {
   "cell_type": "code",
   "execution_count": 11,
   "id": "8902d235",
   "metadata": {},
   "outputs": [
    {
     "data": {
      "text/plain": [
       "<Response [200]>"
      ]
     },
     "execution_count": 11,
     "metadata": {},
     "output_type": "execute_result"
    }
   ],
   "source": [
    "currencies"
   ]
  },
  {
   "cell_type": "code",
   "execution_count": 12,
   "id": "0e4ef47a",
   "metadata": {},
   "outputs": [],
   "source": [
    "money = currencies.json()"
   ]
  },
  {
   "cell_type": "code",
   "execution_count": 13,
   "id": "839aa688",
   "metadata": {},
   "outputs": [
    {
     "data": {
      "text/plain": [
       "{'ada': 'Cardano',\n",
       " 'aed': 'United Arab Emirates Dirham',\n",
       " 'afn': 'Afghan afghani',\n",
       " 'all': 'Albanian lek',\n",
       " 'amd': 'Armenian dram',\n",
       " 'ang': 'Netherlands Antillean Guilder',\n",
       " 'aoa': 'Angolan kwanza',\n",
       " 'ars': 'Argentine peso',\n",
       " 'aud': 'Australian dollar',\n",
       " 'awg': 'Aruban florin',\n",
       " 'azn': 'Azerbaijani manat',\n",
       " 'bam': 'Bosnia-Herzegovina Convertible Mark',\n",
       " 'bbd': 'Bajan dollar',\n",
       " 'bch': 'Bitcoin Cash',\n",
       " 'bdt': 'Bangladeshi taka',\n",
       " 'bgn': 'Bulgarian lev',\n",
       " 'bhd': 'Bahraini dinar',\n",
       " 'bif': 'Burundian Franc',\n",
       " 'bmd': 'Bermudan dollar',\n",
       " 'bnb': 'Binance Coin',\n",
       " 'bnd': 'Brunei dollar',\n",
       " 'bob': 'Bolivian boliviano',\n",
       " 'brl': 'Brazilian real',\n",
       " 'bsd': 'Bahamian dollar',\n",
       " 'btc': 'Bitcoin',\n",
       " 'btn': 'Bhutan currency',\n",
       " 'bwp': 'Botswanan Pula',\n",
       " 'byn': 'New Belarusian Ruble',\n",
       " 'byr': 'Belarusian Ruble',\n",
       " 'bzd': 'Belize dollar',\n",
       " 'cad': 'Canadian dollar',\n",
       " 'cdf': 'Congolese franc',\n",
       " 'chf': 'Swiss franc',\n",
       " 'clf': 'Chilean Unit of Account (UF)',\n",
       " 'clp': 'Chilean peso',\n",
       " 'cny': 'Chinese Yuan',\n",
       " 'cop': 'Colombian peso',\n",
       " 'crc': 'Costa Rican Colón',\n",
       " 'cuc': 'Cuban peso',\n",
       " 'cup': 'Cuban Peso',\n",
       " 'cve': 'Cape Verdean escudo',\n",
       " 'czk': 'Czech koruna',\n",
       " 'djf': 'Djiboutian franc',\n",
       " 'dkk': 'Danish krone',\n",
       " 'doge': 'Dogecoin',\n",
       " 'dop': 'Dominican peso',\n",
       " 'dzd': 'Algerian dinar',\n",
       " 'egp': 'Egyptian pound',\n",
       " 'ern': 'Eritrean nakfa',\n",
       " 'etb': 'Ethiopian birr',\n",
       " 'etc': 'Ethereum Classic',\n",
       " 'eth': 'Ether',\n",
       " 'eur': 'Euro',\n",
       " 'fjd': 'Fijian dollar',\n",
       " 'fkp': 'Falkland Islands pound',\n",
       " 'gbp': 'Pound sterling',\n",
       " 'gel': 'Georgian lari',\n",
       " 'ggp': 'GGPro',\n",
       " 'ghs': 'Ghanaian cedi',\n",
       " 'gip': 'Gibraltar pound',\n",
       " 'gmd': 'Gambian dalasi',\n",
       " 'gnf': 'Guinean franc',\n",
       " 'gtq': 'Guatemalan quetzal',\n",
       " 'gyd': 'Guyanaese Dollar',\n",
       " 'hkd': 'Hong Kong dollar',\n",
       " 'hnl': 'Honduran lempira',\n",
       " 'hrk': 'Croatian kuna',\n",
       " 'htg': 'Haitian gourde',\n",
       " 'huf': 'Hungarian forint',\n",
       " 'idr': 'Indonesian rupiah',\n",
       " 'ils': 'Israeli New Shekel',\n",
       " 'imp': 'CoinIMP',\n",
       " 'inr': 'Indian rupee',\n",
       " 'iqd': 'Iraqi dinar',\n",
       " 'irr': 'Iranian rial',\n",
       " 'isk': 'Icelandic króna',\n",
       " 'jep': 'Jersey Pound',\n",
       " 'jmd': 'Jamaican dollar',\n",
       " 'jod': 'Jordanian dinar',\n",
       " 'jpy': 'Japanese yen',\n",
       " 'kes': 'Kenyan shilling',\n",
       " 'kgs': 'Kyrgystani Som',\n",
       " 'khr': 'Cambodian riel',\n",
       " 'kmf': 'Comorian franc',\n",
       " 'kpw': 'North Korean won',\n",
       " 'krw': 'South Korean won',\n",
       " 'kwd': 'Kuwaiti dinar',\n",
       " 'kyd': 'Cayman Islands dollar',\n",
       " 'kzt': 'Kazakhstani tenge',\n",
       " 'lak': 'Laotian Kip',\n",
       " 'lbp': 'Lebanese pound',\n",
       " 'link': 'ChainLink',\n",
       " 'lkr': 'Sri Lankan rupee',\n",
       " 'lrd': 'Liberian dollar',\n",
       " 'lsl': 'Lesotho loti',\n",
       " 'ltc': 'Litecoin',\n",
       " 'ltl': 'Lithuanian litas',\n",
       " 'lvl': 'Latvian lats',\n",
       " 'lyd': 'Libyan dinar',\n",
       " 'mad': 'Moroccan dirham',\n",
       " 'mdl': 'Moldovan leu',\n",
       " 'mga': 'Malagasy ariary',\n",
       " 'mkd': 'Macedonian denar',\n",
       " 'mmk': 'Myanmar Kyat',\n",
       " 'mnt': 'Mongolian tugrik',\n",
       " 'mop': 'Macanese pataca',\n",
       " 'mro': 'Mauritanian ouguiya',\n",
       " 'mur': 'Mauritian rupee',\n",
       " 'mvr': 'Maldivian rufiyaa',\n",
       " 'mwk': 'Malawian kwacha',\n",
       " 'mxn': 'Mexican peso',\n",
       " 'myr': 'Malaysian ringgit',\n",
       " 'mzn': 'Mozambican Metical',\n",
       " 'nad': 'Namibian dollar',\n",
       " 'ngn': 'Nigerian naira',\n",
       " 'nio': 'Nicaraguan córdoba',\n",
       " 'nok': 'Norwegian krone',\n",
       " 'npr': 'Nepalese rupee',\n",
       " 'nzd': 'New Zealand dollar',\n",
       " 'omr': 'Omani rial',\n",
       " 'pab': 'Panamanian balboa',\n",
       " 'pen': 'Sol',\n",
       " 'pgk': 'Papua New Guinean kina',\n",
       " 'php': 'Philippine peso',\n",
       " 'pkr': 'Pakistani rupee',\n",
       " 'pln': 'Poland złoty',\n",
       " 'pyg': 'Paraguayan guarani',\n",
       " 'qar': 'Qatari Rial',\n",
       " 'ron': 'Romanian leu',\n",
       " 'rsd': 'Serbian dinar',\n",
       " 'rub': 'Russian ruble',\n",
       " 'rwf': 'Rwandan Franc',\n",
       " 'sar': 'Saudi riyal',\n",
       " 'sbd': 'Solomon Islands dollar',\n",
       " 'scr': 'Seychellois rupee',\n",
       " 'sdg': 'Sudanese pound',\n",
       " 'sek': 'Swedish krona',\n",
       " 'sgd': 'Singapore dollar',\n",
       " 'shp': 'Saint Helena pound',\n",
       " 'sll': 'Sierra Leonean leone',\n",
       " 'sos': 'Somali shilling',\n",
       " 'srd': 'Surinamese dollar',\n",
       " 'std': 'São Tomé and Príncipe Dobra (pre-2018)',\n",
       " 'svc': 'Salvadoran Colón',\n",
       " 'syp': 'Syrian pound',\n",
       " 'szl': 'Swazi lilangeni',\n",
       " 'thb': 'Thai baht',\n",
       " 'theta': 'Theta',\n",
       " 'tjs': 'Tajikistani somoni',\n",
       " 'tmt': 'Turkmenistani manat',\n",
       " 'tnd': 'Tunisian dinar',\n",
       " 'top': 'Tongan Paʻanga',\n",
       " 'trx': 'TRON',\n",
       " 'try': 'Turkish lira',\n",
       " 'ttd': 'Trinidad & Tobago Dollar',\n",
       " 'twd': 'New Taiwan dollar',\n",
       " 'tzs': 'Tanzanian shilling',\n",
       " 'uah': 'Ukrainian hryvnia',\n",
       " 'ugx': 'Ugandan shilling',\n",
       " 'usd': 'United States dollar',\n",
       " 'usdt': 'Tether',\n",
       " 'uyu': 'Uruguayan peso',\n",
       " 'uzs': 'Uzbekistani som',\n",
       " 'vef': 'Sovereign Bolivar',\n",
       " 'vnd': 'Vietnamese dong',\n",
       " 'vuv': 'Vanuatu vatu',\n",
       " 'wst': 'Samoan tala',\n",
       " 'xaf': 'Central African CFA franc',\n",
       " 'xag': 'Silver Ounce',\n",
       " 'xau': 'XauCoin',\n",
       " 'xcd': 'East Caribbean dollar',\n",
       " 'xdr': 'Special Drawing Rights',\n",
       " 'xlm': 'Stellar',\n",
       " 'xof': 'West African CFA franc',\n",
       " 'xpf': 'CFP franc',\n",
       " 'xrp': 'XRP',\n",
       " 'yer': 'Yemeni rial',\n",
       " 'zar': 'South African rand',\n",
       " 'zmk': 'Zambian kwacha',\n",
       " 'zmw': 'Zambian Kwacha',\n",
       " 'zwl': 'Zimbabwean Dollar'}"
      ]
     },
     "execution_count": 13,
     "metadata": {},
     "output_type": "execute_result"
    }
   ],
   "source": [
    "money"
   ]
  },
  {
   "cell_type": "code",
   "execution_count": 14,
   "id": "b88b6648",
   "metadata": {},
   "outputs": [],
   "source": [
    "from pandas import json_normalize"
   ]
  },
  {
   "cell_type": "code",
   "execution_count": 16,
   "id": "cfddbd00",
   "metadata": {},
   "outputs": [],
   "source": [
    "mny_json = requests.get(\"https://cdn.jsdelivr.net/gh/fawazahmed0/currency-api@1/latest/currencies.min.json\").json()"
   ]
  },
  {
   "cell_type": "code",
   "execution_count": 17,
   "id": "cab30213",
   "metadata": {},
   "outputs": [
    {
     "data": {
      "text/plain": [
       "{'ada': 'Cardano',\n",
       " 'aed': 'United Arab Emirates Dirham',\n",
       " 'afn': 'Afghan afghani',\n",
       " 'all': 'Albanian lek',\n",
       " 'amd': 'Armenian dram',\n",
       " 'ang': 'Netherlands Antillean Guilder',\n",
       " 'aoa': 'Angolan kwanza',\n",
       " 'ars': 'Argentine peso',\n",
       " 'aud': 'Australian dollar',\n",
       " 'awg': 'Aruban florin',\n",
       " 'azn': 'Azerbaijani manat',\n",
       " 'bam': 'Bosnia-Herzegovina Convertible Mark',\n",
       " 'bbd': 'Bajan dollar',\n",
       " 'bch': 'Bitcoin Cash',\n",
       " 'bdt': 'Bangladeshi taka',\n",
       " 'bgn': 'Bulgarian lev',\n",
       " 'bhd': 'Bahraini dinar',\n",
       " 'bif': 'Burundian Franc',\n",
       " 'bmd': 'Bermudan dollar',\n",
       " 'bnb': 'Binance Coin',\n",
       " 'bnd': 'Brunei dollar',\n",
       " 'bob': 'Bolivian boliviano',\n",
       " 'brl': 'Brazilian real',\n",
       " 'bsd': 'Bahamian dollar',\n",
       " 'btc': 'Bitcoin',\n",
       " 'btn': 'Bhutan currency',\n",
       " 'bwp': 'Botswanan Pula',\n",
       " 'byn': 'New Belarusian Ruble',\n",
       " 'byr': 'Belarusian Ruble',\n",
       " 'bzd': 'Belize dollar',\n",
       " 'cad': 'Canadian dollar',\n",
       " 'cdf': 'Congolese franc',\n",
       " 'chf': 'Swiss franc',\n",
       " 'clf': 'Chilean Unit of Account (UF)',\n",
       " 'clp': 'Chilean peso',\n",
       " 'cny': 'Chinese Yuan',\n",
       " 'cop': 'Colombian peso',\n",
       " 'crc': 'Costa Rican Colón',\n",
       " 'cuc': 'Cuban peso',\n",
       " 'cup': 'Cuban Peso',\n",
       " 'cve': 'Cape Verdean escudo',\n",
       " 'czk': 'Czech koruna',\n",
       " 'djf': 'Djiboutian franc',\n",
       " 'dkk': 'Danish krone',\n",
       " 'doge': 'Dogecoin',\n",
       " 'dop': 'Dominican peso',\n",
       " 'dzd': 'Algerian dinar',\n",
       " 'egp': 'Egyptian pound',\n",
       " 'ern': 'Eritrean nakfa',\n",
       " 'etb': 'Ethiopian birr',\n",
       " 'etc': 'Ethereum Classic',\n",
       " 'eth': 'Ether',\n",
       " 'eur': 'Euro',\n",
       " 'fjd': 'Fijian dollar',\n",
       " 'fkp': 'Falkland Islands pound',\n",
       " 'gbp': 'Pound sterling',\n",
       " 'gel': 'Georgian lari',\n",
       " 'ggp': 'GGPro',\n",
       " 'ghs': 'Ghanaian cedi',\n",
       " 'gip': 'Gibraltar pound',\n",
       " 'gmd': 'Gambian dalasi',\n",
       " 'gnf': 'Guinean franc',\n",
       " 'gtq': 'Guatemalan quetzal',\n",
       " 'gyd': 'Guyanaese Dollar',\n",
       " 'hkd': 'Hong Kong dollar',\n",
       " 'hnl': 'Honduran lempira',\n",
       " 'hrk': 'Croatian kuna',\n",
       " 'htg': 'Haitian gourde',\n",
       " 'huf': 'Hungarian forint',\n",
       " 'idr': 'Indonesian rupiah',\n",
       " 'ils': 'Israeli New Shekel',\n",
       " 'imp': 'CoinIMP',\n",
       " 'inr': 'Indian rupee',\n",
       " 'iqd': 'Iraqi dinar',\n",
       " 'irr': 'Iranian rial',\n",
       " 'isk': 'Icelandic króna',\n",
       " 'jep': 'Jersey Pound',\n",
       " 'jmd': 'Jamaican dollar',\n",
       " 'jod': 'Jordanian dinar',\n",
       " 'jpy': 'Japanese yen',\n",
       " 'kes': 'Kenyan shilling',\n",
       " 'kgs': 'Kyrgystani Som',\n",
       " 'khr': 'Cambodian riel',\n",
       " 'kmf': 'Comorian franc',\n",
       " 'kpw': 'North Korean won',\n",
       " 'krw': 'South Korean won',\n",
       " 'kwd': 'Kuwaiti dinar',\n",
       " 'kyd': 'Cayman Islands dollar',\n",
       " 'kzt': 'Kazakhstani tenge',\n",
       " 'lak': 'Laotian Kip',\n",
       " 'lbp': 'Lebanese pound',\n",
       " 'link': 'ChainLink',\n",
       " 'lkr': 'Sri Lankan rupee',\n",
       " 'lrd': 'Liberian dollar',\n",
       " 'lsl': 'Lesotho loti',\n",
       " 'ltc': 'Litecoin',\n",
       " 'ltl': 'Lithuanian litas',\n",
       " 'lvl': 'Latvian lats',\n",
       " 'lyd': 'Libyan dinar',\n",
       " 'mad': 'Moroccan dirham',\n",
       " 'mdl': 'Moldovan leu',\n",
       " 'mga': 'Malagasy ariary',\n",
       " 'mkd': 'Macedonian denar',\n",
       " 'mmk': 'Myanmar Kyat',\n",
       " 'mnt': 'Mongolian tugrik',\n",
       " 'mop': 'Macanese pataca',\n",
       " 'mro': 'Mauritanian ouguiya',\n",
       " 'mur': 'Mauritian rupee',\n",
       " 'mvr': 'Maldivian rufiyaa',\n",
       " 'mwk': 'Malawian kwacha',\n",
       " 'mxn': 'Mexican peso',\n",
       " 'myr': 'Malaysian ringgit',\n",
       " 'mzn': 'Mozambican Metical',\n",
       " 'nad': 'Namibian dollar',\n",
       " 'ngn': 'Nigerian naira',\n",
       " 'nio': 'Nicaraguan córdoba',\n",
       " 'nok': 'Norwegian krone',\n",
       " 'npr': 'Nepalese rupee',\n",
       " 'nzd': 'New Zealand dollar',\n",
       " 'omr': 'Omani rial',\n",
       " 'pab': 'Panamanian balboa',\n",
       " 'pen': 'Sol',\n",
       " 'pgk': 'Papua New Guinean kina',\n",
       " 'php': 'Philippine peso',\n",
       " 'pkr': 'Pakistani rupee',\n",
       " 'pln': 'Poland złoty',\n",
       " 'pyg': 'Paraguayan guarani',\n",
       " 'qar': 'Qatari Rial',\n",
       " 'ron': 'Romanian leu',\n",
       " 'rsd': 'Serbian dinar',\n",
       " 'rub': 'Russian ruble',\n",
       " 'rwf': 'Rwandan Franc',\n",
       " 'sar': 'Saudi riyal',\n",
       " 'sbd': 'Solomon Islands dollar',\n",
       " 'scr': 'Seychellois rupee',\n",
       " 'sdg': 'Sudanese pound',\n",
       " 'sek': 'Swedish krona',\n",
       " 'sgd': 'Singapore dollar',\n",
       " 'shp': 'Saint Helena pound',\n",
       " 'sll': 'Sierra Leonean leone',\n",
       " 'sos': 'Somali shilling',\n",
       " 'srd': 'Surinamese dollar',\n",
       " 'std': 'São Tomé and Príncipe Dobra (pre-2018)',\n",
       " 'svc': 'Salvadoran Colón',\n",
       " 'syp': 'Syrian pound',\n",
       " 'szl': 'Swazi lilangeni',\n",
       " 'thb': 'Thai baht',\n",
       " 'theta': 'Theta',\n",
       " 'tjs': 'Tajikistani somoni',\n",
       " 'tmt': 'Turkmenistani manat',\n",
       " 'tnd': 'Tunisian dinar',\n",
       " 'top': 'Tongan Paʻanga',\n",
       " 'trx': 'TRON',\n",
       " 'try': 'Turkish lira',\n",
       " 'ttd': 'Trinidad & Tobago Dollar',\n",
       " 'twd': 'New Taiwan dollar',\n",
       " 'tzs': 'Tanzanian shilling',\n",
       " 'uah': 'Ukrainian hryvnia',\n",
       " 'ugx': 'Ugandan shilling',\n",
       " 'usd': 'United States dollar',\n",
       " 'usdt': 'Tether',\n",
       " 'uyu': 'Uruguayan peso',\n",
       " 'uzs': 'Uzbekistani som',\n",
       " 'vef': 'Sovereign Bolivar',\n",
       " 'vnd': 'Vietnamese dong',\n",
       " 'vuv': 'Vanuatu vatu',\n",
       " 'wst': 'Samoan tala',\n",
       " 'xaf': 'Central African CFA franc',\n",
       " 'xag': 'Silver Ounce',\n",
       " 'xau': 'XauCoin',\n",
       " 'xcd': 'East Caribbean dollar',\n",
       " 'xdr': 'Special Drawing Rights',\n",
       " 'xlm': 'Stellar',\n",
       " 'xof': 'West African CFA franc',\n",
       " 'xpf': 'CFP franc',\n",
       " 'xrp': 'XRP',\n",
       " 'yer': 'Yemeni rial',\n",
       " 'zar': 'South African rand',\n",
       " 'zmk': 'Zambian kwacha',\n",
       " 'zmw': 'Zambian Kwacha',\n",
       " 'zwl': 'Zimbabwean Dollar'}"
      ]
     },
     "execution_count": 17,
     "metadata": {},
     "output_type": "execute_result"
    }
   ],
   "source": [
    "mny_json"
   ]
  },
  {
   "cell_type": "code",
   "execution_count": 18,
   "id": "fbb95c66",
   "metadata": {},
   "outputs": [
    {
     "data": {
      "text/html": [
       "<div>\n",
       "<style scoped>\n",
       "    .dataframe tbody tr th:only-of-type {\n",
       "        vertical-align: middle;\n",
       "    }\n",
       "\n",
       "    .dataframe tbody tr th {\n",
       "        vertical-align: top;\n",
       "    }\n",
       "\n",
       "    .dataframe thead th {\n",
       "        text-align: right;\n",
       "    }\n",
       "</style>\n",
       "<table border=\"1\" class=\"dataframe\">\n",
       "  <thead>\n",
       "    <tr style=\"text-align: right;\">\n",
       "      <th></th>\n",
       "      <th>ada</th>\n",
       "      <th>aed</th>\n",
       "      <th>afn</th>\n",
       "      <th>all</th>\n",
       "      <th>amd</th>\n",
       "      <th>ang</th>\n",
       "      <th>aoa</th>\n",
       "      <th>ars</th>\n",
       "      <th>aud</th>\n",
       "      <th>awg</th>\n",
       "      <th>...</th>\n",
       "      <th>xdr</th>\n",
       "      <th>xlm</th>\n",
       "      <th>xof</th>\n",
       "      <th>xpf</th>\n",
       "      <th>xrp</th>\n",
       "      <th>yer</th>\n",
       "      <th>zar</th>\n",
       "      <th>zmk</th>\n",
       "      <th>zmw</th>\n",
       "      <th>zwl</th>\n",
       "    </tr>\n",
       "  </thead>\n",
       "  <tbody>\n",
       "    <tr>\n",
       "      <th>0</th>\n",
       "      <td>Cardano</td>\n",
       "      <td>United Arab Emirates Dirham</td>\n",
       "      <td>Afghan afghani</td>\n",
       "      <td>Albanian lek</td>\n",
       "      <td>Armenian dram</td>\n",
       "      <td>Netherlands Antillean Guilder</td>\n",
       "      <td>Angolan kwanza</td>\n",
       "      <td>Argentine peso</td>\n",
       "      <td>Australian dollar</td>\n",
       "      <td>Aruban florin</td>\n",
       "      <td>...</td>\n",
       "      <td>Special Drawing Rights</td>\n",
       "      <td>Stellar</td>\n",
       "      <td>West African CFA franc</td>\n",
       "      <td>CFP franc</td>\n",
       "      <td>XRP</td>\n",
       "      <td>Yemeni rial</td>\n",
       "      <td>South African rand</td>\n",
       "      <td>Zambian kwacha</td>\n",
       "      <td>Zambian Kwacha</td>\n",
       "      <td>Zimbabwean Dollar</td>\n",
       "    </tr>\n",
       "  </tbody>\n",
       "</table>\n",
       "<p>1 rows × 181 columns</p>\n",
       "</div>"
      ],
      "text/plain": [
       "       ada                          aed             afn           all  \\\n",
       "0  Cardano  United Arab Emirates Dirham  Afghan afghani  Albanian lek   \n",
       "\n",
       "             amd                            ang             aoa  \\\n",
       "0  Armenian dram  Netherlands Antillean Guilder  Angolan kwanza   \n",
       "\n",
       "              ars                aud            awg  ...  \\\n",
       "0  Argentine peso  Australian dollar  Aruban florin  ...   \n",
       "\n",
       "                      xdr      xlm                     xof        xpf  xrp  \\\n",
       "0  Special Drawing Rights  Stellar  West African CFA franc  CFP franc  XRP   \n",
       "\n",
       "           yer                 zar             zmk             zmw  \\\n",
       "0  Yemeni rial  South African rand  Zambian kwacha  Zambian Kwacha   \n",
       "\n",
       "                 zwl  \n",
       "0  Zimbabwean Dollar  \n",
       "\n",
       "[1 rows x 181 columns]"
      ]
     },
     "execution_count": 18,
     "metadata": {},
     "output_type": "execute_result"
    }
   ],
   "source": [
    "\n",
    "json_normalize(mny_json)"
   ]
  },
  {
   "cell_type": "code",
   "execution_count": null,
   "id": "0d857271",
   "metadata": {},
   "outputs": [],
   "source": []
  },
  {
   "cell_type": "code",
   "execution_count": null,
   "id": "26391d6c",
   "metadata": {},
   "outputs": [],
   "source": []
  },
  {
   "cell_type": "code",
   "execution_count": null,
   "id": "0cc0ad0d",
   "metadata": {},
   "outputs": [],
   "source": []
  },
  {
   "cell_type": "code",
   "execution_count": 19,
   "id": "d0334c60",
   "metadata": {},
   "outputs": [],
   "source": [
    "def evaporator(content, evap_per_day, threshold):\n",
    "    result = 0\n",
    "    onebone = content\n",
    "    \n",
    "    while onebone >= content * threshold/100.0:\n",
    "        onebone = onebone * (1-evap_per_day/100.0)\n",
    "        result += 1\n",
    "    return result"
   ]
  },
  {
   "cell_type": "code",
   "execution_count": 20,
   "id": "4beaa225",
   "metadata": {},
   "outputs": [
    {
     "data": {
      "text/plain": [
       "22"
      ]
     },
     "execution_count": 20,
     "metadata": {},
     "output_type": "execute_result"
    }
   ],
   "source": [
    "evaporator(10,10,10)"
   ]
  },
  {
   "cell_type": "code",
   "execution_count": 22,
   "id": "6c6af3ff",
   "metadata": {},
   "outputs": [
    {
     "data": {
      "text/plain": [
       "29"
      ]
     },
     "execution_count": 22,
     "metadata": {},
     "output_type": "execute_result"
    }
   ],
   "source": [
    "evaporator(10,10,5)"
   ]
  },
  {
   "cell_type": "code",
   "execution_count": null,
   "id": "d34757bf",
   "metadata": {},
   "outputs": [],
   "source": []
  }
 ],
 "metadata": {
  "kernelspec": {
   "display_name": "ironhack",
   "language": "python",
   "name": "ironhack"
  },
  "language_info": {
   "codemirror_mode": {
    "name": "ipython",
    "version": 3
   },
   "file_extension": ".py",
   "mimetype": "text/x-python",
   "name": "python",
   "nbconvert_exporter": "python",
   "pygments_lexer": "ipython3",
   "version": "3.8.12"
  }
 },
 "nbformat": 4,
 "nbformat_minor": 5
}
