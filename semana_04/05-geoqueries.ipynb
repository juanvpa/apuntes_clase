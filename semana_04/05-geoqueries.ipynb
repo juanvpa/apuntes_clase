{
 "cells": [
  {
   "cell_type": "markdown",
   "id": "nominated-holmes",
   "metadata": {},
   "source": [
    "# Geoqueries en Mongo"
   ]
  },
  {
   "cell_type": "code",
   "execution_count": null,
   "id": "fcd1be3e",
   "metadata": {},
   "outputs": [],
   "source": []
  },
  {
   "cell_type": "markdown",
   "id": "supported-dividend",
   "metadata": {
    "toc": true
   },
   "source": [
    "<h1>Table of Contents<span class=\"tocSkip\"></span></h1>\n",
    "<div class=\"toc\"><ul class=\"toc-item\"><li><span><a href=\"#¿Qué-podemos-hacer-con-las-geoqueries?\" data-toc-modified-id=\"¿Qué-podemos-hacer-con-las-geoqueries?-1\"><span class=\"toc-item-num\">1&nbsp;&nbsp;</span>¿Qué podemos hacer con las geoqueries?</a></span></li><li><span><a href=\"#Generamos-la-conexión-con-Mongo\" data-toc-modified-id=\"Generamos-la-conexión-con-Mongo-2\"><span class=\"toc-item-num\">2&nbsp;&nbsp;</span>Generamos la conexión con Mongo</a></span></li><li><span><a href=\"#Importar-colecciones\" data-toc-modified-id=\"Importar-colecciones-3\"><span class=\"toc-item-num\">3&nbsp;&nbsp;</span>Importar colecciones</a></span></li><li><span><a href=\"#Crear-indexes\" data-toc-modified-id=\"Crear-indexes-4\"><span class=\"toc-item-num\">4&nbsp;&nbsp;</span>Crear indexes</a></span></li><li><span><a href=\"#Empezamos-con-las-Geoqueries\" data-toc-modified-id=\"Empezamos-con-las-Geoqueries-5\"><span class=\"toc-item-num\">5&nbsp;&nbsp;</span>Empezamos con las Geoqueries</a></span></li><li><span><a href=\"#Intersects\" data-toc-modified-id=\"Intersects-6\"><span class=\"toc-item-num\">6&nbsp;&nbsp;</span>Intersects</a></span></li><li><span><a href=\"#GeoWithin\" data-toc-modified-id=\"GeoWithin-7\"><span class=\"toc-item-num\">7&nbsp;&nbsp;</span>GeoWithin</a></span></li><li><span><a href=\"#Near\" data-toc-modified-id=\"Near-8\"><span class=\"toc-item-num\">8&nbsp;&nbsp;</span>Near</a></span></li><li><span><a href=\"#Probamos-Geoqueries-con-datos-reales\" data-toc-modified-id=\"Probamos-Geoqueries-con-datos-reales-9\"><span class=\"toc-item-num\">9&nbsp;&nbsp;</span>Probamos Geoqueries con datos reales</a></span></li><li><span><a href=\"#Vamos-a-buscar-las-librerías-que-están-cerca-de-mi-casa\" data-toc-modified-id=\"Vamos-a-buscar-las-librerías-que-están-cerca-de-mi-casa-10\"><span class=\"toc-item-num\">10&nbsp;&nbsp;</span>Vamos a buscar las librerías que están cerca de mi casa</a></span></li><li><span><a href=\"#Vamos-a-buscar-si-esas-librerías-que-hay-a-1km-a-la-redonda-de-la-casa-de-Ras,-están-todas-en-el-mismo-distrito\" data-toc-modified-id=\"Vamos-a-buscar-si-esas-librerías-que-hay-a-1km-a-la-redonda-de-la-casa-de-Ras,-están-todas-en-el-mismo-distrito-11\"><span class=\"toc-item-num\">11&nbsp;&nbsp;</span>Vamos a buscar si esas librerías que hay a 1km a la redonda de la casa de Ras, están todas en el mismo distrito</a></span></li></ul></div>"
   ]
  },
  {
   "cell_type": "markdown",
   "id": "bridal-strategy",
   "metadata": {},
   "source": [
    "## ¿Qué podemos hacer con las geoqueries?\n",
    "Con las geoquerías podemos responder a preguntas como las siguientes\n",
    " * ¿Dónde están las farmacias más cercanas a mi ubicación?\n",
    " * ¿Qué restaurantes hay en esta poligonal?"
   ]
  },
  {
   "cell_type": "markdown",
   "id": "selective-discharge",
   "metadata": {},
   "source": [
    "Cada punto de la Tierra se caracteriza por dos números:\n",
    " * Longitud: ángulo respecto al meridiano de Greenwich. Va de -180° (antiGreenwich) a +180° (también antiGreenwich)\n",
    " * Latitud: ángulo con respecto al ecuador. Va de -90° (sur) a +90° (norte)"
   ]
  },
  {
   "cell_type": "markdown",
   "id": "signal-kuwait",
   "metadata": {},
   "source": [
    "![latierra](../images/latlon.gif)"
   ]
  },
  {
   "cell_type": "markdown",
   "id": "killing-adams",
   "metadata": {},
   "source": [
    "## Generamos la conexión con Mongo"
   ]
  },
  {
   "cell_type": "code",
   "execution_count": 2,
   "id": "continuing-world",
   "metadata": {},
   "outputs": [],
   "source": [
    "from pymongo import MongoClient"
   ]
  },
  {
   "cell_type": "code",
   "execution_count": 5,
   "id": "regulation-turner",
   "metadata": {},
   "outputs": [
    {
     "data": {
      "text/plain": [
       "Database(MongoClient(host=['localhost:27017'], document_class=dict, tz_aware=False, connect=True), 'ironhack')"
      ]
     },
     "execution_count": 5,
     "metadata": {},
     "output_type": "execute_result"
    }
   ],
   "source": [
    "client = MongoClient(\"localhost:27017\")\n",
    "db = client.get_database(\"ironhack\")\n",
    "db"
   ]
  },
  {
   "cell_type": "markdown",
   "id": "functioning-cylinder",
   "metadata": {},
   "source": [
    "## Importar colecciones     \n",
    "Sigamos la documentación oficial de Mongo: [Mongo Geo Example](https://docs.mongodb.com/manual/tutorial/geospatial-tutorial/)\n",
    "Creamos estas dos colecciones nuevas:\n",
    " * `restaurants2`\n",
    " * `neighborhoods`"
   ]
  },
  {
   "cell_type": "code",
   "execution_count": 6,
   "id": "74ae54d7",
   "metadata": {},
   "outputs": [],
   "source": [
    "rest = db.get_collection(\"rest\")\n",
    "barr = db.get_collection(\"barrios\")"
   ]
  },
  {
   "cell_type": "markdown",
   "id": "peripheral-spelling",
   "metadata": {},
   "source": [
    "## Crear indexes\n",
    "La indexación geoespacial de MongoDB permite ejecutar eficientemente **consultas espaciales** sobre una colección que contiene formas y puntos geoespaciales.\n",
    "Vamos a crear un índice geográfico para que Mongo sepa que queremos hacer geo-consultas en esta colección.  \n",
    "Esto sólo debe hacerse una vez, y ahora la colección de Mongo está correctamente indexada para siempre.       \n",
    "[Documentación](https://docs.mongodb.com/manual/geospatial-queries/#geospatial-indexes) de los índices."
   ]
  },
  {
   "cell_type": "code",
   "execution_count": 7,
   "id": "marked-offset",
   "metadata": {},
   "outputs": [],
   "source": [
    "from pymongo import GEOSPHERE"
   ]
  },
  {
   "cell_type": "code",
   "execution_count": 9,
   "id": "northern-tender",
   "metadata": {},
   "outputs": [
    {
     "data": {
      "text/plain": [
       "'geometry_2dsphere'"
      ]
     },
     "execution_count": 9,
     "metadata": {},
     "output_type": "execute_result"
    }
   ],
   "source": [
    "# Creamos el  index 2dsphere desde pymongo\n",
    "db.barrios.create_index([(\"geometry\", GEOSPHERE)])"
   ]
  },
  {
   "cell_type": "markdown",
   "id": "brave-singles",
   "metadata": {},
   "source": [
    "Es importante indicarle el campo donde tenemos tanto el tipo de elemento (polígonos o  puntos (point)) como las coordenadas."
   ]
  },
  {
   "cell_type": "code",
   "execution_count": 10,
   "id": "printable-shareware",
   "metadata": {},
   "outputs": [
    {
     "data": {
      "text/plain": [
       "'location_2dsphere'"
      ]
     },
     "execution_count": 10,
     "metadata": {},
     "output_type": "execute_result"
    }
   ],
   "source": [
    "\"\"\"\n",
    "Si quiero crear el de restaurants LE TENGO QUE DECIR CUÁL ES EL CAMPO DÓNDE ESTÁ LA info no solo de las\n",
    "coordenadas si no del tipo de dato que es, polígono, multipolígono....en este caso está dentro del campo location\n",
    "en la colección de barrios está dentro de un campo llamado geometry\n",
    "\"\"\"\n",
    "db.rest.create_index([(\"location\", GEOSPHERE)])"
   ]
  },
  {
   "cell_type": "markdown",
   "id": "auburn-sixth",
   "metadata": {},
   "source": [
    "## Empezamos con las Geoqueries   \n",
    "¿En qué barrio estoy?      \n",
    "¿Qué elementos **intersecan** el elemento dado?"
   ]
  },
  {
   "cell_type": "markdown",
   "id": "material-relationship",
   "metadata": {},
   "source": [
    "## Intersects"
   ]
  },
  {
   "cell_type": "markdown",
   "id": "positive-gregory",
   "metadata": {},
   "source": [
    "Necesitamos tener los datos  con tipo polígono en este caso tenemos una colección con barrios donde cada barrio  tiene dentro  el polígono que lo delimita. Y cada barrio es un documento, por eso cuando  intersecta me devuelve el documento y yo veo  que es el barrio  en concreto.    \n",
    "Selecciona los documentos cuyos datos geoespaciales se cruzan con un objeto GeoJSON especificado; es decir, cuando la intersección de los datos y el objeto especificado no está vacía."
   ]
  },
  {
   "cell_type": "code",
   "execution_count": 11,
   "id": "distinguished-nelson",
   "metadata": {},
   "outputs": [],
   "source": [
    "def type_point(lista):\n",
    "    return {\"type\":\"Point\", \"coordinates\": lista}"
   ]
  },
  {
   "cell_type": "code",
   "execution_count": 12,
   "id": "enormous-camel",
   "metadata": {},
   "outputs": [],
   "source": [
    "coordenadas = [-73.93, 40.82]"
   ]
  },
  {
   "cell_type": "code",
   "execution_count": 13,
   "id": "configured-symphony",
   "metadata": {},
   "outputs": [
    {
     "data": {
      "text/plain": [
       "dict_keys(['_id', 'geometry', 'name'])"
      ]
     },
     "execution_count": 13,
     "metadata": {},
     "output_type": "execute_result"
    }
   ],
   "source": [
    "barr.find_one().keys()"
   ]
  },
  {
   "cell_type": "markdown",
   "id": "outdoor-destination",
   "metadata": {},
   "source": [
    "El geometry que va sin dolar es porque vamos a buscar en la colección de barrios y donde está la información es dentro de la key geometry, se ve justo aquí arriba 👆🏻. El geometry que lleva dolar es la sintaxis de mongo para todas las queries geoespaciales. \n",
    "Para hacer una query geoespacial a Mongo tengo que pasarle las coordenadas en tipo point"
   ]
  },
  {
   "cell_type": "code",
   "execution_count": 14,
   "id": "f94e59b4",
   "metadata": {},
   "outputs": [
    {
     "data": {
      "text/plain": [
       "{'type': 'Point', 'coordinates': [-73.93, 40.82]}"
      ]
     },
     "execution_count": 14,
     "metadata": {},
     "output_type": "execute_result"
    }
   ],
   "source": [
    "punto = type_point(coordenadas)\n",
    "punto"
   ]
  },
  {
   "cell_type": "code",
   "execution_count": 16,
   "id": "e4c6777c",
   "metadata": {},
   "outputs": [],
   "source": [
    "proy = {\"_id\":0, \"name\":1}"
   ]
  },
  {
   "cell_type": "code",
   "execution_count": 17,
   "id": "bound-blake",
   "metadata": {},
   "outputs": [
    {
     "data": {
      "text/plain": [
       "{'name': 'West Concourse'}"
      ]
     },
     "execution_count": 17,
     "metadata": {},
     "output_type": "execute_result"
    }
   ],
   "source": [
    "barr.find_one({\"geometry\": {\"$geoIntersects\": {\"$geometry\": punto}}}, proy)"
   ]
  },
  {
   "cell_type": "code",
   "execution_count": 38,
   "id": "0d9b686e",
   "metadata": {},
   "outputs": [
    {
     "data": {
      "text/plain": [
       "dict_keys(['_id', 'geometry', 'name'])"
      ]
     },
     "execution_count": 38,
     "metadata": {},
     "output_type": "execute_result"
    }
   ],
   "source": [
    "barr.find_one().keys()"
   ]
  },
  {
   "cell_type": "code",
   "execution_count": 21,
   "id": "urban-caribbean",
   "metadata": {},
   "outputs": [],
   "source": [
    "# LO QUE LLAMÁBAMOS FILTRO A LA HORA DE HACER LA QUERY\n",
    "filtro = {\"geometry\": {\"$geoIntersects\": {\"$geometry\": punto}}} #punto está en tipo point"
   ]
  },
  {
   "cell_type": "code",
   "execution_count": 22,
   "id": "50eacfc7",
   "metadata": {},
   "outputs": [
    {
     "data": {
      "text/plain": [
       "{'name': 'West Concourse'}"
      ]
     },
     "execution_count": 22,
     "metadata": {},
     "output_type": "execute_result"
    }
   ],
   "source": [
    "barr.find_one(filtro,proy)"
   ]
  },
  {
   "cell_type": "markdown",
   "id": "timely-amazon",
   "metadata": {},
   "source": [
    "## GeoWithin"
   ]
  },
  {
   "cell_type": "markdown",
   "id": "greek-regular",
   "metadata": {},
   "source": [
    "¿Qué elementos están **contenidos** en el elemento dado?     \n",
    "¿Qué restaurantes hay en este barrio (polígono)?"
   ]
  },
  {
   "cell_type": "code",
   "execution_count": 25,
   "id": "registered-thirty",
   "metadata": {},
   "outputs": [
    {
     "data": {
      "text/plain": [
       "dict_keys(['_id', 'geometry', 'name'])"
      ]
     },
     "execution_count": 25,
     "metadata": {},
     "output_type": "execute_result"
    }
   ],
   "source": [
    "# Vemos la estructura de los documentos sacando uno y viendo sus keys\n",
    "barr.find_one().keys()"
   ]
  },
  {
   "cell_type": "code",
   "execution_count": 33,
   "id": "extensive-cincinnati",
   "metadata": {},
   "outputs": [],
   "source": [
    "#bUSCAMOS UN barrio en  concreto\n",
    "barrio = barr.find_one({\"name\": \"Bedford\"})\n",
    "#barrio"
   ]
  },
  {
   "cell_type": "code",
   "execution_count": 36,
   "id": "tribal-ceramic",
   "metadata": {},
   "outputs": [],
   "source": [
    "#Extraigo las coordenadas\n",
    "coord_barrio = barrio[\"geometry\"]\n",
    "#coord_barrio"
   ]
  },
  {
   "cell_type": "code",
   "execution_count": 37,
   "id": "level-reception",
   "metadata": {},
   "outputs": [
    {
     "data": {
      "text/plain": [
       "dict_keys(['_id', 'location', 'name'])"
      ]
     },
     "execution_count": 37,
     "metadata": {},
     "output_type": "execute_result"
    }
   ],
   "source": [
    "#Saco las keys de un documento de la coleccción  de restaurantes\n",
    "rest.find_one().keys()"
   ]
  },
  {
   "cell_type": "code",
   "execution_count": 40,
   "id": "laughing-productivity",
   "metadata": {},
   "outputs": [],
   "source": [
    "# ER FIRTRO\n",
    "#Location porque la key de la colección donde están las coordenadas se llama location\n",
    "query = {\"location\": {\"$geoWithin\": {\"$geometry\": coord_barrio}}}"
   ]
  },
  {
   "cell_type": "code",
   "execution_count": 41,
   "id": "million-priest",
   "metadata": {},
   "outputs": [],
   "source": [
    "restaurantes_bedford = list(rest.find(query))"
   ]
  },
  {
   "cell_type": "code",
   "execution_count": 44,
   "id": "allied-original",
   "metadata": {},
   "outputs": [
    {
     "data": {
      "text/plain": [
       "[{'_id': ObjectId('55cba2486c522cafdb0592d3'),\n",
       "  'location': {'coordinates': [-73.9467295, 40.6804619], 'type': 'Point'},\n",
       "  'name': 'Island Salad'},\n",
       " {'_id': ObjectId('55cba2476c522cafdb056c31'),\n",
       "  'location': {'coordinates': [-73.94659899999999, 40.6804119],\n",
       "   'type': 'Point'},\n",
       "  'name': 'Tak King Chinese Restaurant'}]"
      ]
     },
     "execution_count": 44,
     "metadata": {},
     "output_type": "execute_result"
    }
   ],
   "source": [
    "restaurantes_bedford[0:2]"
   ]
  },
  {
   "cell_type": "code",
   "execution_count": 46,
   "id": "loving-third",
   "metadata": {},
   "outputs": [
    {
     "data": {
      "text/html": [
       "<div>\n",
       "<style scoped>\n",
       "    .dataframe tbody tr th:only-of-type {\n",
       "        vertical-align: middle;\n",
       "    }\n",
       "\n",
       "    .dataframe tbody tr th {\n",
       "        vertical-align: top;\n",
       "    }\n",
       "\n",
       "    .dataframe thead th {\n",
       "        text-align: right;\n",
       "    }\n",
       "</style>\n",
       "<table border=\"1\" class=\"dataframe\">\n",
       "  <thead>\n",
       "    <tr style=\"text-align: right;\">\n",
       "      <th></th>\n",
       "      <th>_id</th>\n",
       "      <th>location</th>\n",
       "      <th>name</th>\n",
       "    </tr>\n",
       "  </thead>\n",
       "  <tbody>\n",
       "    <tr>\n",
       "      <th>0</th>\n",
       "      <td>55cba2486c522cafdb0592d3</td>\n",
       "      <td>{'coordinates': [-73.9467295, 40.6804619], 'ty...</td>\n",
       "      <td>Island Salad</td>\n",
       "    </tr>\n",
       "    <tr>\n",
       "      <th>1</th>\n",
       "      <td>55cba2476c522cafdb056c31</td>\n",
       "      <td>{'coordinates': [-73.94659899999999, 40.680411...</td>\n",
       "      <td>Tak King Chinese Restaurant</td>\n",
       "    </tr>\n",
       "    <tr>\n",
       "      <th>2</th>\n",
       "      <td>55cba2476c522cafdb055380</td>\n",
       "      <td>{'coordinates': [-73.94650109999999, 40.680409...</td>\n",
       "      <td>Tastee Pattee</td>\n",
       "    </tr>\n",
       "    <tr>\n",
       "      <th>3</th>\n",
       "      <td>55cba2476c522cafdb0543fd</td>\n",
       "      <td>{'coordinates': [-73.9459945, 40.6804254], 'ty...</td>\n",
       "      <td>Burger King</td>\n",
       "    </tr>\n",
       "    <tr>\n",
       "      <th>4</th>\n",
       "      <td>55cba2476c522cafdb0565ee</td>\n",
       "      <td>{'coordinates': [-73.9455406, 40.6803509], 'ty...</td>\n",
       "      <td>Wing Chang Food House</td>\n",
       "    </tr>\n",
       "  </tbody>\n",
       "</table>\n",
       "</div>"
      ],
      "text/plain": [
       "                        _id  \\\n",
       "0  55cba2486c522cafdb0592d3   \n",
       "1  55cba2476c522cafdb056c31   \n",
       "2  55cba2476c522cafdb055380   \n",
       "3  55cba2476c522cafdb0543fd   \n",
       "4  55cba2476c522cafdb0565ee   \n",
       "\n",
       "                                            location  \\\n",
       "0  {'coordinates': [-73.9467295, 40.6804619], 'ty...   \n",
       "1  {'coordinates': [-73.94659899999999, 40.680411...   \n",
       "2  {'coordinates': [-73.94650109999999, 40.680409...   \n",
       "3  {'coordinates': [-73.9459945, 40.6804254], 'ty...   \n",
       "4  {'coordinates': [-73.9455406, 40.6803509], 'ty...   \n",
       "\n",
       "                          name  \n",
       "0                 Island Salad  \n",
       "1  Tak King Chinese Restaurant  \n",
       "2                Tastee Pattee  \n",
       "3                  Burger King  \n",
       "4        Wing Chang Food House  "
      ]
     },
     "execution_count": 46,
     "metadata": {},
     "output_type": "execute_result"
    }
   ],
   "source": [
    "import pandas as pd\n",
    "df = pd.DataFrame(restaurantes_bedford)\n",
    "df.head()"
   ]
  },
  {
   "cell_type": "markdown",
   "id": "lightweight-section",
   "metadata": {},
   "source": [
    "## Near"
   ]
  },
  {
   "cell_type": "markdown",
   "id": "wound-campus",
   "metadata": {},
   "source": [
    "¿Qué elementos se encuentran a una distancia de una geometría determinada?     \n",
    "`$nearSphere`/`$near` y `$maxDistance` nos ayudan a encontrar todos los elementos dentro de `maxDistance` metros de la geometría deseada, **ordenados** de más cercano a más lejano."
   ]
  },
  {
   "cell_type": "code",
   "execution_count": 47,
   "id": "dental-radar",
   "metadata": {},
   "outputs": [],
   "source": [
    "#  Mi posición, voy a buscar restaurantes cercanos a  ESTE punto\n",
    "coordenadas2 = [-73.93, 40.82]"
   ]
  },
  {
   "cell_type": "code",
   "execution_count": 48,
   "id": "digital-young",
   "metadata": {},
   "outputs": [],
   "source": [
    "# Km que quiero  caminar\n",
    "metros = 300"
   ]
  },
  {
   "cell_type": "code",
   "execution_count": 50,
   "id": "flying-essex",
   "metadata": {},
   "outputs": [
    {
     "data": {
      "text/plain": [
       "{'type': 'Point', 'coordinates': [-73.93, 40.82]}"
      ]
     },
     "execution_count": 50,
     "metadata": {},
     "output_type": "execute_result"
    }
   ],
   "source": [
    "coord = type_point(coordenadas2)\n",
    "coord"
   ]
  },
  {
   "cell_type": "code",
   "execution_count": 51,
   "id": "twenty-queens",
   "metadata": {},
   "outputs": [],
   "source": [
    "query = {\"location\": {\"$near\": {\"$geometry\": coord, \"$maxDistance\": metros}}}"
   ]
  },
  {
   "cell_type": "code",
   "execution_count": 54,
   "id": "competitive-heavy",
   "metadata": {},
   "outputs": [
    {
     "data": {
      "text/plain": [
       "[{'_id': ObjectId('55cba2486c522cafdb059dca'),\n",
       "  'location': {'coordinates': [-73.92961799999999, 40.81970099999999],\n",
       "   'type': 'Point'},\n",
       "  'name': ''},\n",
       " {'_id': ObjectId('55cba2476c522cafdb056b6f'),\n",
       "  'location': {'coordinates': [-73.93032130000002, 40.8193837],\n",
       "   'type': 'Point'},\n",
       "  'name': 'Subway'},\n",
       " {'_id': ObjectId('55cba2476c522cafdb05517e'),\n",
       "  'location': {'coordinates': [-73.92856720000002, 40.8190635],\n",
       "   'type': 'Point'},\n",
       "  'name': 'Glacken Bar'}]"
      ]
     },
     "execution_count": 54,
     "metadata": {},
     "output_type": "execute_result"
    }
   ],
   "source": [
    "list(rest.find(query))[0:3]"
   ]
  },
  {
   "cell_type": "code",
   "execution_count": 58,
   "id": "concrete-lambda",
   "metadata": {},
   "outputs": [],
   "source": [
    "barrio_cerca = {\"geometry\": {\"$near\": {\"$geometry\": coord, \"$maxDistance\": metros}}}"
   ]
  },
  {
   "cell_type": "code",
   "execution_count": 61,
   "id": "saved-ethics",
   "metadata": {},
   "outputs": [
    {
     "data": {
      "text/plain": [
       "[{'name': 'West Concourse'},\n",
       " {'name': 'East Concourse-Concourse Village'},\n",
       " {'name': 'Mott Haven-Port Morris'}]"
      ]
     },
     "execution_count": 61,
     "metadata": {},
     "output_type": "execute_result"
    }
   ],
   "source": [
    "list(barr.find(barrio_cerca, proy))"
   ]
  },
  {
   "cell_type": "markdown",
   "id": "0b898a59",
   "metadata": {},
   "source": [
    "¿En qué barrio está este punto?"
   ]
  },
  {
   "cell_type": "code",
   "execution_count": 63,
   "id": "427d7fb9",
   "metadata": {},
   "outputs": [
    {
     "data": {
      "text/plain": [
       "{'name': 'West Concourse'}"
      ]
     },
     "execution_count": 63,
     "metadata": {},
     "output_type": "execute_result"
    }
   ],
   "source": [
    "barr.find_one({\"geometry\": {\"$geoIntersects\": {\"$geometry\": coord}}},proy)"
   ]
  },
  {
   "cell_type": "markdown",
   "id": "2fbf7340",
   "metadata": {},
   "source": [
    "## Probamos Geoqueries con datos reales"
   ]
  },
  {
   "cell_type": "markdown",
   "id": "d9e74656",
   "metadata": {},
   "source": [
    "Me he bajado un geojson con los distritos de Madrid de [esta página](https://team.carto.com/u/jsanz/tables/distritos/public) y los voy a cargar en mi base de datos de Mongo"
   ]
  },
  {
   "cell_type": "code",
   "execution_count": 66,
   "id": "d311f94d",
   "metadata": {},
   "outputs": [],
   "source": [
    "import json\n",
    "with open (\"distritos.geojson\") as f: #Abro el geojson de distritos para explorarlo en python\n",
    "    distritos = json.load(f)"
   ]
  },
  {
   "cell_type": "code",
   "execution_count": 69,
   "id": "a34053d4",
   "metadata": {},
   "outputs": [
    {
     "data": {
      "text/plain": [
       "dict_keys(['type', 'features'])"
      ]
     },
     "execution_count": 69,
     "metadata": {},
     "output_type": "execute_result"
    }
   ],
   "source": [
    "distritos.keys()"
   ]
  },
  {
   "cell_type": "markdown",
   "id": "be57f6b8",
   "metadata": {},
   "source": [
    "Veo que el value de \"Features\" es la lista de diccionarios donde están los polígonos. Cada diccionario es un distrito. Así que extraigo features y lo cargo en un json llamado distritos_bien"
   ]
  },
  {
   "cell_type": "code",
   "execution_count": 72,
   "id": "92b182e6",
   "metadata": {},
   "outputs": [],
   "source": [
    "#distritos[\"features\"] "
   ]
  },
  {
   "cell_type": "code",
   "execution_count": 71,
   "id": "9a17ac0a",
   "metadata": {},
   "outputs": [],
   "source": [
    "with open (\"distritos_bien.json\", \"w\") as archivo:\n",
    "    json.dump(distritos[\"features\"], archivo)"
   ]
  },
  {
   "cell_type": "markdown",
   "id": "8304bbe7",
   "metadata": {},
   "source": [
    "Me vuelvo a traer la función geocode que me daba la latitud y la longitud de un string directamente en tipo point "
   ]
  },
  {
   "cell_type": "code",
   "execution_count": 86,
   "id": "8bbda120",
   "metadata": {},
   "outputs": [],
   "source": [
    "import requests\n",
    "def geocode(direccion):\n",
    "    \"\"\"\n",
    "    Esta función saca las coordenadas de la dirección que le pases\n",
    "    \"\"\"\n",
    "    data = requests.get(f\"https://geocode.xyz/{direccion}?json=1\").json()\n",
    "    try:\n",
    "        return {\"type\": \"Point\", \"coordinates\": [float(data[\"latt\"]), float(data[\"longt\"])]}\n",
    "    except:\n",
    "        return data"
   ]
  },
  {
   "cell_type": "markdown",
   "id": "9b74422d",
   "metadata": {},
   "source": [
    "Me saco el type point de Ironhack para buscar en qué distrito está (voy a buscar en mi propia colección de distritos de Madrid)"
   ]
  },
  {
   "cell_type": "code",
   "execution_count": 94,
   "id": "da5bc334",
   "metadata": {},
   "outputs": [],
   "source": [
    "ironhack = geocode(\"Paseo de la chopera, 14, Madrid\")"
   ]
  },
  {
   "cell_type": "code",
   "execution_count": 191,
   "id": "02e2508c",
   "metadata": {},
   "outputs": [
    {
     "data": {
      "text/plain": [
       "{'type': 'Point', 'coordinates': [40.39652, -3.7011]}"
      ]
     },
     "execution_count": 191,
     "metadata": {},
     "output_type": "execute_result"
    }
   ],
   "source": [
    "ironhack"
   ]
  },
  {
   "cell_type": "markdown",
   "id": "a44b390c",
   "metadata": {},
   "source": [
    "Resulta que mis polígonos en el gejson que me he descargado tienen la latitud y la longitud al revés, así que voy a darle la vuelta para hacer la query"
   ]
  },
  {
   "cell_type": "code",
   "execution_count": 113,
   "id": "4d0923fb",
   "metadata": {},
   "outputs": [],
   "source": [
    "ironhack_alreves = type_point([-3.7011,40.39652])"
   ]
  },
  {
   "cell_type": "code",
   "execution_count": 157,
   "id": "ef43bc7b",
   "metadata": {},
   "outputs": [
    {
     "data": {
      "text/plain": [
       "{'type': 'Point', 'coordinates': [-3.7011, 40.39652]}"
      ]
     },
     "execution_count": 157,
     "metadata": {},
     "output_type": "execute_result"
    }
   ],
   "source": [
    "ironhack_alreves"
   ]
  },
  {
   "cell_type": "code",
   "execution_count": 114,
   "id": "992494d1",
   "metadata": {},
   "outputs": [],
   "source": [
    "# Preparo la query ....\n",
    "query_barrio_ironhack = {\"geometry\": {\"$geoIntersects\": {\"$geometry\": ironhack_alreves}}}"
   ]
  },
  {
   "cell_type": "code",
   "execution_count": 192,
   "id": "363d723d",
   "metadata": {},
   "outputs": [],
   "source": [
    "# Me conecto a la colección de distritos\n",
    "dis = db.get_collection(\"distritos\")"
   ]
  },
  {
   "cell_type": "code",
   "execution_count": 98,
   "id": "90e184f9",
   "metadata": {},
   "outputs": [],
   "source": [
    "# Busco uno para probar que funciona\n",
    "dis.find_one()"
   ]
  },
  {
   "cell_type": "code",
   "execution_count": 118,
   "id": "e085e28b",
   "metadata": {},
   "outputs": [],
   "source": [
    "# Me guardo la proyección para que solo me dé el nombre del distrito\n",
    "proy_ = {\"properties.nombre\": 1, \"_id\":0}"
   ]
  },
  {
   "cell_type": "code",
   "execution_count": 120,
   "id": "e1c0b162",
   "metadata": {},
   "outputs": [
    {
     "data": {
      "text/plain": [
       "{'properties': {'nombre': 'Arganzuela'}}"
      ]
     },
     "execution_count": 120,
     "metadata": {},
     "output_type": "execute_result"
    }
   ],
   "source": [
    "# Busco en la base de datos con la query que he preparado arriba y la proyección\n",
    "dis.find_one(query_barrio_ironhack, proy_)"
   ]
  },
  {
   "cell_type": "markdown",
   "id": "e12265af",
   "metadata": {},
   "source": [
    "Efectivamente, Ironhack está en el barrio de Arganzuela. Bravo, fantasía 🚀🗺🌈"
   ]
  },
  {
   "cell_type": "markdown",
   "id": "515e470c",
   "metadata": {},
   "source": [
    "## Vamos a buscar las librerías que están cerca de mi casa"
   ]
  },
  {
   "cell_type": "code",
   "execution_count": 135,
   "id": "70f4ee5b",
   "metadata": {},
   "outputs": [],
   "source": [
    "# Utilizamos la función de geocode para que me dé la Latitud y la Longitud, como antes con ironhack\n",
    "ras = geocode(\"Plaza de Cascorro 8, Madrid\")"
   ]
  },
  {
   "cell_type": "code",
   "execution_count": 136,
   "id": "3560a0d5",
   "metadata": {},
   "outputs": [
    {
     "data": {
      "text/plain": [
       "{'type': 'Point', 'coordinates': [40.41029, -3.70713]}"
      ]
     },
     "execution_count": 136,
     "metadata": {},
     "output_type": "execute_result"
    }
   ],
   "source": [
    "ras"
   ]
  },
  {
   "cell_type": "code",
   "execution_count": 184,
   "id": "96ebc4ef",
   "metadata": {},
   "outputs": [],
   "source": [
    "# Me conecto a la colección de librerías de mi basde datos\n",
    "lib = db.get_collection(\"librerías\")"
   ]
  },
  {
   "cell_type": "code",
   "execution_count": 183,
   "id": "8fea1154",
   "metadata": {},
   "outputs": [],
   "source": [
    "# Preparo la query, voy a buscar en la colección de librerías las que están cerca de mi barrio\n",
    "librerias = {\"location\": {\"$near\": {\"$geometry\": ras, \"$maxDistance\": 1000}}}"
   ]
  },
  {
   "cell_type": "code",
   "execution_count": 185,
   "id": "7610a3bb",
   "metadata": {},
   "outputs": [],
   "source": [
    "# Hago la query y me devuelve una lista\n",
    "libres_cerca = list(lib.find(librerias))"
   ]
  },
  {
   "cell_type": "code",
   "execution_count": 186,
   "id": "0a24d2e2",
   "metadata": {},
   "outputs": [
    {
     "data": {
      "text/plain": [
       "{'_id': ObjectId('618ce0b35de447ecd07221cc'),\n",
       " 'nombre': 'Olor de la Lluvia Librería',\n",
       " 'latitud': 40.41073,\n",
       " 'longitud': -3.710335,\n",
       " 'location': {'type': 'Point', 'coordinates': [40.41073, -3.710335]}}"
      ]
     },
     "execution_count": 186,
     "metadata": {},
     "output_type": "execute_result"
    }
   ],
   "source": [
    "# Exploro la primera para ver el resultado\n",
    "libres_cerca[0]"
   ]
  },
  {
   "cell_type": "markdown",
   "id": "4f016fcb",
   "metadata": {},
   "source": [
    "## Vamos a buscar si esas librerías que hay a 1km a la redonda de la casa de Ras, están todas en el mismo distrito"
   ]
  },
  {
   "cell_type": "code",
   "execution_count": 187,
   "id": "71a67678",
   "metadata": {},
   "outputs": [
    {
     "data": {
      "text/plain": [
       "[-3.710335, 40.41073]"
      ]
     },
     "execution_count": 187,
     "metadata": {},
     "output_type": "execute_result"
    }
   ],
   "source": [
    "# Recordamos que tenemos que darle la vuelta a latitud,longitud\n",
    "libres_cerca[0][\"location\"][\"coordinates\"][::-1]"
   ]
  },
  {
   "cell_type": "code",
   "execution_count": 188,
   "id": "73c0d5f8",
   "metadata": {},
   "outputs": [],
   "source": [
    "total = [] # lista para resultado final\n",
    "for libreria in libres_cerca: #iteramos por la lista entera de librerías de antes \n",
    "    point = type_point([libreria[\"longitud\"],libreria[\"latitud\"]]) #preparamos tipo point de cada una \n",
    "    query = {\"geometry\": {\"$geoIntersects\": {\"$geometry\": point}}} #hacemos la query para buscar el barrio \n",
    "    resultado = dis.find_one(query) # hacemos la query \n",
    "    libre = {libreria[\"nombre\"]:resultado[\"properties\"][\"nombre\"]} # nombre de la librería y nombre del distrito de la query\n",
    "    total.append(libre)"
   ]
  },
  {
   "cell_type": "code",
   "execution_count": 189,
   "id": "9de646b7",
   "metadata": {},
   "outputs": [
    {
     "name": "stdout",
     "output_type": "stream",
     "text": [
      "[{'Olor de la Lluvia Librería': 'Centro'}, {'Librería LaMalatesta': 'Centro'}, {'Librería Mujeres': 'Centro'}, {'Librería Jímenez': 'Centro'}, {'Librería El Corte Inglés': 'Centro'}, {'Librería 8 1/2': 'Centro'}]\n"
     ]
    }
   ],
   "source": [
    "print(total)"
   ]
  }
 ],
 "metadata": {
  "kernelspec": {
   "display_name": "ironhack",
   "language": "python",
   "name": "ironhack"
  },
  "language_info": {
   "codemirror_mode": {
    "name": "ipython",
    "version": 3
   },
   "file_extension": ".py",
   "mimetype": "text/x-python",
   "name": "python",
   "nbconvert_exporter": "python",
   "pygments_lexer": "ipython3",
   "version": "3.8.5"
  },
  "toc": {
   "base_numbering": 1,
   "nav_menu": {},
   "number_sections": true,
   "sideBar": true,
   "skip_h1_title": true,
   "title_cell": "Table of Contents",
   "title_sidebar": "Contents",
   "toc_cell": true,
   "toc_position": {
    "height": "calc(100% - 180px)",
    "left": "10px",
    "top": "150px",
    "width": "288px"
   },
   "toc_section_display": true,
   "toc_window_display": false
  }
 },
 "nbformat": 4,
 "nbformat_minor": 5
}
