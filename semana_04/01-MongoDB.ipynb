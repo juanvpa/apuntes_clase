{
 "cells": [
  {
   "cell_type": "markdown",
   "id": "mighty-crowd",
   "metadata": {},
   "source": [
    "# MongoDB"
   ]
  },
  {
   "cell_type": "markdown",
   "id": "incoming-mortgage",
   "metadata": {},
   "source": [
    "![memesmongo](../images/mongo.png)"
   ]
  },
  {
   "cell_type": "markdown",
   "id": "greatest-neighborhood",
   "metadata": {
    "toc": true
   },
   "source": [
    "<h1>Table of Contents<span class=\"tocSkip\"></span></h1>\n",
    "<div class=\"toc\"><ul class=\"toc-item\"><li><span><a href=\"#¿Qué-es-MongoDB?\" data-toc-modified-id=\"¿Qué-es-MongoDB?-1\"><span class=\"toc-item-num\">1&nbsp;&nbsp;</span>¿Qué es MongoDB?</a></span></li><li><span><a href=\"#¿Qué-es-la-base-de-datos-MongoDB?\" data-toc-modified-id=\"¿Qué-es-la-base-de-datos-MongoDB?-2\"><span class=\"toc-item-num\">2&nbsp;&nbsp;</span>¿Qué es la base de datos MongoDB?</a></span><ul class=\"toc-item\"><li><span><a href=\"#Pequeña-explicación-animada-🤔\" data-toc-modified-id=\"Pequeña-explicación-animada-🤔-2.1\"><span class=\"toc-item-num\">2.1&nbsp;&nbsp;</span>Pequeña explicación animada 🤔</a></span></li></ul></li><li><span><a href=\"#Instalaciones\" data-toc-modified-id=\"Instalaciones-3\"><span class=\"toc-item-num\">3&nbsp;&nbsp;</span>Instalaciones</a></span></li><li><span><a href=\"#Creación-de-bases-de-datos\" data-toc-modified-id=\"Creación-de-bases-de-datos-4\"><span class=\"toc-item-num\">4&nbsp;&nbsp;</span>Creación de bases de datos</a></span></li><li><span><a href=\"#Conexión-con-Python\" data-toc-modified-id=\"Conexión-con-Python-5\"><span class=\"toc-item-num\">5&nbsp;&nbsp;</span>Conexión con Python</a></span><ul class=\"toc-item\"><li><span><a href=\"#Nos-conectamos-al-servidor\" data-toc-modified-id=\"Nos-conectamos-al-servidor-5.1\"><span class=\"toc-item-num\">5.1&nbsp;&nbsp;</span>Nos conectamos al servidor</a></span></li></ul></li><li><span><a href=\"#Prueba-bonus-lab\" data-toc-modified-id=\"Prueba-bonus-lab-6\"><span class=\"toc-item-num\">6&nbsp;&nbsp;</span>Prueba bonus lab</a></span><ul class=\"toc-item\"><li><span><a href=\"#Nos-conectamos-con-la-base-de-datos\" data-toc-modified-id=\"Nos-conectamos-con-la-base-de-datos-6.1\"><span class=\"toc-item-num\">6.1&nbsp;&nbsp;</span>Nos conectamos con la base de datos</a></span></li></ul></li><li><span><a href=\"#Operaciones-básicas-de-gestión-de-bases-de-datos\" data-toc-modified-id=\"Operaciones-básicas-de-gestión-de-bases-de-datos-7\"><span class=\"toc-item-num\">7&nbsp;&nbsp;</span>Operaciones básicas de gestión de bases de datos</a></span><ul class=\"toc-item\"><li><span><a href=\"#Creamos-y-borramos-colecciones-desde-python\" data-toc-modified-id=\"Creamos-y-borramos-colecciones-desde-python-7.1\"><span class=\"toc-item-num\">7.1&nbsp;&nbsp;</span>Creamos y borramos colecciones desde python</a></span></li><li><span><a href=\"#Nos-conectamos-a-una-colección-en-concreto-para-hacer-las-consultas\" data-toc-modified-id=\"Nos-conectamos-a-una-colección-en-concreto-para-hacer-las-consultas-7.2\"><span class=\"toc-item-num\">7.2&nbsp;&nbsp;</span>Nos conectamos a una colección en concreto para hacer las consultas</a></span></li></ul></li><li><span><a href=\"#Consultas-en-Mongo\" data-toc-modified-id=\"Consultas-en-Mongo-8\"><span class=\"toc-item-num\">8&nbsp;&nbsp;</span>Consultas en Mongo</a></span><ul class=\"toc-item\"><li><span><a href=\"#Método-find_one\" data-toc-modified-id=\"Método-find_one-8.1\"><span class=\"toc-item-num\">8.1&nbsp;&nbsp;</span>Método <code>find_one</code></a></span></li><li><span><a href=\"#Método-find\" data-toc-modified-id=\"Método-find-8.2\"><span class=\"toc-item-num\">8.2&nbsp;&nbsp;</span>Método <code>find</code></a></span></li></ul></li><li><span><a href=\"#Proyección\" data-toc-modified-id=\"Proyección-9\"><span class=\"toc-item-num\">9&nbsp;&nbsp;</span>Proyección</a></span></li><li><span><a href=\"#Otros-métodos\" data-toc-modified-id=\"Otros-métodos-10\"><span class=\"toc-item-num\">10&nbsp;&nbsp;</span>Otros métodos</a></span><ul class=\"toc-item\"><li><span><a href=\"#distinct\" data-toc-modified-id=\"distinct-10.1\"><span class=\"toc-item-num\">10.1&nbsp;&nbsp;</span><code>distinct</code></a></span></li><li><span><a href=\"#count\" data-toc-modified-id=\"count-10.2\"><span class=\"toc-item-num\">10.2&nbsp;&nbsp;</span><code>count</code></a></span></li><li><span><a href=\"#sort\" data-toc-modified-id=\"sort-10.3\"><span class=\"toc-item-num\">10.3&nbsp;&nbsp;</span><code>sort</code></a></span></li><li><span><a href=\"#limit\" data-toc-modified-id=\"limit-10.4\"><span class=\"toc-item-num\">10.4&nbsp;&nbsp;</span><code>limit</code></a></span></li><li><span><a href=\"#skip\" data-toc-modified-id=\"skip-10.5\"><span class=\"toc-item-num\">10.5&nbsp;&nbsp;</span><code>skip</code></a></span></li></ul></li><li><span><a href=\"#Operadores-de-consulta-típicos\" data-toc-modified-id=\"Operadores-de-consulta-típicos-11\"><span class=\"toc-item-num\">11&nbsp;&nbsp;</span>Operadores de consulta típicos</a></span><ul class=\"toc-item\"><li><span><a href=\"#Mayor-que-/-Menor-que\" data-toc-modified-id=\"Mayor-que-/-Menor-que-11.1\"><span class=\"toc-item-num\">11.1&nbsp;&nbsp;</span>Mayor que / Menor que</a></span></li><li><span><a href=\"#exists\" data-toc-modified-id=\"exists-11.2\"><span class=\"toc-item-num\">11.2&nbsp;&nbsp;</span><code>exists</code></a></span></li><li><span><a href=\"#regex\" data-toc-modified-id=\"regex-11.3\"><span class=\"toc-item-num\">11.3&nbsp;&nbsp;</span><code>regex</code></a></span></li><li><span><a href=\"#and\" data-toc-modified-id=\"and-11.4\"><span class=\"toc-item-num\">11.4&nbsp;&nbsp;</span><code>and</code></a></span></li><li><span><a href=\"#or\" data-toc-modified-id=\"or-11.5\"><span class=\"toc-item-num\">11.5&nbsp;&nbsp;</span><code>or</code></a></span></li><li><span><a href=\"#ne\" data-toc-modified-id=\"ne-11.6\"><span class=\"toc-item-num\">11.6&nbsp;&nbsp;</span><code>ne</code></a></span></li><li><span><a href=\"#in\" data-toc-modified-id=\"in-11.7\"><span class=\"toc-item-num\">11.7&nbsp;&nbsp;</span><code>in</code></a></span></li><li><span><a href=\"#nin\" data-toc-modified-id=\"nin-11.8\"><span class=\"toc-item-num\">11.8&nbsp;&nbsp;</span><code>nin</code></a></span></li></ul></li><li><span><a href=\"#Update\" data-toc-modified-id=\"Update-12\"><span class=\"toc-item-num\">12&nbsp;&nbsp;</span>Update</a></span></li><li><span><a href=\"#Query-7-del-lab-.-All-the-companies-that-have-a-null-type-of-value-on-the-category_code-field.¶\" data-toc-modified-id=\"Query-7-del-lab-.-All-the-companies-that-have-a-null-type-of-value-on-the-category_code-field.¶-13\"><span class=\"toc-item-num\">13&nbsp;&nbsp;</span>Query 7 del lab . All the companies that have a null type of value on the category_code field.¶</a></span></li><li><span><a href=\"#Delete\" data-toc-modified-id=\"Delete-14\"><span class=\"toc-item-num\">14&nbsp;&nbsp;</span>Delete</a></span></li><li><span><a href=\"#Insert\" data-toc-modified-id=\"Insert-15\"><span class=\"toc-item-num\">15&nbsp;&nbsp;</span>Insert</a></span></li><li><span><a href=\"#Info-extra\" data-toc-modified-id=\"Info-extra-16\"><span class=\"toc-item-num\">16&nbsp;&nbsp;</span>Info extra</a></span></li><li><span><a href=\"#Resumen\" data-toc-modified-id=\"Resumen-17\"><span class=\"toc-item-num\">17&nbsp;&nbsp;</span>Resumen</a></span></li><li><span><a href=\"#Further-Materials\" data-toc-modified-id=\"Further-Materials-18\"><span class=\"toc-item-num\">18&nbsp;&nbsp;</span>Further Materials</a></span></li></ul></div>"
   ]
  },
  {
   "cell_type": "markdown",
   "id": "logical-pattern",
   "metadata": {},
   "source": [
    "## ¿Qué es MongoDB?    \n",
    "   \n",
    "MongoDB (del inglés humongous, \"enorme\") es un sistema de base de datos NoSQL, orientado a documentos y de código abierto.\n",
    "En lugar de guardar los datos en tablas, tal y como se hace en las bases de datos relacionales, MongoDB guarda estructuras de datos BSON (una especificación similar a JSON) con un esquema dinámico, haciendo que la integración de los datos en ciertas aplicaciones sea más fácil y rápida.\n",
    "MongoDB es una base de datos adecuada para su uso en producción y con múltiples funcionalidades. Esta base de datos se utiliza mucho en la industria, contando con implantaciones en empresas como MTV Network,  Craiglist, Foursquare.       \n",
    "El código fuente está disponible para los sistemas operativos --> Windows, GNU/Linux, OS X y Solaris."
   ]
  },
  {
   "cell_type": "markdown",
   "id": "classified-answer",
   "metadata": {},
   "source": [
    "## ¿Qué es la base de datos MongoDB?\n",
    "\n",
    "Una base de datos, es decir, una forma estructurada de almacenar y acceder a los datos, más específicamente, es una base de datos NoSQL.\n",
    "NoSQL es un término muy genérico que se utiliza para describir cualquier almacén de datos que no utiliza el enfoque heredado de tablas de datos relacionadas.\n",
    "Esto significa que está almacenando sus datos de una manera organizada, pero no en filas y columnas Un ejemplo de bases de datos NoSQL puede ser cualquier cosa, desde un catálogo de tarjetas de biblioteca, a un almacén de datos más sofisticado como MongoDB.\n",
    "Dado que el rango de lo que significa NoSQL es tan amplio, debemos acotar más nuestra definición.\n",
    "MongoDB es una base de datos de documentos NoSQL.\n",
    "Esto significa que los datos en MongoDB se almacenan como documentos, estos documentos se almacenan a su vez en lo que llamamos colecciones de documentos, Por eso MongoDB se clasifica como una base de datos de documentos NoSQL.\n",
    "\n",
    "En conclusión, la base de datos MongoDB es una base de datos de documentos NoSQL."
   ]
  },
  {
   "cell_type": "markdown",
   "id": "checked-sigma",
   "metadata": {},
   "source": [
    "### Pequeña explicación animada 🤔\n",
    "Veamos juntas [este](https://www.youtube.com/watch?v=DM4gD6Z5zFU) vídeo"
   ]
  },
  {
   "cell_type": "markdown",
   "id": "dominican-proposal",
   "metadata": {},
   "source": [
    "## Instalaciones\n",
    "Encontrarás todo lo referente a las instalaciones [AQUÍ](https://github.com/Ironhack-Data-Madrid-Agosto-2021/classroom-materials/blob/main/week_04/00-mongoDB-installation.ipynb)"
   ]
  },
  {
   "cell_type": "markdown",
   "id": "surgical-graduation",
   "metadata": {},
   "source": [
    "## Creación de bases de datos\n",
    "Hemos visto que a través de MongoDB compass podíamos crear una base de datos, una colección e importar los datos en formato JSON de manera sencilla. \n",
    "También podemos hacerlo mediante la interfaz de comandos o CLI de mongo."
   ]
  },
  {
   "cell_type": "code",
   "execution_count": null,
   "id": "emotional-pharmacy",
   "metadata": {},
   "outputs": [],
   "source": [
    "#$ mongoimport --db nombredelabasededatos --collection nombredelacolección --file archivo.json"
   ]
  },
  {
   "cell_type": "markdown",
   "id": "electronic-inclusion",
   "metadata": {},
   "source": [
    "Nos ubicamos en la terminal en la carpeta donde hayamos descargado el json de \"companies\". El comando lo que hace es importar a la base de daatos de ironhack, dentro de la colección companies, ese json. Si introducimos un nombre de base de datos que no existe o de colección que no existe, MongoDB lo crea por nosotras automáticamente. "
   ]
  },
  {
   "cell_type": "markdown",
   "id": "another-neutral",
   "metadata": {},
   "source": [
    "## Conexión con Python"
   ]
  },
  {
   "cell_type": "markdown",
   "id": "tired-portal",
   "metadata": {},
   "source": [
    "Lo primero que vamos a necesitar para conectar python con el servidor de bases de datos de MongoDB es instalar la siguiente librería\n",
    "```python\n",
    "#!pip install pymongo\n",
    "```\n",
    "Y recuerda: Tienes que [leer la documentación](https://pymongo.readthedocs.io/en/stable/)"
   ]
  },
  {
   "cell_type": "code",
   "execution_count": 220,
   "id": "medieval-venue",
   "metadata": {},
   "outputs": [],
   "source": [
    "from pymongo import MongoClient"
   ]
  },
  {
   "cell_type": "markdown",
   "id": "solved-crisis",
   "metadata": {},
   "source": [
    "### Nos conectamos al servidor\n",
    "El servidor de Mongo tiene que estar activo y normalmente está corriendo en el puerto 27017, siempre se conecta a este puerto por defecto"
   ]
  },
  {
   "cell_type": "code",
   "execution_count": 221,
   "id": "material-mexican",
   "metadata": {},
   "outputs": [],
   "source": [
    "# Con el comando MongoClient establecemos conexión con el servidor\n",
    "client = MongoClient(\"localhost:27017\")"
   ]
  },
  {
   "cell_type": "code",
   "execution_count": 222,
   "id": "electrical-shopper",
   "metadata": {},
   "outputs": [
    {
     "data": {
      "text/plain": [
       "MongoClient(host=['localhost:27017'], document_class=dict, tz_aware=False, connect=True)"
      ]
     },
     "execution_count": 222,
     "metadata": {},
     "output_type": "execute_result"
    }
   ],
   "source": [
    "client"
   ]
  },
  {
   "cell_type": "code",
   "execution_count": 223,
   "id": "linear-latin",
   "metadata": {},
   "outputs": [],
   "source": [
    "# Mostrar los nombres de las bases de datos existentes"
   ]
  },
  {
   "cell_type": "code",
   "execution_count": 5,
   "id": "equivalent-privacy",
   "metadata": {},
   "outputs": [
    {
     "data": {
      "text/plain": [
       "['HP', 'admin', 'config', 'ironhack', 'local', 'spotify']"
      ]
     },
     "execution_count": 5,
     "metadata": {},
     "output_type": "execute_result"
    }
   ],
   "source": [
    "client.list_database_names()"
   ]
  },
  {
   "cell_type": "markdown",
   "id": "three-premium",
   "metadata": {},
   "source": [
    "## Prueba bonus lab"
   ]
  },
  {
   "cell_type": "code",
   "execution_count": 224,
   "id": "destroyed-peoples",
   "metadata": {},
   "outputs": [],
   "source": [
    "companies = db.get_collection(\"companies\")"
   ]
  },
  {
   "cell_type": "code",
   "execution_count": 230,
   "id": "dying-pakistan",
   "metadata": {},
   "outputs": [],
   "source": [
    "query = {\"$where\": '(this.deadpooled_year - this.founded_year >3)'}"
   ]
  },
  {
   "cell_type": "code",
   "execution_count": 232,
   "id": "protected-founder",
   "metadata": {},
   "outputs": [],
   "source": [
    "list(companies.find(query));"
   ]
  },
  {
   "cell_type": "markdown",
   "id": "exterior-ecuador",
   "metadata": {},
   "source": [
    "### Nos conectamos con la base de datos"
   ]
  },
  {
   "cell_type": "code",
   "execution_count": 6,
   "id": "civilian-bankruptcy",
   "metadata": {},
   "outputs": [],
   "source": [
    "# Para crear una conexión con la base de datos en la que vayamos a trabajar\n",
    "db = client.get_database(\"ironhack\")"
   ]
  },
  {
   "cell_type": "code",
   "execution_count": 8,
   "id": "collaborative-nutrition",
   "metadata": {},
   "outputs": [],
   "source": [
    "harry = client.get_database(\"HP\")"
   ]
  },
  {
   "cell_type": "code",
   "execution_count": 11,
   "id": "quantitative-florida",
   "metadata": {},
   "outputs": [
    {
     "data": {
      "text/plain": [
       "Database(MongoClient(host=['localhost:27017'], document_class=dict, tz_aware=False, connect=True), 'HP')"
      ]
     },
     "execution_count": 11,
     "metadata": {},
     "output_type": "execute_result"
    }
   ],
   "source": [
    "harry"
   ]
  },
  {
   "cell_type": "markdown",
   "id": "critical-choice",
   "metadata": {},
   "source": [
    "Realmente voy a poder hacer queries con la conexión a la base de datos directamente sin conectarme a la colección, pero a mí me resulta más cómodo guardarme las colecciones en variables para acceder más rápido a ellas."
   ]
  },
  {
   "cell_type": "code",
   "execution_count": 13,
   "id": "closed-litigation",
   "metadata": {},
   "outputs": [
    {
     "data": {
      "text/plain": [
       "{'_id': ObjectId('60e6c9095c6cf27ca52647ac'),\n",
       " 'scene': 1,\n",
       " 'character_name': 'Minerva McGonagall',\n",
       " 'dialogue': 'And the boy?'}"
      ]
     },
     "execution_count": 13,
     "metadata": {},
     "output_type": "execute_result"
    }
   ],
   "source": [
    "harry[\"frases\"].find_one()"
   ]
  },
  {
   "cell_type": "code",
   "execution_count": 7,
   "id": "level-fantasy",
   "metadata": {},
   "outputs": [
    {
     "data": {
      "text/plain": [
       "['restaurants']"
      ]
     },
     "execution_count": 7,
     "metadata": {},
     "output_type": "execute_result"
    }
   ],
   "source": [
    "db.list_collection_names()"
   ]
  },
  {
   "cell_type": "code",
   "execution_count": 9,
   "id": "stuck-prevention",
   "metadata": {},
   "outputs": [],
   "source": [
    "c = db.get_collection(\"restaurants\")"
   ]
  },
  {
   "cell_type": "code",
   "execution_count": 10,
   "id": "suited-joining",
   "metadata": {},
   "outputs": [
    {
     "data": {
      "text/plain": [
       "Collection(Database(MongoClient(host=['localhost:27017'], document_class=dict, tz_aware=False, connect=True), 'ironhack'), 'restaurants')"
      ]
     },
     "execution_count": 10,
     "metadata": {},
     "output_type": "execute_result"
    }
   ],
   "source": [
    "c"
   ]
  },
  {
   "cell_type": "markdown",
   "id": "primary-vertical",
   "metadata": {},
   "source": [
    "## Operaciones básicas de gestión de bases de datos"
   ]
  },
  {
   "cell_type": "markdown",
   "id": "monetary-patch",
   "metadata": {},
   "source": [
    "### Creamos y borramos colecciones desde python"
   ]
  },
  {
   "cell_type": "code",
   "execution_count": 16,
   "id": "temporal-arcade",
   "metadata": {},
   "outputs": [
    {
     "data": {
      "text/plain": [
       "Collection(Database(MongoClient(host=['localhost:27017'], document_class=dict, tz_aware=False, connect=True), 'ironhack'), 'PRUEBA')"
      ]
     },
     "execution_count": 16,
     "metadata": {},
     "output_type": "execute_result"
    }
   ],
   "source": [
    "# Podemos crear colecciones como hemos visto antes con la GUI de MongoDB (Mongo Compass) o desde aquí mismo\n",
    "# Creamos la colección\n",
    "db.create_collection(\"PRUEBA\")"
   ]
  },
  {
   "cell_type": "code",
   "execution_count": 17,
   "id": "proud-undergraduate",
   "metadata": {},
   "outputs": [
    {
     "data": {
      "text/plain": [
       "['restaurants', 'PRUEBA']"
      ]
     },
     "execution_count": 17,
     "metadata": {},
     "output_type": "execute_result"
    }
   ],
   "source": [
    "# Listamos las colecciones y vemos si se ha creado la colección\n",
    "db.list_collection_names()"
   ]
  },
  {
   "cell_type": "code",
   "execution_count": 18,
   "id": "superb-harassment",
   "metadata": {},
   "outputs": [
    {
     "data": {
      "text/plain": [
       "{'nIndexesWas': 1, 'ns': 'ironhack.PRUEBA', 'ok': 1.0}"
      ]
     },
     "execution_count": 18,
     "metadata": {},
     "output_type": "execute_result"
    }
   ],
   "source": [
    "# Borramos la colección que acabamos de crear\n",
    "db.drop_collection(\"PRUEBA\")"
   ]
  },
  {
   "cell_type": "code",
   "execution_count": 19,
   "id": "critical-fruit",
   "metadata": {},
   "outputs": [
    {
     "data": {
      "text/plain": [
       "['restaurants']"
      ]
     },
     "execution_count": 19,
     "metadata": {},
     "output_type": "execute_result"
    }
   ],
   "source": [
    "# Comprobamos de nuevo\n",
    "db.list_collection_names()"
   ]
  },
  {
   "cell_type": "markdown",
   "id": "beginning-mechanics",
   "metadata": {},
   "source": [
    "### Nos conectamos a una colección en concreto para hacer las consultas"
   ]
  },
  {
   "cell_type": "code",
   "execution_count": 20,
   "id": "turkish-advantage",
   "metadata": {},
   "outputs": [],
   "source": [
    "# Elegimos la colección con la que vamos a trabajar\n",
    "c = db.get_collection(\"restaurants\")"
   ]
  },
  {
   "cell_type": "code",
   "execution_count": 21,
   "id": "dress-running",
   "metadata": {},
   "outputs": [
    {
     "data": {
      "text/plain": [
       "Collection(Database(MongoClient(host=['localhost:27017'], document_class=dict, tz_aware=False, connect=True), 'ironhack'), 'restaurants')"
      ]
     },
     "execution_count": 21,
     "metadata": {},
     "output_type": "execute_result"
    }
   ],
   "source": [
    "c"
   ]
  },
  {
   "cell_type": "markdown",
   "id": "deadly-aurora",
   "metadata": {},
   "source": [
    "## Consultas en Mongo"
   ]
  },
  {
   "cell_type": "markdown",
   "id": "generous-being",
   "metadata": {},
   "source": [
    "Para explorar cómo son los documentos en mi colección, qué forma y qué campos tienen, puedo irme a Mongo Compass y explorar la colección, o puedo elegir un documento sin filtrar. "
   ]
  },
  {
   "cell_type": "markdown",
   "id": "metric-information",
   "metadata": {},
   "source": [
    "![undocumento](../images/compass1.png)"
   ]
  },
  {
   "cell_type": "code",
   "execution_count": null,
   "id": "satisfied-syntax",
   "metadata": {},
   "outputs": [],
   "source": [
    "## Hagámoslo en Python"
   ]
  },
  {
   "cell_type": "markdown",
   "id": "dietary-musician",
   "metadata": {},
   "source": [
    "### Método `find_one` \n",
    "`collection.find_one(filter)`"
   ]
  },
  {
   "cell_type": "code",
   "execution_count": 22,
   "id": "double-gabriel",
   "metadata": {
    "scrolled": true
   },
   "outputs": [
    {
     "data": {
      "text/plain": [
       "{'_id': ObjectId('55f14312c7447c3da7051b26'),\n",
       " 'URL': 'http://www.just-eat.co.uk/restaurants-cn-chinese-cardiff/menu',\n",
       " 'address': '228 City Road',\n",
       " 'address line 2': 'Cardiff',\n",
       " 'name': '.CN Chinese',\n",
       " 'outcode': 'CF24',\n",
       " 'postcode': '3JH',\n",
       " 'rating': 5,\n",
       " 'type_of_food': 'Chinese'}"
      ]
     },
     "execution_count": 22,
     "metadata": {},
     "output_type": "execute_result"
    }
   ],
   "source": [
    "# Si no pongo ningún filtro, me dará el primer documento\n",
    "c.find_one()"
   ]
  },
  {
   "cell_type": "code",
   "execution_count": 23,
   "id": "valid-fence",
   "metadata": {},
   "outputs": [],
   "source": [
    "primer_documento = c.find_one()"
   ]
  },
  {
   "cell_type": "code",
   "execution_count": 24,
   "id": "weighted-lobby",
   "metadata": {},
   "outputs": [
    {
     "data": {
      "text/plain": [
       "dict"
      ]
     },
     "execution_count": 24,
     "metadata": {},
     "output_type": "execute_result"
    }
   ],
   "source": [
    "type(primer_documento)"
   ]
  },
  {
   "cell_type": "code",
   "execution_count": 25,
   "id": "delayed-ecology",
   "metadata": {},
   "outputs": [
    {
     "data": {
      "text/plain": [
       "{'_id': ObjectId('55f14312c7447c3da7051b26'),\n",
       " 'URL': 'http://www.just-eat.co.uk/restaurants-cn-chinese-cardiff/menu',\n",
       " 'address': '228 City Road',\n",
       " 'address line 2': 'Cardiff',\n",
       " 'name': '.CN Chinese',\n",
       " 'outcode': 'CF24',\n",
       " 'postcode': '3JH',\n",
       " 'rating': 5,\n",
       " 'type_of_food': 'Chinese'}"
      ]
     },
     "execution_count": 25,
     "metadata": {},
     "output_type": "execute_result"
    }
   ],
   "source": [
    "primer_documento"
   ]
  },
  {
   "cell_type": "code",
   "execution_count": 26,
   "id": "worldwide-spectacular",
   "metadata": {},
   "outputs": [
    {
     "data": {
      "text/plain": [
       "dict_keys(['_id', 'URL', 'address', 'address line 2', 'name', 'outcode', 'postcode', 'rating', 'type_of_food'])"
      ]
     },
     "execution_count": 26,
     "metadata": {},
     "output_type": "execute_result"
    }
   ],
   "source": [
    "# Ojo, porque no todos los documentos tienen por qué tener las mismas keys, Mongo es flexible para esto\n",
    "c.find_one().keys()"
   ]
  },
  {
   "cell_type": "markdown",
   "id": "brown-nitrogen",
   "metadata": {},
   "source": [
    "# Queremos buscar los restaurantes tailandeses\n",
    "Este sería el filtro 👇🏻\n",
    "```python\n",
    "{\"type_of_food\": \"Thai\"}\n",
    "```"
   ]
  },
  {
   "cell_type": "markdown",
   "id": "interstate-queue",
   "metadata": {},
   "source": [
    "SELECT *\n",
    "WHERE \"type_of_food\" = \"Thai\""
   ]
  },
  {
   "cell_type": "code",
   "execution_count": 27,
   "id": "relevant-strike",
   "metadata": {},
   "outputs": [
    {
     "data": {
      "text/plain": [
       "{'_id': ObjectId('55f14312c7447c3da7051b28'),\n",
       " 'URL': 'http://www.just-eat.co.uk/restaurants-atthairestaurant/menu',\n",
       " 'address': '30 Greyhound Road Hammersmith',\n",
       " 'address line 2': 'London',\n",
       " 'name': '@ Thai Restaurant',\n",
       " 'outcode': 'W6',\n",
       " 'postcode': '8NX',\n",
       " 'rating': 4.5,\n",
       " 'type_of_food': 'Thai'}"
      ]
     },
     "execution_count": 27,
     "metadata": {},
     "output_type": "execute_result"
    }
   ],
   "source": [
    "c.find_one({\"type_of_food\": \"Thai\"})"
   ]
  },
  {
   "cell_type": "markdown",
   "id": "forty-challenge",
   "metadata": {},
   "source": [
    "### Método `find` \n",
    "`collection.find(filter)`"
   ]
  },
  {
   "cell_type": "code",
   "execution_count": 39,
   "id": "adolescent-pricing",
   "metadata": {},
   "outputs": [],
   "source": [
    "documentos = c.find()"
   ]
  },
  {
   "cell_type": "code",
   "execution_count": 40,
   "id": "gentle-pantyhose",
   "metadata": {},
   "outputs": [
    {
     "data": {
      "text/plain": [
       "<pymongo.cursor.Cursor at 0x7fe0f1e21af0>"
      ]
     },
     "execution_count": 40,
     "metadata": {},
     "output_type": "execute_result"
    }
   ],
   "source": [
    "documentos"
   ]
  },
  {
   "cell_type": "code",
   "execution_count": 30,
   "id": "creative-setting",
   "metadata": {},
   "outputs": [
    {
     "data": {
      "text/plain": [
       "pymongo.cursor.Cursor"
      ]
     },
     "execution_count": 30,
     "metadata": {},
     "output_type": "execute_result"
    }
   ],
   "source": [
    "type(documentos)"
   ]
  },
  {
   "cell_type": "markdown",
   "id": "animated-surfing",
   "metadata": {},
   "source": [
    "El método de colección `pymongo` devuelve un Cursor:\n",
    " * un Cursor es un iterador\n",
    " * un Cursor tiene el método `__next__` (la función `next` devuelve el siguiente elemento en el flujo)\n",
    " * `pymongo` no trae información a la memoria hasta que se necesita\n",
    " * un Cursor no tiene `len`."
   ]
  },
  {
   "cell_type": "code",
   "execution_count": 33,
   "id": "global-gathering",
   "metadata": {},
   "outputs": [
    {
     "data": {
      "text/plain": [
       "{'_id': ObjectId('55f14312c7447c3da7051b28'),\n",
       " 'URL': 'http://www.just-eat.co.uk/restaurants-atthairestaurant/menu',\n",
       " 'address': '30 Greyhound Road Hammersmith',\n",
       " 'address line 2': 'London',\n",
       " 'name': '@ Thai Restaurant',\n",
       " 'outcode': 'W6',\n",
       " 'postcode': '8NX',\n",
       " 'rating': 4.5,\n",
       " 'type_of_food': 'Thai'}"
      ]
     },
     "execution_count": 33,
     "metadata": {},
     "output_type": "execute_result"
    }
   ],
   "source": [
    "documentos.next()"
   ]
  },
  {
   "cell_type": "code",
   "execution_count": 34,
   "id": "assigned-passenger",
   "metadata": {},
   "outputs": [
    {
     "ename": "TypeError",
     "evalue": "object of type 'Cursor' has no len()",
     "output_type": "error",
     "traceback": [
      "\u001b[0;31m---------------------------------------------------------------------------\u001b[0m",
      "\u001b[0;31mTypeError\u001b[0m                                 Traceback (most recent call last)",
      "\u001b[0;32m<ipython-input-34-a31fe995dc8c>\u001b[0m in \u001b[0;36m<module>\u001b[0;34m\u001b[0m\n\u001b[0;32m----> 1\u001b[0;31m \u001b[0mlen\u001b[0m\u001b[0;34m(\u001b[0m\u001b[0mdocumentos\u001b[0m\u001b[0;34m)\u001b[0m\u001b[0;34m\u001b[0m\u001b[0;34m\u001b[0m\u001b[0m\n\u001b[0m",
      "\u001b[0;31mTypeError\u001b[0m: object of type 'Cursor' has no len()"
     ]
    }
   ],
   "source": [
    "len(documentos)"
   ]
  },
  {
   "cell_type": "code",
   "execution_count": 35,
   "id": "soviet-discussion",
   "metadata": {},
   "outputs": [],
   "source": [
    "documentos_lista = list(documentos)"
   ]
  },
  {
   "cell_type": "code",
   "execution_count": 36,
   "id": "optional-corrections",
   "metadata": {},
   "outputs": [
    {
     "data": {
      "text/plain": [
       "2545"
      ]
     },
     "execution_count": 36,
     "metadata": {},
     "output_type": "execute_result"
    }
   ],
   "source": [
    "len(documentos_lista)"
   ]
  },
  {
   "cell_type": "code",
   "execution_count": 41,
   "id": "precise-ribbon",
   "metadata": {},
   "outputs": [
    {
     "data": {
      "text/plain": [
       "list"
      ]
     },
     "execution_count": 41,
     "metadata": {},
     "output_type": "execute_result"
    }
   ],
   "source": [
    "type(documentos_lista)"
   ]
  },
  {
   "cell_type": "code",
   "execution_count": 44,
   "id": "preceding-terrace",
   "metadata": {},
   "outputs": [
    {
     "name": "stdout",
     "output_type": "stream",
     "text": [
      "[{'_id': ObjectId('55f14312c7447c3da7051b2b'), 'URL': 'http://www.just-eat.co.uk/restaurants-007takeaway-s65/menu', 'address': '6 Drummond Street', 'address line 2': 'Rotherham', 'name': '007 Takeaway', 'outcode': 'S65', 'postcode': '1HY', 'rating': 6, 'type_of_food': 'Pizza'}, {'_id': ObjectId('55f14312c7447c3da7051b29'), 'URL': 'http://www.just-eat.co.uk/restaurants-atthairestaurant/menu', 'address': '30 Greyhound Road Hammersmith', 'address line 2': 'London', 'name': '@ Thai Restaurant', 'outcode': 'W6', 'postcode': '8NX', 'rating': 4.5, 'type_of_food': 'Thai'}, {'_id': ObjectId('55f14312c7447c3da7051b2c'), 'URL': 'http://www.just-eat.co.uk/restaurants-042-restaurant-e11/menu', 'address': '885 High Road Leytonstone', 'address line 2': 'London', 'name': '042 Restaurant & Bar', 'outcode': 'E11', 'postcode': '1HR', 'rating': 3, 'type_of_food': 'African'}]\n"
     ]
    }
   ],
   "source": [
    "print(documentos_lista[0:3])"
   ]
  },
  {
   "cell_type": "code",
   "execution_count": 45,
   "id": "expanded-northwest",
   "metadata": {},
   "outputs": [],
   "source": [
    "import pandas as pd"
   ]
  },
  {
   "cell_type": "code",
   "execution_count": 46,
   "id": "sufficient-mention",
   "metadata": {},
   "outputs": [
    {
     "data": {
      "text/html": [
       "<div>\n",
       "<style scoped>\n",
       "    .dataframe tbody tr th:only-of-type {\n",
       "        vertical-align: middle;\n",
       "    }\n",
       "\n",
       "    .dataframe tbody tr th {\n",
       "        vertical-align: top;\n",
       "    }\n",
       "\n",
       "    .dataframe thead th {\n",
       "        text-align: right;\n",
       "    }\n",
       "</style>\n",
       "<table border=\"1\" class=\"dataframe\">\n",
       "  <thead>\n",
       "    <tr style=\"text-align: right;\">\n",
       "      <th></th>\n",
       "      <th>_id</th>\n",
       "      <th>URL</th>\n",
       "      <th>address</th>\n",
       "      <th>address line 2</th>\n",
       "      <th>name</th>\n",
       "      <th>outcode</th>\n",
       "      <th>postcode</th>\n",
       "      <th>rating</th>\n",
       "      <th>type_of_food</th>\n",
       "    </tr>\n",
       "  </thead>\n",
       "  <tbody>\n",
       "    <tr>\n",
       "      <th>0</th>\n",
       "      <td>55f14312c7447c3da7051b2b</td>\n",
       "      <td>http://www.just-eat.co.uk/restaurants-007takea...</td>\n",
       "      <td>6 Drummond Street</td>\n",
       "      <td>Rotherham</td>\n",
       "      <td>007 Takeaway</td>\n",
       "      <td>S65</td>\n",
       "      <td>1HY</td>\n",
       "      <td>6</td>\n",
       "      <td>Pizza</td>\n",
       "    </tr>\n",
       "    <tr>\n",
       "      <th>1</th>\n",
       "      <td>55f14312c7447c3da7051b29</td>\n",
       "      <td>http://www.just-eat.co.uk/restaurants-atthaire...</td>\n",
       "      <td>30 Greyhound Road Hammersmith</td>\n",
       "      <td>London</td>\n",
       "      <td>@ Thai Restaurant</td>\n",
       "      <td>W6</td>\n",
       "      <td>8NX</td>\n",
       "      <td>4.5</td>\n",
       "      <td>Thai</td>\n",
       "    </tr>\n",
       "    <tr>\n",
       "      <th>2</th>\n",
       "      <td>55f14312c7447c3da7051b2c</td>\n",
       "      <td>http://www.just-eat.co.uk/restaurants-042-rest...</td>\n",
       "      <td>885 High Road Leytonstone</td>\n",
       "      <td>London</td>\n",
       "      <td>042 Restaurant &amp; Bar</td>\n",
       "      <td>E11</td>\n",
       "      <td>1HR</td>\n",
       "      <td>3</td>\n",
       "      <td>African</td>\n",
       "    </tr>\n",
       "    <tr>\n",
       "      <th>3</th>\n",
       "      <td>55f14312c7447c3da7051b2e</td>\n",
       "      <td>http://www.just-eat.co.uk/restaurants-042-rest...</td>\n",
       "      <td>885 High Road Leytonstone</td>\n",
       "      <td>London</td>\n",
       "      <td>042 Restaurant &amp; Bar</td>\n",
       "      <td>E11</td>\n",
       "      <td>1HR</td>\n",
       "      <td>3</td>\n",
       "      <td>African</td>\n",
       "    </tr>\n",
       "    <tr>\n",
       "      <th>4</th>\n",
       "      <td>55f14312c7447c3da7051b27</td>\n",
       "      <td>http://www.just-eat.co.uk/restaurants-atthai-s...</td>\n",
       "      <td>376 Rayleigh Road</td>\n",
       "      <td>Essex</td>\n",
       "      <td>@ Thai</td>\n",
       "      <td>SS9</td>\n",
       "      <td>5PT</td>\n",
       "      <td>5.5</td>\n",
       "      <td>Thai</td>\n",
       "    </tr>\n",
       "  </tbody>\n",
       "</table>\n",
       "</div>"
      ],
      "text/plain": [
       "                        _id  \\\n",
       "0  55f14312c7447c3da7051b2b   \n",
       "1  55f14312c7447c3da7051b29   \n",
       "2  55f14312c7447c3da7051b2c   \n",
       "3  55f14312c7447c3da7051b2e   \n",
       "4  55f14312c7447c3da7051b27   \n",
       "\n",
       "                                                 URL  \\\n",
       "0  http://www.just-eat.co.uk/restaurants-007takea...   \n",
       "1  http://www.just-eat.co.uk/restaurants-atthaire...   \n",
       "2  http://www.just-eat.co.uk/restaurants-042-rest...   \n",
       "3  http://www.just-eat.co.uk/restaurants-042-rest...   \n",
       "4  http://www.just-eat.co.uk/restaurants-atthai-s...   \n",
       "\n",
       "                         address address line 2                  name outcode  \\\n",
       "0              6 Drummond Street      Rotherham          007 Takeaway     S65   \n",
       "1  30 Greyhound Road Hammersmith         London     @ Thai Restaurant      W6   \n",
       "2      885 High Road Leytonstone         London  042 Restaurant & Bar     E11   \n",
       "3      885 High Road Leytonstone         London  042 Restaurant & Bar     E11   \n",
       "4              376 Rayleigh Road          Essex                @ Thai     SS9   \n",
       "\n",
       "  postcode rating type_of_food  \n",
       "0      1HY      6        Pizza  \n",
       "1      8NX    4.5         Thai  \n",
       "2      1HR      3      African  \n",
       "3      1HR      3      African  \n",
       "4      5PT    5.5         Thai  "
      ]
     },
     "execution_count": 46,
     "metadata": {},
     "output_type": "execute_result"
    }
   ],
   "source": [
    "df = pd.DataFrame(documentos_lista)\n",
    "df.head()"
   ]
  },
  {
   "cell_type": "code",
   "execution_count": null,
   "id": "extended-duncan",
   "metadata": {},
   "outputs": [],
   "source": [
    "# Hacemos un filtrado para ver los que tienen un rating de 5"
   ]
  },
  {
   "cell_type": "code",
   "execution_count": 49,
   "id": "concerned-copyright",
   "metadata": {},
   "outputs": [],
   "source": [
    "cinco = list(c.find({\"rating\":5}))"
   ]
  },
  {
   "cell_type": "code",
   "execution_count": null,
   "id": "complicated-travel",
   "metadata": {},
   "outputs": [],
   "source": [
    "# Usamos comillas para encontrar "
   ]
  },
  {
   "cell_type": "code",
   "execution_count": 51,
   "id": "extended-cologne",
   "metadata": {},
   "outputs": [
    {
     "ename": "NameError",
     "evalue": "name 'rating' is not defined",
     "output_type": "error",
     "traceback": [
      "\u001b[0;31m---------------------------------------------------------------------------\u001b[0m",
      "\u001b[0;31mNameError\u001b[0m                                 Traceback (most recent call last)",
      "\u001b[0;32m<ipython-input-51-1dddcbbb394b>\u001b[0m in \u001b[0;36m<module>\u001b[0;34m\u001b[0m\n\u001b[0;32m----> 1\u001b[0;31m \u001b[0mc\u001b[0m\u001b[0;34m.\u001b[0m\u001b[0mfind\u001b[0m\u001b[0;34m(\u001b[0m\u001b[0;34m{\u001b[0m\u001b[0mrating\u001b[0m\u001b[0;34m:\u001b[0m\u001b[0;36m5\u001b[0m\u001b[0;34m}\u001b[0m\u001b[0;34m)\u001b[0m\u001b[0;34m\u001b[0m\u001b[0;34m\u001b[0m\u001b[0m\n\u001b[0m",
      "\u001b[0;31mNameError\u001b[0m: name 'rating' is not defined"
     ]
    }
   ],
   "source": [
    "c.find({rating:5})"
   ]
  },
  {
   "cell_type": "markdown",
   "id": "determined-premiere",
   "metadata": {},
   "source": [
    "## Proyección\n",
    "Cuando se realiza una consulta en MongoDB usando .find() lo que retorna dicha consulta es el conjunto de documentos correspondientes a la consulta. Se devolverán por defecto los documentos completos con todos sus campos. Aunque podemos seleccionar los campos de un documento que queremos devuelva la consulta, o lo que es lo mismo hacer una MongoDB Projection.    \n",
    "Si queremos seleccionar varios campos, simplemente tenemos que indicar el nombre del campo seguido de un 1. O bien usar un 0 para eliminar los campos a mostrar:\n",
    "\n",
    "El campo `_id` se devuelve por defecto\n",
    "\n",
    "Sintaxis:    \n",
    "`collection.find(filtro, proyección)`"
   ]
  },
  {
   "cell_type": "code",
   "execution_count": 56,
   "id": "postal-burning",
   "metadata": {},
   "outputs": [],
   "source": [
    "proyec = {\"rating\": 1, \"name\":1, \"URL\": 1}"
   ]
  },
  {
   "cell_type": "code",
   "execution_count": 57,
   "id": "conditional-syria",
   "metadata": {},
   "outputs": [],
   "source": [
    "query = {\"type_of_food\": \"Thai\"}"
   ]
  },
  {
   "cell_type": "code",
   "execution_count": 55,
   "id": "exclusive-diagnosis",
   "metadata": {},
   "outputs": [],
   "source": [
    "list(c.find({\"type_of_food\": \"Thai\"},{\"rating\": 1, \"name\":1, \"URL\": 1})) #Incluyo los diccionarios en la sintaxis"
   ]
  },
  {
   "cell_type": "code",
   "execution_count": 58,
   "id": "essential-tolerance",
   "metadata": {},
   "outputs": [],
   "source": [
    "thai_proj = list(c.find(query,proyec)) #Guardo las variables en otro lugar "
   ]
  },
  {
   "cell_type": "code",
   "execution_count": 61,
   "id": "cutting-antigua",
   "metadata": {},
   "outputs": [
    {
     "data": {
      "text/plain": [
       "[{'_id': ObjectId('55f14312c7447c3da7051b28'),\n",
       "  'URL': 'http://www.just-eat.co.uk/restaurants-atthairestaurant/menu',\n",
       "  'name': '@ Thai Restaurant',\n",
       "  'rating': 4.5}]"
      ]
     },
     "execution_count": 61,
     "metadata": {},
     "output_type": "execute_result"
    }
   ],
   "source": [
    "thai_proj[0:1]"
   ]
  },
  {
   "cell_type": "code",
   "execution_count": null,
   "id": "several-floor",
   "metadata": {},
   "outputs": [],
   "source": [
    "# Si queremos que no nos muestre el ObjectId"
   ]
  },
  {
   "cell_type": "code",
   "execution_count": 62,
   "id": "frank-recording",
   "metadata": {},
   "outputs": [],
   "source": [
    "proyec_2 = {\"rating\": 1, \"name\":1, \"URL\": 1, \"_id\":0}"
   ]
  },
  {
   "cell_type": "code",
   "execution_count": 63,
   "id": "trying-external",
   "metadata": {},
   "outputs": [
    {
     "data": {
      "text/plain": [
       "{'URL': 'http://www.just-eat.co.uk/restaurants-atthairestaurant/menu',\n",
       " 'name': '@ Thai Restaurant',\n",
       " 'rating': 4.5}"
      ]
     },
     "execution_count": 63,
     "metadata": {},
     "output_type": "execute_result"
    }
   ],
   "source": [
    "list(c.find(query,proyec_2))[0]"
   ]
  },
  {
   "cell_type": "markdown",
   "id": "arbitrary-opening",
   "metadata": {},
   "source": [
    "## Otros métodos "
   ]
  },
  {
   "cell_type": "markdown",
   "id": "structural-competition",
   "metadata": {},
   "source": [
    "### `distinct`\n",
    "¿Cuántos valores distintos tiene un campo en toda la colección?"
   ]
  },
  {
   "cell_type": "code",
   "execution_count": 64,
   "id": "scenic-characteristic",
   "metadata": {},
   "outputs": [
    {
     "data": {
      "text/plain": [
       "[1, 1.5, 2, 2.5, 3, 3.5, 4, 4.5, 5, 5.5, 6, 'Not yet rated']"
      ]
     },
     "execution_count": 64,
     "metadata": {},
     "output_type": "execute_result"
    }
   ],
   "source": [
    "c.distinct(\"rating\")"
   ]
  },
  {
   "cell_type": "code",
   "execution_count": 65,
   "id": "bulgarian-doctor",
   "metadata": {},
   "outputs": [
    {
     "data": {
      "text/plain": [
       "['*NEW*',\n",
       " 'Afghan',\n",
       " 'African',\n",
       " 'American',\n",
       " 'Arabic',\n",
       " 'Azerbaijan',\n",
       " 'Bagels',\n",
       " 'Bangladeshi',\n",
       " 'Breakfast',\n",
       " 'Burgers',\n",
       " 'Cakes',\n",
       " 'Caribbean',\n",
       " 'Chicken',\n",
       " 'Chinese',\n",
       " 'Curry',\n",
       " 'Desserts',\n",
       " 'English',\n",
       " 'Ethiopian',\n",
       " 'Fish & Chips',\n",
       " 'Greek',\n",
       " 'Grill',\n",
       " 'Healthy',\n",
       " 'Ice Cream',\n",
       " 'Japanese',\n",
       " 'Kebab',\n",
       " 'Korean',\n",
       " 'Lebanese',\n",
       " 'Mediterranean',\n",
       " 'Mexican',\n",
       " 'Middle Eastern',\n",
       " 'Milkshakes',\n",
       " 'Moroccan',\n",
       " 'Nigerian',\n",
       " 'Pakistani',\n",
       " 'Pasta',\n",
       " 'Peri Peri',\n",
       " 'Persian',\n",
       " 'Pick n Mix',\n",
       " 'Pizza',\n",
       " 'Polish',\n",
       " 'Portuguese',\n",
       " 'Punjabi',\n",
       " 'Russian',\n",
       " 'Sandwiches',\n",
       " 'South Curry',\n",
       " 'Spanish',\n",
       " 'Sri-lankan',\n",
       " 'Sushi',\n",
       " 'Thai',\n",
       " 'Turkish',\n",
       " 'Vegetarian',\n",
       " 'Vietnamese']"
      ]
     },
     "execution_count": 65,
     "metadata": {},
     "output_type": "execute_result"
    }
   ],
   "source": [
    "c.distinct(\"type_of_food\")"
   ]
  },
  {
   "cell_type": "markdown",
   "id": "fatty-province",
   "metadata": {},
   "source": [
    "### `count`\n",
    "Devuelve el recuento de documentos que coincidirían con una consulta find() para la colección o vista. El método db.collection.count() no realiza la operación find() sino que cuenta y devuelve el número de resultados que coinciden con una consulta.\n",
    "Sintaxis:    \n",
    "     \n",
    "`collection.count_documents(filtro)`"
   ]
  },
  {
   "cell_type": "code",
   "execution_count": 66,
   "id": "handy-desert",
   "metadata": {},
   "outputs": [
    {
     "data": {
      "text/plain": [
       "2548"
      ]
     },
     "execution_count": 66,
     "metadata": {},
     "output_type": "execute_result"
    }
   ],
   "source": [
    "c.count_documents({})"
   ]
  },
  {
   "cell_type": "code",
   "execution_count": 67,
   "id": "consistent-kennedy",
   "metadata": {},
   "outputs": [
    {
     "data": {
      "text/plain": [
       "2548"
      ]
     },
     "execution_count": 67,
     "metadata": {},
     "output_type": "execute_result"
    }
   ],
   "source": [
    "len(list(c.find()))"
   ]
  },
  {
   "cell_type": "code",
   "execution_count": 152,
   "id": "focused-eleven",
   "metadata": {},
   "outputs": [
    {
     "data": {
      "text/plain": [
       "1"
      ]
     },
     "execution_count": 152,
     "metadata": {},
     "output_type": "execute_result"
    }
   ],
   "source": [
    "c.count_documents({\"type_of_food\": \"Pasta\"})"
   ]
  },
  {
   "cell_type": "code",
   "execution_count": 68,
   "id": "developing-shore",
   "metadata": {},
   "outputs": [],
   "source": [
    "import time"
   ]
  },
  {
   "cell_type": "code",
   "execution_count": 71,
   "id": "rocky-confidence",
   "metadata": {},
   "outputs": [
    {
     "name": "stdout",
     "output_type": "stream",
     "text": [
      "CPU times: user 2 µs, sys: 1 µs, total: 3 µs\n",
      "Wall time: 6.2 µs\n"
     ]
    },
    {
     "data": {
      "text/plain": [
       "49"
      ]
     },
     "execution_count": 71,
     "metadata": {},
     "output_type": "execute_result"
    }
   ],
   "source": [
    "# Directamente me cuenta los documentos en mongo que cumplen con el filtro y no necesito traerlos\n",
    "%time\n",
    "c.count_documents({\"rating\":6})"
   ]
  },
  {
   "cell_type": "code",
   "execution_count": 74,
   "id": "micro-proposition",
   "metadata": {},
   "outputs": [
    {
     "name": "stdout",
     "output_type": "stream",
     "text": [
      "CPU times: user 4 µs, sys: 1 µs, total: 5 µs\n",
      "Wall time: 9.06 µs\n"
     ]
    },
    {
     "data": {
      "text/plain": [
       "49"
      ]
     },
     "execution_count": 74,
     "metadata": {},
     "output_type": "execute_result"
    }
   ],
   "source": [
    "#Equivalente pero cargando todo en memoria al extraer con list la información del cursor\n",
    "%time\n",
    "len(list(c.find({\"rating\":6})))"
   ]
  },
  {
   "cell_type": "markdown",
   "id": "neural-speaker",
   "metadata": {},
   "source": [
    "### `sort`\n",
    "Podemos `ordenar` el resultado de un `find`\n",
    "\n",
    "`1` --> Orden ascendente     \n",
    "`-1` --> Orden desdendente"
   ]
  },
  {
   "cell_type": "code",
   "execution_count": 77,
   "id": "average-symbol",
   "metadata": {},
   "outputs": [],
   "source": [
    "proy = {'rating': 1, 'name': 1, 'URL': 1, '_id': 0, 'type_of_food':1}"
   ]
  },
  {
   "cell_type": "code",
   "execution_count": 78,
   "id": "sacred-probe",
   "metadata": {},
   "outputs": [],
   "source": [
    "chinos = list(c.find({\"type_of_food\": \"Chinese\"}, proy))"
   ]
  },
  {
   "cell_type": "code",
   "execution_count": 80,
   "id": "outer-radio",
   "metadata": {},
   "outputs": [
    {
     "data": {
      "text/plain": [
       "[{'URL': 'http://www.just-eat.co.uk/restaurants-cn-chinese-cardiff/menu',\n",
       "  'name': '.CN Chinese',\n",
       "  'rating': 5,\n",
       "  'type_of_food': 'Chinese'},\n",
       " {'URL': 'http://www.just-eat.co.uk/restaurants-1-2-3-chinese-rowlands-gill/menu',\n",
       "  'name': '1 2 3 Chinese',\n",
       "  'rating': 4.5,\n",
       "  'type_of_food': 'Chinese'},\n",
       " {'URL': 'http://www.just-eat.co.uk/restaurants-100menu-wn1/menu',\n",
       "  'name': '100 Menu',\n",
       "  'rating': 5,\n",
       "  'type_of_food': 'Chinese'}]"
      ]
     },
     "execution_count": 80,
     "metadata": {},
     "output_type": "execute_result"
    }
   ],
   "source": [
    "chinos[0:3]"
   ]
  },
  {
   "cell_type": "code",
   "execution_count": 83,
   "id": "involved-arrangement",
   "metadata": {},
   "outputs": [],
   "source": [
    "#Ordenados en orden descendente\n",
    "chinos_ord = list(c.find({\"type_of_food\": \"Chinese\"}, proy).sort(\"rating\",-1))"
   ]
  },
  {
   "cell_type": "code",
   "execution_count": 87,
   "id": "joined-thanksgiving",
   "metadata": {},
   "outputs": [
    {
     "data": {
      "text/plain": [
       "[{'URL': 'http://www.just-eat.co.uk/restaurants-113-fish-bar-wallasey/menu',\n",
       "  'name': '113 Fish Bar',\n",
       "  'rating': 5.5,\n",
       "  'type_of_food': 'Chinese'},\n",
       " {'URL': 'http://www.just-eat.co.uk/restaurants-168chinese-ls18/menu',\n",
       "  'name': '168 Chinese & Cantonese Takeaway',\n",
       "  'rating': 5.5,\n",
       "  'type_of_food': 'Chinese'},\n",
       " {'URL': 'http://www.just-eat.co.uk/restaurants-350wok-ws10/menu',\n",
       "  'name': '350 Wok',\n",
       "  'rating': 5.5,\n",
       "  'type_of_food': 'Chinese'},\n",
       " {'URL': 'http://www.just-eat.co.uk/restaurants-350wok-ws10/menu',\n",
       "  'name': '350 Wok',\n",
       "  'rating': 5.5,\n",
       "  'type_of_food': 'Chinese'},\n",
       " {'URL': 'http://www.just-eat.co.uk/restaurants-4inlove-pe30/menu',\n",
       "  'name': '4 in Love',\n",
       "  'rating': 5.5,\n",
       "  'type_of_food': 'Chinese'}]"
      ]
     },
     "execution_count": 87,
     "metadata": {},
     "output_type": "execute_result"
    }
   ],
   "source": [
    "chinos_ord[0:5]"
   ]
  },
  {
   "cell_type": "code",
   "execution_count": 85,
   "id": "outdoor-buddy",
   "metadata": {},
   "outputs": [],
   "source": [
    "# ascendente\n",
    "chinos_as = list(c.find({\"type_of_food\": \"Chinese\"}, proy).sort(\"rating\",1))"
   ]
  },
  {
   "cell_type": "code",
   "execution_count": 86,
   "id": "alternate-jordan",
   "metadata": {},
   "outputs": [
    {
     "data": {
      "text/plain": [
       "[{'URL': 'http://www.just-eat.co.uk/restaurants-asiaasia-so53/menu',\n",
       "  'name': 'Asia Asia',\n",
       "  'rating': 3.5,\n",
       "  'type_of_food': 'Chinese'},\n",
       " {'URL': 'http://www.just-eat.co.uk/restaurants-bamboo-garden-chinese-takeaway-manchester/menu',\n",
       "  'name': 'Bamboo Garden Chinese Takeaway',\n",
       "  'rating': 3.5,\n",
       "  'type_of_food': 'Chinese'},\n",
       " {'URL': 'http://www.just-eat.co.uk/restaurants-88noodlebar-hd1/menu',\n",
       "  'name': '88 Noodle Bar',\n",
       "  'rating': 4,\n",
       "  'type_of_food': 'Chinese'},\n",
       " {'URL': 'http://www.just-eat.co.uk/restaurants-amazing-ls6/menu',\n",
       "  'name': 'Amazing',\n",
       "  'rating': 4,\n",
       "  'type_of_food': 'Chinese'},\n",
       " {'URL': 'http://www.just-eat.co.uk/restaurants-arirang-se11/menu',\n",
       "  'name': 'Arirang',\n",
       "  'rating': 4,\n",
       "  'type_of_food': 'Chinese'}]"
      ]
     },
     "execution_count": 86,
     "metadata": {},
     "output_type": "execute_result"
    }
   ],
   "source": [
    "chinos_as[0:5]"
   ]
  },
  {
   "cell_type": "markdown",
   "id": "subject-rates",
   "metadata": {},
   "source": [
    "### `limit`\n",
    "\n",
    "Podemos `limitar` el resultado de un `find`"
   ]
  },
  {
   "cell_type": "code",
   "execution_count": 100,
   "id": "behavioral-saying",
   "metadata": {},
   "outputs": [
    {
     "data": {
      "text/plain": [
       "[{'URL': 'http://www.just-eat.co.uk/restaurants-350wok-ws10/menu',\n",
       "  'name': '350 Wok',\n",
       "  'rating': 5.5,\n",
       "  'type_of_food': 'Chinese'},\n",
       " {'URL': 'http://www.just-eat.co.uk/restaurants-4inlove-pe30/menu',\n",
       "  'name': '4 in Love',\n",
       "  'rating': 5.5,\n",
       "  'type_of_food': 'Chinese'},\n",
       " {'URL': 'http://www.just-eat.co.uk/restaurants-350wok-ws10/menu',\n",
       "  'name': '350 Wok',\n",
       "  'rating': 5.5,\n",
       "  'type_of_food': 'Chinese'},\n",
       " {'URL': 'http://www.just-eat.co.uk/restaurants-113-fish-bar-wallasey/menu',\n",
       "  'name': '113 Fish Bar',\n",
       "  'rating': 5.5,\n",
       "  'type_of_food': 'Chinese'},\n",
       " {'URL': 'http://www.just-eat.co.uk/restaurants-168chinese-ls18/menu',\n",
       "  'name': '168 Chinese & Cantonese Takeaway',\n",
       "  'rating': 5.5,\n",
       "  'type_of_food': 'Chinese'}]"
      ]
     },
     "execution_count": 100,
     "metadata": {},
     "output_type": "execute_result"
    }
   ],
   "source": [
    "chinos_limit = list(c.find({\"type_of_food\": \"Chinese\"}, proy).sort(\"rating\",-1).limit(5))\n",
    "chinos_limit"
   ]
  },
  {
   "cell_type": "code",
   "execution_count": 99,
   "id": "bulgarian-fraction",
   "metadata": {},
   "outputs": [
    {
     "data": {
      "text/plain": [
       "[{'URL': 'http://www.just-eat.co.uk/restaurants-350wok-ws10/menu',\n",
       "  'name': '350 Wok',\n",
       "  'rating': 5.5,\n",
       "  'type_of_food': 'Chinese'},\n",
       " {'URL': 'http://www.just-eat.co.uk/restaurants-168chinese-ls18/menu',\n",
       "  'name': '168 Chinese & Cantonese Takeaway',\n",
       "  'rating': 5.5,\n",
       "  'type_of_food': 'Chinese'},\n",
       " {'URL': 'http://www.just-eat.co.uk/restaurants-113-fish-bar-wallasey/menu',\n",
       "  'name': '113 Fish Bar',\n",
       "  'rating': 5.5,\n",
       "  'type_of_food': 'Chinese'}]"
      ]
     },
     "execution_count": 99,
     "metadata": {},
     "output_type": "execute_result"
    }
   ],
   "source": [
    "list(c.find({\"type_of_food\": \"Chinese\"}, proy).limit(3).sort(\"rating\",-1)) #se puede limitar antes de ordenar pero ¿tiene sentido?"
   ]
  },
  {
   "cell_type": "markdown",
   "id": "welsh-uncertainty",
   "metadata": {},
   "source": [
    "### `skip`\n",
    "Podemos `omitir` algunos resultados de un `find`    \n",
    "Llame al método skip() en un cursor para controlar dónde empieza MongoDB a devolver resultados. Este enfoque puede ser útil para implementar resultados paginados."
   ]
  },
  {
   "cell_type": "code",
   "execution_count": 94,
   "id": "empirical-mongolia",
   "metadata": {},
   "outputs": [],
   "source": [
    "chinos_skip = list(c.find({\"type_of_food\": \"Chinese\"}, proy).sort(\"rating\",-1).skip(2))"
   ]
  },
  {
   "cell_type": "code",
   "execution_count": 101,
   "id": "muslim-stake",
   "metadata": {},
   "outputs": [
    {
     "data": {
      "text/plain": [
       "[{'URL': 'http://www.just-eat.co.uk/restaurants-113-fish-bar-wallasey/menu',\n",
       "  'name': '113 Fish Bar',\n",
       "  'rating': 5.5,\n",
       "  'type_of_food': 'Chinese'},\n",
       " {'URL': 'http://www.just-eat.co.uk/restaurants-168chinese-ls18/menu',\n",
       "  'name': '168 Chinese & Cantonese Takeaway',\n",
       "  'rating': 5.5,\n",
       "  'type_of_food': 'Chinese'},\n",
       " {'URL': 'http://www.just-eat.co.uk/restaurants-350wok-ws10/menu',\n",
       "  'name': '350 Wok',\n",
       "  'rating': 5.5,\n",
       "  'type_of_food': 'Chinese'}]"
      ]
     },
     "execution_count": 101,
     "metadata": {},
     "output_type": "execute_result"
    }
   ],
   "source": [
    "list(c.find({\"type_of_food\": \"Chinese\"}, proy).sort(\"rating\",-1))[0:3]"
   ]
  },
  {
   "cell_type": "code",
   "execution_count": 103,
   "id": "parental-supervisor",
   "metadata": {},
   "outputs": [
    {
     "data": {
      "text/plain": [
       "[{'URL': 'http://www.just-eat.co.uk/restaurants-350wok-ws10/menu',\n",
       "  'name': '350 Wok',\n",
       "  'rating': 5.5,\n",
       "  'type_of_food': 'Chinese'},\n",
       " {'URL': 'http://www.just-eat.co.uk/restaurants-350wok-ws10/menu',\n",
       "  'name': '350 Wok',\n",
       "  'rating': 5.5,\n",
       "  'type_of_food': 'Chinese'},\n",
       " {'URL': 'http://www.just-eat.co.uk/restaurants-4inlove-pe30/menu',\n",
       "  'name': '4 in Love',\n",
       "  'rating': 5.5,\n",
       "  'type_of_food': 'Chinese'},\n",
       " {'URL': 'http://www.just-eat.co.uk/restaurants-350wok-ws10/menu',\n",
       "  'name': '350 Wok',\n",
       "  'rating': 5.5,\n",
       "  'type_of_food': 'Chinese'}]"
      ]
     },
     "execution_count": 103,
     "metadata": {},
     "output_type": "execute_result"
    }
   ],
   "source": [
    "chinos_skip[0:4]"
   ]
  },
  {
   "cell_type": "markdown",
   "id": "north-mining",
   "metadata": {},
   "source": [
    "## Operadores de consulta típicos\n",
    "Los operadores de consulta van precedidos del signo de dólar `$`."
   ]
  },
  {
   "cell_type": "markdown",
   "id": "literary-manitoba",
   "metadata": {},
   "source": [
    "### Mayor que / Menor que\n",
    "Es un campo numérico mayor o menor que un valor determinado"
   ]
  },
  {
   "cell_type": "code",
   "execution_count": 104,
   "id": "false-analysis",
   "metadata": {},
   "outputs": [
    {
     "data": {
      "text/plain": [
       "<pymongo.cursor.Cursor at 0x7fe0f2004d60>"
      ]
     },
     "execution_count": 104,
     "metadata": {},
     "output_type": "execute_result"
    }
   ],
   "source": [
    "# Menor que: less than\n",
    "c.find({\"rating\": {\"$lt\": 4}})"
   ]
  },
  {
   "cell_type": "code",
   "execution_count": 105,
   "id": "extra-extreme",
   "metadata": {},
   "outputs": [],
   "source": [
    "menor_4 = {\"rating\":{\"$lt\": 4}}"
   ]
  },
  {
   "cell_type": "code",
   "execution_count": 108,
   "id": "unable-irrigation",
   "metadata": {},
   "outputs": [
    {
     "data": {
      "text/plain": [
       "[{'URL': 'http://www.just-eat.co.uk/restaurants-042-restaurant-e11/menu',\n",
       "  'name': '042 Restaurant & Bar',\n",
       "  'rating': 3,\n",
       "  'type_of_food': 'African'},\n",
       " {'URL': 'http://www.just-eat.co.uk/restaurants-042-restaurant-e11/menu',\n",
       "  'name': '042 Restaurant & Bar',\n",
       "  'rating': 3,\n",
       "  'type_of_food': 'African'},\n",
       " {'URL': 'http://www.just-eat.co.uk/restaurants-042-restaurant-e11/menu',\n",
       "  'name': '042 Restaurant & Bar',\n",
       "  'rating': 3,\n",
       "  'type_of_food': 'African'}]"
      ]
     },
     "execution_count": 108,
     "metadata": {},
     "output_type": "execute_result"
    }
   ],
   "source": [
    "list(c.find(menor_4,proy).limit(3))"
   ]
  },
  {
   "cell_type": "code",
   "execution_count": 109,
   "id": "treated-effectiveness",
   "metadata": {},
   "outputs": [],
   "source": [
    "# Mayor que: greater than\n",
    "mayor_3 = {\"rating\":{\"$gt\": 3}}"
   ]
  },
  {
   "cell_type": "code",
   "execution_count": 110,
   "id": "coral-folder",
   "metadata": {},
   "outputs": [
    {
     "data": {
      "text/plain": [
       "[{'URL': 'http://www.just-eat.co.uk/restaurants-cn-chinese-cardiff/menu',\n",
       "  'name': '.CN Chinese',\n",
       "  'rating': 5,\n",
       "  'type_of_food': 'Chinese'},\n",
       " {'URL': 'http://www.just-eat.co.uk/restaurants-indiancom-ch4/menu',\n",
       "  'name': '@Indian.com',\n",
       "  'rating': 6,\n",
       "  'type_of_food': 'Curry'},\n",
       " {'URL': 'http://www.just-eat.co.uk/restaurants-atthairestaurant/menu',\n",
       "  'name': '@ Thai Restaurant',\n",
       "  'rating': 4.5,\n",
       "  'type_of_food': 'Thai'}]"
      ]
     },
     "execution_count": 110,
     "metadata": {},
     "output_type": "execute_result"
    }
   ],
   "source": [
    "list(c.find(mayor_3,proy).limit(3)) #PONGO LOS LIMIT PARA VUESTRA SALUD CON LOS PRINT ¿OK?"
   ]
  },
  {
   "cell_type": "code",
   "execution_count": 114,
   "id": "finite-colors",
   "metadata": {},
   "outputs": [
    {
     "data": {
      "text/plain": [
       "[{'URL': 'http://www.just-eat.co.uk/restaurants-042-restaurant-e11/menu',\n",
       "  'name': '042 Restaurant & Bar',\n",
       "  'rating': 3,\n",
       "  'type_of_food': 'African'},\n",
       " {'URL': 'http://www.just-eat.co.uk/restaurants-042-restaurant-e11/menu',\n",
       "  'name': '042 Restaurant & Bar',\n",
       "  'rating': 3,\n",
       "  'type_of_food': 'African'},\n",
       " {'URL': 'http://www.just-eat.co.uk/restaurants-042-restaurant-e11/menu',\n",
       "  'name': '042 Restaurant & Bar',\n",
       "  'rating': 3,\n",
       "  'type_of_food': 'African'}]"
      ]
     },
     "execution_count": 114,
     "metadata": {},
     "output_type": "execute_result"
    }
   ],
   "source": [
    "# Mayor o igual / Menor o igual añadimos la e\n",
    "list(c.find({\"rating\": {\"$lte\": 4}}, proy).limit(3))"
   ]
  },
  {
   "cell_type": "code",
   "execution_count": 115,
   "id": "floppy-formation",
   "metadata": {},
   "outputs": [
    {
     "data": {
      "text/plain": [
       "[{'URL': 'http://www.just-eat.co.uk/restaurants-cn-chinese-cardiff/menu',\n",
       "  'name': '.CN Chinese',\n",
       "  'rating': 5,\n",
       "  'type_of_food': 'Chinese'},\n",
       " {'URL': 'http://www.just-eat.co.uk/restaurants-indiancom-ch4/menu',\n",
       "  'name': '@Indian.com',\n",
       "  'rating': 6,\n",
       "  'type_of_food': 'Curry'},\n",
       " {'URL': 'http://www.just-eat.co.uk/restaurants-atthairestaurant/menu',\n",
       "  'name': '@ Thai Restaurant',\n",
       "  'rating': 4.5,\n",
       "  'type_of_food': 'Thai'}]"
      ]
     },
     "execution_count": 115,
     "metadata": {},
     "output_type": "execute_result"
    }
   ],
   "source": [
    "list(c.find({\"rating\": {\"$gte\": 4}}, proy).limit(3))"
   ]
  },
  {
   "cell_type": "code",
   "execution_count": 121,
   "id": "distributed-nutrition",
   "metadata": {},
   "outputs": [
    {
     "name": "stdout",
     "output_type": "stream",
     "text": [
      "Qué quieres buscar? rating\n",
      "¿De cuánto? 5\n"
     ]
    }
   ],
   "source": [
    "type_ = input(\"Qué quieres buscar? \")\n",
    "rating = int(input(\"¿De cuánto? \"))"
   ]
  },
  {
   "cell_type": "code",
   "execution_count": 126,
   "id": "differential-voice",
   "metadata": {},
   "outputs": [],
   "source": [
    "# Escribir la sintaxis en una variable puede sernos útil\n",
    "filtro = {type_: {\"$gte\": rating}}"
   ]
  },
  {
   "cell_type": "code",
   "execution_count": 127,
   "id": "intimate-kenya",
   "metadata": {},
   "outputs": [
    {
     "data": {
      "text/plain": [
       "[{'URL': 'http://www.just-eat.co.uk/restaurants-cn-chinese-cardiff/menu',\n",
       "  'name': '.CN Chinese',\n",
       "  'rating': 5,\n",
       "  'type_of_food': 'Chinese'},\n",
       " {'URL': 'http://www.just-eat.co.uk/restaurants-indiancom-ch4/menu',\n",
       "  'name': '@Indian.com',\n",
       "  'rating': 6,\n",
       "  'type_of_food': 'Curry'},\n",
       " {'URL': 'http://www.just-eat.co.uk/restaurants-007takeaway-s65/menu',\n",
       "  'name': '007 Takeaway',\n",
       "  'rating': 6,\n",
       "  'type_of_food': 'Pizza'}]"
      ]
     },
     "execution_count": 127,
     "metadata": {},
     "output_type": "execute_result"
    }
   ],
   "source": [
    "list(c.find(filtro,proy).limit(3))"
   ]
  },
  {
   "cell_type": "markdown",
   "id": "nonprofit-operator",
   "metadata": {},
   "source": [
    "### `exists`    \n",
    "Cuando <boolean> es verdadero, $exists coincide con los documentos que contienen el campo, incluidos los documentos en los que el valor del campo es nulo. Si <boolean> es falso, la consulta devuelve sólo los documentos que no contienen el campo\n"
   ]
  },
  {
   "cell_type": "code",
   "execution_count": 132,
   "id": "korean-constant",
   "metadata": {},
   "outputs": [
    {
     "data": {
      "text/plain": [
       "[{'_id': ObjectId('55f14312c7447c3da7051b26'),\n",
       "  'URL': 'http://www.just-eat.co.uk/restaurants-cn-chinese-cardiff/menu',\n",
       "  'address': '228 City Road',\n",
       "  'address line 2': 'Cardiff',\n",
       "  'name': '.CN Chinese',\n",
       "  'outcode': 'CF24',\n",
       "  'postcode': '3JH',\n",
       "  'rating': 5,\n",
       "  'type_of_food': 'Chinese'},\n",
       " {'_id': ObjectId('55f14312c7447c3da7051b2a'),\n",
       "  'URL': 'http://www.just-eat.co.uk/restaurants-indiancom-ch4/menu',\n",
       "  'address': '9 Broughton Hall Road',\n",
       "  'address line 2': 'Broughton',\n",
       "  'name': '@Indian.com',\n",
       "  'outcode': 'CH4',\n",
       "  'postcode': '0QR',\n",
       "  'rating': 6,\n",
       "  'type_of_food': 'Curry'}]"
      ]
     },
     "execution_count": 132,
     "metadata": {},
     "output_type": "execute_result"
    }
   ],
   "source": [
    "list(c.find({\"rating\": {\"$exists\": True}}).limit(2))"
   ]
  },
  {
   "cell_type": "code",
   "execution_count": 134,
   "id": "consolidated-sensitivity",
   "metadata": {},
   "outputs": [
    {
     "data": {
      "text/plain": [
       "[]"
      ]
     },
     "execution_count": 134,
     "metadata": {},
     "output_type": "execute_result"
    }
   ],
   "source": [
    "# No hay ningún documento  que no tenga el campo \"address line 2\"\n",
    "# Comprobamos los registros a los que les falta un campo con false\n",
    "list(c.find({\"address\": {\"$exists\": False}}))"
   ]
  },
  {
   "cell_type": "code",
   "execution_count": 141,
   "id": "swedish-sentence",
   "metadata": {},
   "outputs": [
    {
     "data": {
      "text/plain": [
       "'$multiply'"
      ]
     },
     "execution_count": 141,
     "metadata": {},
     "output_type": "execute_result"
    }
   ],
   "source": [
    "# Otros métodos a investigar de mongo\n",
    "\"$sum\"\n",
    "\"$multiply\""
   ]
  },
  {
   "cell_type": "markdown",
   "id": "pointed-agreement",
   "metadata": {},
   "source": [
    "### `regex`     \n",
    "Ofrece la posibilidad de utilizar expresiones regulares para la búsqueda de patrones en las consultas."
   ]
  },
  {
   "cell_type": "code",
   "execution_count": 135,
   "id": "tested-liberal",
   "metadata": {},
   "outputs": [],
   "source": [
    "query = {\"name\": {\"$regex\": \".*Halal.*\"}}"
   ]
  },
  {
   "cell_type": "code",
   "execution_count": 136,
   "id": "occupied-resort",
   "metadata": {},
   "outputs": [
    {
     "data": {
      "text/plain": [
       "[{'URL': 'http://www.just-eat.co.uk/restaurants-acha-halal-chinese-cuisine-birmingham/menu',\n",
       "  'name': 'Acha Halal Chinese Cuisine',\n",
       "  'rating': 5,\n",
       "  'type_of_food': 'Chinese'},\n",
       " {'URL': 'http://www.just-eat.co.uk/restaurants-beirut-eh8/menu',\n",
       "  'name': 'Beirut Lebanese Halal Restaurant',\n",
       "  'rating': 4.5,\n",
       "  'type_of_food': 'Lebanese'},\n",
       " {'URL': 'http://www.just-eat.co.uk/restaurants-beirut-eh8/menu',\n",
       "  'name': 'Beirut Lebanese Halal Restaurant',\n",
       "  'rating': 4.5,\n",
       "  'type_of_food': 'Lebanese'}]"
      ]
     },
     "execution_count": 136,
     "metadata": {},
     "output_type": "execute_result"
    }
   ],
   "source": [
    "list(c.find(query,proy))"
   ]
  },
  {
   "cell_type": "code",
   "execution_count": 137,
   "id": "narrow-convergence",
   "metadata": {},
   "outputs": [],
   "source": [
    "query2 = {\"name\": {\"$regex\": \".*\\d*.\"}}"
   ]
  },
  {
   "cell_type": "code",
   "execution_count": 139,
   "id": "finite-pennsylvania",
   "metadata": {},
   "outputs": [
    {
     "data": {
      "text/plain": [
       "[{'URL': 'http://www.just-eat.co.uk/restaurants-cn-chinese-cardiff/menu',\n",
       "  'name': '.CN Chinese',\n",
       "  'rating': 5,\n",
       "  'type_of_food': 'Chinese'},\n",
       " {'URL': 'http://www.just-eat.co.uk/restaurants-indiancom-ch4/menu',\n",
       "  'name': '@Indian.com',\n",
       "  'rating': 6,\n",
       "  'type_of_food': 'Curry'},\n",
       " {'URL': 'http://www.just-eat.co.uk/restaurants-atthairestaurant/menu',\n",
       "  'name': '@ Thai Restaurant',\n",
       "  'rating': 4.5,\n",
       "  'type_of_food': 'Thai'},\n",
       " {'URL': 'http://www.just-eat.co.uk/restaurants-007takeaway-s65/menu',\n",
       "  'name': '007 Takeaway',\n",
       "  'rating': 6,\n",
       "  'type_of_food': 'Pizza'}]"
      ]
     },
     "execution_count": 139,
     "metadata": {},
     "output_type": "execute_result"
    }
   ],
   "source": [
    "list(c.find(query2,proy).limit(4))"
   ]
  },
  {
   "cell_type": "markdown",
   "id": "widespread-incident",
   "metadata": {},
   "source": [
    "### `and`      \n",
    "Realiza una operación lógica AND en una matriz de una o más expresiones (por ejemplo, <expresión1>, <expresión2>, etc.) y selecciona los documentos que satisfacen todas las expresiones de la matriz. El operador $and utiliza la evaluación en circuito corto. Si la primera expresión (por ejemplo, <expresión1>) se evalúa como falsa, MongoDB no evaluará las expresiones restantes."
   ]
  },
  {
   "cell_type": "markdown",
   "id": "restricted-glass",
   "metadata": {},
   "source": [
    "Sintaxis del AND  \n",
    "`find({\"$and\": [cond1, cond2]})`"
   ]
  },
  {
   "cell_type": "code",
   "execution_count": 149,
   "id": "freelance-reduction",
   "metadata": {},
   "outputs": [],
   "source": [
    "cond1 = {\"type_of_food\": \"Pizza\"}\n",
    "cond2 = {\"rating\": {\"$gte\": 3}}\n",
    "cond3 = {\"name\": {\"$regex\": \".*\\d*.\"}}"
   ]
  },
  {
   "cell_type": "code",
   "execution_count": 153,
   "id": "mounted-furniture",
   "metadata": {},
   "outputs": [
    {
     "data": {
      "text/plain": [
       "[{'_id': ObjectId('55f14312c7447c3da7051b2b'),\n",
       "  'URL': 'http://www.just-eat.co.uk/restaurants-007takeaway-s65/menu',\n",
       "  'address': '6 Drummond Street',\n",
       "  'address line 2': 'Rotherham',\n",
       "  'name': '007 Takeaway',\n",
       "  'outcode': 'S65',\n",
       "  'postcode': '1HY',\n",
       "  'rating': 6,\n",
       "  'type_of_food': 'Pizza'},\n",
       " {'_id': ObjectId('55f14312c7447c3da7051b34'),\n",
       "  'URL': 'http://www.just-eat.co.uk/restaurants-109restaurant-w2/menu',\n",
       "  'address': '109 Westbourne Park Road',\n",
       "  'address line 2': 'London',\n",
       "  'name': '109 Ristorante',\n",
       "  'outcode': 'W2',\n",
       "  'postcode': '5QL',\n",
       "  'rating': 5,\n",
       "  'type_of_food': 'Pizza'}]"
      ]
     },
     "execution_count": 153,
     "metadata": {},
     "output_type": "execute_result"
    }
   ],
   "source": [
    "list(c.find({\"$and\": [{\"type_of_food\": \"Pizza\"}, {\"rating\": {\"$gte\": 2}}, {\"name\": {\"$regex\": \".*\\d*.\"}}]}).limit(2))"
   ]
  },
  {
   "cell_type": "code",
   "execution_count": 155,
   "id": "contained-telling",
   "metadata": {},
   "outputs": [
    {
     "data": {
      "text/plain": [
       "[{'_id': ObjectId('55f14312c7447c3da7051b2b'),\n",
       "  'URL': 'http://www.just-eat.co.uk/restaurants-007takeaway-s65/menu',\n",
       "  'address': '6 Drummond Street',\n",
       "  'address line 2': 'Rotherham',\n",
       "  'name': '007 Takeaway',\n",
       "  'outcode': 'S65',\n",
       "  'postcode': '1HY',\n",
       "  'rating': 6,\n",
       "  'type_of_food': 'Pizza'},\n",
       " {'_id': ObjectId('55f14312c7447c3da7051b34'),\n",
       "  'URL': 'http://www.just-eat.co.uk/restaurants-109restaurant-w2/menu',\n",
       "  'address': '109 Westbourne Park Road',\n",
       "  'address line 2': 'London',\n",
       "  'name': '109 Ristorante',\n",
       "  'outcode': 'W2',\n",
       "  'postcode': '5QL',\n",
       "  'rating': 5,\n",
       "  'type_of_food': 'Pizza'},\n",
       " {'_id': ObjectId('55f14312c7447c3da7051b3a'),\n",
       "  'URL': 'http://www.just-eat.co.uk/restaurants-1pizza1com-ls26/menu',\n",
       "  'address': '160 Leeds Road',\n",
       "  'address line 2': 'Leeds',\n",
       "  'name': '1pizza1',\n",
       "  'outcode': 'LS26',\n",
       "  'postcode': '0JH',\n",
       "  'rating': 4,\n",
       "  'type_of_food': 'Pizza'}]"
      ]
     },
     "execution_count": 155,
     "metadata": {},
     "output_type": "execute_result"
    }
   ],
   "source": [
    "list(c.find({\"$and\": [cond1,cond2,cond3]}).limit(3))"
   ]
  },
  {
   "cell_type": "code",
   "execution_count": null,
   "id": "bizarre-valley",
   "metadata": {},
   "outputs": [],
   "source": [
    "# También funciona así \n",
    "{\"type_of_food\": \"Chinese\", \"rating\": {\"$gte\":5},\"name\": {\"$regex\": \".*\\d*.\"}}"
   ]
  },
  {
   "cell_type": "code",
   "execution_count": null,
   "id": "ignored-visitor",
   "metadata": {},
   "outputs": [],
   "source": [
    "# NO LO HAGÁIS ASÍ, AUNQUE FUNCIONA"
   ]
  },
  {
   "cell_type": "code",
   "execution_count": 158,
   "id": "deadly-pension",
   "metadata": {},
   "outputs": [
    {
     "data": {
      "text/plain": [
       "[{'URL': 'http://www.just-eat.co.uk/restaurants-cn-chinese-cardiff/menu',\n",
       "  'name': '.CN Chinese',\n",
       "  'rating': 5,\n",
       "  'type_of_food': 'Chinese'},\n",
       " {'URL': 'http://www.just-eat.co.uk/restaurants-100menu-wn1/menu',\n",
       "  'name': '100 Menu',\n",
       "  'rating': 5,\n",
       "  'type_of_food': 'Chinese'},\n",
       " {'URL': 'http://www.just-eat.co.uk/restaurants-113-fish-bar-wallasey/menu',\n",
       "  'name': '113 Fish Bar',\n",
       "  'rating': 5.5,\n",
       "  'type_of_food': 'Chinese'}]"
      ]
     },
     "execution_count": 158,
     "metadata": {},
     "output_type": "execute_result"
    }
   ],
   "source": [
    "list(c.find({\"type_of_food\": \"Chinese\", \"rating\": {\"$gte\":5},\"name\": {\"$regex\": \".*\\d*.\"}},proy).limit(3))"
   ]
  },
  {
   "cell_type": "code",
   "execution_count": 159,
   "id": "focused-feature",
   "metadata": {},
   "outputs": [],
   "source": [
    "#CONDICIONES ILIMITADAS"
   ]
  },
  {
   "cell_type": "markdown",
   "id": "hundred-messenger",
   "metadata": {},
   "source": [
    "### `or`     \n",
    "El operador or realiza una operación lógica OR en una matriz de dos o más expresiones y selecciona los documentos que satisfacen al menos una de las expresiones.    \n",
    "El operador $or tiene la siguiente sintaxis:      \n",
    "`colección.find({\"$or\": [condición1, condición, condición3 ]})`"
   ]
  },
  {
   "cell_type": "code",
   "execution_count": 160,
   "id": "special-daniel",
   "metadata": {},
   "outputs": [
    {
     "data": {
      "text/plain": [
       "{'type_of_food': 'Pizza'}"
      ]
     },
     "execution_count": 160,
     "metadata": {},
     "output_type": "execute_result"
    }
   ],
   "source": [
    "cond1"
   ]
  },
  {
   "cell_type": "code",
   "execution_count": 161,
   "id": "agricultural-requirement",
   "metadata": {},
   "outputs": [],
   "source": [
    "pasta = {'type_of_food': 'Pasta'}"
   ]
  },
  {
   "cell_type": "code",
   "execution_count": 216,
   "id": "intense-somalia",
   "metadata": {},
   "outputs": [
    {
     "data": {
      "text/plain": [
       "[{'URL': 'http://www.just-eat.co.uk/restaurants-007takeaway-s65/menu',\n",
       "  'name': '007 Takeaway',\n",
       "  'rating': 6,\n",
       "  'type_of_food': 'Pizza'},\n",
       " {'URL': 'http://www.just-eat.co.uk/restaurants-109restaurant-w2/menu',\n",
       "  'name': '109 Ristorante',\n",
       "  'rating': 5,\n",
       "  'type_of_food': 'Pizza'},\n",
       " {'URL': 'http://www.just-eat.co.uk/restaurants-1pizza1com-ls26/menu',\n",
       "  'name': '1pizza1',\n",
       "  'rating': 4,\n",
       "  'type_of_food': 'Pizza'}]"
      ]
     },
     "execution_count": 216,
     "metadata": {},
     "output_type": "execute_result"
    }
   ],
   "source": [
    "list(c.find({\"$or\": [cond1,pasta]},proy).limit(3))"
   ]
  },
  {
   "cell_type": "code",
   "execution_count": null,
   "id": "behind-electricity",
   "metadata": {},
   "outputs": [],
   "source": [
    "# Hacemos una query que mezcle and y or y sea: Mayor que 3 y (chino o tailandés)(MAYOR QUE 3 SEA CHINO O THAILAND)"
   ]
  },
  {
   "cell_type": "code",
   "execution_count": 166,
   "id": "metallic-folks",
   "metadata": {},
   "outputs": [],
   "source": [
    "mayor = {\"rating\":{\"$gt\":3}}\n",
    "chi = {\"type_of_food\": \"Chinese\"}\n",
    "thai = {\"type_of_food\": \"Thai\"}"
   ]
  },
  {
   "cell_type": "code",
   "execution_count": 217,
   "id": "scheduled-criticism",
   "metadata": {},
   "outputs": [
    {
     "data": {
      "text/plain": [
       "[{'URL': 'http://www.just-eat.co.uk/restaurants-cn-chinese-cardiff/menu',\n",
       "  'name': '.CN Chinese',\n",
       "  'rating': 5,\n",
       "  'type_of_food': 'Chinese'},\n",
       " {'URL': 'http://www.just-eat.co.uk/restaurants-atthairestaurant/menu',\n",
       "  'name': '@ Thai Restaurant',\n",
       "  'rating': 4.5,\n",
       "  'type_of_food': 'Thai'},\n",
       " {'URL': 'http://www.just-eat.co.uk/restaurants-atthairestaurant/menu',\n",
       "  'name': '@ Thai Restaurant',\n",
       "  'rating': 4.5,\n",
       "  'type_of_food': 'Thai'}]"
      ]
     },
     "execution_count": 217,
     "metadata": {},
     "output_type": "execute_result"
    }
   ],
   "source": [
    "list(c.find({\"$and\": [{\"$or\": [chi,thai]}, mayor]}, proy).limit(3))"
   ]
  },
  {
   "cell_type": "code",
   "execution_count": 171,
   "id": "finnish-diversity",
   "metadata": {},
   "outputs": [],
   "source": [
    "# Hacemos una query que mezcle and y or y sea: Mayor que 3 y chino, o tailandés (los chinos mayor que 3 y los thai me da igual)"
   ]
  },
  {
   "cell_type": "code",
   "execution_count": 175,
   "id": "lucky-scott",
   "metadata": {},
   "outputs": [
    {
     "data": {
      "text/plain": [
       "[{'URL': 'http://www.just-eat.co.uk/restaurants-cn-chinese-cardiff/menu',\n",
       "  'name': '.CN Chinese',\n",
       "  'rating': 5,\n",
       "  'type_of_food': 'Chinese'},\n",
       " {'URL': 'http://www.just-eat.co.uk/restaurants-atthairestaurant/menu',\n",
       "  'name': '@ Thai Restaurant',\n",
       "  'rating': 4.5,\n",
       "  'type_of_food': 'Thai'},\n",
       " {'URL': 'http://www.just-eat.co.uk/restaurants-atthairestaurant/menu',\n",
       "  'name': '@ Thai Restaurant',\n",
       "  'rating': 4.5,\n",
       "  'type_of_food': 'Thai'},\n",
       " {'URL': 'http://www.just-eat.co.uk/restaurants-atthai-ss9/menu',\n",
       "  'name': '@ Thai',\n",
       "  'rating': 5.5,\n",
       "  'type_of_food': 'Thai'},\n",
       " {'URL': 'http://www.just-eat.co.uk/restaurants-1-2-3-chinese-rowlands-gill/menu',\n",
       "  'name': '1 2 3 Chinese',\n",
       "  'rating': 4.5,\n",
       "  'type_of_food': 'Chinese'}]"
      ]
     },
     "execution_count": 175,
     "metadata": {},
     "output_type": "execute_result"
    }
   ],
   "source": [
    "list(c.find({\"$or\": [{\"$and\": [mayor, chi]}, thai]}, proy).limit(5))"
   ]
  },
  {
   "cell_type": "markdown",
   "id": "announced-italic",
   "metadata": {},
   "source": [
    "### `ne`    \n",
    "Not equal  \n",
    "Selecciona los documentos en los que el valor del campo no es igual al valor especificado. Esto incluye los documentos que no contienen el campo."
   ]
  },
  {
   "cell_type": "code",
   "execution_count": 177,
   "id": "interim-operations",
   "metadata": {},
   "outputs": [
    {
     "data": {
      "text/plain": [
       "[{'URL': 'http://www.just-eat.co.uk/restaurants-indiancom-ch4/menu',\n",
       "  'name': '@Indian.com',\n",
       "  'rating': 6,\n",
       "  'type_of_food': 'Curry'},\n",
       " {'URL': 'http://www.just-eat.co.uk/restaurants-aarthi-sw19/menu',\n",
       "  'name': 'Aarthi',\n",
       "  'rating': 6,\n",
       "  'type_of_food': 'Curry'},\n",
       " {'URL': 'http://www.just-eat.co.uk/restaurants-absharindian-ig6/menu',\n",
       "  'name': 'Abshar Indian Cuisine',\n",
       "  'rating': 6,\n",
       "  'type_of_food': 'Punjabi'}]"
      ]
     },
     "execution_count": 177,
     "metadata": {},
     "output_type": "execute_result"
    }
   ],
   "source": [
    "list(c.find({\"type_of_food\": {\"$ne\": \"Pizza\"}, \"rating\": 6}, proy).limit(3))"
   ]
  },
  {
   "cell_type": "markdown",
   "id": "buried-despite",
   "metadata": {},
   "source": [
    "### `in`     \n",
    "El operador in selecciona los documentos en los que el valor de un campo es igual a cualquier valor de la matriz especificada. Para especificar una expresión $in, utilice el siguiente prototipo:     \n",
    "```python\n",
    "{ field: { $in: [<value1>, <value2>, ... <valueN> ] } }\n",
    " ```"
   ]
  },
  {
   "cell_type": "code",
   "execution_count": 180,
   "id": "dietary-office",
   "metadata": {},
   "outputs": [
    {
     "data": {
      "text/plain": [
       "[{'URL': 'http://www.just-eat.co.uk/restaurants-cn-chinese-cardiff/menu',\n",
       "  'name': '.CN Chinese',\n",
       "  'rating': 5,\n",
       "  'type_of_food': 'Chinese'},\n",
       " {'URL': 'http://www.just-eat.co.uk/restaurants-indiancom-ch4/menu',\n",
       "  'name': '@Indian.com',\n",
       "  'rating': 6,\n",
       "  'type_of_food': 'Curry'},\n",
       " {'URL': 'http://www.just-eat.co.uk/restaurants-007takeaway-s65/menu',\n",
       "  'name': '007 Takeaway',\n",
       "  'rating': 6,\n",
       "  'type_of_food': 'Pizza'},\n",
       " {'URL': 'http://www.just-eat.co.uk/restaurants-104-turkish-BBQ/menu',\n",
       "  'name': '104 Turkish BBQ',\n",
       "  'rating': 5,\n",
       "  'type_of_food': 'Turkish'},\n",
       " {'URL': 'http://www.just-eat.co.uk/restaurants-100menu-wn1/menu',\n",
       "  'name': '100 Menu',\n",
       "  'rating': 5,\n",
       "  'type_of_food': 'Chinese'}]"
      ]
     },
     "execution_count": 180,
     "metadata": {},
     "output_type": "execute_result"
    }
   ],
   "source": [
    "list(c.find({\"rating\": {\"$in\": [3.5,5,6]}}, proy).limit(5))"
   ]
  },
  {
   "cell_type": "code",
   "execution_count": 181,
   "id": "helpful-coffee",
   "metadata": {},
   "outputs": [
    {
     "data": {
      "text/plain": [
       "[{'URL': 'http://www.just-eat.co.uk/restaurants-042-restaurant-e11/menu',\n",
       "  'name': '042 Restaurant & Bar',\n",
       "  'rating': 3,\n",
       "  'type_of_food': 'African'},\n",
       " {'URL': 'http://www.just-eat.co.uk/restaurants-042-restaurant-e11/menu',\n",
       "  'name': '042 Restaurant & Bar',\n",
       "  'rating': 3,\n",
       "  'type_of_food': 'African'},\n",
       " {'URL': 'http://www.just-eat.co.uk/restaurants-042-restaurant-e11/menu',\n",
       "  'name': '042 Restaurant & Bar',\n",
       "  'rating': 3,\n",
       "  'type_of_food': 'African'},\n",
       " {'URL': 'http://www.just-eat.co.uk/restaurants-1pizza1com-ls26/menu',\n",
       "  'name': '1pizza1',\n",
       "  'rating': 4,\n",
       "  'type_of_food': 'Pizza'},\n",
       " {'URL': 'http://www.just-eat.co.uk/restaurants-1st-choice-pizza-ws11/menu',\n",
       "  'name': '1st Choice Pizza',\n",
       "  'rating': 4,\n",
       "  'type_of_food': 'Pizza'}]"
      ]
     },
     "execution_count": 181,
     "metadata": {},
     "output_type": "execute_result"
    }
   ],
   "source": [
    "list(c.find({\"rating\": {\"$in\": list(range(0,5))}}, proy).limit(5))"
   ]
  },
  {
   "cell_type": "code",
   "execution_count": 183,
   "id": "dedicated-domestic",
   "metadata": {},
   "outputs": [],
   "source": [
    "lista_cosas = [\"Pizza\", \"Thai\", \"hola no doy error\"]"
   ]
  },
  {
   "cell_type": "code",
   "execution_count": 184,
   "id": "empirical-amsterdam",
   "metadata": {},
   "outputs": [
    {
     "data": {
      "text/plain": [
       "[{'_id': ObjectId('55f14312c7447c3da7051b28'),\n",
       "  'URL': 'http://www.just-eat.co.uk/restaurants-atthairestaurant/menu',\n",
       "  'address': '30 Greyhound Road Hammersmith',\n",
       "  'address line 2': 'London',\n",
       "  'name': '@ Thai Restaurant',\n",
       "  'outcode': 'W6',\n",
       "  'postcode': '8NX',\n",
       "  'rating': 4.5,\n",
       "  'type_of_food': 'Thai'},\n",
       " {'_id': ObjectId('55f14312c7447c3da7051b2b'),\n",
       "  'URL': 'http://www.just-eat.co.uk/restaurants-007takeaway-s65/menu',\n",
       "  'address': '6 Drummond Street',\n",
       "  'address line 2': 'Rotherham',\n",
       "  'name': '007 Takeaway',\n",
       "  'outcode': 'S65',\n",
       "  'postcode': '1HY',\n",
       "  'rating': 6,\n",
       "  'type_of_food': 'Pizza'},\n",
       " {'_id': ObjectId('55f14312c7447c3da7051b29'),\n",
       "  'URL': 'http://www.just-eat.co.uk/restaurants-atthairestaurant/menu',\n",
       "  'address': '30 Greyhound Road Hammersmith',\n",
       "  'address line 2': 'London',\n",
       "  'name': '@ Thai Restaurant',\n",
       "  'outcode': 'W6',\n",
       "  'postcode': '8NX',\n",
       "  'rating': 4.5,\n",
       "  'type_of_food': 'Thai'}]"
      ]
     },
     "execution_count": 184,
     "metadata": {},
     "output_type": "execute_result"
    }
   ],
   "source": [
    "list(c.find({\"type_of_food\": {\"$in\": lista_cosas}}).limit(3))"
   ]
  },
  {
   "cell_type": "markdown",
   "id": "general-baseball",
   "metadata": {},
   "source": [
    "### `nin`     \n",
    "\n",
    "Sintaxis: \n",
    "```python\n",
    "{ campo: { $nin: [ <valor1>, <valor2> ... <valorN> ]} }\n",
    "```\n",
    "\n",
    "not in selecciona los documentos en los que\n",
    "\n",
    "- el valor del campo no está en la matriz especificada \n",
    "- el campo no existe."
   ]
  },
  {
   "cell_type": "code",
   "execution_count": 185,
   "id": "supposed-synthetic",
   "metadata": {},
   "outputs": [
    {
     "data": {
      "text/plain": [
       "[{'_id': ObjectId('55f14312c7447c3da7051b26'),\n",
       "  'URL': 'http://www.just-eat.co.uk/restaurants-cn-chinese-cardiff/menu',\n",
       "  'address': '228 City Road',\n",
       "  'address line 2': 'Cardiff',\n",
       "  'name': '.CN Chinese',\n",
       "  'outcode': 'CF24',\n",
       "  'postcode': '3JH',\n",
       "  'rating': 5,\n",
       "  'type_of_food': 'Chinese'},\n",
       " {'_id': ObjectId('55f14312c7447c3da7051b2a'),\n",
       "  'URL': 'http://www.just-eat.co.uk/restaurants-indiancom-ch4/menu',\n",
       "  'address': '9 Broughton Hall Road',\n",
       "  'address line 2': 'Broughton',\n",
       "  'name': '@Indian.com',\n",
       "  'outcode': 'CH4',\n",
       "  'postcode': '0QR',\n",
       "  'rating': 6,\n",
       "  'type_of_food': 'Curry'},\n",
       " {'_id': ObjectId('55f14312c7447c3da7051b28'),\n",
       "  'URL': 'http://www.just-eat.co.uk/restaurants-atthairestaurant/menu',\n",
       "  'address': '30 Greyhound Road Hammersmith',\n",
       "  'address line 2': 'London',\n",
       "  'name': '@ Thai Restaurant',\n",
       "  'outcode': 'W6',\n",
       "  'postcode': '8NX',\n",
       "  'rating': 4.5,\n",
       "  'type_of_food': 'Thai'}]"
      ]
     },
     "execution_count": 185,
     "metadata": {},
     "output_type": "execute_result"
    }
   ],
   "source": [
    "list(c.find({\"rating\": {\"$nin\": [2,3,4]}}).limit(3))"
   ]
  },
  {
   "cell_type": "markdown",
   "id": "theoretical-delicious",
   "metadata": {},
   "source": [
    "# Se os ha ido la olla... \n",
    "Pero os dejo un [artículo](https://www.it-swarm-es.com/es/python/por-que-en-numpy-nan-nan-es-false-mientras-que-nan-en-nan-es-true/1042928406/)"
   ]
  },
  {
   "cell_type": "code",
   "execution_count": 187,
   "id": "german-thomas",
   "metadata": {},
   "outputs": [],
   "source": [
    "import numpy as np"
   ]
  },
  {
   "cell_type": "code",
   "execution_count": 188,
   "id": "turned-tunisia",
   "metadata": {},
   "outputs": [
    {
     "data": {
      "text/plain": [
       "False"
      ]
     },
     "execution_count": 188,
     "metadata": {},
     "output_type": "execute_result"
    }
   ],
   "source": [
    "np.nan == np.nan"
   ]
  },
  {
   "cell_type": "markdown",
   "id": "another-branch",
   "metadata": {},
   "source": [
    "Si no quiero que me de los que no tienen ese campo, tendría que hacer un AND "
   ]
  },
  {
   "cell_type": "code",
   "execution_count": 193,
   "id": "pleasant-functionality",
   "metadata": {},
   "outputs": [],
   "source": [
    "cond_exi = {\"rating\": {\"$exists\": True}}"
   ]
  },
  {
   "cell_type": "code",
   "execution_count": 194,
   "id": "hazardous-utilization",
   "metadata": {},
   "outputs": [
    {
     "data": {
      "text/plain": [
       "[{'URL': 'http://www.just-eat.co.uk/restaurants-cn-chinese-cardiff/menu',\n",
       "  'name': '.CN Chinese',\n",
       "  'rating': 5,\n",
       "  'type_of_food': 'Chinese'},\n",
       " {'URL': 'http://www.just-eat.co.uk/restaurants-indiancom-ch4/menu',\n",
       "  'name': '@Indian.com',\n",
       "  'rating': 6,\n",
       "  'type_of_food': 'Curry'},\n",
       " {'URL': 'http://www.just-eat.co.uk/restaurants-atthairestaurant/menu',\n",
       "  'name': '@ Thai Restaurant',\n",
       "  'rating': 4.5,\n",
       "  'type_of_food': 'Thai'}]"
      ]
     },
     "execution_count": 194,
     "metadata": {},
     "output_type": "execute_result"
    }
   ],
   "source": [
    "list(c.find({\"$and\":[{\"rating\": {\"$nin\": [2,3,4]}}, cond_exi]}, proy).limit(3))"
   ]
  },
  {
   "cell_type": "markdown",
   "id": "greater-thumb",
   "metadata": {},
   "source": [
    "## Update    \n",
    "Modifica un documento o documentos existentes en una colección. El método puede modificar campos específicos de un documento o documentos existentes o reemplazar un documento existente por completo, dependiendo del parámetro de actualización.   \n",
    "Cuidado, esta acción no se puede deshacer.     \n",
    "Sintaxis:\n",
    "```python\n",
    "colección.update_many(condición/filtro, actualización)\n",
    "```\n",
    "\n",
    "Podemos actualizar un campo con `$set` y con `$unset` lo borramos"
   ]
  },
  {
   "cell_type": "code",
   "execution_count": 234,
   "id": "subjective-headquarters",
   "metadata": {},
   "outputs": [
    {
     "data": {
      "text/plain": [
       "[1, 1.5, 2, 2.5, 3, 3.5, 4, 4.5, 5, 5.5, 6, 'Not yet rated']"
      ]
     },
     "execution_count": 234,
     "metadata": {},
     "output_type": "execute_result"
    }
   ],
   "source": [
    "c.distinct(\"rating\")"
   ]
  },
  {
   "cell_type": "code",
   "execution_count": 238,
   "id": "finished-syracuse",
   "metadata": {},
   "outputs": [
    {
     "data": {
      "text/plain": [
       "[{'_id': ObjectId('55f14312c7447c3da7051b36'),\n",
       "  'URL': 'http://www.just-eat.co.uk/restaurants-133-takeaway-irvine/menu',\n",
       "  'address': '133 Fullarton Street',\n",
       "  'address line 2': 'Irvine',\n",
       "  'name': '133 Takeaway',\n",
       "  'outcode': 'KA12',\n",
       "  'postcode': '8DG',\n",
       "  'rating': 'Not yet rated',\n",
       "  'type_of_food': 'Breakfast'}]"
      ]
     },
     "execution_count": 238,
     "metadata": {},
     "output_type": "execute_result"
    }
   ],
   "source": [
    "list(c.find({\"rating\": \"Not yet rated\"}).limit(1))"
   ]
  },
  {
   "cell_type": "code",
   "execution_count": 240,
   "id": "flush-titanium",
   "metadata": {},
   "outputs": [
    {
     "data": {
      "text/plain": [
       "<pymongo.results.UpdateResult at 0x7fe0f4cb14c0>"
      ]
     },
     "execution_count": 240,
     "metadata": {},
     "output_type": "execute_result"
    }
   ],
   "source": [
    "c.update_many(\n",
    "    {\"rating\": \"Not yet rated\"},\n",
    "    {\"$set\": {\"rating\": 0}}\n",
    ")"
   ]
  },
  {
   "cell_type": "code",
   "execution_count": 241,
   "id": "unauthorized-paint",
   "metadata": {},
   "outputs": [
    {
     "data": {
      "text/plain": [
       "[]"
      ]
     },
     "execution_count": 241,
     "metadata": {},
     "output_type": "execute_result"
    }
   ],
   "source": [
    "list(c.find({\"rating\": \"Not yet rated\"}).limit(1))"
   ]
  },
  {
   "cell_type": "code",
   "execution_count": 243,
   "id": "involved-gather",
   "metadata": {},
   "outputs": [
    {
     "data": {
      "text/plain": [
       "<pymongo.results.UpdateResult at 0x7fe0f6d24b80>"
      ]
     },
     "execution_count": 243,
     "metadata": {},
     "output_type": "execute_result"
    }
   ],
   "source": [
    "c.update_many(\n",
    "    {\"rating\": 0},\n",
    "    {\"$set\": {\"type_of_food\": \"Ni se sabe\"}}\n",
    ")"
   ]
  },
  {
   "cell_type": "code",
   "execution_count": 244,
   "id": "transparent-campus",
   "metadata": {},
   "outputs": [
    {
     "data": {
      "text/plain": [
       "[{'_id': ObjectId('55f14312c7447c3da7051b36'),\n",
       "  'URL': 'http://www.just-eat.co.uk/restaurants-133-takeaway-irvine/menu',\n",
       "  'address': '133 Fullarton Street',\n",
       "  'address line 2': 'Irvine',\n",
       "  'name': '133 Takeaway',\n",
       "  'outcode': 'KA12',\n",
       "  'postcode': '8DG',\n",
       "  'rating': 0,\n",
       "  'type_of_food': 'Ni se sabe'}]"
      ]
     },
     "execution_count": 244,
     "metadata": {},
     "output_type": "execute_result"
    }
   ],
   "source": [
    "list(c.find({\"rating\": 0}).limit(1))"
   ]
  },
  {
   "cell_type": "code",
   "execution_count": 246,
   "id": "digital-variety",
   "metadata": {},
   "outputs": [
    {
     "data": {
      "text/plain": [
       "[{'_id': ObjectId('55f14312c7447c3da7051ceb'),\n",
       "  'URL': 'http://www.just-eat.co.uk/restaurants-aldixifriedchicken-b21/menu',\n",
       "  'address': '343 Soho Road',\n",
       "  'address line 2': 'Birmingham',\n",
       "  'name': 'Al Dixi Fried Chicken & Grill House',\n",
       "  'outcode': 'B21',\n",
       "  'postcode': '9SE',\n",
       "  'rating': 1,\n",
       "  'type_of_food': 'Chicken'}]"
      ]
     },
     "execution_count": 246,
     "metadata": {},
     "output_type": "execute_result"
    }
   ],
   "source": [
    "list(c.find({\"rating\": 1}).limit(1))"
   ]
  },
  {
   "cell_type": "code",
   "execution_count": 247,
   "id": "brown-campus",
   "metadata": {},
   "outputs": [
    {
     "data": {
      "text/plain": [
       "<pymongo.results.UpdateResult at 0x7fe0f6d28140>"
      ]
     },
     "execution_count": 247,
     "metadata": {},
     "output_type": "execute_result"
    }
   ],
   "source": [
    "c.update_many(\n",
    "    {\"rating\": 1},\n",
    "    {\"$unset\": {\"postcode\": \"Ni se sabe\"}}\n",
    ")"
   ]
  },
  {
   "cell_type": "code",
   "execution_count": 259,
   "id": "orange-liquid",
   "metadata": {},
   "outputs": [
    {
     "data": {
      "text/plain": [
       "<pymongo.results.UpdateResult at 0x7fe0f4cb19c0>"
      ]
     },
     "execution_count": 259,
     "metadata": {},
     "output_type": "execute_result"
    }
   ],
   "source": [
    "c.update_many(\n",
    "    {\"$and\": [{\"rating\": {\"$in\":[0,1,2,3]}},{\"postcode\": \"ni se sabe\"}]},\n",
    "    {\"$unset\": {\"postcode\": {}}}\n",
    ")"
   ]
  },
  {
   "cell_type": "code",
   "execution_count": 260,
   "id": "prostate-climate",
   "metadata": {},
   "outputs": [
    {
     "data": {
      "text/plain": [
       "[{'_id': ObjectId('55f14312c7447c3da7051ceb'),\n",
       "  'URL': 'http://www.just-eat.co.uk/restaurants-aldixifriedchicken-b21/menu',\n",
       "  'address': '343 Soho Road',\n",
       "  'address line 2': 'Birmingham',\n",
       "  'name': 'Al Dixi Fried Chicken & Grill House',\n",
       "  'outcode': 'B21',\n",
       "  'rating': 1,\n",
       "  'type_of_food': 'Chicken'},\n",
       " {'_id': ObjectId('55f14312c7447c3da7051cec'),\n",
       "  'URL': 'http://www.just-eat.co.uk/restaurants-aldixifriedchicken-b21/menu',\n",
       "  'address': '343 Soho Road',\n",
       "  'address line 2': 'Birmingham',\n",
       "  'name': 'Al Dixi Fried Chicken & Grill House',\n",
       "  'outcode': 'B21',\n",
       "  'rating': 1,\n",
       "  'type_of_food': 'Chicken'},\n",
       " {'_id': ObjectId('55f14312c7447c3da7051d35'),\n",
       "  'URL': 'http://www.just-eat.co.uk/restaurants-alaowerrirestaurant-se14/menu',\n",
       "  'address': '129 New Cross Road',\n",
       "  'address line 2': 'London',\n",
       "  'name': 'Alaowerri Restaurant',\n",
       "  'outcode': 'SE14',\n",
       "  'rating': 1,\n",
       "  'type_of_food': 'African'}]"
      ]
     },
     "execution_count": 260,
     "metadata": {},
     "output_type": "execute_result"
    }
   ],
   "source": [
    "# Utilizamos exists para ver los que no tienen campo postcode\n",
    "list(c.find({\"postcode\": {\"$exists\": False}}).limit(3))"
   ]
  },
  {
   "cell_type": "code",
   "execution_count": null,
   "id": "lyric-circus",
   "metadata": {},
   "outputs": [],
   "source": [
    "# La sintaxis del UNSET se escribe con un diccionario vacío"
   ]
  },
  {
   "cell_type": "code",
   "execution_count": 258,
   "id": "supposed-mechanism",
   "metadata": {},
   "outputs": [
    {
     "data": {
      "text/plain": [
       "<pymongo.results.UpdateResult at 0x7fe0f6d23e00>"
      ]
     },
     "execution_count": 258,
     "metadata": {},
     "output_type": "execute_result"
    }
   ],
   "source": [
    "c.update_many(\n",
    "    {\"rating\": 0},\n",
    "    {\"$unset\": {\"outcode\":{}}}\n",
    "\n",
    ")"
   ]
  },
  {
   "cell_type": "markdown",
   "id": "broad-atlanta",
   "metadata": {},
   "source": [
    "## Query 7 del lab . All the companies that have a null type of value on the category_code field.¶"
   ]
  },
  {
   "cell_type": "code",
   "execution_count": 257,
   "id": "hollywood-horizontal",
   "metadata": {},
   "outputs": [
    {
     "data": {
      "text/plain": [
       "[{'name': 'Collective'},\n",
       " {'name': 'Snimmer'},\n",
       " {'name': 'KoolIM'},\n",
       " {'name': 'Level9 Media'}]"
      ]
     },
     "execution_count": 257,
     "metadata": {},
     "output_type": "execute_result"
    }
   ],
   "source": [
    "list(companies.find({\"category_code\": {\"$type\": \"null\"}}, {\"_id\":0, \"name\":1}).limit(4)) #Mongodb no tiene None"
   ]
  },
  {
   "cell_type": "code",
   "execution_count": 253,
   "id": "essential-naples",
   "metadata": {},
   "outputs": [
    {
     "data": {
      "text/plain": [
       "[{'name': 'Collective'},\n",
       " {'name': 'Snimmer'},\n",
       " {'name': 'KoolIM'},\n",
       " {'name': 'Level9 Media'}]"
      ]
     },
     "execution_count": 253,
     "metadata": {},
     "output_type": "execute_result"
    }
   ],
   "source": [
    " list(companies.find({\"category_code\": None}, {\"_id\":0, \"name\":1}).limit(4)) #el None de python es el null de mongo"
   ]
  },
  {
   "cell_type": "markdown",
   "id": "processed-toronto",
   "metadata": {},
   "source": [
    "## Delete     \n",
    "Elimina de una colección todos los documentos que coinciden con el filtro.\n",
    "Sintaxis:\n",
    "```python\n",
    "c.delete_many(condition/filtro)\n",
    "```"
   ]
  },
  {
   "cell_type": "code",
   "execution_count": 261,
   "id": "regular-milton",
   "metadata": {},
   "outputs": [
    {
     "data": {
      "text/plain": [
       "<pymongo.results.DeleteResult at 0x7fe0f3c90840>"
      ]
     },
     "execution_count": 261,
     "metadata": {},
     "output_type": "execute_result"
    }
   ],
   "source": [
    "c.delete_many({\"rating\":0})"
   ]
  },
  {
   "cell_type": "code",
   "execution_count": 262,
   "id": "hydraulic-acoustic",
   "metadata": {},
   "outputs": [
    {
     "data": {
      "text/plain": [
       "[]"
      ]
     },
     "execution_count": 262,
     "metadata": {},
     "output_type": "execute_result"
    }
   ],
   "source": [
    "list(c.find({\"rating\":0}))"
   ]
  },
  {
   "cell_type": "markdown",
   "id": "outer-james",
   "metadata": {},
   "source": [
    "## Insert"
   ]
  },
  {
   "cell_type": "markdown",
   "id": "identified-pattern",
   "metadata": {},
   "source": [
    "Insertamos documentos en la colección\n",
    "Sintaxis \n",
    "```python\n",
    "db.collection.insert()\n",
    "```\n"
   ]
  },
  {
   "cell_type": "code",
   "execution_count": 266,
   "id": "superior-address",
   "metadata": {},
   "outputs": [],
   "source": [
    "documento = {\"hola\": \"qué tal\",\"dirección\": \"Paseo de la chopera 14\", \"otra cosa\": \"vale\"}"
   ]
  },
  {
   "cell_type": "code",
   "execution_count": 264,
   "id": "sustainable-dimension",
   "metadata": {},
   "outputs": [
    {
     "name": "stderr",
     "output_type": "stream",
     "text": [
      "<ipython-input-264-807d32585737>:1: DeprecationWarning: insert is deprecated. Use insert_one or insert_many instead.\n",
      "  db.restaurants.insert(documento)\n"
     ]
    },
    {
     "data": {
      "text/plain": [
       "ObjectId('618b85612919246b78507deb')"
      ]
     },
     "execution_count": 264,
     "metadata": {},
     "output_type": "execute_result"
    }
   ],
   "source": [
    "db.restaurants.insert(documento)"
   ]
  },
  {
   "cell_type": "code",
   "execution_count": 267,
   "id": "capital-california",
   "metadata": {},
   "outputs": [
    {
     "data": {
      "text/plain": [
       "<pymongo.results.InsertOneResult at 0x7fe0f6d24d00>"
      ]
     },
     "execution_count": 267,
     "metadata": {},
     "output_type": "execute_result"
    }
   ],
   "source": [
    "c.insert_one(documento)"
   ]
  },
  {
   "cell_type": "code",
   "execution_count": 268,
   "id": "necessary-executive",
   "metadata": {},
   "outputs": [],
   "source": [
    "lista = [{\"holllla\": \"qué tal\",\"dirección\": \"Paseo de la chopera 14\", \"otra cosa\": \"vale\"}, {\"diferente\": \"qué tal\",\"dirección\": \"Paseo de la chopera 14\", \"otra cosa\": \"vale\"}]"
   ]
  },
  {
   "cell_type": "code",
   "execution_count": 269,
   "id": "plastic-taiwan",
   "metadata": {},
   "outputs": [
    {
     "data": {
      "text/plain": [
       "<pymongo.results.InsertManyResult at 0x7fe0f6d46d40>"
      ]
     },
     "execution_count": 269,
     "metadata": {},
     "output_type": "execute_result"
    }
   ],
   "source": [
    "c.insert_many(lista)"
   ]
  },
  {
   "cell_type": "code",
   "execution_count": 270,
   "id": "alternative-cliff",
   "metadata": {},
   "outputs": [
    {
     "data": {
      "text/plain": [
       "[{'_id': ObjectId('618b85872919246b78507dec'),\n",
       "  'hola': 'qué tal',\n",
       "  'dirección': 'Paseo de la chopera 14',\n",
       "  'otra cosa': 'vale'},\n",
       " {'_id': ObjectId('618b85ba2919246b78507ded'),\n",
       "  'holllla': 'qué tal',\n",
       "  'dirección': 'Paseo de la chopera 14',\n",
       "  'otra cosa': 'vale'},\n",
       " {'_id': ObjectId('618b85ba2919246b78507dee'),\n",
       "  'diferente': 'qué tal',\n",
       "  'dirección': 'Paseo de la chopera 14',\n",
       "  'otra cosa': 'vale'}]"
      ]
     },
     "execution_count": 270,
     "metadata": {},
     "output_type": "execute_result"
    }
   ],
   "source": [
    "list(c.find({\"otra cosa\": \"vale\"}))"
   ]
  },
  {
   "cell_type": "markdown",
   "id": "confirmed-concrete",
   "metadata": {},
   "source": [
    "## Info extra \n",
    "Campos de consulta anidados"
   ]
  },
  {
   "cell_type": "code",
   "execution_count": 196,
   "id": "pending-learning",
   "metadata": {},
   "outputs": [
    {
     "data": {
      "text/plain": [
       "['companies', 'restaurants']"
      ]
     },
     "execution_count": 196,
     "metadata": {},
     "output_type": "execute_result"
    }
   ],
   "source": [
    "db.list_collection_names()"
   ]
  },
  {
   "cell_type": "code",
   "execution_count": 197,
   "id": "banner-treaty",
   "metadata": {},
   "outputs": [],
   "source": [
    "companies = db.get_collection(\"companies\")"
   ]
  },
  {
   "cell_type": "code",
   "execution_count": 198,
   "id": "detailed-physics",
   "metadata": {},
   "outputs": [
    {
     "data": {
      "text/plain": [
       "{'_id': ObjectId('55f14312c7447c3da7051b26'),\n",
       " 'URL': 'http://www.just-eat.co.uk/restaurants-cn-chinese-cardiff/menu',\n",
       " 'address': '228 City Road',\n",
       " 'address line 2': 'Cardiff',\n",
       " 'name': '.CN Chinese',\n",
       " 'outcode': 'CF24',\n",
       " 'postcode': '3JH',\n",
       " 'rating': 5,\n",
       " 'type_of_food': 'Chinese'}"
      ]
     },
     "execution_count": 198,
     "metadata": {},
     "output_type": "execute_result"
    }
   ],
   "source": [
    "c.find_one()"
   ]
  },
  {
   "cell_type": "code",
   "execution_count": 218,
   "id": "choice-particular",
   "metadata": {},
   "outputs": [],
   "source": [
    "#companies.find_one()"
   ]
  },
  {
   "cell_type": "code",
   "execution_count": 209,
   "id": "preceding-tonight",
   "metadata": {},
   "outputs": [],
   "source": [
    "me_guardo_uno = companies.find_one()"
   ]
  },
  {
   "cell_type": "code",
   "execution_count": 211,
   "id": "southwest-respect",
   "metadata": {},
   "outputs": [
    {
     "data": {
      "text/plain": [
       "[{'description': '',\n",
       "  'address1': '710 - 2nd Avenue',\n",
       "  'address2': 'Suite 1100',\n",
       "  'zip_code': '98104',\n",
       "  'city': 'Seattle',\n",
       "  'state_code': 'WA',\n",
       "  'country_code': 'USA',\n",
       "  'latitude': 47.603122,\n",
       "  'longitude': -122.333253},\n",
       " {'description': '',\n",
       "  'address1': '270 Lafayette Street',\n",
       "  'address2': 'Suite 505',\n",
       "  'zip_code': '10012',\n",
       "  'city': 'New York',\n",
       "  'state_code': 'NY',\n",
       "  'country_code': 'USA',\n",
       "  'latitude': 40.7237306,\n",
       "  'longitude': -73.9964312}]"
      ]
     },
     "execution_count": 211,
     "metadata": {},
     "output_type": "execute_result"
    }
   ],
   "source": [
    "me_guardo_uno[\"offices\"]"
   ]
  },
  {
   "cell_type": "code",
   "execution_count": 200,
   "id": "wanted-simulation",
   "metadata": {},
   "outputs": [],
   "source": [
    "ejemplo = {\"acquisition.acquired_month\": {\"$gt\": 4}}"
   ]
  },
  {
   "cell_type": "code",
   "execution_count": 219,
   "id": "induced-discrimination",
   "metadata": {},
   "outputs": [],
   "source": [
    "new_york = {\"offices.city\": \"New York\"}\n",
    "list(companies.find(new_york).limit(3));"
   ]
  },
  {
   "cell_type": "code",
   "execution_count": 204,
   "id": "divine-chemical",
   "metadata": {},
   "outputs": [],
   "source": [
    "list(companies.find(ejemplo).limit(3));"
   ]
  },
  {
   "cell_type": "code",
   "execution_count": 205,
   "id": "compressed-kelly",
   "metadata": {},
   "outputs": [],
   "source": [
    "filtro = {\"offices.description\": \"Headquarters\"}"
   ]
  },
  {
   "cell_type": "code",
   "execution_count": 208,
   "id": "sonic-playback",
   "metadata": {},
   "outputs": [],
   "source": [
    "list(companies.find(ejemplo).limit(3));"
   ]
  },
  {
   "cell_type": "markdown",
   "id": "eight-conference",
   "metadata": {},
   "source": [
    "## Resumen\n",
    "Tu turno ¿qué hemos aprendido hoy?\n",
    "- Mongo\n",
    "- Localhost:27017 (dónde está mi servidor y en qué puerto) --> Establecemos la conexión con MongoClient\n",
    "- Utilizo comillas siempre porque dentro de mongo funcionan y en python no funciona sin comillas\n",
    "- Filtramos los datos de la base de datos (\"lte,gte,in,not in\")\n",
    "- En mongodbcompass no podemos usar variables\n",
    "- Cuidado que va TOPADENTRO\n",
    "- Proyección, para traer solo los campos que necesito\n",
    "- Regex nos flipa\n",
    "- Condiciones, and, or... y fantasías varias\n",
    "- Estructura de las MongoDB --> Base de datos (colecciones(documentos(campos:valores))\n",
    "- cuando hago un find viene un ITERADOR/CURSOR DE MONGO entonces hago list(colección.find(loquesea))"
   ]
  },
  {
   "cell_type": "markdown",
   "id": "incomplete-scotland",
   "metadata": {},
   "source": [
    "## Further Materials\n",
    "- Cursos de mongo desarrollados directamente por MongoDB (gratis y MUY COMPLETOS) [AQUÍ](https://university.mongodb.com/)\n",
    "- Artículo tutorial [primeros pasos](https://www.ionos.es/digitalguide/paginas-web/desarrollo-web/tutorial-de-mongodb-primeros-pasos/)\n",
    "\n",
    "- Qué es mongo: [conceptos interesantes avanzados no vistos en clase](https://openwebinars.net/blog/que-es-mongodb/) \n",
    "- Beginner`s guide mongo con [python](https://www.analyticsvidhya.com/blog/2020/02/mongodb-in-python-tutorial-for-beginners-using-pymongo/)"
   ]
  }
 ],
 "metadata": {
  "kernelspec": {
   "display_name": "ironhack",
   "language": "python",
   "name": "ironhack"
  },
  "language_info": {
   "codemirror_mode": {
    "name": "ipython",
    "version": 3
   },
   "file_extension": ".py",
   "mimetype": "text/x-python",
   "name": "python",
   "nbconvert_exporter": "python",
   "pygments_lexer": "ipython3",
   "version": "3.8.5"
  },
  "toc": {
   "base_numbering": 1,
   "nav_menu": {},
   "number_sections": true,
   "sideBar": true,
   "skip_h1_title": true,
   "title_cell": "Table of Contents",
   "title_sidebar": "Contents",
   "toc_cell": true,
   "toc_position": {
    "height": "calc(100% - 180px)",
    "left": "10px",
    "top": "150px",
    "width": "307px"
   },
   "toc_section_display": true,
   "toc_window_display": false
  }
 },
 "nbformat": 4,
 "nbformat_minor": 5
}
