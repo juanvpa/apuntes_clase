{
 "cells": [
  {
   "cell_type": "markdown",
   "id": "quiet-ballot",
   "metadata": {},
   "source": [
    "# Recap MongoDB vs SQL "
   ]
  },
  {
   "cell_type": "markdown",
   "id": "parallel-nerve",
   "metadata": {
    "toc": true
   },
   "source": [
    "<h1>Table of Contents<span class=\"tocSkip\"></span></h1>\n",
    "<div class=\"toc\"><ul class=\"toc-item\"><li><span><a href=\"#¿Cómo-vemos-todos-los-elementos-de-una-colección?\" data-toc-modified-id=\"¿Cómo-vemos-todos-los-elementos-de-una-colección?-1\"><span class=\"toc-item-num\">1&nbsp;&nbsp;</span>¿Cómo vemos todos los elementos de una colección?</a></span></li><li><span><a href=\"#Visualizar-solo-algunos-elementos\" data-toc-modified-id=\"Visualizar-solo-algunos-elementos-2\"><span class=\"toc-item-num\">2&nbsp;&nbsp;</span>Visualizar solo algunos elementos</a></span></li><li><span><a href=\"#Query-con-una-condición-en-MongoDB\" data-toc-modified-id=\"Query-con-una-condición-en-MongoDB-3\"><span class=\"toc-item-num\">3&nbsp;&nbsp;</span>Query con una condición en MongoDB</a></span></li><li><span><a href=\"#Limitamos-query\" data-toc-modified-id=\"Limitamos-query-4\"><span class=\"toc-item-num\">4&nbsp;&nbsp;</span>Limitamos query</a></span></li></ul></div>"
   ]
  },
  {
   "cell_type": "markdown",
   "id": "palestinian-engineer",
   "metadata": {},
   "source": [
    "Para conectarnos a una base de datos de Mongo con Python utilizamos pymongo"
   ]
  },
  {
   "cell_type": "code",
   "execution_count": 3,
   "id": "extreme-brake",
   "metadata": {},
   "outputs": [],
   "source": [
    "from pymongo import MongoClient"
   ]
  },
  {
   "cell_type": "code",
   "execution_count": 4,
   "id": "resistant-crossing",
   "metadata": {},
   "outputs": [],
   "source": [
    "#Mongoclient nos conecta al servidor\n",
    "client = MongoClient(\"localhost:27017\")"
   ]
  },
  {
   "cell_type": "code",
   "execution_count": 5,
   "id": "selective-pledge",
   "metadata": {},
   "outputs": [],
   "source": [
    "#Get database nos conecta a la base de datos EN CONCRETO\n",
    "db = client.get_database(\"ironhack\")"
   ]
  },
  {
   "cell_type": "code",
   "execution_count": 4,
   "id": "passing-budget",
   "metadata": {},
   "outputs": [],
   "source": [
    "# Nos conecta a la colección  que queramos dentro de la base de datos"
   ]
  },
  {
   "cell_type": "code",
   "execution_count": 6,
   "id": "wireless-potato",
   "metadata": {},
   "outputs": [],
   "source": [
    "c = db.get_collection(\"restaurants\")"
   ]
  },
  {
   "cell_type": "code",
   "execution_count": 7,
   "id": "1a0ab179",
   "metadata": {},
   "outputs": [
    {
     "data": {
      "text/plain": [
       "Collection(Database(MongoClient(host=['localhost:27017'], document_class=dict, tz_aware=False, connect=True), 'ironhack'), 'restaurants')"
      ]
     },
     "execution_count": 7,
     "metadata": {},
     "output_type": "execute_result"
    }
   ],
   "source": [
    "c"
   ]
  },
  {
   "cell_type": "markdown",
   "id": "yellow-adelaide",
   "metadata": {},
   "source": [
    "En MYSQL tenemos TABLAS relacionadas y en MongoDB tenemos COLECCIONES no relacionadas entre sí."
   ]
  },
  {
   "cell_type": "markdown",
   "id": "medieval-hotel",
   "metadata": {},
   "source": [
    "## ¿Cómo vemos todos los elementos de una colección?"
   ]
  },
  {
   "cell_type": "code",
   "execution_count": 8,
   "id": "addressed-southeast",
   "metadata": {},
   "outputs": [],
   "source": [
    "import pandas as pd"
   ]
  },
  {
   "cell_type": "code",
   "execution_count": 9,
   "id": "annoying-raising",
   "metadata": {},
   "outputs": [],
   "source": [
    "df = pd.DataFrame(list(c.find({})))"
   ]
  },
  {
   "cell_type": "code",
   "execution_count": 10,
   "id": "eligible-champion",
   "metadata": {},
   "outputs": [
    {
     "data": {
      "text/html": [
       "<div>\n",
       "<style scoped>\n",
       "    .dataframe tbody tr th:only-of-type {\n",
       "        vertical-align: middle;\n",
       "    }\n",
       "\n",
       "    .dataframe tbody tr th {\n",
       "        vertical-align: top;\n",
       "    }\n",
       "\n",
       "    .dataframe thead th {\n",
       "        text-align: right;\n",
       "    }\n",
       "</style>\n",
       "<table border=\"1\" class=\"dataframe\">\n",
       "  <thead>\n",
       "    <tr style=\"text-align: right;\">\n",
       "      <th></th>\n",
       "      <th>_id</th>\n",
       "      <th>URL</th>\n",
       "      <th>address</th>\n",
       "      <th>address line 2</th>\n",
       "      <th>name</th>\n",
       "      <th>outcode</th>\n",
       "      <th>postcode</th>\n",
       "      <th>rating</th>\n",
       "      <th>type_of_food</th>\n",
       "    </tr>\n",
       "  </thead>\n",
       "  <tbody>\n",
       "    <tr>\n",
       "      <th>0</th>\n",
       "      <td>55f14312c7447c3da7051b26</td>\n",
       "      <td>http://www.just-eat.co.uk/restaurants-cn-chine...</td>\n",
       "      <td>228 City Road</td>\n",
       "      <td>Cardiff</td>\n",
       "      <td>.CN Chinese</td>\n",
       "      <td>CF24</td>\n",
       "      <td>3JH</td>\n",
       "      <td>5</td>\n",
       "      <td>Chinese</td>\n",
       "    </tr>\n",
       "    <tr>\n",
       "      <th>1</th>\n",
       "      <td>55f14312c7447c3da7051b27</td>\n",
       "      <td>http://www.just-eat.co.uk/restaurants-atthai-s...</td>\n",
       "      <td>376 Rayleigh Road</td>\n",
       "      <td>Essex</td>\n",
       "      <td>@ Thai</td>\n",
       "      <td>SS9</td>\n",
       "      <td>5PT</td>\n",
       "      <td>5.5</td>\n",
       "      <td>Thai</td>\n",
       "    </tr>\n",
       "    <tr>\n",
       "      <th>2</th>\n",
       "      <td>55f14312c7447c3da7051b28</td>\n",
       "      <td>http://www.just-eat.co.uk/restaurants-atthaire...</td>\n",
       "      <td>30 Greyhound Road Hammersmith</td>\n",
       "      <td>London</td>\n",
       "      <td>@ Thai Restaurant</td>\n",
       "      <td>W6</td>\n",
       "      <td>8NX</td>\n",
       "      <td>4.5</td>\n",
       "      <td>Thai</td>\n",
       "    </tr>\n",
       "    <tr>\n",
       "      <th>3</th>\n",
       "      <td>55f14312c7447c3da7051b29</td>\n",
       "      <td>http://www.just-eat.co.uk/restaurants-atthaire...</td>\n",
       "      <td>30 Greyhound Road Hammersmith</td>\n",
       "      <td>London</td>\n",
       "      <td>@ Thai Restaurant</td>\n",
       "      <td>W6</td>\n",
       "      <td>8NX</td>\n",
       "      <td>4.5</td>\n",
       "      <td>Thai</td>\n",
       "    </tr>\n",
       "    <tr>\n",
       "      <th>4</th>\n",
       "      <td>55f14312c7447c3da7051b2a</td>\n",
       "      <td>http://www.just-eat.co.uk/restaurants-indianco...</td>\n",
       "      <td>9 Broughton Hall Road</td>\n",
       "      <td>Broughton</td>\n",
       "      <td>@Indian.com</td>\n",
       "      <td>CH4</td>\n",
       "      <td>0QR</td>\n",
       "      <td>6</td>\n",
       "      <td>Curry</td>\n",
       "    </tr>\n",
       "  </tbody>\n",
       "</table>\n",
       "</div>"
      ],
      "text/plain": [
       "                        _id  \\\n",
       "0  55f14312c7447c3da7051b26   \n",
       "1  55f14312c7447c3da7051b27   \n",
       "2  55f14312c7447c3da7051b28   \n",
       "3  55f14312c7447c3da7051b29   \n",
       "4  55f14312c7447c3da7051b2a   \n",
       "\n",
       "                                                 URL  \\\n",
       "0  http://www.just-eat.co.uk/restaurants-cn-chine...   \n",
       "1  http://www.just-eat.co.uk/restaurants-atthai-s...   \n",
       "2  http://www.just-eat.co.uk/restaurants-atthaire...   \n",
       "3  http://www.just-eat.co.uk/restaurants-atthaire...   \n",
       "4  http://www.just-eat.co.uk/restaurants-indianco...   \n",
       "\n",
       "                         address address line 2               name outcode  \\\n",
       "0                  228 City Road        Cardiff        .CN Chinese    CF24   \n",
       "1              376 Rayleigh Road          Essex             @ Thai     SS9   \n",
       "2  30 Greyhound Road Hammersmith         London  @ Thai Restaurant      W6   \n",
       "3  30 Greyhound Road Hammersmith         London  @ Thai Restaurant      W6   \n",
       "4          9 Broughton Hall Road      Broughton        @Indian.com     CH4   \n",
       "\n",
       "  postcode rating type_of_food  \n",
       "0      3JH      5      Chinese  \n",
       "1      5PT    5.5         Thai  \n",
       "2      8NX    4.5         Thai  \n",
       "3      8NX    4.5         Thai  \n",
       "4      0QR      6        Curry  "
      ]
     },
     "execution_count": 10,
     "metadata": {},
     "output_type": "execute_result"
    }
   ],
   "source": [
    "df.head()"
   ]
  },
  {
   "cell_type": "markdown",
   "id": "aggressive-italian",
   "metadata": {},
   "source": [
    "## Visualizar solo algunos elementos"
   ]
  },
  {
   "cell_type": "code",
   "execution_count": 11,
   "id": "confident-frost",
   "metadata": {},
   "outputs": [],
   "source": [
    "proj = {\"_id\":0, \"address\":1, \"name\":1, \"URL\":1}"
   ]
  },
  {
   "cell_type": "code",
   "execution_count": 12,
   "id": "floppy-warrior",
   "metadata": {},
   "outputs": [],
   "source": [
    "df = pd.DataFrame(list(c.find({}, proj)))"
   ]
  },
  {
   "cell_type": "code",
   "execution_count": 13,
   "id": "f2517428",
   "metadata": {},
   "outputs": [
    {
     "data": {
      "text/html": [
       "<div>\n",
       "<style scoped>\n",
       "    .dataframe tbody tr th:only-of-type {\n",
       "        vertical-align: middle;\n",
       "    }\n",
       "\n",
       "    .dataframe tbody tr th {\n",
       "        vertical-align: top;\n",
       "    }\n",
       "\n",
       "    .dataframe thead th {\n",
       "        text-align: right;\n",
       "    }\n",
       "</style>\n",
       "<table border=\"1\" class=\"dataframe\">\n",
       "  <thead>\n",
       "    <tr style=\"text-align: right;\">\n",
       "      <th></th>\n",
       "      <th>URL</th>\n",
       "      <th>address</th>\n",
       "      <th>name</th>\n",
       "    </tr>\n",
       "  </thead>\n",
       "  <tbody>\n",
       "    <tr>\n",
       "      <th>0</th>\n",
       "      <td>http://www.just-eat.co.uk/restaurants-cn-chine...</td>\n",
       "      <td>228 City Road</td>\n",
       "      <td>.CN Chinese</td>\n",
       "    </tr>\n",
       "    <tr>\n",
       "      <th>1</th>\n",
       "      <td>http://www.just-eat.co.uk/restaurants-atthai-s...</td>\n",
       "      <td>376 Rayleigh Road</td>\n",
       "      <td>@ Thai</td>\n",
       "    </tr>\n",
       "    <tr>\n",
       "      <th>2</th>\n",
       "      <td>http://www.just-eat.co.uk/restaurants-atthaire...</td>\n",
       "      <td>30 Greyhound Road Hammersmith</td>\n",
       "      <td>@ Thai Restaurant</td>\n",
       "    </tr>\n",
       "    <tr>\n",
       "      <th>3</th>\n",
       "      <td>http://www.just-eat.co.uk/restaurants-atthaire...</td>\n",
       "      <td>30 Greyhound Road Hammersmith</td>\n",
       "      <td>@ Thai Restaurant</td>\n",
       "    </tr>\n",
       "    <tr>\n",
       "      <th>4</th>\n",
       "      <td>http://www.just-eat.co.uk/restaurants-indianco...</td>\n",
       "      <td>9 Broughton Hall Road</td>\n",
       "      <td>@Indian.com</td>\n",
       "    </tr>\n",
       "  </tbody>\n",
       "</table>\n",
       "</div>"
      ],
      "text/plain": [
       "                                                 URL  \\\n",
       "0  http://www.just-eat.co.uk/restaurants-cn-chine...   \n",
       "1  http://www.just-eat.co.uk/restaurants-atthai-s...   \n",
       "2  http://www.just-eat.co.uk/restaurants-atthaire...   \n",
       "3  http://www.just-eat.co.uk/restaurants-atthaire...   \n",
       "4  http://www.just-eat.co.uk/restaurants-indianco...   \n",
       "\n",
       "                         address               name  \n",
       "0                  228 City Road        .CN Chinese  \n",
       "1              376 Rayleigh Road             @ Thai  \n",
       "2  30 Greyhound Road Hammersmith  @ Thai Restaurant  \n",
       "3  30 Greyhound Road Hammersmith  @ Thai Restaurant  \n",
       "4          9 Broughton Hall Road        @Indian.com  "
      ]
     },
     "execution_count": 13,
     "metadata": {},
     "output_type": "execute_result"
    }
   ],
   "source": [
    "df.head()"
   ]
  },
  {
   "cell_type": "markdown",
   "id": "apart-standard",
   "metadata": {},
   "source": [
    "## Query con una condición en MongoDB"
   ]
  },
  {
   "cell_type": "code",
   "execution_count": 14,
   "id": "fddb32ea",
   "metadata": {},
   "outputs": [],
   "source": [
    "condicion = {\"rating\": 5}"
   ]
  },
  {
   "cell_type": "code",
   "execution_count": 16,
   "id": "systematic-lyric",
   "metadata": {},
   "outputs": [
    {
     "data": {
      "text/html": [
       "<div>\n",
       "<style scoped>\n",
       "    .dataframe tbody tr th:only-of-type {\n",
       "        vertical-align: middle;\n",
       "    }\n",
       "\n",
       "    .dataframe tbody tr th {\n",
       "        vertical-align: top;\n",
       "    }\n",
       "\n",
       "    .dataframe thead th {\n",
       "        text-align: right;\n",
       "    }\n",
       "</style>\n",
       "<table border=\"1\" class=\"dataframe\">\n",
       "  <thead>\n",
       "    <tr style=\"text-align: right;\">\n",
       "      <th></th>\n",
       "      <th>URL</th>\n",
       "      <th>address</th>\n",
       "      <th>name</th>\n",
       "    </tr>\n",
       "  </thead>\n",
       "  <tbody>\n",
       "    <tr>\n",
       "      <th>0</th>\n",
       "      <td>http://www.just-eat.co.uk/restaurants-cn-chine...</td>\n",
       "      <td>228 City Road</td>\n",
       "      <td>.CN Chinese</td>\n",
       "    </tr>\n",
       "    <tr>\n",
       "      <th>1</th>\n",
       "      <td>http://www.just-eat.co.uk/restaurants-100-degr...</td>\n",
       "      <td>67 Park Street</td>\n",
       "      <td>100 Degrees Chinese Restaurant</td>\n",
       "    </tr>\n",
       "    <tr>\n",
       "      <th>2</th>\n",
       "      <td>http://www.just-eat.co.uk/restaurants-100menu-...</td>\n",
       "      <td>50 Wallgate</td>\n",
       "      <td>100 Menu</td>\n",
       "    </tr>\n",
       "    <tr>\n",
       "      <th>3</th>\n",
       "      <td>http://www.just-eat.co.uk/restaurants-104-turk...</td>\n",
       "      <td>104 Tanners Lane</td>\n",
       "      <td>104 Turkish BBQ</td>\n",
       "    </tr>\n",
       "    <tr>\n",
       "      <th>4</th>\n",
       "      <td>http://www.just-eat.co.uk/restaurants-109resta...</td>\n",
       "      <td>109 Westbourne Park Road</td>\n",
       "      <td>109 Ristorante</td>\n",
       "    </tr>\n",
       "  </tbody>\n",
       "</table>\n",
       "</div>"
      ],
      "text/plain": [
       "                                                 URL  \\\n",
       "0  http://www.just-eat.co.uk/restaurants-cn-chine...   \n",
       "1  http://www.just-eat.co.uk/restaurants-100-degr...   \n",
       "2  http://www.just-eat.co.uk/restaurants-100menu-...   \n",
       "3  http://www.just-eat.co.uk/restaurants-104-turk...   \n",
       "4  http://www.just-eat.co.uk/restaurants-109resta...   \n",
       "\n",
       "                    address                            name  \n",
       "0             228 City Road                     .CN Chinese  \n",
       "1            67 Park Street  100 Degrees Chinese Restaurant  \n",
       "2               50 Wallgate                        100 Menu  \n",
       "3          104 Tanners Lane                 104 Turkish BBQ  \n",
       "4  109 Westbourne Park Road                  109 Ristorante  "
      ]
     },
     "execution_count": 16,
     "metadata": {},
     "output_type": "execute_result"
    }
   ],
   "source": [
    "#Sintaxis con diccionarios\n",
    "pd.DataFrame(list(c.find(condicion, proj))).head()"
   ]
  },
  {
   "cell_type": "markdown",
   "id": "ongoing-jaguar",
   "metadata": {},
   "source": [
    "## Limitamos query"
   ]
  },
  {
   "cell_type": "code",
   "execution_count": 18,
   "id": "adaptive-engineering",
   "metadata": {},
   "outputs": [
    {
     "data": {
      "text/html": [
       "<div>\n",
       "<style scoped>\n",
       "    .dataframe tbody tr th:only-of-type {\n",
       "        vertical-align: middle;\n",
       "    }\n",
       "\n",
       "    .dataframe tbody tr th {\n",
       "        vertical-align: top;\n",
       "    }\n",
       "\n",
       "    .dataframe thead th {\n",
       "        text-align: right;\n",
       "    }\n",
       "</style>\n",
       "<table border=\"1\" class=\"dataframe\">\n",
       "  <thead>\n",
       "    <tr style=\"text-align: right;\">\n",
       "      <th></th>\n",
       "      <th>URL</th>\n",
       "      <th>address</th>\n",
       "      <th>name</th>\n",
       "    </tr>\n",
       "  </thead>\n",
       "  <tbody>\n",
       "    <tr>\n",
       "      <th>0</th>\n",
       "      <td>http://www.just-eat.co.uk/restaurants-cn-chine...</td>\n",
       "      <td>228 City Road</td>\n",
       "      <td>.CN Chinese</td>\n",
       "    </tr>\n",
       "    <tr>\n",
       "      <th>1</th>\n",
       "      <td>http://www.just-eat.co.uk/restaurants-100-degr...</td>\n",
       "      <td>67 Park Street</td>\n",
       "      <td>100 Degrees Chinese Restaurant</td>\n",
       "    </tr>\n",
       "    <tr>\n",
       "      <th>2</th>\n",
       "      <td>http://www.just-eat.co.uk/restaurants-100menu-...</td>\n",
       "      <td>50 Wallgate</td>\n",
       "      <td>100 Menu</td>\n",
       "    </tr>\n",
       "    <tr>\n",
       "      <th>3</th>\n",
       "      <td>http://www.just-eat.co.uk/restaurants-104-turk...</td>\n",
       "      <td>104 Tanners Lane</td>\n",
       "      <td>104 Turkish BBQ</td>\n",
       "    </tr>\n",
       "    <tr>\n",
       "      <th>4</th>\n",
       "      <td>http://www.just-eat.co.uk/restaurants-109resta...</td>\n",
       "      <td>109 Westbourne Park Road</td>\n",
       "      <td>109 Ristorante</td>\n",
       "    </tr>\n",
       "  </tbody>\n",
       "</table>\n",
       "</div>"
      ],
      "text/plain": [
       "                                                 URL  \\\n",
       "0  http://www.just-eat.co.uk/restaurants-cn-chine...   \n",
       "1  http://www.just-eat.co.uk/restaurants-100-degr...   \n",
       "2  http://www.just-eat.co.uk/restaurants-100menu-...   \n",
       "3  http://www.just-eat.co.uk/restaurants-104-turk...   \n",
       "4  http://www.just-eat.co.uk/restaurants-109resta...   \n",
       "\n",
       "                    address                            name  \n",
       "0             228 City Road                     .CN Chinese  \n",
       "1            67 Park Street  100 Degrees Chinese Restaurant  \n",
       "2               50 Wallgate                        100 Menu  \n",
       "3          104 Tanners Lane                 104 Turkish BBQ  \n",
       "4  109 Westbourne Park Road                  109 Ristorante  "
      ]
     },
     "execution_count": 18,
     "metadata": {},
     "output_type": "execute_result"
    }
   ],
   "source": [
    "pd.DataFrame(list(c.find(condicion, proj).limit(5))).head()"
   ]
  },
  {
   "cell_type": "code",
   "execution_count": null,
   "id": "e6c0c43a",
   "metadata": {},
   "outputs": [],
   "source": []
  }
 ],
 "metadata": {
  "kernelspec": {
   "display_name": "ironhack",
   "language": "python",
   "name": "ironhack"
  },
  "language_info": {
   "codemirror_mode": {
    "name": "ipython",
    "version": 3
   },
   "file_extension": ".py",
   "mimetype": "text/x-python",
   "name": "python",
   "nbconvert_exporter": "python",
   "pygments_lexer": "ipython3",
   "version": "3.8.5"
  },
  "toc": {
   "base_numbering": 1,
   "nav_menu": {},
   "number_sections": true,
   "sideBar": true,
   "skip_h1_title": true,
   "title_cell": "Table of Contents",
   "title_sidebar": "Contents",
   "toc_cell": true,
   "toc_position": {
    "height": "calc(100% - 180px)",
    "left": "10px",
    "top": "150px",
    "width": "288px"
   },
   "toc_section_display": true,
   "toc_window_display": false
  }
 },
 "nbformat": 4,
 "nbformat_minor": 5
}
